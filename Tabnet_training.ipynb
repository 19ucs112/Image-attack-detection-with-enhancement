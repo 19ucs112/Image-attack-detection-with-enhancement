{
  "nbformat": 4,
  "nbformat_minor": 0,
  "metadata": {
    "colab": {
      "provenance": []
    },
    "kernelspec": {
      "name": "python3",
      "display_name": "Python 3"
    },
    "language_info": {
      "name": "python"
    }
  },
  "cells": [
    {
      "cell_type": "code",
      "execution_count": 145,
      "metadata": {
        "id": "ZJwJacy7nIzo"
      },
      "outputs": [],
      "source": [
        "from pytorch_tabnet.tab_model import TabNetClassifier\n",
        "\n",
        "import torch\n",
        "from sklearn.preprocessing import LabelEncoder\n",
        "from sklearn.metrics import roc_auc_score\n",
        "\n",
        "import pandas as pd\n",
        "import numpy as np\n",
        "np.random.seed(0)\n",
        "\n",
        "\n",
        "import os\n",
        "\n",
        "from pathlib import Path\n",
        "\n",
        "from matplotlib import pyplot as plt\n",
        "%matplotlib inline"
      ]
    },
    {
      "cell_type": "code",
      "source": [
        "train = pd.read_csv('/content/drive/MyDrive/CSV/Training.csv')\n"
      ],
      "metadata": {
        "id": "b9JSqtGCoTwH"
      },
      "execution_count": 146,
      "outputs": []
    },
    {
      "cell_type": "code",
      "source": [
        "test = pd.read_csv('/content/drive/MyDrive/CSV/Testing.csv')"
      ],
      "metadata": {
        "id": "qevDo0NPARUr"
      },
      "execution_count": 147,
      "outputs": []
    },
    {
      "cell_type": "code",
      "source": [
        "train.head()"
      ],
      "metadata": {
        "colab": {
          "base_uri": "https://localhost:8080/",
          "height": 334
        },
        "id": "lchommZCoZ2F",
        "outputId": "454a9ea3-5ef8-406e-d0fd-9fb754ecf5da"
      },
      "execution_count": 148,
      "outputs": [
        {
          "output_type": "execute_result",
          "data": {
            "text/plain": [
              "                                            Filename  White Circle Patch  \\\n",
              "0  C:\\Users\\ASHUTOSH\\Downloads\\FingerPrint\\LivDet...             30776.0   \n",
              "1  C:\\Users\\ASHUTOSH\\Downloads\\FingerPrint\\LivDet...             40066.5   \n",
              "2  C:\\Users\\ASHUTOSH\\Downloads\\FingerPrint\\LivDet...             49524.0   \n",
              "3  C:\\Users\\ASHUTOSH\\Downloads\\FingerPrint\\LivDet...             10324.0   \n",
              "4  C:\\Users\\ASHUTOSH\\Downloads\\FingerPrint\\LivDet...             11792.0   \n",
              "\n",
              "   Contrast  Black Patch  Biffercation  Termination         CID  Class  \\\n",
              "0  0.010333     0.999772          3804          333  107.771544      1   \n",
              "1  0.003752     0.999955          5288          616  156.874296      1   \n",
              "2  0.004532     0.999884          4861          361  218.001356      1   \n",
              "3  0.047750     0.998029          1661          337  212.954369      1   \n",
              "4  0.029279     0.999124          2026          347  181.324385      1   \n",
              "\n",
              "   OCL_STD2  LCS_STD2  ...       LCS       OFL       FDA     GABOR   OCL_STD  \\\n",
              "0  0.132002  0.325032  ...  0.548794  0.613218  0.616894  0.125473  0.183448   \n",
              "1  0.125693  0.246866  ...  0.549479  0.577886  0.515961  0.151181  0.149823   \n",
              "2  0.118022  0.269136  ...  0.501499  0.532120  0.626022  0.130306  0.157811   \n",
              "3  0.097421  0.292708  ...  0.519335  0.341780  0.591813  0.066328  0.143613   \n",
              "4  0.149858  0.316726  ...  0.511962  0.477842  0.595702  0.074459  0.163183   \n",
              "\n",
              "    LCS_STD   OFL_STD   FDA_STD       RVU  GABOR_STD  \n",
              "0  0.321274  0.284278  0.356391  1.302933   0.273278  \n",
              "1  0.288940  0.283940  0.339769  1.328657   0.287603  \n",
              "2  0.320884  0.322783  0.364821  1.525489   0.244927  \n",
              "3  0.323289  0.339481  0.348423  1.267153   0.202598  \n",
              "4  0.324478  0.318170  0.343960  1.379756   0.214502  \n",
              "\n",
              "[5 rows x 29 columns]"
            ],
            "text/html": [
              "\n",
              "  <div id=\"df-eb2c58a7-099f-4307-8911-88503041263e\">\n",
              "    <div class=\"colab-df-container\">\n",
              "      <div>\n",
              "<style scoped>\n",
              "    .dataframe tbody tr th:only-of-type {\n",
              "        vertical-align: middle;\n",
              "    }\n",
              "\n",
              "    .dataframe tbody tr th {\n",
              "        vertical-align: top;\n",
              "    }\n",
              "\n",
              "    .dataframe thead th {\n",
              "        text-align: right;\n",
              "    }\n",
              "</style>\n",
              "<table border=\"1\" class=\"dataframe\">\n",
              "  <thead>\n",
              "    <tr style=\"text-align: right;\">\n",
              "      <th></th>\n",
              "      <th>Filename</th>\n",
              "      <th>White Circle Patch</th>\n",
              "      <th>Contrast</th>\n",
              "      <th>Black Patch</th>\n",
              "      <th>Biffercation</th>\n",
              "      <th>Termination</th>\n",
              "      <th>CID</th>\n",
              "      <th>Class</th>\n",
              "      <th>OCL_STD2</th>\n",
              "      <th>LCS_STD2</th>\n",
              "      <th>...</th>\n",
              "      <th>LCS</th>\n",
              "      <th>OFL</th>\n",
              "      <th>FDA</th>\n",
              "      <th>GABOR</th>\n",
              "      <th>OCL_STD</th>\n",
              "      <th>LCS_STD</th>\n",
              "      <th>OFL_STD</th>\n",
              "      <th>FDA_STD</th>\n",
              "      <th>RVU</th>\n",
              "      <th>GABOR_STD</th>\n",
              "    </tr>\n",
              "  </thead>\n",
              "  <tbody>\n",
              "    <tr>\n",
              "      <th>0</th>\n",
              "      <td>C:\\Users\\ASHUTOSH\\Downloads\\FingerPrint\\LivDet...</td>\n",
              "      <td>30776.0</td>\n",
              "      <td>0.010333</td>\n",
              "      <td>0.999772</td>\n",
              "      <td>3804</td>\n",
              "      <td>333</td>\n",
              "      <td>107.771544</td>\n",
              "      <td>1</td>\n",
              "      <td>0.132002</td>\n",
              "      <td>0.325032</td>\n",
              "      <td>...</td>\n",
              "      <td>0.548794</td>\n",
              "      <td>0.613218</td>\n",
              "      <td>0.616894</td>\n",
              "      <td>0.125473</td>\n",
              "      <td>0.183448</td>\n",
              "      <td>0.321274</td>\n",
              "      <td>0.284278</td>\n",
              "      <td>0.356391</td>\n",
              "      <td>1.302933</td>\n",
              "      <td>0.273278</td>\n",
              "    </tr>\n",
              "    <tr>\n",
              "      <th>1</th>\n",
              "      <td>C:\\Users\\ASHUTOSH\\Downloads\\FingerPrint\\LivDet...</td>\n",
              "      <td>40066.5</td>\n",
              "      <td>0.003752</td>\n",
              "      <td>0.999955</td>\n",
              "      <td>5288</td>\n",
              "      <td>616</td>\n",
              "      <td>156.874296</td>\n",
              "      <td>1</td>\n",
              "      <td>0.125693</td>\n",
              "      <td>0.246866</td>\n",
              "      <td>...</td>\n",
              "      <td>0.549479</td>\n",
              "      <td>0.577886</td>\n",
              "      <td>0.515961</td>\n",
              "      <td>0.151181</td>\n",
              "      <td>0.149823</td>\n",
              "      <td>0.288940</td>\n",
              "      <td>0.283940</td>\n",
              "      <td>0.339769</td>\n",
              "      <td>1.328657</td>\n",
              "      <td>0.287603</td>\n",
              "    </tr>\n",
              "    <tr>\n",
              "      <th>2</th>\n",
              "      <td>C:\\Users\\ASHUTOSH\\Downloads\\FingerPrint\\LivDet...</td>\n",
              "      <td>49524.0</td>\n",
              "      <td>0.004532</td>\n",
              "      <td>0.999884</td>\n",
              "      <td>4861</td>\n",
              "      <td>361</td>\n",
              "      <td>218.001356</td>\n",
              "      <td>1</td>\n",
              "      <td>0.118022</td>\n",
              "      <td>0.269136</td>\n",
              "      <td>...</td>\n",
              "      <td>0.501499</td>\n",
              "      <td>0.532120</td>\n",
              "      <td>0.626022</td>\n",
              "      <td>0.130306</td>\n",
              "      <td>0.157811</td>\n",
              "      <td>0.320884</td>\n",
              "      <td>0.322783</td>\n",
              "      <td>0.364821</td>\n",
              "      <td>1.525489</td>\n",
              "      <td>0.244927</td>\n",
              "    </tr>\n",
              "    <tr>\n",
              "      <th>3</th>\n",
              "      <td>C:\\Users\\ASHUTOSH\\Downloads\\FingerPrint\\LivDet...</td>\n",
              "      <td>10324.0</td>\n",
              "      <td>0.047750</td>\n",
              "      <td>0.998029</td>\n",
              "      <td>1661</td>\n",
              "      <td>337</td>\n",
              "      <td>212.954369</td>\n",
              "      <td>1</td>\n",
              "      <td>0.097421</td>\n",
              "      <td>0.292708</td>\n",
              "      <td>...</td>\n",
              "      <td>0.519335</td>\n",
              "      <td>0.341780</td>\n",
              "      <td>0.591813</td>\n",
              "      <td>0.066328</td>\n",
              "      <td>0.143613</td>\n",
              "      <td>0.323289</td>\n",
              "      <td>0.339481</td>\n",
              "      <td>0.348423</td>\n",
              "      <td>1.267153</td>\n",
              "      <td>0.202598</td>\n",
              "    </tr>\n",
              "    <tr>\n",
              "      <th>4</th>\n",
              "      <td>C:\\Users\\ASHUTOSH\\Downloads\\FingerPrint\\LivDet...</td>\n",
              "      <td>11792.0</td>\n",
              "      <td>0.029279</td>\n",
              "      <td>0.999124</td>\n",
              "      <td>2026</td>\n",
              "      <td>347</td>\n",
              "      <td>181.324385</td>\n",
              "      <td>1</td>\n",
              "      <td>0.149858</td>\n",
              "      <td>0.316726</td>\n",
              "      <td>...</td>\n",
              "      <td>0.511962</td>\n",
              "      <td>0.477842</td>\n",
              "      <td>0.595702</td>\n",
              "      <td>0.074459</td>\n",
              "      <td>0.163183</td>\n",
              "      <td>0.324478</td>\n",
              "      <td>0.318170</td>\n",
              "      <td>0.343960</td>\n",
              "      <td>1.379756</td>\n",
              "      <td>0.214502</td>\n",
              "    </tr>\n",
              "  </tbody>\n",
              "</table>\n",
              "<p>5 rows × 29 columns</p>\n",
              "</div>\n",
              "      <button class=\"colab-df-convert\" onclick=\"convertToInteractive('df-eb2c58a7-099f-4307-8911-88503041263e')\"\n",
              "              title=\"Convert this dataframe to an interactive table.\"\n",
              "              style=\"display:none;\">\n",
              "        \n",
              "  <svg xmlns=\"http://www.w3.org/2000/svg\" height=\"24px\"viewBox=\"0 0 24 24\"\n",
              "       width=\"24px\">\n",
              "    <path d=\"M0 0h24v24H0V0z\" fill=\"none\"/>\n",
              "    <path d=\"M18.56 5.44l.94 2.06.94-2.06 2.06-.94-2.06-.94-.94-2.06-.94 2.06-2.06.94zm-11 1L8.5 8.5l.94-2.06 2.06-.94-2.06-.94L8.5 2.5l-.94 2.06-2.06.94zm10 10l.94 2.06.94-2.06 2.06-.94-2.06-.94-.94-2.06-.94 2.06-2.06.94z\"/><path d=\"M17.41 7.96l-1.37-1.37c-.4-.4-.92-.59-1.43-.59-.52 0-1.04.2-1.43.59L10.3 9.45l-7.72 7.72c-.78.78-.78 2.05 0 2.83L4 21.41c.39.39.9.59 1.41.59.51 0 1.02-.2 1.41-.59l7.78-7.78 2.81-2.81c.8-.78.8-2.07 0-2.86zM5.41 20L4 18.59l7.72-7.72 1.47 1.35L5.41 20z\"/>\n",
              "  </svg>\n",
              "      </button>\n",
              "      \n",
              "  <style>\n",
              "    .colab-df-container {\n",
              "      display:flex;\n",
              "      flex-wrap:wrap;\n",
              "      gap: 12px;\n",
              "    }\n",
              "\n",
              "    .colab-df-convert {\n",
              "      background-color: #E8F0FE;\n",
              "      border: none;\n",
              "      border-radius: 50%;\n",
              "      cursor: pointer;\n",
              "      display: none;\n",
              "      fill: #1967D2;\n",
              "      height: 32px;\n",
              "      padding: 0 0 0 0;\n",
              "      width: 32px;\n",
              "    }\n",
              "\n",
              "    .colab-df-convert:hover {\n",
              "      background-color: #E2EBFA;\n",
              "      box-shadow: 0px 1px 2px rgba(60, 64, 67, 0.3), 0px 1px 3px 1px rgba(60, 64, 67, 0.15);\n",
              "      fill: #174EA6;\n",
              "    }\n",
              "\n",
              "    [theme=dark] .colab-df-convert {\n",
              "      background-color: #3B4455;\n",
              "      fill: #D2E3FC;\n",
              "    }\n",
              "\n",
              "    [theme=dark] .colab-df-convert:hover {\n",
              "      background-color: #434B5C;\n",
              "      box-shadow: 0px 1px 3px 1px rgba(0, 0, 0, 0.15);\n",
              "      filter: drop-shadow(0px 1px 2px rgba(0, 0, 0, 0.3));\n",
              "      fill: #FFFFFF;\n",
              "    }\n",
              "  </style>\n",
              "\n",
              "      <script>\n",
              "        const buttonEl =\n",
              "          document.querySelector('#df-eb2c58a7-099f-4307-8911-88503041263e button.colab-df-convert');\n",
              "        buttonEl.style.display =\n",
              "          google.colab.kernel.accessAllowed ? 'block' : 'none';\n",
              "\n",
              "        async function convertToInteractive(key) {\n",
              "          const element = document.querySelector('#df-eb2c58a7-099f-4307-8911-88503041263e');\n",
              "          const dataTable =\n",
              "            await google.colab.kernel.invokeFunction('convertToInteractive',\n",
              "                                                     [key], {});\n",
              "          if (!dataTable) return;\n",
              "\n",
              "          const docLinkHtml = 'Like what you see? Visit the ' +\n",
              "            '<a target=\"_blank\" href=https://colab.research.google.com/notebooks/data_table.ipynb>data table notebook</a>'\n",
              "            + ' to learn more about interactive tables.';\n",
              "          element.innerHTML = '';\n",
              "          dataTable['output_type'] = 'display_data';\n",
              "          await google.colab.output.renderOutput(dataTable, element);\n",
              "          const docLink = document.createElement('div');\n",
              "          docLink.innerHTML = docLinkHtml;\n",
              "          element.appendChild(docLink);\n",
              "        }\n",
              "      </script>\n",
              "    </div>\n",
              "  </div>\n",
              "  "
            ]
          },
          "metadata": {},
          "execution_count": 148
        }
      ]
    },
    {
      "cell_type": "code",
      "source": [
        "target = 'Class'\n",
        "if \"Set\"  in train.columns:\n",
        "    train.drop([\"Set\"], axis = 1)\n",
        "train[\"Set\"] = \"train\"    \n",
        "train_indices = train[train.Set==\"train\"].index"
      ],
      "metadata": {
        "id": "SOHtvsFdrjzU"
      },
      "execution_count": 149,
      "outputs": []
    },
    {
      "cell_type": "code",
      "source": [
        "if \"Set\" in test.columns:\n",
        "  test.drop(['Set'], axis = 1)\n",
        "test[\"Set\"] = \"test\"\n",
        "test_indices = test[test.Set==\"test\"].index"
      ],
      "metadata": {
        "id": "xpkpmLqe1K6H"
      },
      "execution_count": 150,
      "outputs": []
    },
    {
      "cell_type": "code",
      "source": [
        "nunique = train.nunique()\n",
        "types = train.dtypes\n",
        "\n",
        "categorical_columns = []\n",
        "categorical_dims =  {}\n",
        "for col in train.columns:\n",
        "    if types[col] == 'object' or nunique[col] < 200:\n",
        "        print(col, train[col].nunique())\n",
        "        l_enc = LabelEncoder()\n",
        "        train[col] = train[col].fillna(\"VV_likely\")\n",
        "        train[col] = l_enc.fit_transform(train[col].values)\n",
        "        categorical_columns.append(col)\n",
        "        categorical_dims[col] = len(l_enc.classes_)\n",
        "    else:\n",
        "        train.fillna(train.loc[train_indices, col].mean(), inplace=True)"
      ],
      "metadata": {
        "colab": {
          "base_uri": "https://localhost:8080/"
        },
        "id": "z0J-nfTvtL4v",
        "outputId": "e98a6d7d-e445-42b8-b035-5ed17facd0f6"
      },
      "execution_count": 151,
      "outputs": [
        {
          "output_type": "stream",
          "name": "stdout",
          "text": [
            "Filename 6882\n",
            "Class 2\n",
            "Set 1\n"
          ]
        }
      ]
    },
    {
      "cell_type": "code",
      "source": [
        "train.head()"
      ],
      "metadata": {
        "colab": {
          "base_uri": "https://localhost:8080/",
          "height": 334
        },
        "id": "qrqwtfTGtNwc",
        "outputId": "77d2d921-deb7-41c3-ecf4-d621f40f1004"
      },
      "execution_count": 152,
      "outputs": [
        {
          "output_type": "execute_result",
          "data": {
            "text/plain": [
              "   Filename  White Circle Patch  Contrast  Black Patch  Biffercation  \\\n",
              "0      1467             30776.0  0.010333     0.999772          3804   \n",
              "1      1468             40066.5  0.003752     0.999955          5288   \n",
              "2      1469             49524.0  0.004532     0.999884          4861   \n",
              "3      1470             10324.0  0.047750     0.998029          1661   \n",
              "4      1471             11792.0  0.029279     0.999124          2026   \n",
              "\n",
              "   Termination         CID  Class  OCL_STD2  LCS_STD2  ...       OFL  \\\n",
              "0          333  107.771544      1  0.132002  0.325032  ...  0.613218   \n",
              "1          616  156.874296      1  0.125693  0.246866  ...  0.577886   \n",
              "2          361  218.001356      1  0.118022  0.269136  ...  0.532120   \n",
              "3          337  212.954369      1  0.097421  0.292708  ...  0.341780   \n",
              "4          347  181.324385      1  0.149858  0.316726  ...  0.477842   \n",
              "\n",
              "        FDA     GABOR   OCL_STD   LCS_STD   OFL_STD   FDA_STD       RVU  \\\n",
              "0  0.616894  0.125473  0.183448  0.321274  0.284278  0.356391  1.302933   \n",
              "1  0.515961  0.151181  0.149823  0.288940  0.283940  0.339769  1.328657   \n",
              "2  0.626022  0.130306  0.157811  0.320884  0.322783  0.364821  1.525489   \n",
              "3  0.591813  0.066328  0.143613  0.323289  0.339481  0.348423  1.267153   \n",
              "4  0.595702  0.074459  0.163183  0.324478  0.318170  0.343960  1.379756   \n",
              "\n",
              "   GABOR_STD  Set  \n",
              "0   0.273278    0  \n",
              "1   0.287603    0  \n",
              "2   0.244927    0  \n",
              "3   0.202598    0  \n",
              "4   0.214502    0  \n",
              "\n",
              "[5 rows x 30 columns]"
            ],
            "text/html": [
              "\n",
              "  <div id=\"df-2fb7ef44-b68b-40ef-817c-b0bac9f370d3\">\n",
              "    <div class=\"colab-df-container\">\n",
              "      <div>\n",
              "<style scoped>\n",
              "    .dataframe tbody tr th:only-of-type {\n",
              "        vertical-align: middle;\n",
              "    }\n",
              "\n",
              "    .dataframe tbody tr th {\n",
              "        vertical-align: top;\n",
              "    }\n",
              "\n",
              "    .dataframe thead th {\n",
              "        text-align: right;\n",
              "    }\n",
              "</style>\n",
              "<table border=\"1\" class=\"dataframe\">\n",
              "  <thead>\n",
              "    <tr style=\"text-align: right;\">\n",
              "      <th></th>\n",
              "      <th>Filename</th>\n",
              "      <th>White Circle Patch</th>\n",
              "      <th>Contrast</th>\n",
              "      <th>Black Patch</th>\n",
              "      <th>Biffercation</th>\n",
              "      <th>Termination</th>\n",
              "      <th>CID</th>\n",
              "      <th>Class</th>\n",
              "      <th>OCL_STD2</th>\n",
              "      <th>LCS_STD2</th>\n",
              "      <th>...</th>\n",
              "      <th>OFL</th>\n",
              "      <th>FDA</th>\n",
              "      <th>GABOR</th>\n",
              "      <th>OCL_STD</th>\n",
              "      <th>LCS_STD</th>\n",
              "      <th>OFL_STD</th>\n",
              "      <th>FDA_STD</th>\n",
              "      <th>RVU</th>\n",
              "      <th>GABOR_STD</th>\n",
              "      <th>Set</th>\n",
              "    </tr>\n",
              "  </thead>\n",
              "  <tbody>\n",
              "    <tr>\n",
              "      <th>0</th>\n",
              "      <td>1467</td>\n",
              "      <td>30776.0</td>\n",
              "      <td>0.010333</td>\n",
              "      <td>0.999772</td>\n",
              "      <td>3804</td>\n",
              "      <td>333</td>\n",
              "      <td>107.771544</td>\n",
              "      <td>1</td>\n",
              "      <td>0.132002</td>\n",
              "      <td>0.325032</td>\n",
              "      <td>...</td>\n",
              "      <td>0.613218</td>\n",
              "      <td>0.616894</td>\n",
              "      <td>0.125473</td>\n",
              "      <td>0.183448</td>\n",
              "      <td>0.321274</td>\n",
              "      <td>0.284278</td>\n",
              "      <td>0.356391</td>\n",
              "      <td>1.302933</td>\n",
              "      <td>0.273278</td>\n",
              "      <td>0</td>\n",
              "    </tr>\n",
              "    <tr>\n",
              "      <th>1</th>\n",
              "      <td>1468</td>\n",
              "      <td>40066.5</td>\n",
              "      <td>0.003752</td>\n",
              "      <td>0.999955</td>\n",
              "      <td>5288</td>\n",
              "      <td>616</td>\n",
              "      <td>156.874296</td>\n",
              "      <td>1</td>\n",
              "      <td>0.125693</td>\n",
              "      <td>0.246866</td>\n",
              "      <td>...</td>\n",
              "      <td>0.577886</td>\n",
              "      <td>0.515961</td>\n",
              "      <td>0.151181</td>\n",
              "      <td>0.149823</td>\n",
              "      <td>0.288940</td>\n",
              "      <td>0.283940</td>\n",
              "      <td>0.339769</td>\n",
              "      <td>1.328657</td>\n",
              "      <td>0.287603</td>\n",
              "      <td>0</td>\n",
              "    </tr>\n",
              "    <tr>\n",
              "      <th>2</th>\n",
              "      <td>1469</td>\n",
              "      <td>49524.0</td>\n",
              "      <td>0.004532</td>\n",
              "      <td>0.999884</td>\n",
              "      <td>4861</td>\n",
              "      <td>361</td>\n",
              "      <td>218.001356</td>\n",
              "      <td>1</td>\n",
              "      <td>0.118022</td>\n",
              "      <td>0.269136</td>\n",
              "      <td>...</td>\n",
              "      <td>0.532120</td>\n",
              "      <td>0.626022</td>\n",
              "      <td>0.130306</td>\n",
              "      <td>0.157811</td>\n",
              "      <td>0.320884</td>\n",
              "      <td>0.322783</td>\n",
              "      <td>0.364821</td>\n",
              "      <td>1.525489</td>\n",
              "      <td>0.244927</td>\n",
              "      <td>0</td>\n",
              "    </tr>\n",
              "    <tr>\n",
              "      <th>3</th>\n",
              "      <td>1470</td>\n",
              "      <td>10324.0</td>\n",
              "      <td>0.047750</td>\n",
              "      <td>0.998029</td>\n",
              "      <td>1661</td>\n",
              "      <td>337</td>\n",
              "      <td>212.954369</td>\n",
              "      <td>1</td>\n",
              "      <td>0.097421</td>\n",
              "      <td>0.292708</td>\n",
              "      <td>...</td>\n",
              "      <td>0.341780</td>\n",
              "      <td>0.591813</td>\n",
              "      <td>0.066328</td>\n",
              "      <td>0.143613</td>\n",
              "      <td>0.323289</td>\n",
              "      <td>0.339481</td>\n",
              "      <td>0.348423</td>\n",
              "      <td>1.267153</td>\n",
              "      <td>0.202598</td>\n",
              "      <td>0</td>\n",
              "    </tr>\n",
              "    <tr>\n",
              "      <th>4</th>\n",
              "      <td>1471</td>\n",
              "      <td>11792.0</td>\n",
              "      <td>0.029279</td>\n",
              "      <td>0.999124</td>\n",
              "      <td>2026</td>\n",
              "      <td>347</td>\n",
              "      <td>181.324385</td>\n",
              "      <td>1</td>\n",
              "      <td>0.149858</td>\n",
              "      <td>0.316726</td>\n",
              "      <td>...</td>\n",
              "      <td>0.477842</td>\n",
              "      <td>0.595702</td>\n",
              "      <td>0.074459</td>\n",
              "      <td>0.163183</td>\n",
              "      <td>0.324478</td>\n",
              "      <td>0.318170</td>\n",
              "      <td>0.343960</td>\n",
              "      <td>1.379756</td>\n",
              "      <td>0.214502</td>\n",
              "      <td>0</td>\n",
              "    </tr>\n",
              "  </tbody>\n",
              "</table>\n",
              "<p>5 rows × 30 columns</p>\n",
              "</div>\n",
              "      <button class=\"colab-df-convert\" onclick=\"convertToInteractive('df-2fb7ef44-b68b-40ef-817c-b0bac9f370d3')\"\n",
              "              title=\"Convert this dataframe to an interactive table.\"\n",
              "              style=\"display:none;\">\n",
              "        \n",
              "  <svg xmlns=\"http://www.w3.org/2000/svg\" height=\"24px\"viewBox=\"0 0 24 24\"\n",
              "       width=\"24px\">\n",
              "    <path d=\"M0 0h24v24H0V0z\" fill=\"none\"/>\n",
              "    <path d=\"M18.56 5.44l.94 2.06.94-2.06 2.06-.94-2.06-.94-.94-2.06-.94 2.06-2.06.94zm-11 1L8.5 8.5l.94-2.06 2.06-.94-2.06-.94L8.5 2.5l-.94 2.06-2.06.94zm10 10l.94 2.06.94-2.06 2.06-.94-2.06-.94-.94-2.06-.94 2.06-2.06.94z\"/><path d=\"M17.41 7.96l-1.37-1.37c-.4-.4-.92-.59-1.43-.59-.52 0-1.04.2-1.43.59L10.3 9.45l-7.72 7.72c-.78.78-.78 2.05 0 2.83L4 21.41c.39.39.9.59 1.41.59.51 0 1.02-.2 1.41-.59l7.78-7.78 2.81-2.81c.8-.78.8-2.07 0-2.86zM5.41 20L4 18.59l7.72-7.72 1.47 1.35L5.41 20z\"/>\n",
              "  </svg>\n",
              "      </button>\n",
              "      \n",
              "  <style>\n",
              "    .colab-df-container {\n",
              "      display:flex;\n",
              "      flex-wrap:wrap;\n",
              "      gap: 12px;\n",
              "    }\n",
              "\n",
              "    .colab-df-convert {\n",
              "      background-color: #E8F0FE;\n",
              "      border: none;\n",
              "      border-radius: 50%;\n",
              "      cursor: pointer;\n",
              "      display: none;\n",
              "      fill: #1967D2;\n",
              "      height: 32px;\n",
              "      padding: 0 0 0 0;\n",
              "      width: 32px;\n",
              "    }\n",
              "\n",
              "    .colab-df-convert:hover {\n",
              "      background-color: #E2EBFA;\n",
              "      box-shadow: 0px 1px 2px rgba(60, 64, 67, 0.3), 0px 1px 3px 1px rgba(60, 64, 67, 0.15);\n",
              "      fill: #174EA6;\n",
              "    }\n",
              "\n",
              "    [theme=dark] .colab-df-convert {\n",
              "      background-color: #3B4455;\n",
              "      fill: #D2E3FC;\n",
              "    }\n",
              "\n",
              "    [theme=dark] .colab-df-convert:hover {\n",
              "      background-color: #434B5C;\n",
              "      box-shadow: 0px 1px 3px 1px rgba(0, 0, 0, 0.15);\n",
              "      filter: drop-shadow(0px 1px 2px rgba(0, 0, 0, 0.3));\n",
              "      fill: #FFFFFF;\n",
              "    }\n",
              "  </style>\n",
              "\n",
              "      <script>\n",
              "        const buttonEl =\n",
              "          document.querySelector('#df-2fb7ef44-b68b-40ef-817c-b0bac9f370d3 button.colab-df-convert');\n",
              "        buttonEl.style.display =\n",
              "          google.colab.kernel.accessAllowed ? 'block' : 'none';\n",
              "\n",
              "        async function convertToInteractive(key) {\n",
              "          const element = document.querySelector('#df-2fb7ef44-b68b-40ef-817c-b0bac9f370d3');\n",
              "          const dataTable =\n",
              "            await google.colab.kernel.invokeFunction('convertToInteractive',\n",
              "                                                     [key], {});\n",
              "          if (!dataTable) return;\n",
              "\n",
              "          const docLinkHtml = 'Like what you see? Visit the ' +\n",
              "            '<a target=\"_blank\" href=https://colab.research.google.com/notebooks/data_table.ipynb>data table notebook</a>'\n",
              "            + ' to learn more about interactive tables.';\n",
              "          element.innerHTML = '';\n",
              "          dataTable['output_type'] = 'display_data';\n",
              "          await google.colab.output.renderOutput(dataTable, element);\n",
              "          const docLink = document.createElement('div');\n",
              "          docLink.innerHTML = docLinkHtml;\n",
              "          element.appendChild(docLink);\n",
              "        }\n",
              "      </script>\n",
              "    </div>\n",
              "  </div>\n",
              "  "
            ]
          },
          "metadata": {},
          "execution_count": 152
        }
      ]
    },
    {
      "cell_type": "code",
      "source": [
        "nunique = test.nunique()\n",
        "types = test.dtypes\n",
        "for col in test.columns:\n",
        "    if types[col] == 'object' or nunique[col] < 200:\n",
        "        print(col, test[col].nunique())\n",
        "        l_enc = LabelEncoder()\n",
        "        test[col] = test[col].fillna(\"VV_likely\")\n",
        "        test[col] = l_enc.fit_transform(test[col].values)\n",
        "        categorical_columns.append(col)\n",
        "        categorical_dims[col] = len(l_enc.classes_)\n",
        "    else:\n",
        "        test.fillna(test.loc[test_indices, col].mean(), inplace=True)"
      ],
      "metadata": {
        "colab": {
          "base_uri": "https://localhost:8080/"
        },
        "id": "merYqaRh1xVs",
        "outputId": "9fcbbb30-d359-409a-82d0-f769c8fad2aa"
      },
      "execution_count": 153,
      "outputs": [
        {
          "output_type": "stream",
          "name": "stdout",
          "text": [
            "Filename 7832\n",
            "Class 2\n",
            "Set 1\n"
          ]
        }
      ]
    },
    {
      "cell_type": "code",
      "source": [
        "train.loc[train[target]==0, target] = \"classZero\"\n",
        "train.loc[train[target]==1, target] = \"classOne\"\n",
        "test.loc[test[target]==0, target] = \"classZero\"\n",
        "test.loc[test[target]==1, target] = \"classOne\""
      ],
      "metadata": {
        "id": "7we2KydSte9E"
      },
      "execution_count": 154,
      "outputs": []
    },
    {
      "cell_type": "code",
      "source": [
        "unused_feat = ['Set']\n",
        "\n",
        "features = [ col for col in train.columns if col not in unused_feat+[target]] \n",
        "\n",
        "cat_idxs = [ i for i, f in enumerate(features) if f in categorical_columns]\n",
        "\n",
        "cat_dims = [ categorical_dims[f] for i, f in enumerate(features) if f in categorical_columns]"
      ],
      "metadata": {
        "id": "nRYcwNaww3qt"
      },
      "execution_count": 155,
      "outputs": []
    },
    {
      "cell_type": "code",
      "source": [
        "tabnet_params = {\"cat_idxs\":cat_idxs,\n",
        "                 \"cat_dims\":cat_dims,\n",
        "                 \"cat_emb_dim\":1,\n",
        "                 \"optimizer_fn\":torch.optim.Adam,\n",
        "                 \"optimizer_params\":dict(lr=2e-2),\n",
        "                 \"scheduler_params\":{\"step_size\":50, # how to use learning rate scheduler\n",
        "                                 \"gamma\":0.9},\n",
        "                 \"scheduler_fn\":torch.optim.lr_scheduler.StepLR,\n",
        "                 \"mask_type\":'entmax' # \"sparsemax\"\n",
        "                }\n",
        "\n",
        "clf = TabNetClassifier(**tabnet_params\n",
        "                      )"
      ],
      "metadata": {
        "colab": {
          "base_uri": "https://localhost:8080/"
        },
        "id": "Z4g5C-Rg2LtI",
        "outputId": "97487ddd-308b-4e6e-a538-060d3cacd2dc"
      },
      "execution_count": 156,
      "outputs": [
        {
          "output_type": "stream",
          "name": "stdout",
          "text": [
            "Device used : cpu\n"
          ]
        }
      ]
    },
    {
      "cell_type": "code",
      "source": [
        "X_train = train[features].values[train_indices]\n",
        "y_train = train[target].values[train_indices]\n",
        "\n",
        "X_test = test[features].values[test_indices]\n",
        "y_test = test[target].values[test_indices]\n"
      ],
      "metadata": {
        "id": "AV1Zy6zd2_Nk"
      },
      "execution_count": 157,
      "outputs": []
    },
    {
      "cell_type": "code",
      "source": [
        "X_train[0]"
      ],
      "metadata": {
        "colab": {
          "base_uri": "https://localhost:8080/"
        },
        "id": "E7C_d8owLLn6",
        "outputId": "fa7f233f-4b6b-4971-c978-771b4391862d"
      },
      "execution_count": 158,
      "outputs": [
        {
          "output_type": "execute_result",
          "data": {
            "text/plain": [
              "array([1.46700000e+03, 3.07760000e+04, 1.03334550e-02, 9.99772299e-01,\n",
              "       3.80400000e+03, 3.33000000e+02, 1.07771544e+02, 1.32001804e-01,\n",
              "       3.25032298e-01, 4.13218420e-02, 9.07647963e+03, 3.55333434e-01,\n",
              "       2.08120601e-01, 6.74196300e-03, 7.57936508e-01, 3.71390116e+01,\n",
              "       2.43524881e+02, 4.14784012e-01, 5.48794275e-01, 6.13217592e-01,\n",
              "       6.16894174e-01, 1.25472855e-01, 1.83447637e-01, 3.21274300e-01,\n",
              "       2.84277750e-01, 3.56390888e-01, 1.30293305e+00, 2.73277536e-01])"
            ]
          },
          "metadata": {},
          "execution_count": 158
        }
      ]
    },
    {
      "cell_type": "code",
      "source": [
        "max_epochs = 50 if not os.getenv(\"CI\", False) else 2"
      ],
      "metadata": {
        "id": "KaM5yMDF3HFK"
      },
      "execution_count": 159,
      "outputs": []
    },
    {
      "cell_type": "code",
      "source": [
        "save_history = []\n",
        "for _ in range(2):\n",
        "    clf.fit(\n",
        "        X_train=X_train, y_train=y_train,\n",
        "        eval_set=[(X_train, y_train), (X_valid, y_valid)],\n",
        "        eval_name=['train', 'valid'],\n",
        "        eval_metric=['auc'],\n",
        "        max_epochs=max_epochs , patience=20,\n",
        "        batch_size=1024, virtual_batch_size=128,\n",
        "        num_workers=0,\n",
        "        weights=1,\n",
        "        drop_last=False,\n",
        "        #aug, None\n",
        "    )\n",
        "    save_history.append(clf.history[\"valid_auc\"])"
      ],
      "metadata": {
        "colab": {
          "base_uri": "https://localhost:8080/"
        },
        "id": "bMdIJzCv3QvZ",
        "outputId": "c9704549-e58b-4e50-d74c-16dcfbf06dfb"
      },
      "execution_count": 160,
      "outputs": [
        {
          "output_type": "stream",
          "name": "stdout",
          "text": [
            "epoch 0  | loss: 0.73368 | train_auc: 0.45445 | valid_auc: 0.57056 |  0:00:00s\n",
            "epoch 1  | loss: 0.51155 | train_auc: 0.69936 | valid_auc: 0.42456 |  0:00:01s\n",
            "epoch 2  | loss: 0.40766 | train_auc: 0.56259 | valid_auc: 0.35569 |  0:00:01s\n",
            "epoch 3  | loss: 0.34109 | train_auc: 0.49563 | valid_auc: 0.33129 |  0:00:02s\n",
            "epoch 4  | loss: 0.29004 | train_auc: 0.50221 | valid_auc: 0.39897 |  0:00:02s\n",
            "epoch 5  | loss: 0.2632  | train_auc: 0.50799 | valid_auc: 0.4975  |  0:00:03s\n",
            "epoch 6  | loss: 0.25953 | train_auc: 0.45294 | valid_auc: 0.44435 |  0:00:03s\n",
            "epoch 7  | loss: 0.23047 | train_auc: 0.4498  | valid_auc: 0.60084 |  0:00:04s\n",
            "epoch 8  | loss: 0.22096 | train_auc: 0.47909 | valid_auc: 0.78025 |  0:00:04s\n",
            "epoch 9  | loss: 0.20915 | train_auc: 0.51063 | valid_auc: 0.80194 |  0:00:05s\n",
            "epoch 10 | loss: 0.20834 | train_auc: 0.59709 | valid_auc: 0.79148 |  0:00:06s\n",
            "epoch 11 | loss: 0.19793 | train_auc: 0.68708 | valid_auc: 0.79861 |  0:00:07s\n",
            "epoch 12 | loss: 0.18876 | train_auc: 0.7147  | valid_auc: 0.80187 |  0:00:07s\n",
            "epoch 13 | loss: 0.17932 | train_auc: 0.74467 | valid_auc: 0.84544 |  0:00:08s\n",
            "epoch 14 | loss: 0.17439 | train_auc: 0.75274 | valid_auc: 0.82977 |  0:00:08s\n",
            "epoch 15 | loss: 0.16741 | train_auc: 0.74081 | valid_auc: 0.76869 |  0:00:09s\n",
            "epoch 16 | loss: 0.15864 | train_auc: 0.76834 | valid_auc: 0.78938 |  0:00:09s\n",
            "epoch 17 | loss: 0.16948 | train_auc: 0.79246 | valid_auc: 0.83593 |  0:00:10s\n",
            "epoch 18 | loss: 0.17302 | train_auc: 0.82688 | valid_auc: 0.85288 |  0:00:10s\n",
            "epoch 19 | loss: 0.14534 | train_auc: 0.79233 | valid_auc: 0.83528 |  0:00:11s\n",
            "epoch 20 | loss: 0.15485 | train_auc: 0.78607 | valid_auc: 0.80862 |  0:00:11s\n",
            "epoch 21 | loss: 0.15344 | train_auc: 0.79604 | valid_auc: 0.84924 |  0:00:12s\n",
            "epoch 22 | loss: 0.13203 | train_auc: 0.84342 | valid_auc: 0.85459 |  0:00:12s\n",
            "epoch 23 | loss: 0.13136 | train_auc: 0.8089  | valid_auc: 0.83203 |  0:00:13s\n",
            "epoch 24 | loss: 0.14581 | train_auc: 0.81499 | valid_auc: 0.83383 |  0:00:13s\n",
            "epoch 25 | loss: 0.13613 | train_auc: 0.82197 | valid_auc: 0.85731 |  0:00:14s\n",
            "epoch 26 | loss: 0.12813 | train_auc: 0.8287  | valid_auc: 0.83654 |  0:00:14s\n",
            "epoch 27 | loss: 0.12096 | train_auc: 0.84595 | valid_auc: 0.86446 |  0:00:15s\n",
            "epoch 28 | loss: 0.11071 | train_auc: 0.81973 | valid_auc: 0.85536 |  0:00:15s\n",
            "epoch 29 | loss: 0.11968 | train_auc: 0.82867 | valid_auc: 0.85314 |  0:00:16s\n",
            "epoch 30 | loss: 0.10187 | train_auc: 0.88477 | valid_auc: 0.84618 |  0:00:16s\n",
            "epoch 31 | loss: 0.09717 | train_auc: 0.88799 | valid_auc: 0.85469 |  0:00:17s\n",
            "epoch 32 | loss: 0.09293 | train_auc: 0.88675 | valid_auc: 0.82344 |  0:00:17s\n",
            "epoch 33 | loss: 0.08887 | train_auc: 0.8945  | valid_auc: 0.84986 |  0:00:18s\n",
            "epoch 34 | loss: 0.0785  | train_auc: 0.8577  | valid_auc: 0.84801 |  0:00:19s\n",
            "epoch 35 | loss: 0.09807 | train_auc: 0.90414 | valid_auc: 0.82565 |  0:00:19s\n",
            "epoch 36 | loss: 0.09    | train_auc: 0.91727 | valid_auc: 0.84839 |  0:00:20s\n",
            "epoch 37 | loss: 0.07678 | train_auc: 0.91937 | valid_auc: 0.83901 |  0:00:20s\n",
            "epoch 38 | loss: 0.07526 | train_auc: 0.91996 | valid_auc: 0.8088  |  0:00:21s\n",
            "epoch 39 | loss: 0.06655 | train_auc: 0.92832 | valid_auc: 0.76717 |  0:00:21s\n",
            "epoch 40 | loss: 0.06902 | train_auc: 0.93603 | valid_auc: 0.67109 |  0:00:22s\n",
            "epoch 41 | loss: 0.06833 | train_auc: 0.92797 | valid_auc: 0.64763 |  0:00:22s\n",
            "epoch 42 | loss: 0.07096 | train_auc: 0.93271 | valid_auc: 0.70076 |  0:00:23s\n",
            "epoch 43 | loss: 0.06228 | train_auc: 0.94038 | valid_auc: 0.70328 |  0:00:23s\n",
            "epoch 44 | loss: 0.05353 | train_auc: 0.93104 | valid_auc: 0.71109 |  0:00:24s\n",
            "epoch 45 | loss: 0.05893 | train_auc: 0.94047 | valid_auc: 0.64692 |  0:00:24s\n",
            "epoch 46 | loss: 0.05323 | train_auc: 0.94841 | valid_auc: 0.61972 |  0:00:25s\n",
            "epoch 47 | loss: 0.05202 | train_auc: 0.94359 | valid_auc: 0.59185 |  0:00:25s\n",
            "\n",
            "Early stopping occurred at epoch 47 with best_epoch = 27 and best_valid_auc = 0.86446\n",
            "Best weights from best epoch are automatically used!\n",
            "epoch 0  | loss: 0.14541 | train_auc: 0.83336 | valid_auc: 0.8453  |  0:00:00s\n",
            "epoch 1  | loss: 0.12406 | train_auc: 0.86479 | valid_auc: 0.84337 |  0:00:01s\n",
            "epoch 2  | loss: 0.11615 | train_auc: 0.90266 | valid_auc: 0.82858 |  0:00:01s\n",
            "epoch 3  | loss: 0.1172  | train_auc: 0.88577 | valid_auc: 0.85897 |  0:00:02s\n",
            "epoch 4  | loss: 0.11315 | train_auc: 0.89791 | valid_auc: 0.85586 |  0:00:02s\n",
            "epoch 5  | loss: 0.09979 | train_auc: 0.89187 | valid_auc: 0.84111 |  0:00:03s\n",
            "epoch 6  | loss: 0.10253 | train_auc: 0.88237 | valid_auc: 0.83909 |  0:00:03s\n",
            "epoch 7  | loss: 0.08959 | train_auc: 0.87618 | valid_auc: 0.84589 |  0:00:04s\n",
            "epoch 8  | loss: 0.07401 | train_auc: 0.89438 | valid_auc: 0.80665 |  0:00:04s\n",
            "epoch 9  | loss: 0.08688 | train_auc: 0.90477 | valid_auc: 0.83841 |  0:00:05s\n",
            "epoch 10 | loss: 0.09264 | train_auc: 0.92869 | valid_auc: 0.81878 |  0:00:05s\n",
            "epoch 11 | loss: 0.07443 | train_auc: 0.93643 | valid_auc: 0.7288  |  0:00:06s\n",
            "epoch 12 | loss: 0.08019 | train_auc: 0.93398 | valid_auc: 0.79099 |  0:00:06s\n",
            "epoch 13 | loss: 0.0777  | train_auc: 0.92908 | valid_auc: 0.81477 |  0:00:07s\n",
            "epoch 14 | loss: 0.07505 | train_auc: 0.92487 | valid_auc: 0.76323 |  0:00:07s\n",
            "epoch 15 | loss: 0.06942 | train_auc: 0.92609 | valid_auc: 0.73329 |  0:00:08s\n",
            "epoch 16 | loss: 0.06474 | train_auc: 0.93684 | valid_auc: 0.67234 |  0:00:08s\n",
            "epoch 17 | loss: 0.05198 | train_auc: 0.93937 | valid_auc: 0.62326 |  0:00:09s\n",
            "epoch 18 | loss: 0.05536 | train_auc: 0.91921 | valid_auc: 0.64431 |  0:00:09s\n",
            "epoch 19 | loss: 0.05962 | train_auc: 0.9389  | valid_auc: 0.52025 |  0:00:10s\n",
            "epoch 20 | loss: 0.05442 | train_auc: 0.95481 | valid_auc: 0.44595 |  0:00:10s\n",
            "epoch 21 | loss: 0.05031 | train_auc: 0.94385 | valid_auc: 0.4332  |  0:00:11s\n",
            "epoch 22 | loss: 0.05741 | train_auc: 0.9528  | valid_auc: 0.41381 |  0:00:11s\n",
            "epoch 23 | loss: 0.05079 | train_auc: 0.95607 | valid_auc: 0.45947 |  0:00:12s\n",
            "\n",
            "Early stopping occurred at epoch 23 with best_epoch = 3 and best_valid_auc = 0.85897\n",
            "Best weights from best epoch are automatically used!\n"
          ]
        }
      ]
    },
    {
      "cell_type": "code",
      "source": [
        "plt.plot(clf.history['loss'])"
      ],
      "metadata": {
        "colab": {
          "base_uri": "https://localhost:8080/",
          "height": 282
        },
        "id": "-j1jSKYa3Rrr",
        "outputId": "02a01991-2407-45a0-f29b-e38abf9be77b"
      },
      "execution_count": 161,
      "outputs": [
        {
          "output_type": "execute_result",
          "data": {
            "text/plain": [
              "[<matplotlib.lines.Line2D at 0x7f3264b56650>]"
            ]
          },
          "metadata": {},
          "execution_count": 161
        },
        {
          "output_type": "display_data",
          "data": {
            "text/plain": [
              "<Figure size 432x288 with 1 Axes>"
            ],
            "image/png": "[encoded data removed]"
          },
          "metadata": {
            "needs_background": "light"
          }
        }
      ]
    },
    {
      "cell_type": "code",
      "source": [
        "plt.plot(clf.history['train_auc'])\n",
        "plt.plot(clf.history['valid_auc'])"
      ],
      "metadata": {
        "colab": {
          "base_uri": "https://localhost:8080/",
          "height": 282
        },
        "id": "hjAQ0bH338_t",
        "outputId": "7acb70a0-e48b-4f96-acc3-73ab6086d8bb"
      },
      "execution_count": 162,
      "outputs": [
        {
          "output_type": "execute_result",
          "data": {
            "text/plain": [
              "[<matplotlib.lines.Line2D at 0x7f3264f997d0>]"
            ]
          },
          "metadata": {},
          "execution_count": 162
        },
        {
          "output_type": "display_data",
          "data": {
            "text/plain": [
              "<Figure size 432x288 with 1 Axes>"
            ],
            "image/png": "[encoded data removed]"
          },
          "metadata": {
            "needs_background": "light"
          }
        }
      ]
    },
    {
      "cell_type": "code",
      "source": [
        "plt.plot(clf.history['lr'])"
      ],
      "metadata": {
        "colab": {
          "base_uri": "https://localhost:8080/",
          "height": 282
        },
        "id": "T-oDi1HE4X_f",
        "outputId": "9b766a35-2e98-4f79-b3c7-09faa0b2dd6f"
      },
      "execution_count": 163,
      "outputs": [
        {
          "output_type": "execute_result",
          "data": {
            "text/plain": [
              "[<matplotlib.lines.Line2D at 0x7f3265050ad0>]"
            ]
          },
          "metadata": {},
          "execution_count": 163
        },
        {
          "output_type": "display_data",
          "data": {
            "text/plain": [
              "<Figure size 432x288 with 1 Axes>"
            ],
            "image/png": "[encoded data removed]"
          },
          "metadata": {
            "needs_background": "light"
          }
        }
      ]
    },
    {
      "cell_type": "code",
      "source": [
        "target = 'Class'"
      ],
      "metadata": {
        "id": "DzYykAYH4a3w"
      },
      "execution_count": 164,
      "outputs": []
    },
    {
      "cell_type": "code",
      "source": [],
      "metadata": {
        "id": "25CsWk8u40Wy"
      },
      "execution_count": 164,
      "outputs": []
    },
    {
      "cell_type": "code",
      "source": [
        "test_indices"
      ],
      "metadata": {
        "colab": {
          "base_uri": "https://localhost:8080/"
        },
        "id": "KcQZybaaG3jn",
        "outputId": "95d55c5c-fe80-4644-884f-1b8b859a2175"
      },
      "execution_count": 165,
      "outputs": [
        {
          "output_type": "execute_result",
          "data": {
            "text/plain": [
              "Int64Index([   0,    1,    2,    3,    4,    5,    6,    7,    8,    9,\n",
              "            ...\n",
              "            7822, 7823, 7824, 7825, 7826, 7827, 7828, 7829, 7830, 7831],\n",
              "           dtype='int64', length=7832)"
            ]
          },
          "metadata": {},
          "execution_count": 165
        }
      ]
    },
    {
      "cell_type": "code",
      "source": [
        "test.head()"
      ],
      "metadata": {
        "colab": {
          "base_uri": "https://localhost:8080/",
          "height": 334
        },
        "id": "uKZQCZUB5TKL",
        "outputId": "0afe33a3-e070-458a-a0d5-7ec5e825f44e"
      },
      "execution_count": 166,
      "outputs": [
        {
          "output_type": "execute_result",
          "data": {
            "text/plain": [
              "   Filename  White Circle Patch  Contrast  Black Patch  Biffercation  \\\n",
              "0      1443              5292.0  0.166200     0.976471          1509   \n",
              "1      1444              4175.5  0.098199     0.989966          1339   \n",
              "2      1445              5829.0  0.054095     0.996549          1679   \n",
              "3      1446              3193.5  0.024822     0.998801          1902   \n",
              "4      1447              3132.0  0.129463     0.985666          1132   \n",
              "\n",
              "   Termination         CID     Class  OCL_STD2  LCS_STD2  ...       OFL  \\\n",
              "0          403  332.053514  classOne  0.053521  0.092457  ...  0.668878   \n",
              "1          453  265.142266  classOne  0.052430  0.076413  ...  0.656728   \n",
              "2          472  293.976355  classOne  0.046736  0.119511  ...  0.672784   \n",
              "3          340  289.341544  classOne  0.063880  0.145236  ...  0.709769   \n",
              "4          296  314.832926  classOne  0.079128  0.228858  ...  0.732113   \n",
              "\n",
              "        FDA     GABOR   OCL_STD   LCS_STD   OFL_STD   FDA_STD       RVU  \\\n",
              "0  0.450442  0.659029  0.082090  0.160900  0.297923  0.165506  0.533431   \n",
              "1  0.420273  0.581228  0.075764  0.141661  0.315187  0.147372  0.457116   \n",
              "2  0.417944  0.529954  0.096840  0.210623  0.291043  0.142840  0.505789   \n",
              "3  0.400578  0.283677  0.119394  0.230169  0.274530  0.134042  0.478189   \n",
              "4  0.436506  0.339123  0.129622  0.254241  0.262279  0.175556  0.459725   \n",
              "\n",
              "   GABOR_STD  Set  \n",
              "0   1.062037    0  \n",
              "1   0.990512    0  \n",
              "2   0.918927    0  \n",
              "3   0.662974    0  \n",
              "4   0.790986    0  \n",
              "\n",
              "[5 rows x 30 columns]"
            ],
            "text/html": [
              "\n",
              "  <div id=\"df-2546092b-91ab-4caa-a552-9c58f661fa03\">\n",
              "    <div class=\"colab-df-container\">\n",
              "      <div>\n",
              "<style scoped>\n",
              "    .dataframe tbody tr th:only-of-type {\n",
              "        vertical-align: middle;\n",
              "    }\n",
              "\n",
              "    .dataframe tbody tr th {\n",
              "        vertical-align: top;\n",
              "    }\n",
              "\n",
              "    .dataframe thead th {\n",
              "        text-align: right;\n",
              "    }\n",
              "</style>\n",
              "<table border=\"1\" class=\"dataframe\">\n",
              "  <thead>\n",
              "    <tr style=\"text-align: right;\">\n",
              "      <th></th>\n",
              "      <th>Filename</th>\n",
              "      <th>White Circle Patch</th>\n",
              "      <th>Contrast</th>\n",
              "      <th>Black Patch</th>\n",
              "      <th>Biffercation</th>\n",
              "      <th>Termination</th>\n",
              "      <th>CID</th>\n",
              "      <th>Class</th>\n",
              "      <th>OCL_STD2</th>\n",
              "      <th>LCS_STD2</th>\n",
              "      <th>...</th>\n",
              "      <th>OFL</th>\n",
              "      <th>FDA</th>\n",
              "      <th>GABOR</th>\n",
              "      <th>OCL_STD</th>\n",
              "      <th>LCS_STD</th>\n",
              "      <th>OFL_STD</th>\n",
              "      <th>FDA_STD</th>\n",
              "      <th>RVU</th>\n",
              "      <th>GABOR_STD</th>\n",
              "      <th>Set</th>\n",
              "    </tr>\n",
              "  </thead>\n",
              "  <tbody>\n",
              "    <tr>\n",
              "      <th>0</th>\n",
              "      <td>1443</td>\n",
              "      <td>5292.0</td>\n",
              "      <td>0.166200</td>\n",
              "      <td>0.976471</td>\n",
              "      <td>1509</td>\n",
              "      <td>403</td>\n",
              "      <td>332.053514</td>\n",
              "      <td>classOne</td>\n",
              "      <td>0.053521</td>\n",
              "      <td>0.092457</td>\n",
              "      <td>...</td>\n",
              "      <td>0.668878</td>\n",
              "      <td>0.450442</td>\n",
              "      <td>0.659029</td>\n",
              "      <td>0.082090</td>\n",
              "      <td>0.160900</td>\n",
              "      <td>0.297923</td>\n",
              "      <td>0.165506</td>\n",
              "      <td>0.533431</td>\n",
              "      <td>1.062037</td>\n",
              "      <td>0</td>\n",
              "    </tr>\n",
              "    <tr>\n",
              "      <th>1</th>\n",
              "      <td>1444</td>\n",
              "      <td>4175.5</td>\n",
              "      <td>0.098199</td>\n",
              "      <td>0.989966</td>\n",
              "      <td>1339</td>\n",
              "      <td>453</td>\n",
              "      <td>265.142266</td>\n",
              "      <td>classOne</td>\n",
              "      <td>0.052430</td>\n",
              "      <td>0.076413</td>\n",
              "      <td>...</td>\n",
              "      <td>0.656728</td>\n",
              "      <td>0.420273</td>\n",
              "      <td>0.581228</td>\n",
              "      <td>0.075764</td>\n",
              "      <td>0.141661</td>\n",
              "      <td>0.315187</td>\n",
              "      <td>0.147372</td>\n",
              "      <td>0.457116</td>\n",
              "      <td>0.990512</td>\n",
              "      <td>0</td>\n",
              "    </tr>\n",
              "    <tr>\n",
              "      <th>2</th>\n",
              "      <td>1445</td>\n",
              "      <td>5829.0</td>\n",
              "      <td>0.054095</td>\n",
              "      <td>0.996549</td>\n",
              "      <td>1679</td>\n",
              "      <td>472</td>\n",
              "      <td>293.976355</td>\n",
              "      <td>classOne</td>\n",
              "      <td>0.046736</td>\n",
              "      <td>0.119511</td>\n",
              "      <td>...</td>\n",
              "      <td>0.672784</td>\n",
              "      <td>0.417944</td>\n",
              "      <td>0.529954</td>\n",
              "      <td>0.096840</td>\n",
              "      <td>0.210623</td>\n",
              "      <td>0.291043</td>\n",
              "      <td>0.142840</td>\n",
              "      <td>0.505789</td>\n",
              "      <td>0.918927</td>\n",
              "      <td>0</td>\n",
              "    </tr>\n",
              "    <tr>\n",
              "      <th>3</th>\n",
              "      <td>1446</td>\n",
              "      <td>3193.5</td>\n",
              "      <td>0.024822</td>\n",
              "      <td>0.998801</td>\n",
              "      <td>1902</td>\n",
              "      <td>340</td>\n",
              "      <td>289.341544</td>\n",
              "      <td>classOne</td>\n",
              "      <td>0.063880</td>\n",
              "      <td>0.145236</td>\n",
              "      <td>...</td>\n",
              "      <td>0.709769</td>\n",
              "      <td>0.400578</td>\n",
              "      <td>0.283677</td>\n",
              "      <td>0.119394</td>\n",
              "      <td>0.230169</td>\n",
              "      <td>0.274530</td>\n",
              "      <td>0.134042</td>\n",
              "      <td>0.478189</td>\n",
              "      <td>0.662974</td>\n",
              "      <td>0</td>\n",
              "    </tr>\n",
              "    <tr>\n",
              "      <th>4</th>\n",
              "      <td>1447</td>\n",
              "      <td>3132.0</td>\n",
              "      <td>0.129463</td>\n",
              "      <td>0.985666</td>\n",
              "      <td>1132</td>\n",
              "      <td>296</td>\n",
              "      <td>314.832926</td>\n",
              "      <td>classOne</td>\n",
              "      <td>0.079128</td>\n",
              "      <td>0.228858</td>\n",
              "      <td>...</td>\n",
              "      <td>0.732113</td>\n",
              "      <td>0.436506</td>\n",
              "      <td>0.339123</td>\n",
              "      <td>0.129622</td>\n",
              "      <td>0.254241</td>\n",
              "      <td>0.262279</td>\n",
              "      <td>0.175556</td>\n",
              "      <td>0.459725</td>\n",
              "      <td>0.790986</td>\n",
              "      <td>0</td>\n",
              "    </tr>\n",
              "  </tbody>\n",
              "</table>\n",
              "<p>5 rows × 30 columns</p>\n",
              "</div>\n",
              "      <button class=\"colab-df-convert\" onclick=\"convertToInteractive('df-2546092b-91ab-4caa-a552-9c58f661fa03')\"\n",
              "              title=\"Convert this dataframe to an interactive table.\"\n",
              "              style=\"display:none;\">\n",
              "        \n",
              "  <svg xmlns=\"http://www.w3.org/2000/svg\" height=\"24px\"viewBox=\"0 0 24 24\"\n",
              "       width=\"24px\">\n",
              "    <path d=\"M0 0h24v24H0V0z\" fill=\"none\"/>\n",
              "    <path d=\"M18.56 5.44l.94 2.06.94-2.06 2.06-.94-2.06-.94-.94-2.06-.94 2.06-2.06.94zm-11 1L8.5 8.5l.94-2.06 2.06-.94-2.06-.94L8.5 2.5l-.94 2.06-2.06.94zm10 10l.94 2.06.94-2.06 2.06-.94-2.06-.94-.94-2.06-.94 2.06-2.06.94z\"/><path d=\"M17.41 7.96l-1.37-1.37c-.4-.4-.92-.59-1.43-.59-.52 0-1.04.2-1.43.59L10.3 9.45l-7.72 7.72c-.78.78-.78 2.05 0 2.83L4 21.41c.39.39.9.59 1.41.59.51 0 1.02-.2 1.41-.59l7.78-7.78 2.81-2.81c.8-.78.8-2.07 0-2.86zM5.41 20L4 18.59l7.72-7.72 1.47 1.35L5.41 20z\"/>\n",
              "  </svg>\n",
              "      </button>\n",
              "      \n",
              "  <style>\n",
              "    .colab-df-container {\n",
              "      display:flex;\n",
              "      flex-wrap:wrap;\n",
              "      gap: 12px;\n",
              "    }\n",
              "\n",
              "    .colab-df-convert {\n",
              "      background-color: #E8F0FE;\n",
              "      border: none;\n",
              "      border-radius: 50%;\n",
              "      cursor: pointer;\n",
              "      display: none;\n",
              "      fill: #1967D2;\n",
              "      height: 32px;\n",
              "      padding: 0 0 0 0;\n",
              "      width: 32px;\n",
              "    }\n",
              "\n",
              "    .colab-df-convert:hover {\n",
              "      background-color: #E2EBFA;\n",
              "      box-shadow: 0px 1px 2px rgba(60, 64, 67, 0.3), 0px 1px 3px 1px rgba(60, 64, 67, 0.15);\n",
              "      fill: #174EA6;\n",
              "    }\n",
              "\n",
              "    [theme=dark] .colab-df-convert {\n",
              "      background-color: #3B4455;\n",
              "      fill: #D2E3FC;\n",
              "    }\n",
              "\n",
              "    [theme=dark] .colab-df-convert:hover {\n",
              "      background-color: #434B5C;\n",
              "      box-shadow: 0px 1px 3px 1px rgba(0, 0, 0, 0.15);\n",
              "      filter: drop-shadow(0px 1px 2px rgba(0, 0, 0, 0.3));\n",
              "      fill: #FFFFFF;\n",
              "    }\n",
              "  </style>\n",
              "\n",
              "      <script>\n",
              "        const buttonEl =\n",
              "          document.querySelector('#df-2546092b-91ab-4caa-a552-9c58f661fa03 button.colab-df-convert');\n",
              "        buttonEl.style.display =\n",
              "          google.colab.kernel.accessAllowed ? 'block' : 'none';\n",
              "\n",
              "        async function convertToInteractive(key) {\n",
              "          const element = document.querySelector('#df-2546092b-91ab-4caa-a552-9c58f661fa03');\n",
              "          const dataTable =\n",
              "            await google.colab.kernel.invokeFunction('convertToInteractive',\n",
              "                                                     [key], {});\n",
              "          if (!dataTable) return;\n",
              "\n",
              "          const docLinkHtml = 'Like what you see? Visit the ' +\n",
              "            '<a target=\"_blank\" href=https://colab.research.google.com/notebooks/data_table.ipynb>data table notebook</a>'\n",
              "            + ' to learn more about interactive tables.';\n",
              "          element.innerHTML = '';\n",
              "          dataTable['output_type'] = 'display_data';\n",
              "          await google.colab.output.renderOutput(dataTable, element);\n",
              "          const docLink = document.createElement('div');\n",
              "          docLink.innerHTML = docLinkHtml;\n",
              "          element.appendChild(docLink);\n",
              "        }\n",
              "      </script>\n",
              "    </div>\n",
              "  </div>\n",
              "  "
            ]
          },
          "metadata": {},
          "execution_count": 166
        }
      ]
    },
    {
      "cell_type": "code",
      "source": [],
      "metadata": {
        "id": "f3Z_UhIa5epi"
      },
      "execution_count": 166,
      "outputs": []
    },
    {
      "cell_type": "code",
      "source": [
        "test.head()"
      ],
      "metadata": {
        "colab": {
          "base_uri": "https://localhost:8080/",
          "height": 334
        },
        "id": "3CfZuryyA8EC",
        "outputId": "60e2d1b9-319e-4f56-810a-e2b6d339e723"
      },
      "execution_count": 167,
      "outputs": [
        {
          "output_type": "execute_result",
          "data": {
            "text/plain": [
              "   Filename  White Circle Patch  Contrast  Black Patch  Biffercation  \\\n",
              "0      1443              5292.0  0.166200     0.976471          1509   \n",
              "1      1444              4175.5  0.098199     0.989966          1339   \n",
              "2      1445              5829.0  0.054095     0.996549          1679   \n",
              "3      1446              3193.5  0.024822     0.998801          1902   \n",
              "4      1447              3132.0  0.129463     0.985666          1132   \n",
              "\n",
              "   Termination         CID     Class  OCL_STD2  LCS_STD2  ...       OFL  \\\n",
              "0          403  332.053514  classOne  0.053521  0.092457  ...  0.668878   \n",
              "1          453  265.142266  classOne  0.052430  0.076413  ...  0.656728   \n",
              "2          472  293.976355  classOne  0.046736  0.119511  ...  0.672784   \n",
              "3          340  289.341544  classOne  0.063880  0.145236  ...  0.709769   \n",
              "4          296  314.832926  classOne  0.079128  0.228858  ...  0.732113   \n",
              "\n",
              "        FDA     GABOR   OCL_STD   LCS_STD   OFL_STD   FDA_STD       RVU  \\\n",
              "0  0.450442  0.659029  0.082090  0.160900  0.297923  0.165506  0.533431   \n",
              "1  0.420273  0.581228  0.075764  0.141661  0.315187  0.147372  0.457116   \n",
              "2  0.417944  0.529954  0.096840  0.210623  0.291043  0.142840  0.505789   \n",
              "3  0.400578  0.283677  0.119394  0.230169  0.274530  0.134042  0.478189   \n",
              "4  0.436506  0.339123  0.129622  0.254241  0.262279  0.175556  0.459725   \n",
              "\n",
              "   GABOR_STD  Set  \n",
              "0   1.062037    0  \n",
              "1   0.990512    0  \n",
              "2   0.918927    0  \n",
              "3   0.662974    0  \n",
              "4   0.790986    0  \n",
              "\n",
              "[5 rows x 30 columns]"
            ],
            "text/html": [
              "\n",
              "  <div id=\"df-8c2806ac-ed3b-451b-bba2-5a9e4f0600ae\">\n",
              "    <div class=\"colab-df-container\">\n",
              "      <div>\n",
              "<style scoped>\n",
              "    .dataframe tbody tr th:only-of-type {\n",
              "        vertical-align: middle;\n",
              "    }\n",
              "\n",
              "    .dataframe tbody tr th {\n",
              "        vertical-align: top;\n",
              "    }\n",
              "\n",
              "    .dataframe thead th {\n",
              "        text-align: right;\n",
              "    }\n",
              "</style>\n",
              "<table border=\"1\" class=\"dataframe\">\n",
              "  <thead>\n",
              "    <tr style=\"text-align: right;\">\n",
              "      <th></th>\n",
              "      <th>Filename</th>\n",
              "      <th>White Circle Patch</th>\n",
              "      <th>Contrast</th>\n",
              "      <th>Black Patch</th>\n",
              "      <th>Biffercation</th>\n",
              "      <th>Termination</th>\n",
              "      <th>CID</th>\n",
              "      <th>Class</th>\n",
              "      <th>OCL_STD2</th>\n",
              "      <th>LCS_STD2</th>\n",
              "      <th>...</th>\n",
              "      <th>OFL</th>\n",
              "      <th>FDA</th>\n",
              "      <th>GABOR</th>\n",
              "      <th>OCL_STD</th>\n",
              "      <th>LCS_STD</th>\n",
              "      <th>OFL_STD</th>\n",
              "      <th>FDA_STD</th>\n",
              "      <th>RVU</th>\n",
              "      <th>GABOR_STD</th>\n",
              "      <th>Set</th>\n",
              "    </tr>\n",
              "  </thead>\n",
              "  <tbody>\n",
              "    <tr>\n",
              "      <th>0</th>\n",
              "      <td>1443</td>\n",
              "      <td>5292.0</td>\n",
              "      <td>0.166200</td>\n",
              "      <td>0.976471</td>\n",
              "      <td>1509</td>\n",
              "      <td>403</td>\n",
              "      <td>332.053514</td>\n",
              "      <td>classOne</td>\n",
              "      <td>0.053521</td>\n",
              "      <td>0.092457</td>\n",
              "      <td>...</td>\n",
              "      <td>0.668878</td>\n",
              "      <td>0.450442</td>\n",
              "      <td>0.659029</td>\n",
              "      <td>0.082090</td>\n",
              "      <td>0.160900</td>\n",
              "      <td>0.297923</td>\n",
              "      <td>0.165506</td>\n",
              "      <td>0.533431</td>\n",
              "      <td>1.062037</td>\n",
              "      <td>0</td>\n",
              "    </tr>\n",
              "    <tr>\n",
              "      <th>1</th>\n",
              "      <td>1444</td>\n",
              "      <td>4175.5</td>\n",
              "      <td>0.098199</td>\n",
              "      <td>0.989966</td>\n",
              "      <td>1339</td>\n",
              "      <td>453</td>\n",
              "      <td>265.142266</td>\n",
              "      <td>classOne</td>\n",
              "      <td>0.052430</td>\n",
              "      <td>0.076413</td>\n",
              "      <td>...</td>\n",
              "      <td>0.656728</td>\n",
              "      <td>0.420273</td>\n",
              "      <td>0.581228</td>\n",
              "      <td>0.075764</td>\n",
              "      <td>0.141661</td>\n",
              "      <td>0.315187</td>\n",
              "      <td>0.147372</td>\n",
              "      <td>0.457116</td>\n",
              "      <td>0.990512</td>\n",
              "      <td>0</td>\n",
              "    </tr>\n",
              "    <tr>\n",
              "      <th>2</th>\n",
              "      <td>1445</td>\n",
              "      <td>5829.0</td>\n",
              "      <td>0.054095</td>\n",
              "      <td>0.996549</td>\n",
              "      <td>1679</td>\n",
              "      <td>472</td>\n",
              "      <td>293.976355</td>\n",
              "      <td>classOne</td>\n",
              "      <td>0.046736</td>\n",
              "      <td>0.119511</td>\n",
              "      <td>...</td>\n",
              "      <td>0.672784</td>\n",
              "      <td>0.417944</td>\n",
              "      <td>0.529954</td>\n",
              "      <td>0.096840</td>\n",
              "      <td>0.210623</td>\n",
              "      <td>0.291043</td>\n",
              "      <td>0.142840</td>\n",
              "      <td>0.505789</td>\n",
              "      <td>0.918927</td>\n",
              "      <td>0</td>\n",
              "    </tr>\n",
              "    <tr>\n",
              "      <th>3</th>\n",
              "      <td>1446</td>\n",
              "      <td>3193.5</td>\n",
              "      <td>0.024822</td>\n",
              "      <td>0.998801</td>\n",
              "      <td>1902</td>\n",
              "      <td>340</td>\n",
              "      <td>289.341544</td>\n",
              "      <td>classOne</td>\n",
              "      <td>0.063880</td>\n",
              "      <td>0.145236</td>\n",
              "      <td>...</td>\n",
              "      <td>0.709769</td>\n",
              "      <td>0.400578</td>\n",
              "      <td>0.283677</td>\n",
              "      <td>0.119394</td>\n",
              "      <td>0.230169</td>\n",
              "      <td>0.274530</td>\n",
              "      <td>0.134042</td>\n",
              "      <td>0.478189</td>\n",
              "      <td>0.662974</td>\n",
              "      <td>0</td>\n",
              "    </tr>\n",
              "    <tr>\n",
              "      <th>4</th>\n",
              "      <td>1447</td>\n",
              "      <td>3132.0</td>\n",
              "      <td>0.129463</td>\n",
              "      <td>0.985666</td>\n",
              "      <td>1132</td>\n",
              "      <td>296</td>\n",
              "      <td>314.832926</td>\n",
              "      <td>classOne</td>\n",
              "      <td>0.079128</td>\n",
              "      <td>0.228858</td>\n",
              "      <td>...</td>\n",
              "      <td>0.732113</td>\n",
              "      <td>0.436506</td>\n",
              "      <td>0.339123</td>\n",
              "      <td>0.129622</td>\n",
              "      <td>0.254241</td>\n",
              "      <td>0.262279</td>\n",
              "      <td>0.175556</td>\n",
              "      <td>0.459725</td>\n",
              "      <td>0.790986</td>\n",
              "      <td>0</td>\n",
              "    </tr>\n",
              "  </tbody>\n",
              "</table>\n",
              "<p>5 rows × 30 columns</p>\n",
              "</div>\n",
              "      <button class=\"colab-df-convert\" onclick=\"convertToInteractive('df-8c2806ac-ed3b-451b-bba2-5a9e4f0600ae')\"\n",
              "              title=\"Convert this dataframe to an interactive table.\"\n",
              "              style=\"display:none;\">\n",
              "        \n",
              "  <svg xmlns=\"http://www.w3.org/2000/svg\" height=\"24px\"viewBox=\"0 0 24 24\"\n",
              "       width=\"24px\">\n",
              "    <path d=\"M0 0h24v24H0V0z\" fill=\"none\"/>\n",
              "    <path d=\"M18.56 5.44l.94 2.06.94-2.06 2.06-.94-2.06-.94-.94-2.06-.94 2.06-2.06.94zm-11 1L8.5 8.5l.94-2.06 2.06-.94-2.06-.94L8.5 2.5l-.94 2.06-2.06.94zm10 10l.94 2.06.94-2.06 2.06-.94-2.06-.94-.94-2.06-.94 2.06-2.06.94z\"/><path d=\"M17.41 7.96l-1.37-1.37c-.4-.4-.92-.59-1.43-.59-.52 0-1.04.2-1.43.59L10.3 9.45l-7.72 7.72c-.78.78-.78 2.05 0 2.83L4 21.41c.39.39.9.59 1.41.59.51 0 1.02-.2 1.41-.59l7.78-7.78 2.81-2.81c.8-.78.8-2.07 0-2.86zM5.41 20L4 18.59l7.72-7.72 1.47 1.35L5.41 20z\"/>\n",
              "  </svg>\n",
              "      </button>\n",
              "      \n",
              "  <style>\n",
              "    .colab-df-container {\n",
              "      display:flex;\n",
              "      flex-wrap:wrap;\n",
              "      gap: 12px;\n",
              "    }\n",
              "\n",
              "    .colab-df-convert {\n",
              "      background-color: #E8F0FE;\n",
              "      border: none;\n",
              "      border-radius: 50%;\n",
              "      cursor: pointer;\n",
              "      display: none;\n",
              "      fill: #1967D2;\n",
              "      height: 32px;\n",
              "      padding: 0 0 0 0;\n",
              "      width: 32px;\n",
              "    }\n",
              "\n",
              "    .colab-df-convert:hover {\n",
              "      background-color: #E2EBFA;\n",
              "      box-shadow: 0px 1px 2px rgba(60, 64, 67, 0.3), 0px 1px 3px 1px rgba(60, 64, 67, 0.15);\n",
              "      fill: #174EA6;\n",
              "    }\n",
              "\n",
              "    [theme=dark] .colab-df-convert {\n",
              "      background-color: #3B4455;\n",
              "      fill: #D2E3FC;\n",
              "    }\n",
              "\n",
              "    [theme=dark] .colab-df-convert:hover {\n",
              "      background-color: #434B5C;\n",
              "      box-shadow: 0px 1px 3px 1px rgba(0, 0, 0, 0.15);\n",
              "      filter: drop-shadow(0px 1px 2px rgba(0, 0, 0, 0.3));\n",
              "      fill: #FFFFFF;\n",
              "    }\n",
              "  </style>\n",
              "\n",
              "      <script>\n",
              "        const buttonEl =\n",
              "          document.querySelector('#df-8c2806ac-ed3b-451b-bba2-5a9e4f0600ae button.colab-df-convert');\n",
              "        buttonEl.style.display =\n",
              "          google.colab.kernel.accessAllowed ? 'block' : 'none';\n",
              "\n",
              "        async function convertToInteractive(key) {\n",
              "          const element = document.querySelector('#df-8c2806ac-ed3b-451b-bba2-5a9e4f0600ae');\n",
              "          const dataTable =\n",
              "            await google.colab.kernel.invokeFunction('convertToInteractive',\n",
              "                                                     [key], {});\n",
              "          if (!dataTable) return;\n",
              "\n",
              "          const docLinkHtml = 'Like what you see? Visit the ' +\n",
              "            '<a target=\"_blank\" href=https://colab.research.google.com/notebooks/data_table.ipynb>data table notebook</a>'\n",
              "            + ' to learn more about interactive tables.';\n",
              "          element.innerHTML = '';\n",
              "          dataTable['output_type'] = 'display_data';\n",
              "          await google.colab.output.renderOutput(dataTable, element);\n",
              "          const docLink = document.createElement('div');\n",
              "          docLink.innerHTML = docLinkHtml;\n",
              "          element.appendChild(docLink);\n",
              "        }\n",
              "      </script>\n",
              "    </div>\n",
              "  </div>\n",
              "  "
            ]
          },
          "metadata": {},
          "execution_count": 167
        }
      ]
    },
    {
      "cell_type": "code",
      "source": [
        "\n"
      ],
      "metadata": {
        "id": "8Ni2uBjp5__J"
      },
      "execution_count": 167,
      "outputs": []
    },
    {
      "cell_type": "code",
      "source": [
        "test.head()"
      ],
      "metadata": {
        "colab": {
          "base_uri": "https://localhost:8080/",
          "height": 334
        },
        "id": "k45AzASh6LFt",
        "outputId": "bdf958b3-6dfd-42d4-f4e7-4867c89fc65c"
      },
      "execution_count": 168,
      "outputs": [
        {
          "output_type": "execute_result",
          "data": {
            "text/plain": [
              "   Filename  White Circle Patch  Contrast  Black Patch  Biffercation  \\\n",
              "0      1443              5292.0  0.166200     0.976471          1509   \n",
              "1      1444              4175.5  0.098199     0.989966          1339   \n",
              "2      1445              5829.0  0.054095     0.996549          1679   \n",
              "3      1446              3193.5  0.024822     0.998801          1902   \n",
              "4      1447              3132.0  0.129463     0.985666          1132   \n",
              "\n",
              "   Termination         CID     Class  OCL_STD2  LCS_STD2  ...       OFL  \\\n",
              "0          403  332.053514  classOne  0.053521  0.092457  ...  0.668878   \n",
              "1          453  265.142266  classOne  0.052430  0.076413  ...  0.656728   \n",
              "2          472  293.976355  classOne  0.046736  0.119511  ...  0.672784   \n",
              "3          340  289.341544  classOne  0.063880  0.145236  ...  0.709769   \n",
              "4          296  314.832926  classOne  0.079128  0.228858  ...  0.732113   \n",
              "\n",
              "        FDA     GABOR   OCL_STD   LCS_STD   OFL_STD   FDA_STD       RVU  \\\n",
              "0  0.450442  0.659029  0.082090  0.160900  0.297923  0.165506  0.533431   \n",
              "1  0.420273  0.581228  0.075764  0.141661  0.315187  0.147372  0.457116   \n",
              "2  0.417944  0.529954  0.096840  0.210623  0.291043  0.142840  0.505789   \n",
              "3  0.400578  0.283677  0.119394  0.230169  0.274530  0.134042  0.478189   \n",
              "4  0.436506  0.339123  0.129622  0.254241  0.262279  0.175556  0.459725   \n",
              "\n",
              "   GABOR_STD  Set  \n",
              "0   1.062037    0  \n",
              "1   0.990512    0  \n",
              "2   0.918927    0  \n",
              "3   0.662974    0  \n",
              "4   0.790986    0  \n",
              "\n",
              "[5 rows x 30 columns]"
            ],
            "text/html": [
              "\n",
              "  <div id=\"df-af93663e-105f-46af-a79e-591ee6552dc6\">\n",
              "    <div class=\"colab-df-container\">\n",
              "      <div>\n",
              "<style scoped>\n",
              "    .dataframe tbody tr th:only-of-type {\n",
              "        vertical-align: middle;\n",
              "    }\n",
              "\n",
              "    .dataframe tbody tr th {\n",
              "        vertical-align: top;\n",
              "    }\n",
              "\n",
              "    .dataframe thead th {\n",
              "        text-align: right;\n",
              "    }\n",
              "</style>\n",
              "<table border=\"1\" class=\"dataframe\">\n",
              "  <thead>\n",
              "    <tr style=\"text-align: right;\">\n",
              "      <th></th>\n",
              "      <th>Filename</th>\n",
              "      <th>White Circle Patch</th>\n",
              "      <th>Contrast</th>\n",
              "      <th>Black Patch</th>\n",
              "      <th>Biffercation</th>\n",
              "      <th>Termination</th>\n",
              "      <th>CID</th>\n",
              "      <th>Class</th>\n",
              "      <th>OCL_STD2</th>\n",
              "      <th>LCS_STD2</th>\n",
              "      <th>...</th>\n",
              "      <th>OFL</th>\n",
              "      <th>FDA</th>\n",
              "      <th>GABOR</th>\n",
              "      <th>OCL_STD</th>\n",
              "      <th>LCS_STD</th>\n",
              "      <th>OFL_STD</th>\n",
              "      <th>FDA_STD</th>\n",
              "      <th>RVU</th>\n",
              "      <th>GABOR_STD</th>\n",
              "      <th>Set</th>\n",
              "    </tr>\n",
              "  </thead>\n",
              "  <tbody>\n",
              "    <tr>\n",
              "      <th>0</th>\n",
              "      <td>1443</td>\n",
              "      <td>5292.0</td>\n",
              "      <td>0.166200</td>\n",
              "      <td>0.976471</td>\n",
              "      <td>1509</td>\n",
              "      <td>403</td>\n",
              "      <td>332.053514</td>\n",
              "      <td>classOne</td>\n",
              "      <td>0.053521</td>\n",
              "      <td>0.092457</td>\n",
              "      <td>...</td>\n",
              "      <td>0.668878</td>\n",
              "      <td>0.450442</td>\n",
              "      <td>0.659029</td>\n",
              "      <td>0.082090</td>\n",
              "      <td>0.160900</td>\n",
              "      <td>0.297923</td>\n",
              "      <td>0.165506</td>\n",
              "      <td>0.533431</td>\n",
              "      <td>1.062037</td>\n",
              "      <td>0</td>\n",
              "    </tr>\n",
              "    <tr>\n",
              "      <th>1</th>\n",
              "      <td>1444</td>\n",
              "      <td>4175.5</td>\n",
              "      <td>0.098199</td>\n",
              "      <td>0.989966</td>\n",
              "      <td>1339</td>\n",
              "      <td>453</td>\n",
              "      <td>265.142266</td>\n",
              "      <td>classOne</td>\n",
              "      <td>0.052430</td>\n",
              "      <td>0.076413</td>\n",
              "      <td>...</td>\n",
              "      <td>0.656728</td>\n",
              "      <td>0.420273</td>\n",
              "      <td>0.581228</td>\n",
              "      <td>0.075764</td>\n",
              "      <td>0.141661</td>\n",
              "      <td>0.315187</td>\n",
              "      <td>0.147372</td>\n",
              "      <td>0.457116</td>\n",
              "      <td>0.990512</td>\n",
              "      <td>0</td>\n",
              "    </tr>\n",
              "    <tr>\n",
              "      <th>2</th>\n",
              "      <td>1445</td>\n",
              "      <td>5829.0</td>\n",
              "      <td>0.054095</td>\n",
              "      <td>0.996549</td>\n",
              "      <td>1679</td>\n",
              "      <td>472</td>\n",
              "      <td>293.976355</td>\n",
              "      <td>classOne</td>\n",
              "      <td>0.046736</td>\n",
              "      <td>0.119511</td>\n",
              "      <td>...</td>\n",
              "      <td>0.672784</td>\n",
              "      <td>0.417944</td>\n",
              "      <td>0.529954</td>\n",
              "      <td>0.096840</td>\n",
              "      <td>0.210623</td>\n",
              "      <td>0.291043</td>\n",
              "      <td>0.142840</td>\n",
              "      <td>0.505789</td>\n",
              "      <td>0.918927</td>\n",
              "      <td>0</td>\n",
              "    </tr>\n",
              "    <tr>\n",
              "      <th>3</th>\n",
              "      <td>1446</td>\n",
              "      <td>3193.5</td>\n",
              "      <td>0.024822</td>\n",
              "      <td>0.998801</td>\n",
              "      <td>1902</td>\n",
              "      <td>340</td>\n",
              "      <td>289.341544</td>\n",
              "      <td>classOne</td>\n",
              "      <td>0.063880</td>\n",
              "      <td>0.145236</td>\n",
              "      <td>...</td>\n",
              "      <td>0.709769</td>\n",
              "      <td>0.400578</td>\n",
              "      <td>0.283677</td>\n",
              "      <td>0.119394</td>\n",
              "      <td>0.230169</td>\n",
              "      <td>0.274530</td>\n",
              "      <td>0.134042</td>\n",
              "      <td>0.478189</td>\n",
              "      <td>0.662974</td>\n",
              "      <td>0</td>\n",
              "    </tr>\n",
              "    <tr>\n",
              "      <th>4</th>\n",
              "      <td>1447</td>\n",
              "      <td>3132.0</td>\n",
              "      <td>0.129463</td>\n",
              "      <td>0.985666</td>\n",
              "      <td>1132</td>\n",
              "      <td>296</td>\n",
              "      <td>314.832926</td>\n",
              "      <td>classOne</td>\n",
              "      <td>0.079128</td>\n",
              "      <td>0.228858</td>\n",
              "      <td>...</td>\n",
              "      <td>0.732113</td>\n",
              "      <td>0.436506</td>\n",
              "      <td>0.339123</td>\n",
              "      <td>0.129622</td>\n",
              "      <td>0.254241</td>\n",
              "      <td>0.262279</td>\n",
              "      <td>0.175556</td>\n",
              "      <td>0.459725</td>\n",
              "      <td>0.790986</td>\n",
              "      <td>0</td>\n",
              "    </tr>\n",
              "  </tbody>\n",
              "</table>\n",
              "<p>5 rows × 30 columns</p>\n",
              "</div>\n",
              "      <button class=\"colab-df-convert\" onclick=\"convertToInteractive('df-af93663e-105f-46af-a79e-591ee6552dc6')\"\n",
              "              title=\"Convert this dataframe to an interactive table.\"\n",
              "              style=\"display:none;\">\n",
              "        \n",
              "  <svg xmlns=\"http://www.w3.org/2000/svg\" height=\"24px\"viewBox=\"0 0 24 24\"\n",
              "       width=\"24px\">\n",
              "    <path d=\"M0 0h24v24H0V0z\" fill=\"none\"/>\n",
              "    <path d=\"M18.56 5.44l.94 2.06.94-2.06 2.06-.94-2.06-.94-.94-2.06-.94 2.06-2.06.94zm-11 1L8.5 8.5l.94-2.06 2.06-.94-2.06-.94L8.5 2.5l-.94 2.06-2.06.94zm10 10l.94 2.06.94-2.06 2.06-.94-2.06-.94-.94-2.06-.94 2.06-2.06.94z\"/><path d=\"M17.41 7.96l-1.37-1.37c-.4-.4-.92-.59-1.43-.59-.52 0-1.04.2-1.43.59L10.3 9.45l-7.72 7.72c-.78.78-.78 2.05 0 2.83L4 21.41c.39.39.9.59 1.41.59.51 0 1.02-.2 1.41-.59l7.78-7.78 2.81-2.81c.8-.78.8-2.07 0-2.86zM5.41 20L4 18.59l7.72-7.72 1.47 1.35L5.41 20z\"/>\n",
              "  </svg>\n",
              "      </button>\n",
              "      \n",
              "  <style>\n",
              "    .colab-df-container {\n",
              "      display:flex;\n",
              "      flex-wrap:wrap;\n",
              "      gap: 12px;\n",
              "    }\n",
              "\n",
              "    .colab-df-convert {\n",
              "      background-color: #E8F0FE;\n",
              "      border: none;\n",
              "      border-radius: 50%;\n",
              "      cursor: pointer;\n",
              "      display: none;\n",
              "      fill: #1967D2;\n",
              "      height: 32px;\n",
              "      padding: 0 0 0 0;\n",
              "      width: 32px;\n",
              "    }\n",
              "\n",
              "    .colab-df-convert:hover {\n",
              "      background-color: #E2EBFA;\n",
              "      box-shadow: 0px 1px 2px rgba(60, 64, 67, 0.3), 0px 1px 3px 1px rgba(60, 64, 67, 0.15);\n",
              "      fill: #174EA6;\n",
              "    }\n",
              "\n",
              "    [theme=dark] .colab-df-convert {\n",
              "      background-color: #3B4455;\n",
              "      fill: #D2E3FC;\n",
              "    }\n",
              "\n",
              "    [theme=dark] .colab-df-convert:hover {\n",
              "      background-color: #434B5C;\n",
              "      box-shadow: 0px 1px 3px 1px rgba(0, 0, 0, 0.15);\n",
              "      filter: drop-shadow(0px 1px 2px rgba(0, 0, 0, 0.3));\n",
              "      fill: #FFFFFF;\n",
              "    }\n",
              "  </style>\n",
              "\n",
              "      <script>\n",
              "        const buttonEl =\n",
              "          document.querySelector('#df-af93663e-105f-46af-a79e-591ee6552dc6 button.colab-df-convert');\n",
              "        buttonEl.style.display =\n",
              "          google.colab.kernel.accessAllowed ? 'block' : 'none';\n",
              "\n",
              "        async function convertToInteractive(key) {\n",
              "          const element = document.querySelector('#df-af93663e-105f-46af-a79e-591ee6552dc6');\n",
              "          const dataTable =\n",
              "            await google.colab.kernel.invokeFunction('convertToInteractive',\n",
              "                                                     [key], {});\n",
              "          if (!dataTable) return;\n",
              "\n",
              "          const docLinkHtml = 'Like what you see? Visit the ' +\n",
              "            '<a target=\"_blank\" href=https://colab.research.google.com/notebooks/data_table.ipynb>data table notebook</a>'\n",
              "            + ' to learn more about interactive tables.';\n",
              "          element.innerHTML = '';\n",
              "          dataTable['output_type'] = 'display_data';\n",
              "          await google.colab.output.renderOutput(dataTable, element);\n",
              "          const docLink = document.createElement('div');\n",
              "          docLink.innerHTML = docLinkHtml;\n",
              "          element.appendChild(docLink);\n",
              "        }\n",
              "      </script>\n",
              "    </div>\n",
              "  </div>\n",
              "  "
            ]
          },
          "metadata": {},
          "execution_count": 168
        }
      ]
    },
    {
      "cell_type": "code",
      "source": [
        " "
      ],
      "metadata": {
        "id": "EvDkvERh6TXG"
      },
      "execution_count": 168,
      "outputs": []
    },
    {
      "cell_type": "code",
      "source": [
        "features"
      ],
      "metadata": {
        "colab": {
          "base_uri": "https://localhost:8080/"
        },
        "id": "DwP5o5fzHZLY",
        "outputId": "9507d22e-ec3e-4966-f8e2-bd4f0c62d5a4"
      },
      "execution_count": 169,
      "outputs": [
        {
          "output_type": "execute_result",
          "data": {
            "text/plain": [
              "['Filename',\n",
              " 'White Circle Patch',\n",
              " 'Contrast',\n",
              " 'Black Patch',\n",
              " 'Biffercation',\n",
              " 'Termination',\n",
              " 'CID',\n",
              " 'OCL_STD2',\n",
              " 'LCS_STD2',\n",
              " 'OFL_STD2',\n",
              " 'RPS',\n",
              " 'FDA_STD2',\n",
              " 'RVU_STD2',\n",
              " 'GABOR_STD2',\n",
              " 'GABORSHEN',\n",
              " 'SIGMA',\n",
              " 'MEAN',\n",
              " 'OCL',\n",
              " 'LCS',\n",
              " 'OFL',\n",
              " 'FDA',\n",
              " 'GABOR',\n",
              " 'OCL_STD',\n",
              " 'LCS_STD',\n",
              " 'OFL_STD',\n",
              " 'FDA_STD',\n",
              " 'RVU',\n",
              " 'GABOR_STD']"
            ]
          },
          "metadata": {},
          "execution_count": 169
        }
      ]
    },
    {
      "cell_type": "code",
      "source": [],
      "metadata": {
        "id": "4C9Uh5I267G_"
      },
      "execution_count": 169,
      "outputs": []
    },
    {
      "cell_type": "code",
      "source": [],
      "metadata": {
        "id": "COsmiHxmHlgh"
      },
      "execution_count": 169,
      "outputs": []
    },
    {
      "cell_type": "code",
      "source": [
        "preds = clf.predict_proba(X_test)\n",
        "test_auc = roc_auc_score(y_score=preds[:,1], y_true=y_test)\n",
        "\n",
        "\n",
        "preds_valid = clf.predict_proba(X_test)\n",
        "valid_auc = roc_auc_score(y_score=preds_valid[:,1], y_true=y_test)\n",
        "\n",
        "print(f\"BEST VALID SCORE : {clf.best_cost}\")\n",
        "print(f\"FINAL TEST SCORE : {test_auc}\")"
      ],
      "metadata": {
        "colab": {
          "base_uri": "https://localhost:8080/"
        },
        "id": "K8urOmcs7E-4",
        "outputId": "97ecf67a-94c6-479d-b762-2c9b663c1405"
      },
      "execution_count": 170,
      "outputs": [
        {
          "output_type": "stream",
          "name": "stdout",
          "text": [
            "BEST VALID SCORE : 0.858970700152207\n",
            "FINAL TEST SCORE : 0.8552589885884809\n"
          ]
        }
      ]
    },
    {
      "cell_type": "code",
      "source": [],
      "metadata": {
        "id": "PJnFRUU87UUS"
      },
      "execution_count": 170,
      "outputs": []
    },
    {
      "cell_type": "code",
      "source": [
        "clf.predict(X_test)"
      ],
      "metadata": {
        "colab": {
          "base_uri": "https://localhost:8080/"
        },
        "id": "feh79dwu7b43",
        "outputId": "4760bb36-db1f-476d-e185-02518d336c18"
      },
      "execution_count": 171,
      "outputs": [
        {
          "output_type": "execute_result",
          "data": {
            "text/plain": [
              "array(['classOne', 'classOne', 'classOne', ..., 'classOne', 'classOne',\n",
              "       'classOne'], dtype='<U9')"
            ]
          },
          "metadata": {},
          "execution_count": 171
        }
      ]
    },
    {
      "cell_type": "code",
      "source": [
        "saving_path_name = \"./tabnet_model_test_1\"\n",
        "saved_filepath = clf.save_model(saving_path_name)"
      ],
      "metadata": {
        "colab": {
          "base_uri": "https://localhost:8080/"
        },
        "id": "KaWI68kP7eqL",
        "outputId": "20d191f1-d63a-4c39-df56-4eb16928b149"
      },
      "execution_count": 172,
      "outputs": [
        {
          "output_type": "stream",
          "name": "stdout",
          "text": [
            "Successfully saved model at ./tabnet_model_test_1.zip\n"
          ]
        }
      ]
    },
    {
      "cell_type": "code",
      "source": [
        "loaded_clf = TabNetClassifier()\n",
        "loaded_clf.load_model(saved_filepath)"
      ],
      "metadata": {
        "colab": {
          "base_uri": "https://localhost:8080/"
        },
        "id": "Pt6UA5nW7ujf",
        "outputId": "b7df9440-dae7-4ef5-de50-0dfc88ffe8c5"
      },
      "execution_count": 173,
      "outputs": [
        {
          "output_type": "stream",
          "name": "stdout",
          "text": [
            "Device used : cpu\n",
            "Device used : cpu\n"
          ]
        }
      ]
    },
    {
      "cell_type": "code",
      "source": [
        "loaded_preds = loaded_clf.predict_proba(X_test)\n",
        "loaded_test_auc = roc_auc_score(y_score=loaded_preds[:,1], y_true=y_test)\n",
        "\n",
        "print(f\"FINAL TEST SCORE  : {loaded_test_auc}\")"
      ],
      "metadata": {
        "colab": {
          "base_uri": "https://localhost:8080/"
        },
        "id": "C6OfxSxy7wsG",
        "outputId": "8622c234-8d04-4c62-bae9-26d016a718cb"
      },
      "execution_count": 174,
      "outputs": [
        {
          "output_type": "stream",
          "name": "stdout",
          "text": [
            "FINAL TEST SCORE  : 0.8552589885884809\n"
          ]
        }
      ]
    },
    {
      "cell_type": "code",
      "source": [
        "assert(test_auc == loaded_test_auc)"
      ],
      "metadata": {
        "id": "8zAKtR0y70PG"
      },
      "execution_count": 175,
      "outputs": []
    },
    {
      "cell_type": "code",
      "source": [
        "loaded_clf.predict(X_test)"
      ],
      "metadata": {
        "colab": {
          "base_uri": "https://localhost:8080/"
        },
        "id": "YCyXvKdb72Y5",
        "outputId": "9d51a740-c65c-4cac-d909-b3ced993bf79"
      },
      "execution_count": 176,
      "outputs": [
        {
          "output_type": "execute_result",
          "data": {
            "text/plain": [
              "array(['classOne', 'classOne', 'classOne', ..., 'classOne', 'classOne',\n",
              "       'classOne'], dtype='<U9')"
            ]
          },
          "metadata": {},
          "execution_count": 176
        }
      ]
    },
    {
      "cell_type": "code",
      "source": [
        "clf.feature_importances_"
      ],
      "metadata": {
        "colab": {
          "base_uri": "https://localhost:8080/"
        },
        "id": "HzyI7uxK74dK",
        "outputId": "44f50618-be0a-4183-90ab-21ddb4787623"
      },
      "execution_count": 177,
      "outputs": [
        {
          "output_type": "execute_result",
          "data": {
            "text/plain": [
              "array([0.0071091 , 0.0186421 , 0.02808577, 0.01931728, 0.12106708,\n",
              "       0.13634411, 0.12288682, 0.02417064, 0.00870137, 0.00562063,\n",
              "       0.10363085, 0.00449328, 0.02731722, 0.0107096 , 0.00143972,\n",
              "       0.14135471, 0.00417383, 0.02039137, 0.0106414 , 0.02654638,\n",
              "       0.04617219, 0.02527696, 0.00903196, 0.03480468, 0.0028464 ,\n",
              "       0.00827492, 0.00096308, 0.02998654])"
            ]
          },
          "metadata": {},
          "execution_count": 177
        }
      ]
    },
    {
      "cell_type": "code",
      "source": [
        "explain_matrix, masks = clf.explain(X_test)"
      ],
      "metadata": {
        "id": "dCXNPfsO7638"
      },
      "execution_count": 178,
      "outputs": []
    },
    {
      "cell_type": "code",
      "source": [
        "fig, axs = plt.subplots(1, 3, figsize=(20,20))\n",
        "\n",
        "for i in range(3):\n",
        "    axs[i].imshow(masks[i][:50])\n",
        "    axs[i].set_title(f\"mask {i}\")"
      ],
      "metadata": {
        "colab": {
          "base_uri": "https://localhost:8080/",
          "height": 489
        },
        "id": "pBNO1IGq79Sj",
        "outputId": "e50fdf72-7441-489a-e10d-77a3120aad57"
      },
      "execution_count": 179,
      "outputs": [
        {
          "output_type": "display_data",
          "data": {
            "text/plain": [
              "<Figure size 1440x1440 with 3 Axes>"
            ],
            "image/png": "[encoded data removed]"
          },
          "metadata": {
            "needs_background": "light"
          }
        }
      ]
    },
    {
      "cell_type": "code",
      "source": [],
      "metadata": {
        "id": "vKlWwxTl7_s_"
      },
      "execution_count": 179,
      "outputs": []
    }
  ]
}