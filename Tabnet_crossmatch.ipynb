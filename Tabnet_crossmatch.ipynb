{
  "nbformat": 4,
  "nbformat_minor": 0,
  "metadata": {
    "colab": {
      "provenance": [],
      "collapsed_sections": []
    },
    "kernelspec": {
      "name": "python3",
      "display_name": "Python 3"
    },
    "language_info": {
      "name": "python"
    }
  },
  "cells": [
    {
      "cell_type": "code",
      "source": [
        "!pip install pytorch_tabnet"
      ],
      "metadata": {
        "colab": {
          "base_uri": "https://localhost:8080/"
        },
        "id": "OiyFaE7N8TCf",
        "outputId": "1316405b-cf0a-4497-82f4-0e31238df826"
      },
      "execution_count": 330,
      "outputs": [
        {
          "output_type": "stream",
          "name": "stdout",
          "text": [
            "Looking in indexes: https://pypi.org/simple, https://us-python.pkg.dev/colab-wheels/public/simple/\n",
            "Requirement already satisfied: pytorch_tabnet in /usr/local/lib/python3.7/dist-packages (4.0)\n",
            "Requirement already satisfied: scipy>1.4 in /usr/local/lib/python3.7/dist-packages (from pytorch_tabnet) (1.7.3)\n",
            "Requirement already satisfied: tqdm<5.0,>=4.36 in /usr/local/lib/python3.7/dist-packages (from pytorch_tabnet) (4.64.1)\n",
            "Requirement already satisfied: scikit_learn>0.21 in /usr/local/lib/python3.7/dist-packages (from pytorch_tabnet) (1.0.2)\n",
            "Requirement already satisfied: torch<2.0,>=1.2 in /usr/local/lib/python3.7/dist-packages (from pytorch_tabnet) (1.12.1+cu113)\n",
            "Requirement already satisfied: numpy<2.0,>=1.17 in /usr/local/lib/python3.7/dist-packages (from pytorch_tabnet) (1.21.6)\n",
            "Requirement already satisfied: threadpoolctl>=2.0.0 in /usr/local/lib/python3.7/dist-packages (from scikit_learn>0.21->pytorch_tabnet) (3.1.0)\n",
            "Requirement already satisfied: joblib>=0.11 in /usr/local/lib/python3.7/dist-packages (from scikit_learn>0.21->pytorch_tabnet) (1.1.0)\n",
            "Requirement already satisfied: typing-extensions in /usr/local/lib/python3.7/dist-packages (from torch<2.0,>=1.2->pytorch_tabnet) (4.1.1)\n"
          ]
        }
      ]
    },
    {
      "cell_type": "code",
      "execution_count": 331,
      "metadata": {
        "id": "ZJwJacy7nIzo"
      },
      "outputs": [],
      "source": [
        "from pytorch_tabnet.tab_model import TabNetClassifier\n",
        "\n",
        "import torch\n",
        "from sklearn.preprocessing import LabelEncoder\n",
        "from sklearn.metrics import roc_auc_score\n",
        "from pytorch_tabnet.utils import define_device\n",
        "import pandas as pd\n",
        "import numpy as np\n",
        "np.random.seed(0)\n",
        "\n",
        "\n",
        "import os\n",
        "\n",
        "from pathlib import Path\n",
        "\n",
        "from matplotlib import pyplot as plt\n",
        "%matplotlib inline"
      ]
    },
    {
      "cell_type": "code",
      "source": [
        "train = pd.read_csv('/content/drive/MyDrive/CSV/Training_Crossmatch.csv')\n"
      ],
      "metadata": {
        "id": "b9JSqtGCoTwH"
      },
      "execution_count": 332,
      "outputs": []
    },
    {
      "cell_type": "code",
      "source": [
        "from google.colab import drive\n",
        "drive.mount('/content/drive')"
      ],
      "metadata": {
        "colab": {
          "base_uri": "https://localhost:8080/"
        },
        "id": "qJIaEvd38cKz",
        "outputId": "fcd858df-aea2-4d5b-bc57-d11de098d6a5"
      },
      "execution_count": 333,
      "outputs": [
        {
          "output_type": "stream",
          "name": "stdout",
          "text": [
            "Drive already mounted at /content/drive; to attempt to forcibly remount, call drive.mount(\"/content/drive\", force_remount=True).\n"
          ]
        }
      ]
    },
    {
      "cell_type": "code",
      "source": [
        "test = pd.read_csv('/content/drive/MyDrive/CSV/TestingCrossmatch.csv')"
      ],
      "metadata": {
        "id": "qevDo0NPARUr"
      },
      "execution_count": 334,
      "outputs": []
    },
    {
      "cell_type": "code",
      "source": [
        "train.head()"
      ],
      "metadata": {
        "colab": {
          "base_uri": "https://localhost:8080/",
          "height": 334
        },
        "id": "lchommZCoZ2F",
        "outputId": "d2fc2c49-7f07-4429-eacd-90c41c6df2f6"
      },
      "execution_count": 335,
      "outputs": [
        {
          "output_type": "execute_result",
          "data": {
            "text/plain": [
              "                                            Filename  White Circular Patch  \\\n",
              "0  C:\\Users\\ASHUTOSH\\Downloads\\FingerPrint\\LivDet...               30776.0   \n",
              "1  C:\\Users\\ASHUTOSH\\Downloads\\FingerPrint\\LivDet...               40066.5   \n",
              "2  C:\\Users\\ASHUTOSH\\Downloads\\FingerPrint\\LivDet...               49524.0   \n",
              "3  C:\\Users\\ASHUTOSH\\Downloads\\FingerPrint\\LivDet...               10324.0   \n",
              "4  C:\\Users\\ASHUTOSH\\Downloads\\FingerPrint\\LivDet...               11792.0   \n",
              "\n",
              "   Contrast  Black Patch  Biffurcation  Termination         CID  Class  \\\n",
              "0  0.010333     0.999772          3804          333  107.771544      1   \n",
              "1  0.003752     0.999955          5288          616  156.874296      1   \n",
              "2  0.004532     0.999884          4861          361  218.001356      1   \n",
              "3  0.047750     0.998029          1661          337  212.954369      1   \n",
              "4  0.029279     0.999124          2026          347  181.324385      1   \n",
              "\n",
              "    OCL_STD   LCS_STD  ...       LCS       OFL       FDA     GABOR  OCL_STD2  \\\n",
              "0  0.183448  0.321274  ...  0.548794  0.613218  0.616894  0.125473  0.132002   \n",
              "1  0.149823  0.288940  ...  0.549479  0.577886  0.515961  0.151181  0.125693   \n",
              "2  0.157811  0.320884  ...  0.501499  0.532120  0.626022  0.130306  0.118022   \n",
              "3  0.143613  0.323289  ...  0.519335  0.341780  0.591813  0.066328  0.097421   \n",
              "4  0.163183  0.324478  ...  0.511962  0.477842  0.595702  0.074459  0.149858   \n",
              "\n",
              "   LCS_STD2  OFL_STD2  FDA_STD2  RVU_STD2  GABOR_STD2  \n",
              "0  0.325032  0.041322  0.355333  0.208121    0.006742  \n",
              "1  0.246866  0.056600  0.320952  0.221123    0.008132  \n",
              "2  0.269136  0.065313  0.317784  0.267345    0.007559  \n",
              "3  0.292708  0.045235  0.315834  0.116780    0.003814  \n",
              "4  0.316726  0.039893  0.328637  0.120669    0.004112  \n",
              "\n",
              "[5 rows x 29 columns]"
            ],
            "text/html": [
              "\n",
              "  <div id=\"df-1be20f53-1fb6-4675-a073-c9996efc050e\">\n",
              "    <div class=\"colab-df-container\">\n",
              "      <div>\n",
              "<style scoped>\n",
              "    .dataframe tbody tr th:only-of-type {\n",
              "        vertical-align: middle;\n",
              "    }\n",
              "\n",
              "    .dataframe tbody tr th {\n",
              "        vertical-align: top;\n",
              "    }\n",
              "\n",
              "    .dataframe thead th {\n",
              "        text-align: right;\n",
              "    }\n",
              "</style>\n",
              "<table border=\"1\" class=\"dataframe\">\n",
              "  <thead>\n",
              "    <tr style=\"text-align: right;\">\n",
              "      <th></th>\n",
              "      <th>Filename</th>\n",
              "      <th>White Circular Patch</th>\n",
              "      <th>Contrast</th>\n",
              "      <th>Black Patch</th>\n",
              "      <th>Biffurcation</th>\n",
              "      <th>Termination</th>\n",
              "      <th>CID</th>\n",
              "      <th>Class</th>\n",
              "      <th>OCL_STD</th>\n",
              "      <th>LCS_STD</th>\n",
              "      <th>...</th>\n",
              "      <th>LCS</th>\n",
              "      <th>OFL</th>\n",
              "      <th>FDA</th>\n",
              "      <th>GABOR</th>\n",
              "      <th>OCL_STD2</th>\n",
              "      <th>LCS_STD2</th>\n",
              "      <th>OFL_STD2</th>\n",
              "      <th>FDA_STD2</th>\n",
              "      <th>RVU_STD2</th>\n",
              "      <th>GABOR_STD2</th>\n",
              "    </tr>\n",
              "  </thead>\n",
              "  <tbody>\n",
              "    <tr>\n",
              "      <th>0</th>\n",
              "      <td>C:\\Users\\ASHUTOSH\\Downloads\\FingerPrint\\LivDet...</td>\n",
              "      <td>30776.0</td>\n",
              "      <td>0.010333</td>\n",
              "      <td>0.999772</td>\n",
              "      <td>3804</td>\n",
              "      <td>333</td>\n",
              "      <td>107.771544</td>\n",
              "      <td>1</td>\n",
              "      <td>0.183448</td>\n",
              "      <td>0.321274</td>\n",
              "      <td>...</td>\n",
              "      <td>0.548794</td>\n",
              "      <td>0.613218</td>\n",
              "      <td>0.616894</td>\n",
              "      <td>0.125473</td>\n",
              "      <td>0.132002</td>\n",
              "      <td>0.325032</td>\n",
              "      <td>0.041322</td>\n",
              "      <td>0.355333</td>\n",
              "      <td>0.208121</td>\n",
              "      <td>0.006742</td>\n",
              "    </tr>\n",
              "    <tr>\n",
              "      <th>1</th>\n",
              "      <td>C:\\Users\\ASHUTOSH\\Downloads\\FingerPrint\\LivDet...</td>\n",
              "      <td>40066.5</td>\n",
              "      <td>0.003752</td>\n",
              "      <td>0.999955</td>\n",
              "      <td>5288</td>\n",
              "      <td>616</td>\n",
              "      <td>156.874296</td>\n",
              "      <td>1</td>\n",
              "      <td>0.149823</td>\n",
              "      <td>0.288940</td>\n",
              "      <td>...</td>\n",
              "      <td>0.549479</td>\n",
              "      <td>0.577886</td>\n",
              "      <td>0.515961</td>\n",
              "      <td>0.151181</td>\n",
              "      <td>0.125693</td>\n",
              "      <td>0.246866</td>\n",
              "      <td>0.056600</td>\n",
              "      <td>0.320952</td>\n",
              "      <td>0.221123</td>\n",
              "      <td>0.008132</td>\n",
              "    </tr>\n",
              "    <tr>\n",
              "      <th>2</th>\n",
              "      <td>C:\\Users\\ASHUTOSH\\Downloads\\FingerPrint\\LivDet...</td>\n",
              "      <td>49524.0</td>\n",
              "      <td>0.004532</td>\n",
              "      <td>0.999884</td>\n",
              "      <td>4861</td>\n",
              "      <td>361</td>\n",
              "      <td>218.001356</td>\n",
              "      <td>1</td>\n",
              "      <td>0.157811</td>\n",
              "      <td>0.320884</td>\n",
              "      <td>...</td>\n",
              "      <td>0.501499</td>\n",
              "      <td>0.532120</td>\n",
              "      <td>0.626022</td>\n",
              "      <td>0.130306</td>\n",
              "      <td>0.118022</td>\n",
              "      <td>0.269136</td>\n",
              "      <td>0.065313</td>\n",
              "      <td>0.317784</td>\n",
              "      <td>0.267345</td>\n",
              "      <td>0.007559</td>\n",
              "    </tr>\n",
              "    <tr>\n",
              "      <th>3</th>\n",
              "      <td>C:\\Users\\ASHUTOSH\\Downloads\\FingerPrint\\LivDet...</td>\n",
              "      <td>10324.0</td>\n",
              "      <td>0.047750</td>\n",
              "      <td>0.998029</td>\n",
              "      <td>1661</td>\n",
              "      <td>337</td>\n",
              "      <td>212.954369</td>\n",
              "      <td>1</td>\n",
              "      <td>0.143613</td>\n",
              "      <td>0.323289</td>\n",
              "      <td>...</td>\n",
              "      <td>0.519335</td>\n",
              "      <td>0.341780</td>\n",
              "      <td>0.591813</td>\n",
              "      <td>0.066328</td>\n",
              "      <td>0.097421</td>\n",
              "      <td>0.292708</td>\n",
              "      <td>0.045235</td>\n",
              "      <td>0.315834</td>\n",
              "      <td>0.116780</td>\n",
              "      <td>0.003814</td>\n",
              "    </tr>\n",
              "    <tr>\n",
              "      <th>4</th>\n",
              "      <td>C:\\Users\\ASHUTOSH\\Downloads\\FingerPrint\\LivDet...</td>\n",
              "      <td>11792.0</td>\n",
              "      <td>0.029279</td>\n",
              "      <td>0.999124</td>\n",
              "      <td>2026</td>\n",
              "      <td>347</td>\n",
              "      <td>181.324385</td>\n",
              "      <td>1</td>\n",
              "      <td>0.163183</td>\n",
              "      <td>0.324478</td>\n",
              "      <td>...</td>\n",
              "      <td>0.511962</td>\n",
              "      <td>0.477842</td>\n",
              "      <td>0.595702</td>\n",
              "      <td>0.074459</td>\n",
              "      <td>0.149858</td>\n",
              "      <td>0.316726</td>\n",
              "      <td>0.039893</td>\n",
              "      <td>0.328637</td>\n",
              "      <td>0.120669</td>\n",
              "      <td>0.004112</td>\n",
              "    </tr>\n",
              "  </tbody>\n",
              "</table>\n",
              "<p>5 rows × 29 columns</p>\n",
              "</div>\n",
              "      <button class=\"colab-df-convert\" onclick=\"convertToInteractive('df-1be20f53-1fb6-4675-a073-c9996efc050e')\"\n",
              "              title=\"Convert this dataframe to an interactive table.\"\n",
              "              style=\"display:none;\">\n",
              "        \n",
              "  <svg xmlns=\"http://www.w3.org/2000/svg\" height=\"24px\"viewBox=\"0 0 24 24\"\n",
              "       width=\"24px\">\n",
              "    <path d=\"M0 0h24v24H0V0z\" fill=\"none\"/>\n",
              "    <path d=\"M18.56 5.44l.94 2.06.94-2.06 2.06-.94-2.06-.94-.94-2.06-.94 2.06-2.06.94zm-11 1L8.5 8.5l.94-2.06 2.06-.94-2.06-.94L8.5 2.5l-.94 2.06-2.06.94zm10 10l.94 2.06.94-2.06 2.06-.94-2.06-.94-.94-2.06-.94 2.06-2.06.94z\"/><path d=\"M17.41 7.96l-1.37-1.37c-.4-.4-.92-.59-1.43-.59-.52 0-1.04.2-1.43.59L10.3 9.45l-7.72 7.72c-.78.78-.78 2.05 0 2.83L4 21.41c.39.39.9.59 1.41.59.51 0 1.02-.2 1.41-.59l7.78-7.78 2.81-2.81c.8-.78.8-2.07 0-2.86zM5.41 20L4 18.59l7.72-7.72 1.47 1.35L5.41 20z\"/>\n",
              "  </svg>\n",
              "      </button>\n",
              "      \n",
              "  <style>\n",
              "    .colab-df-container {\n",
              "      display:flex;\n",
              "      flex-wrap:wrap;\n",
              "      gap: 12px;\n",
              "    }\n",
              "\n",
              "    .colab-df-convert {\n",
              "      background-color: #E8F0FE;\n",
              "      border: none;\n",
              "      border-radius: 50%;\n",
              "      cursor: pointer;\n",
              "      display: none;\n",
              "      fill: #1967D2;\n",
              "      height: 32px;\n",
              "      padding: 0 0 0 0;\n",
              "      width: 32px;\n",
              "    }\n",
              "\n",
              "    .colab-df-convert:hover {\n",
              "      background-color: #E2EBFA;\n",
              "      box-shadow: 0px 1px 2px rgba(60, 64, 67, 0.3), 0px 1px 3px 1px rgba(60, 64, 67, 0.15);\n",
              "      fill: #174EA6;\n",
              "    }\n",
              "\n",
              "    [theme=dark] .colab-df-convert {\n",
              "      background-color: #3B4455;\n",
              "      fill: #D2E3FC;\n",
              "    }\n",
              "\n",
              "    [theme=dark] .colab-df-convert:hover {\n",
              "      background-color: #434B5C;\n",
              "      box-shadow: 0px 1px 3px 1px rgba(0, 0, 0, 0.15);\n",
              "      filter: drop-shadow(0px 1px 2px rgba(0, 0, 0, 0.3));\n",
              "      fill: #FFFFFF;\n",
              "    }\n",
              "  </style>\n",
              "\n",
              "      <script>\n",
              "        const buttonEl =\n",
              "          document.querySelector('#df-1be20f53-1fb6-4675-a073-c9996efc050e button.colab-df-convert');\n",
              "        buttonEl.style.display =\n",
              "          google.colab.kernel.accessAllowed ? 'block' : 'none';\n",
              "\n",
              "        async function convertToInteractive(key) {\n",
              "          const element = document.querySelector('#df-1be20f53-1fb6-4675-a073-c9996efc050e');\n",
              "          const dataTable =\n",
              "            await google.colab.kernel.invokeFunction('convertToInteractive',\n",
              "                                                     [key], {});\n",
              "          if (!dataTable) return;\n",
              "\n",
              "          const docLinkHtml = 'Like what you see? Visit the ' +\n",
              "            '<a target=\"_blank\" href=https://colab.research.google.com/notebooks/data_table.ipynb>data table notebook</a>'\n",
              "            + ' to learn more about interactive tables.';\n",
              "          element.innerHTML = '';\n",
              "          dataTable['output_type'] = 'display_data';\n",
              "          await google.colab.output.renderOutput(dataTable, element);\n",
              "          const docLink = document.createElement('div');\n",
              "          docLink.innerHTML = docLinkHtml;\n",
              "          element.appendChild(docLink);\n",
              "        }\n",
              "      </script>\n",
              "    </div>\n",
              "  </div>\n",
              "  "
            ]
          },
          "metadata": {},
          "execution_count": 335
        }
      ]
    },
    {
      "cell_type": "code",
      "source": [
        "target = 'Class'\n",
        "if \"Set\"  in train.columns:\n",
        "    train.drop([\"Set\"], axis = 1)\n",
        "train[\"Set\"] = np.random.choice([\"train\", \"valid\"], p =[.8, .2], size=(train.shape[0],))    \n",
        "train_indices = train[train.Set==\"train\"].index\n",
        "valid_indices = train[train.Set==\"valid\"].index"
      ],
      "metadata": {
        "id": "SOHtvsFdrjzU"
      },
      "execution_count": 336,
      "outputs": []
    },
    {
      "cell_type": "code",
      "source": [
        "train[\"Set\"]"
      ],
      "metadata": {
        "colab": {
          "base_uri": "https://localhost:8080/"
        },
        "id": "9Rd5izXOKeTz",
        "outputId": "eaa7f3d8-db02-4226-b157-fc1148c89eee"
      },
      "execution_count": 337,
      "outputs": [
        {
          "output_type": "execute_result",
          "data": {
            "text/plain": [
              "0       train\n",
              "1       train\n",
              "2       train\n",
              "3       train\n",
              "4       train\n",
              "        ...  \n",
              "2972    train\n",
              "2973    train\n",
              "2974    train\n",
              "2975    train\n",
              "2976    train\n",
              "Name: Set, Length: 2977, dtype: object"
            ]
          },
          "metadata": {},
          "execution_count": 337
        }
      ]
    },
    {
      "cell_type": "code",
      "source": [
        "nunique = train.nunique()\n",
        "types = train.dtypes\n",
        "\n",
        "categorical_columns = []\n",
        "categorical_dims =  {}\n",
        "for col in train.columns:\n",
        "    if types[col] == 'object' or nunique[col] < 200:\n",
        "        print(col, train[col].nunique())\n",
        "        l_enc = LabelEncoder()\n",
        "        train[col] = train[col].fillna(\"VV_likely\")\n",
        "        train[col] = l_enc.fit_transform(train[col].values)\n",
        "        categorical_columns.append(col)\n",
        "        categorical_dims[col] = len(l_enc.classes_)\n",
        "    else:\n",
        "        train.fillna(train.loc[train_indices, col].mean(), inplace=True)"
      ],
      "metadata": {
        "colab": {
          "base_uri": "https://localhost:8080/"
        },
        "id": "z0J-nfTvtL4v",
        "outputId": "87ff8430-3413-4016-eafb-bdce83975433"
      },
      "execution_count": 338,
      "outputs": [
        {
          "output_type": "stream",
          "name": "stdout",
          "text": [
            "Filename 2977\n",
            "Class 2\n",
            "Set 2\n"
          ]
        }
      ]
    },
    {
      "cell_type": "code",
      "source": [
        "categorical_columns"
      ],
      "metadata": {
        "colab": {
          "base_uri": "https://localhost:8080/"
        },
        "id": "BqzxNP9iIJ2f",
        "outputId": "94f4c4bc-ccaf-4df8-d5aa-709111d95ddc"
      },
      "execution_count": 339,
      "outputs": [
        {
          "output_type": "execute_result",
          "data": {
            "text/plain": [
              "['Filename', 'Class', 'Set']"
            ]
          },
          "metadata": {},
          "execution_count": 339
        }
      ]
    },
    {
      "cell_type": "code",
      "source": [
        "test.head()"
      ],
      "metadata": {
        "colab": {
          "base_uri": "https://localhost:8080/",
          "height": 334
        },
        "id": "b8EAUWLmKoM0",
        "outputId": "647f0d16-2cc7-4890-d768-27c98122d696"
      },
      "execution_count": 340,
      "outputs": [
        {
          "output_type": "execute_result",
          "data": {
            "text/plain": [
              "                                            Filename  White Circle Patch  \\\n",
              "0  I:\\LivDet\\LivDet2015\\Testing\\CrossMatch\\Live\\0...              5292.0   \n",
              "1  I:\\LivDet\\LivDet2015\\Testing\\CrossMatch\\Live\\0...              4175.5   \n",
              "2  I:\\LivDet\\LivDet2015\\Testing\\CrossMatch\\Live\\0...              5829.0   \n",
              "3  I:\\LivDet\\LivDet2015\\Testing\\CrossMatch\\Live\\0...              3193.5   \n",
              "4  I:\\LivDet\\LivDet2015\\Testing\\CrossMatch\\Live\\0...              3132.0   \n",
              "\n",
              "   Contrast  Black Patch  Biffercation  Termination         CID  Class  \\\n",
              "0  0.166200     0.976471          1509          403  332.053514      1   \n",
              "1  0.098199     0.989966          1339          453  265.142266      1   \n",
              "2  0.054095     0.996549          1679          472  293.976355      1   \n",
              "3  0.024822     0.998801          1902          340  289.341544      1   \n",
              "4  0.129463     0.985666          1132          296  314.832926      1   \n",
              "\n",
              "    OCL_STD   LCS_STD  ...       LCS       OFL       FDA     GABOR  OCL_STD2  \\\n",
              "0  0.082090  0.160900  ...  0.816128  0.668878  0.450442  0.659029  0.053521   \n",
              "1  0.075764  0.141661  ...  0.818791  0.656728  0.420273  0.581228  0.052430   \n",
              "2  0.096840  0.210623  ...  0.782909  0.672784  0.417944  0.529954  0.046736   \n",
              "3  0.119394  0.230169  ...  0.761932  0.709769  0.400578  0.283677  0.063880   \n",
              "4  0.129622  0.254241  ...  0.756784  0.732113  0.436506  0.339123  0.079128   \n",
              "\n",
              "   LCS_STD2  OFL_STD2  FDA_STD2  RVU_STD2  GABOR_STD2  \n",
              "0  0.092457  0.058338  0.082080  0.097579    0.018765  \n",
              "1  0.076413  0.052317  0.084231  0.067239    0.017077  \n",
              "2  0.119511  0.051440  0.077678  0.067060    0.015679  \n",
              "3  0.145236  0.038813  0.079486  0.053488    0.010148  \n",
              "4  0.228858  0.031483  0.107797  0.045660    0.011812  \n",
              "\n",
              "[5 rows x 29 columns]"
            ],
            "text/html": [
              "\n",
              "  <div id=\"df-56220ea2-8431-4efc-8361-1856ccbf8b1c\">\n",
              "    <div class=\"colab-df-container\">\n",
              "      <div>\n",
              "<style scoped>\n",
              "    .dataframe tbody tr th:only-of-type {\n",
              "        vertical-align: middle;\n",
              "    }\n",
              "\n",
              "    .dataframe tbody tr th {\n",
              "        vertical-align: top;\n",
              "    }\n",
              "\n",
              "    .dataframe thead th {\n",
              "        text-align: right;\n",
              "    }\n",
              "</style>\n",
              "<table border=\"1\" class=\"dataframe\">\n",
              "  <thead>\n",
              "    <tr style=\"text-align: right;\">\n",
              "      <th></th>\n",
              "      <th>Filename</th>\n",
              "      <th>White Circle Patch</th>\n",
              "      <th>Contrast</th>\n",
              "      <th>Black Patch</th>\n",
              "      <th>Biffercation</th>\n",
              "      <th>Termination</th>\n",
              "      <th>CID</th>\n",
              "      <th>Class</th>\n",
              "      <th>OCL_STD</th>\n",
              "      <th>LCS_STD</th>\n",
              "      <th>...</th>\n",
              "      <th>LCS</th>\n",
              "      <th>OFL</th>\n",
              "      <th>FDA</th>\n",
              "      <th>GABOR</th>\n",
              "      <th>OCL_STD2</th>\n",
              "      <th>LCS_STD2</th>\n",
              "      <th>OFL_STD2</th>\n",
              "      <th>FDA_STD2</th>\n",
              "      <th>RVU_STD2</th>\n",
              "      <th>GABOR_STD2</th>\n",
              "    </tr>\n",
              "  </thead>\n",
              "  <tbody>\n",
              "    <tr>\n",
              "      <th>0</th>\n",
              "      <td>I:\\LivDet\\LivDet2015\\Testing\\CrossMatch\\Live\\0...</td>\n",
              "      <td>5292.0</td>\n",
              "      <td>0.166200</td>\n",
              "      <td>0.976471</td>\n",
              "      <td>1509</td>\n",
              "      <td>403</td>\n",
              "      <td>332.053514</td>\n",
              "      <td>1</td>\n",
              "      <td>0.082090</td>\n",
              "      <td>0.160900</td>\n",
              "      <td>...</td>\n",
              "      <td>0.816128</td>\n",
              "      <td>0.668878</td>\n",
              "      <td>0.450442</td>\n",
              "      <td>0.659029</td>\n",
              "      <td>0.053521</td>\n",
              "      <td>0.092457</td>\n",
              "      <td>0.058338</td>\n",
              "      <td>0.082080</td>\n",
              "      <td>0.097579</td>\n",
              "      <td>0.018765</td>\n",
              "    </tr>\n",
              "    <tr>\n",
              "      <th>1</th>\n",
              "      <td>I:\\LivDet\\LivDet2015\\Testing\\CrossMatch\\Live\\0...</td>\n",
              "      <td>4175.5</td>\n",
              "      <td>0.098199</td>\n",
              "      <td>0.989966</td>\n",
              "      <td>1339</td>\n",
              "      <td>453</td>\n",
              "      <td>265.142266</td>\n",
              "      <td>1</td>\n",
              "      <td>0.075764</td>\n",
              "      <td>0.141661</td>\n",
              "      <td>...</td>\n",
              "      <td>0.818791</td>\n",
              "      <td>0.656728</td>\n",
              "      <td>0.420273</td>\n",
              "      <td>0.581228</td>\n",
              "      <td>0.052430</td>\n",
              "      <td>0.076413</td>\n",
              "      <td>0.052317</td>\n",
              "      <td>0.084231</td>\n",
              "      <td>0.067239</td>\n",
              "      <td>0.017077</td>\n",
              "    </tr>\n",
              "    <tr>\n",
              "      <th>2</th>\n",
              "      <td>I:\\LivDet\\LivDet2015\\Testing\\CrossMatch\\Live\\0...</td>\n",
              "      <td>5829.0</td>\n",
              "      <td>0.054095</td>\n",
              "      <td>0.996549</td>\n",
              "      <td>1679</td>\n",
              "      <td>472</td>\n",
              "      <td>293.976355</td>\n",
              "      <td>1</td>\n",
              "      <td>0.096840</td>\n",
              "      <td>0.210623</td>\n",
              "      <td>...</td>\n",
              "      <td>0.782909</td>\n",
              "      <td>0.672784</td>\n",
              "      <td>0.417944</td>\n",
              "      <td>0.529954</td>\n",
              "      <td>0.046736</td>\n",
              "      <td>0.119511</td>\n",
              "      <td>0.051440</td>\n",
              "      <td>0.077678</td>\n",
              "      <td>0.067060</td>\n",
              "      <td>0.015679</td>\n",
              "    </tr>\n",
              "    <tr>\n",
              "      <th>3</th>\n",
              "      <td>I:\\LivDet\\LivDet2015\\Testing\\CrossMatch\\Live\\0...</td>\n",
              "      <td>3193.5</td>\n",
              "      <td>0.024822</td>\n",
              "      <td>0.998801</td>\n",
              "      <td>1902</td>\n",
              "      <td>340</td>\n",
              "      <td>289.341544</td>\n",
              "      <td>1</td>\n",
              "      <td>0.119394</td>\n",
              "      <td>0.230169</td>\n",
              "      <td>...</td>\n",
              "      <td>0.761932</td>\n",
              "      <td>0.709769</td>\n",
              "      <td>0.400578</td>\n",
              "      <td>0.283677</td>\n",
              "      <td>0.063880</td>\n",
              "      <td>0.145236</td>\n",
              "      <td>0.038813</td>\n",
              "      <td>0.079486</td>\n",
              "      <td>0.053488</td>\n",
              "      <td>0.010148</td>\n",
              "    </tr>\n",
              "    <tr>\n",
              "      <th>4</th>\n",
              "      <td>I:\\LivDet\\LivDet2015\\Testing\\CrossMatch\\Live\\0...</td>\n",
              "      <td>3132.0</td>\n",
              "      <td>0.129463</td>\n",
              "      <td>0.985666</td>\n",
              "      <td>1132</td>\n",
              "      <td>296</td>\n",
              "      <td>314.832926</td>\n",
              "      <td>1</td>\n",
              "      <td>0.129622</td>\n",
              "      <td>0.254241</td>\n",
              "      <td>...</td>\n",
              "      <td>0.756784</td>\n",
              "      <td>0.732113</td>\n",
              "      <td>0.436506</td>\n",
              "      <td>0.339123</td>\n",
              "      <td>0.079128</td>\n",
              "      <td>0.228858</td>\n",
              "      <td>0.031483</td>\n",
              "      <td>0.107797</td>\n",
              "      <td>0.045660</td>\n",
              "      <td>0.011812</td>\n",
              "    </tr>\n",
              "  </tbody>\n",
              "</table>\n",
              "<p>5 rows × 29 columns</p>\n",
              "</div>\n",
              "      <button class=\"colab-df-convert\" onclick=\"convertToInteractive('df-56220ea2-8431-4efc-8361-1856ccbf8b1c')\"\n",
              "              title=\"Convert this dataframe to an interactive table.\"\n",
              "              style=\"display:none;\">\n",
              "        \n",
              "  <svg xmlns=\"http://www.w3.org/2000/svg\" height=\"24px\"viewBox=\"0 0 24 24\"\n",
              "       width=\"24px\">\n",
              "    <path d=\"M0 0h24v24H0V0z\" fill=\"none\"/>\n",
              "    <path d=\"M18.56 5.44l.94 2.06.94-2.06 2.06-.94-2.06-.94-.94-2.06-.94 2.06-2.06.94zm-11 1L8.5 8.5l.94-2.06 2.06-.94-2.06-.94L8.5 2.5l-.94 2.06-2.06.94zm10 10l.94 2.06.94-2.06 2.06-.94-2.06-.94-.94-2.06-.94 2.06-2.06.94z\"/><path d=\"M17.41 7.96l-1.37-1.37c-.4-.4-.92-.59-1.43-.59-.52 0-1.04.2-1.43.59L10.3 9.45l-7.72 7.72c-.78.78-.78 2.05 0 2.83L4 21.41c.39.39.9.59 1.41.59.51 0 1.02-.2 1.41-.59l7.78-7.78 2.81-2.81c.8-.78.8-2.07 0-2.86zM5.41 20L4 18.59l7.72-7.72 1.47 1.35L5.41 20z\"/>\n",
              "  </svg>\n",
              "      </button>\n",
              "      \n",
              "  <style>\n",
              "    .colab-df-container {\n",
              "      display:flex;\n",
              "      flex-wrap:wrap;\n",
              "      gap: 12px;\n",
              "    }\n",
              "\n",
              "    .colab-df-convert {\n",
              "      background-color: #E8F0FE;\n",
              "      border: none;\n",
              "      border-radius: 50%;\n",
              "      cursor: pointer;\n",
              "      display: none;\n",
              "      fill: #1967D2;\n",
              "      height: 32px;\n",
              "      padding: 0 0 0 0;\n",
              "      width: 32px;\n",
              "    }\n",
              "\n",
              "    .colab-df-convert:hover {\n",
              "      background-color: #E2EBFA;\n",
              "      box-shadow: 0px 1px 2px rgba(60, 64, 67, 0.3), 0px 1px 3px 1px rgba(60, 64, 67, 0.15);\n",
              "      fill: #174EA6;\n",
              "    }\n",
              "\n",
              "    [theme=dark] .colab-df-convert {\n",
              "      background-color: #3B4455;\n",
              "      fill: #D2E3FC;\n",
              "    }\n",
              "\n",
              "    [theme=dark] .colab-df-convert:hover {\n",
              "      background-color: #434B5C;\n",
              "      box-shadow: 0px 1px 3px 1px rgba(0, 0, 0, 0.15);\n",
              "      filter: drop-shadow(0px 1px 2px rgba(0, 0, 0, 0.3));\n",
              "      fill: #FFFFFF;\n",
              "    }\n",
              "  </style>\n",
              "\n",
              "      <script>\n",
              "        const buttonEl =\n",
              "          document.querySelector('#df-56220ea2-8431-4efc-8361-1856ccbf8b1c button.colab-df-convert');\n",
              "        buttonEl.style.display =\n",
              "          google.colab.kernel.accessAllowed ? 'block' : 'none';\n",
              "\n",
              "        async function convertToInteractive(key) {\n",
              "          const element = document.querySelector('#df-56220ea2-8431-4efc-8361-1856ccbf8b1c');\n",
              "          const dataTable =\n",
              "            await google.colab.kernel.invokeFunction('convertToInteractive',\n",
              "                                                     [key], {});\n",
              "          if (!dataTable) return;\n",
              "\n",
              "          const docLinkHtml = 'Like what you see? Visit the ' +\n",
              "            '<a target=\"_blank\" href=https://colab.research.google.com/notebooks/data_table.ipynb>data table notebook</a>'\n",
              "            + ' to learn more about interactive tables.';\n",
              "          element.innerHTML = '';\n",
              "          dataTable['output_type'] = 'display_data';\n",
              "          await google.colab.output.renderOutput(dataTable, element);\n",
              "          const docLink = document.createElement('div');\n",
              "          docLink.innerHTML = docLinkHtml;\n",
              "          element.appendChild(docLink);\n",
              "        }\n",
              "      </script>\n",
              "    </div>\n",
              "  </div>\n",
              "  "
            ]
          },
          "metadata": {},
          "execution_count": 340
        }
      ]
    },
    {
      "cell_type": "code",
      "source": [
        "if \"Set\" in test.columns:\n",
        "  test.drop(['Set'], axis = 1)\n",
        "test[\"Set\"] = \"test\"\n",
        "test_indices = test[test.Set==\"test\"].index"
      ],
      "metadata": {
        "id": "jiBbxx__DMng"
      },
      "execution_count": 341,
      "outputs": []
    },
    {
      "cell_type": "code",
      "source": [
        "test_indices"
      ],
      "metadata": {
        "colab": {
          "base_uri": "https://localhost:8080/"
        },
        "id": "AftBF9UfKUAk",
        "outputId": "9dcd0948-fe84-4759-c733-4dc20b6c662f"
      },
      "execution_count": 342,
      "outputs": [
        {
          "output_type": "execute_result",
          "data": {
            "text/plain": [
              "Int64Index([   0,    1,    2,    3,    4,    5,    6,    7,    8,    9,\n",
              "            ...\n",
              "            2931, 2932, 2933, 2934, 2935, 2936, 2937, 2938, 2939, 2940],\n",
              "           dtype='int64', length=2941)"
            ]
          },
          "metadata": {},
          "execution_count": 342
        }
      ]
    },
    {
      "cell_type": "code",
      "source": [
        "nunique = test.nunique()\n",
        "types = test.dtypes\n",
        "\n",
        "\n",
        "for col in test.columns:\n",
        "    if types[col] == 'object' or nunique[col] < 200:\n",
        "        print(col, test[col].nunique())\n",
        "        l_enc = LabelEncoder()\n",
        "        test[col] = test[col].fillna(\"VV_likely\")\n",
        "        test[col] = l_enc.fit_transform(test[col].values)\n",
        "        \n",
        "    else:\n",
        "        test.fillna(test.loc[test_indices, col].mean(), inplace=True)"
      ],
      "metadata": {
        "colab": {
          "base_uri": "https://localhost:8080/"
        },
        "id": "7bWNDyMwDN2r",
        "outputId": "82871378-dc7d-4ee5-a2bb-c16e16579821"
      },
      "execution_count": 343,
      "outputs": [
        {
          "output_type": "stream",
          "name": "stdout",
          "text": [
            "Filename 2941\n",
            "Class 2\n",
            "Set 1\n"
          ]
        }
      ]
    },
    {
      "cell_type": "code",
      "source": [
        "categorical_columns"
      ],
      "metadata": {
        "colab": {
          "base_uri": "https://localhost:8080/"
        },
        "id": "XwH_m7LzH-HU",
        "outputId": "eb25f980-12fb-426d-8fc2-6a3ab05a4179"
      },
      "execution_count": 344,
      "outputs": [
        {
          "output_type": "execute_result",
          "data": {
            "text/plain": [
              "['Filename', 'Class', 'Set']"
            ]
          },
          "metadata": {},
          "execution_count": 344
        }
      ]
    },
    {
      "cell_type": "code",
      "source": [
        "test.head()"
      ],
      "metadata": {
        "colab": {
          "base_uri": "https://localhost:8080/",
          "height": 334
        },
        "id": "qrqwtfTGtNwc",
        "outputId": "c974b73d-f292-410c-dfdc-e55434ef6d8f"
      },
      "execution_count": 345,
      "outputs": [
        {
          "output_type": "execute_result",
          "data": {
            "text/plain": [
              "   Filename  White Circle Patch  Contrast  Black Patch  Biffercation  \\\n",
              "0      1443              5292.0  0.166200     0.976471          1509   \n",
              "1      1444              4175.5  0.098199     0.989966          1339   \n",
              "2      1445              5829.0  0.054095     0.996549          1679   \n",
              "3      1446              3193.5  0.024822     0.998801          1902   \n",
              "4      1447              3132.0  0.129463     0.985666          1132   \n",
              "\n",
              "   Termination         CID  Class   OCL_STD   LCS_STD  ...       OFL  \\\n",
              "0          403  332.053514      1  0.082090  0.160900  ...  0.668878   \n",
              "1          453  265.142266      1  0.075764  0.141661  ...  0.656728   \n",
              "2          472  293.976355      1  0.096840  0.210623  ...  0.672784   \n",
              "3          340  289.341544      1  0.119394  0.230169  ...  0.709769   \n",
              "4          296  314.832926      1  0.129622  0.254241  ...  0.732113   \n",
              "\n",
              "        FDA     GABOR  OCL_STD2  LCS_STD2  OFL_STD2  FDA_STD2  RVU_STD2  \\\n",
              "0  0.450442  0.659029  0.053521  0.092457  0.058338  0.082080  0.097579   \n",
              "1  0.420273  0.581228  0.052430  0.076413  0.052317  0.084231  0.067239   \n",
              "2  0.417944  0.529954  0.046736  0.119511  0.051440  0.077678  0.067060   \n",
              "3  0.400578  0.283677  0.063880  0.145236  0.038813  0.079486  0.053488   \n",
              "4  0.436506  0.339123  0.079128  0.228858  0.031483  0.107797  0.045660   \n",
              "\n",
              "   GABOR_STD2  Set  \n",
              "0    0.018765    0  \n",
              "1    0.017077    0  \n",
              "2    0.015679    0  \n",
              "3    0.010148    0  \n",
              "4    0.011812    0  \n",
              "\n",
              "[5 rows x 30 columns]"
            ],
            "text/html": [
              "\n",
              "  <div id=\"df-2c939b00-ed43-4097-b2e2-732ef35cf795\">\n",
              "    <div class=\"colab-df-container\">\n",
              "      <div>\n",
              "<style scoped>\n",
              "    .dataframe tbody tr th:only-of-type {\n",
              "        vertical-align: middle;\n",
              "    }\n",
              "\n",
              "    .dataframe tbody tr th {\n",
              "        vertical-align: top;\n",
              "    }\n",
              "\n",
              "    .dataframe thead th {\n",
              "        text-align: right;\n",
              "    }\n",
              "</style>\n",
              "<table border=\"1\" class=\"dataframe\">\n",
              "  <thead>\n",
              "    <tr style=\"text-align: right;\">\n",
              "      <th></th>\n",
              "      <th>Filename</th>\n",
              "      <th>White Circle Patch</th>\n",
              "      <th>Contrast</th>\n",
              "      <th>Black Patch</th>\n",
              "      <th>Biffercation</th>\n",
              "      <th>Termination</th>\n",
              "      <th>CID</th>\n",
              "      <th>Class</th>\n",
              "      <th>OCL_STD</th>\n",
              "      <th>LCS_STD</th>\n",
              "      <th>...</th>\n",
              "      <th>OFL</th>\n",
              "      <th>FDA</th>\n",
              "      <th>GABOR</th>\n",
              "      <th>OCL_STD2</th>\n",
              "      <th>LCS_STD2</th>\n",
              "      <th>OFL_STD2</th>\n",
              "      <th>FDA_STD2</th>\n",
              "      <th>RVU_STD2</th>\n",
              "      <th>GABOR_STD2</th>\n",
              "      <th>Set</th>\n",
              "    </tr>\n",
              "  </thead>\n",
              "  <tbody>\n",
              "    <tr>\n",
              "      <th>0</th>\n",
              "      <td>1443</td>\n",
              "      <td>5292.0</td>\n",
              "      <td>0.166200</td>\n",
              "      <td>0.976471</td>\n",
              "      <td>1509</td>\n",
              "      <td>403</td>\n",
              "      <td>332.053514</td>\n",
              "      <td>1</td>\n",
              "      <td>0.082090</td>\n",
              "      <td>0.160900</td>\n",
              "      <td>...</td>\n",
              "      <td>0.668878</td>\n",
              "      <td>0.450442</td>\n",
              "      <td>0.659029</td>\n",
              "      <td>0.053521</td>\n",
              "      <td>0.092457</td>\n",
              "      <td>0.058338</td>\n",
              "      <td>0.082080</td>\n",
              "      <td>0.097579</td>\n",
              "      <td>0.018765</td>\n",
              "      <td>0</td>\n",
              "    </tr>\n",
              "    <tr>\n",
              "      <th>1</th>\n",
              "      <td>1444</td>\n",
              "      <td>4175.5</td>\n",
              "      <td>0.098199</td>\n",
              "      <td>0.989966</td>\n",
              "      <td>1339</td>\n",
              "      <td>453</td>\n",
              "      <td>265.142266</td>\n",
              "      <td>1</td>\n",
              "      <td>0.075764</td>\n",
              "      <td>0.141661</td>\n",
              "      <td>...</td>\n",
              "      <td>0.656728</td>\n",
              "      <td>0.420273</td>\n",
              "      <td>0.581228</td>\n",
              "      <td>0.052430</td>\n",
              "      <td>0.076413</td>\n",
              "      <td>0.052317</td>\n",
              "      <td>0.084231</td>\n",
              "      <td>0.067239</td>\n",
              "      <td>0.017077</td>\n",
              "      <td>0</td>\n",
              "    </tr>\n",
              "    <tr>\n",
              "      <th>2</th>\n",
              "      <td>1445</td>\n",
              "      <td>5829.0</td>\n",
              "      <td>0.054095</td>\n",
              "      <td>0.996549</td>\n",
              "      <td>1679</td>\n",
              "      <td>472</td>\n",
              "      <td>293.976355</td>\n",
              "      <td>1</td>\n",
              "      <td>0.096840</td>\n",
              "      <td>0.210623</td>\n",
              "      <td>...</td>\n",
              "      <td>0.672784</td>\n",
              "      <td>0.417944</td>\n",
              "      <td>0.529954</td>\n",
              "      <td>0.046736</td>\n",
              "      <td>0.119511</td>\n",
              "      <td>0.051440</td>\n",
              "      <td>0.077678</td>\n",
              "      <td>0.067060</td>\n",
              "      <td>0.015679</td>\n",
              "      <td>0</td>\n",
              "    </tr>\n",
              "    <tr>\n",
              "      <th>3</th>\n",
              "      <td>1446</td>\n",
              "      <td>3193.5</td>\n",
              "      <td>0.024822</td>\n",
              "      <td>0.998801</td>\n",
              "      <td>1902</td>\n",
              "      <td>340</td>\n",
              "      <td>289.341544</td>\n",
              "      <td>1</td>\n",
              "      <td>0.119394</td>\n",
              "      <td>0.230169</td>\n",
              "      <td>...</td>\n",
              "      <td>0.709769</td>\n",
              "      <td>0.400578</td>\n",
              "      <td>0.283677</td>\n",
              "      <td>0.063880</td>\n",
              "      <td>0.145236</td>\n",
              "      <td>0.038813</td>\n",
              "      <td>0.079486</td>\n",
              "      <td>0.053488</td>\n",
              "      <td>0.010148</td>\n",
              "      <td>0</td>\n",
              "    </tr>\n",
              "    <tr>\n",
              "      <th>4</th>\n",
              "      <td>1447</td>\n",
              "      <td>3132.0</td>\n",
              "      <td>0.129463</td>\n",
              "      <td>0.985666</td>\n",
              "      <td>1132</td>\n",
              "      <td>296</td>\n",
              "      <td>314.832926</td>\n",
              "      <td>1</td>\n",
              "      <td>0.129622</td>\n",
              "      <td>0.254241</td>\n",
              "      <td>...</td>\n",
              "      <td>0.732113</td>\n",
              "      <td>0.436506</td>\n",
              "      <td>0.339123</td>\n",
              "      <td>0.079128</td>\n",
              "      <td>0.228858</td>\n",
              "      <td>0.031483</td>\n",
              "      <td>0.107797</td>\n",
              "      <td>0.045660</td>\n",
              "      <td>0.011812</td>\n",
              "      <td>0</td>\n",
              "    </tr>\n",
              "  </tbody>\n",
              "</table>\n",
              "<p>5 rows × 30 columns</p>\n",
              "</div>\n",
              "      <button class=\"colab-df-convert\" onclick=\"convertToInteractive('df-2c939b00-ed43-4097-b2e2-732ef35cf795')\"\n",
              "              title=\"Convert this dataframe to an interactive table.\"\n",
              "              style=\"display:none;\">\n",
              "        \n",
              "  <svg xmlns=\"http://www.w3.org/2000/svg\" height=\"24px\"viewBox=\"0 0 24 24\"\n",
              "       width=\"24px\">\n",
              "    <path d=\"M0 0h24v24H0V0z\" fill=\"none\"/>\n",
              "    <path d=\"M18.56 5.44l.94 2.06.94-2.06 2.06-.94-2.06-.94-.94-2.06-.94 2.06-2.06.94zm-11 1L8.5 8.5l.94-2.06 2.06-.94-2.06-.94L8.5 2.5l-.94 2.06-2.06.94zm10 10l.94 2.06.94-2.06 2.06-.94-2.06-.94-.94-2.06-.94 2.06-2.06.94z\"/><path d=\"M17.41 7.96l-1.37-1.37c-.4-.4-.92-.59-1.43-.59-.52 0-1.04.2-1.43.59L10.3 9.45l-7.72 7.72c-.78.78-.78 2.05 0 2.83L4 21.41c.39.39.9.59 1.41.59.51 0 1.02-.2 1.41-.59l7.78-7.78 2.81-2.81c.8-.78.8-2.07 0-2.86zM5.41 20L4 18.59l7.72-7.72 1.47 1.35L5.41 20z\"/>\n",
              "  </svg>\n",
              "      </button>\n",
              "      \n",
              "  <style>\n",
              "    .colab-df-container {\n",
              "      display:flex;\n",
              "      flex-wrap:wrap;\n",
              "      gap: 12px;\n",
              "    }\n",
              "\n",
              "    .colab-df-convert {\n",
              "      background-color: #E8F0FE;\n",
              "      border: none;\n",
              "      border-radius: 50%;\n",
              "      cursor: pointer;\n",
              "      display: none;\n",
              "      fill: #1967D2;\n",
              "      height: 32px;\n",
              "      padding: 0 0 0 0;\n",
              "      width: 32px;\n",
              "    }\n",
              "\n",
              "    .colab-df-convert:hover {\n",
              "      background-color: #E2EBFA;\n",
              "      box-shadow: 0px 1px 2px rgba(60, 64, 67, 0.3), 0px 1px 3px 1px rgba(60, 64, 67, 0.15);\n",
              "      fill: #174EA6;\n",
              "    }\n",
              "\n",
              "    [theme=dark] .colab-df-convert {\n",
              "      background-color: #3B4455;\n",
              "      fill: #D2E3FC;\n",
              "    }\n",
              "\n",
              "    [theme=dark] .colab-df-convert:hover {\n",
              "      background-color: #434B5C;\n",
              "      box-shadow: 0px 1px 3px 1px rgba(0, 0, 0, 0.15);\n",
              "      filter: drop-shadow(0px 1px 2px rgba(0, 0, 0, 0.3));\n",
              "      fill: #FFFFFF;\n",
              "    }\n",
              "  </style>\n",
              "\n",
              "      <script>\n",
              "        const buttonEl =\n",
              "          document.querySelector('#df-2c939b00-ed43-4097-b2e2-732ef35cf795 button.colab-df-convert');\n",
              "        buttonEl.style.display =\n",
              "          google.colab.kernel.accessAllowed ? 'block' : 'none';\n",
              "\n",
              "        async function convertToInteractive(key) {\n",
              "          const element = document.querySelector('#df-2c939b00-ed43-4097-b2e2-732ef35cf795');\n",
              "          const dataTable =\n",
              "            await google.colab.kernel.invokeFunction('convertToInteractive',\n",
              "                                                     [key], {});\n",
              "          if (!dataTable) return;\n",
              "\n",
              "          const docLinkHtml = 'Like what you see? Visit the ' +\n",
              "            '<a target=\"_blank\" href=https://colab.research.google.com/notebooks/data_table.ipynb>data table notebook</a>'\n",
              "            + ' to learn more about interactive tables.';\n",
              "          element.innerHTML = '';\n",
              "          dataTable['output_type'] = 'display_data';\n",
              "          await google.colab.output.renderOutput(dataTable, element);\n",
              "          const docLink = document.createElement('div');\n",
              "          docLink.innerHTML = docLinkHtml;\n",
              "          element.appendChild(docLink);\n",
              "        }\n",
              "      </script>\n",
              "    </div>\n",
              "  </div>\n",
              "  "
            ]
          },
          "metadata": {},
          "execution_count": 345
        }
      ]
    },
    {
      "cell_type": "code",
      "source": [
        "test.head()"
      ],
      "metadata": {
        "colab": {
          "base_uri": "https://localhost:8080/",
          "height": 334
        },
        "id": "4SkP5Yy7HZFW",
        "outputId": "95120a7d-1d4b-435e-8bdf-cfabf40502c5"
      },
      "execution_count": 346,
      "outputs": [
        {
          "output_type": "execute_result",
          "data": {
            "text/plain": [
              "   Filename  White Circle Patch  Contrast  Black Patch  Biffercation  \\\n",
              "0      1443              5292.0  0.166200     0.976471          1509   \n",
              "1      1444              4175.5  0.098199     0.989966          1339   \n",
              "2      1445              5829.0  0.054095     0.996549          1679   \n",
              "3      1446              3193.5  0.024822     0.998801          1902   \n",
              "4      1447              3132.0  0.129463     0.985666          1132   \n",
              "\n",
              "   Termination         CID  Class   OCL_STD   LCS_STD  ...       OFL  \\\n",
              "0          403  332.053514      1  0.082090  0.160900  ...  0.668878   \n",
              "1          453  265.142266      1  0.075764  0.141661  ...  0.656728   \n",
              "2          472  293.976355      1  0.096840  0.210623  ...  0.672784   \n",
              "3          340  289.341544      1  0.119394  0.230169  ...  0.709769   \n",
              "4          296  314.832926      1  0.129622  0.254241  ...  0.732113   \n",
              "\n",
              "        FDA     GABOR  OCL_STD2  LCS_STD2  OFL_STD2  FDA_STD2  RVU_STD2  \\\n",
              "0  0.450442  0.659029  0.053521  0.092457  0.058338  0.082080  0.097579   \n",
              "1  0.420273  0.581228  0.052430  0.076413  0.052317  0.084231  0.067239   \n",
              "2  0.417944  0.529954  0.046736  0.119511  0.051440  0.077678  0.067060   \n",
              "3  0.400578  0.283677  0.063880  0.145236  0.038813  0.079486  0.053488   \n",
              "4  0.436506  0.339123  0.079128  0.228858  0.031483  0.107797  0.045660   \n",
              "\n",
              "   GABOR_STD2  Set  \n",
              "0    0.018765    0  \n",
              "1    0.017077    0  \n",
              "2    0.015679    0  \n",
              "3    0.010148    0  \n",
              "4    0.011812    0  \n",
              "\n",
              "[5 rows x 30 columns]"
            ],
            "text/html": [
              "\n",
              "  <div id=\"df-dba8320e-f775-47f7-a2fa-4323f5450272\">\n",
              "    <div class=\"colab-df-container\">\n",
              "      <div>\n",
              "<style scoped>\n",
              "    .dataframe tbody tr th:only-of-type {\n",
              "        vertical-align: middle;\n",
              "    }\n",
              "\n",
              "    .dataframe tbody tr th {\n",
              "        vertical-align: top;\n",
              "    }\n",
              "\n",
              "    .dataframe thead th {\n",
              "        text-align: right;\n",
              "    }\n",
              "</style>\n",
              "<table border=\"1\" class=\"dataframe\">\n",
              "  <thead>\n",
              "    <tr style=\"text-align: right;\">\n",
              "      <th></th>\n",
              "      <th>Filename</th>\n",
              "      <th>White Circle Patch</th>\n",
              "      <th>Contrast</th>\n",
              "      <th>Black Patch</th>\n",
              "      <th>Biffercation</th>\n",
              "      <th>Termination</th>\n",
              "      <th>CID</th>\n",
              "      <th>Class</th>\n",
              "      <th>OCL_STD</th>\n",
              "      <th>LCS_STD</th>\n",
              "      <th>...</th>\n",
              "      <th>OFL</th>\n",
              "      <th>FDA</th>\n",
              "      <th>GABOR</th>\n",
              "      <th>OCL_STD2</th>\n",
              "      <th>LCS_STD2</th>\n",
              "      <th>OFL_STD2</th>\n",
              "      <th>FDA_STD2</th>\n",
              "      <th>RVU_STD2</th>\n",
              "      <th>GABOR_STD2</th>\n",
              "      <th>Set</th>\n",
              "    </tr>\n",
              "  </thead>\n",
              "  <tbody>\n",
              "    <tr>\n",
              "      <th>0</th>\n",
              "      <td>1443</td>\n",
              "      <td>5292.0</td>\n",
              "      <td>0.166200</td>\n",
              "      <td>0.976471</td>\n",
              "      <td>1509</td>\n",
              "      <td>403</td>\n",
              "      <td>332.053514</td>\n",
              "      <td>1</td>\n",
              "      <td>0.082090</td>\n",
              "      <td>0.160900</td>\n",
              "      <td>...</td>\n",
              "      <td>0.668878</td>\n",
              "      <td>0.450442</td>\n",
              "      <td>0.659029</td>\n",
              "      <td>0.053521</td>\n",
              "      <td>0.092457</td>\n",
              "      <td>0.058338</td>\n",
              "      <td>0.082080</td>\n",
              "      <td>0.097579</td>\n",
              "      <td>0.018765</td>\n",
              "      <td>0</td>\n",
              "    </tr>\n",
              "    <tr>\n",
              "      <th>1</th>\n",
              "      <td>1444</td>\n",
              "      <td>4175.5</td>\n",
              "      <td>0.098199</td>\n",
              "      <td>0.989966</td>\n",
              "      <td>1339</td>\n",
              "      <td>453</td>\n",
              "      <td>265.142266</td>\n",
              "      <td>1</td>\n",
              "      <td>0.075764</td>\n",
              "      <td>0.141661</td>\n",
              "      <td>...</td>\n",
              "      <td>0.656728</td>\n",
              "      <td>0.420273</td>\n",
              "      <td>0.581228</td>\n",
              "      <td>0.052430</td>\n",
              "      <td>0.076413</td>\n",
              "      <td>0.052317</td>\n",
              "      <td>0.084231</td>\n",
              "      <td>0.067239</td>\n",
              "      <td>0.017077</td>\n",
              "      <td>0</td>\n",
              "    </tr>\n",
              "    <tr>\n",
              "      <th>2</th>\n",
              "      <td>1445</td>\n",
              "      <td>5829.0</td>\n",
              "      <td>0.054095</td>\n",
              "      <td>0.996549</td>\n",
              "      <td>1679</td>\n",
              "      <td>472</td>\n",
              "      <td>293.976355</td>\n",
              "      <td>1</td>\n",
              "      <td>0.096840</td>\n",
              "      <td>0.210623</td>\n",
              "      <td>...</td>\n",
              "      <td>0.672784</td>\n",
              "      <td>0.417944</td>\n",
              "      <td>0.529954</td>\n",
              "      <td>0.046736</td>\n",
              "      <td>0.119511</td>\n",
              "      <td>0.051440</td>\n",
              "      <td>0.077678</td>\n",
              "      <td>0.067060</td>\n",
              "      <td>0.015679</td>\n",
              "      <td>0</td>\n",
              "    </tr>\n",
              "    <tr>\n",
              "      <th>3</th>\n",
              "      <td>1446</td>\n",
              "      <td>3193.5</td>\n",
              "      <td>0.024822</td>\n",
              "      <td>0.998801</td>\n",
              "      <td>1902</td>\n",
              "      <td>340</td>\n",
              "      <td>289.341544</td>\n",
              "      <td>1</td>\n",
              "      <td>0.119394</td>\n",
              "      <td>0.230169</td>\n",
              "      <td>...</td>\n",
              "      <td>0.709769</td>\n",
              "      <td>0.400578</td>\n",
              "      <td>0.283677</td>\n",
              "      <td>0.063880</td>\n",
              "      <td>0.145236</td>\n",
              "      <td>0.038813</td>\n",
              "      <td>0.079486</td>\n",
              "      <td>0.053488</td>\n",
              "      <td>0.010148</td>\n",
              "      <td>0</td>\n",
              "    </tr>\n",
              "    <tr>\n",
              "      <th>4</th>\n",
              "      <td>1447</td>\n",
              "      <td>3132.0</td>\n",
              "      <td>0.129463</td>\n",
              "      <td>0.985666</td>\n",
              "      <td>1132</td>\n",
              "      <td>296</td>\n",
              "      <td>314.832926</td>\n",
              "      <td>1</td>\n",
              "      <td>0.129622</td>\n",
              "      <td>0.254241</td>\n",
              "      <td>...</td>\n",
              "      <td>0.732113</td>\n",
              "      <td>0.436506</td>\n",
              "      <td>0.339123</td>\n",
              "      <td>0.079128</td>\n",
              "      <td>0.228858</td>\n",
              "      <td>0.031483</td>\n",
              "      <td>0.107797</td>\n",
              "      <td>0.045660</td>\n",
              "      <td>0.011812</td>\n",
              "      <td>0</td>\n",
              "    </tr>\n",
              "  </tbody>\n",
              "</table>\n",
              "<p>5 rows × 30 columns</p>\n",
              "</div>\n",
              "      <button class=\"colab-df-convert\" onclick=\"convertToInteractive('df-dba8320e-f775-47f7-a2fa-4323f5450272')\"\n",
              "              title=\"Convert this dataframe to an interactive table.\"\n",
              "              style=\"display:none;\">\n",
              "        \n",
              "  <svg xmlns=\"http://www.w3.org/2000/svg\" height=\"24px\"viewBox=\"0 0 24 24\"\n",
              "       width=\"24px\">\n",
              "    <path d=\"M0 0h24v24H0V0z\" fill=\"none\"/>\n",
              "    <path d=\"M18.56 5.44l.94 2.06.94-2.06 2.06-.94-2.06-.94-.94-2.06-.94 2.06-2.06.94zm-11 1L8.5 8.5l.94-2.06 2.06-.94-2.06-.94L8.5 2.5l-.94 2.06-2.06.94zm10 10l.94 2.06.94-2.06 2.06-.94-2.06-.94-.94-2.06-.94 2.06-2.06.94z\"/><path d=\"M17.41 7.96l-1.37-1.37c-.4-.4-.92-.59-1.43-.59-.52 0-1.04.2-1.43.59L10.3 9.45l-7.72 7.72c-.78.78-.78 2.05 0 2.83L4 21.41c.39.39.9.59 1.41.59.51 0 1.02-.2 1.41-.59l7.78-7.78 2.81-2.81c.8-.78.8-2.07 0-2.86zM5.41 20L4 18.59l7.72-7.72 1.47 1.35L5.41 20z\"/>\n",
              "  </svg>\n",
              "      </button>\n",
              "      \n",
              "  <style>\n",
              "    .colab-df-container {\n",
              "      display:flex;\n",
              "      flex-wrap:wrap;\n",
              "      gap: 12px;\n",
              "    }\n",
              "\n",
              "    .colab-df-convert {\n",
              "      background-color: #E8F0FE;\n",
              "      border: none;\n",
              "      border-radius: 50%;\n",
              "      cursor: pointer;\n",
              "      display: none;\n",
              "      fill: #1967D2;\n",
              "      height: 32px;\n",
              "      padding: 0 0 0 0;\n",
              "      width: 32px;\n",
              "    }\n",
              "\n",
              "    .colab-df-convert:hover {\n",
              "      background-color: #E2EBFA;\n",
              "      box-shadow: 0px 1px 2px rgba(60, 64, 67, 0.3), 0px 1px 3px 1px rgba(60, 64, 67, 0.15);\n",
              "      fill: #174EA6;\n",
              "    }\n",
              "\n",
              "    [theme=dark] .colab-df-convert {\n",
              "      background-color: #3B4455;\n",
              "      fill: #D2E3FC;\n",
              "    }\n",
              "\n",
              "    [theme=dark] .colab-df-convert:hover {\n",
              "      background-color: #434B5C;\n",
              "      box-shadow: 0px 1px 3px 1px rgba(0, 0, 0, 0.15);\n",
              "      filter: drop-shadow(0px 1px 2px rgba(0, 0, 0, 0.3));\n",
              "      fill: #FFFFFF;\n",
              "    }\n",
              "  </style>\n",
              "\n",
              "      <script>\n",
              "        const buttonEl =\n",
              "          document.querySelector('#df-dba8320e-f775-47f7-a2fa-4323f5450272 button.colab-df-convert');\n",
              "        buttonEl.style.display =\n",
              "          google.colab.kernel.accessAllowed ? 'block' : 'none';\n",
              "\n",
              "        async function convertToInteractive(key) {\n",
              "          const element = document.querySelector('#df-dba8320e-f775-47f7-a2fa-4323f5450272');\n",
              "          const dataTable =\n",
              "            await google.colab.kernel.invokeFunction('convertToInteractive',\n",
              "                                                     [key], {});\n",
              "          if (!dataTable) return;\n",
              "\n",
              "          const docLinkHtml = 'Like what you see? Visit the ' +\n",
              "            '<a target=\"_blank\" href=https://colab.research.google.com/notebooks/data_table.ipynb>data table notebook</a>'\n",
              "            + ' to learn more about interactive tables.';\n",
              "          element.innerHTML = '';\n",
              "          dataTable['output_type'] = 'display_data';\n",
              "          await google.colab.output.renderOutput(dataTable, element);\n",
              "          const docLink = document.createElement('div');\n",
              "          docLink.innerHTML = docLinkHtml;\n",
              "          element.appendChild(docLink);\n",
              "        }\n",
              "      </script>\n",
              "    </div>\n",
              "  </div>\n",
              "  "
            ]
          },
          "metadata": {},
          "execution_count": 346
        }
      ]
    },
    {
      "cell_type": "code",
      "source": [
        "train.loc[train[target]==0, target] = \"classZero\"\n",
        "train.loc[train[target]==1, target] = \"classOne\""
      ],
      "metadata": {
        "id": "7we2KydSte9E"
      },
      "execution_count": 347,
      "outputs": []
    },
    {
      "cell_type": "code",
      "source": [
        "test.loc[test[target]==0, target] = \"classZero\"\n",
        "test.loc[test[target]==1, target] = \"classOne\""
      ],
      "metadata": {
        "id": "4J3zZRu3D9gP"
      },
      "execution_count": 348,
      "outputs": []
    },
    {
      "cell_type": "code",
      "source": [
        "unused_feat = ['Set']\n",
        "\n",
        "features = [ col for col in train.columns if col not in unused_feat+[target]] \n",
        "\n",
        "cat_idxs = [ i for i, f in enumerate(features) if f in categorical_columns]\n",
        "\n",
        "cat_dims = [ categorical_dims[f] for i, f in enumerate(features) if f in categorical_columns]"
      ],
      "metadata": {
        "id": "nRYcwNaww3qt"
      },
      "execution_count": 349,
      "outputs": []
    },
    {
      "cell_type": "code",
      "source": [
        "cat_dims"
      ],
      "metadata": {
        "colab": {
          "base_uri": "https://localhost:8080/"
        },
        "id": "bSidv4VELJY6",
        "outputId": "39718739-b2a6-46c7-9d6f-75f5cc082a43"
      },
      "execution_count": 350,
      "outputs": [
        {
          "output_type": "execute_result",
          "data": {
            "text/plain": [
              "[2977]"
            ]
          },
          "metadata": {},
          "execution_count": 350
        }
      ]
    },
    {
      "cell_type": "code",
      "source": [
        "tabnet_params = {\"cat_idxs\":cat_idxs,\n",
        "                 \"cat_dims\":cat_dims,\n",
        "                 \"cat_emb_dim\":1,\n",
        "                 \"optimizer_fn\":torch.optim.Adam,\n",
        "                 \"optimizer_params\":dict(lr=2e-2),\n",
        "                 \"scheduler_params\":{\"step_size\":50, # how to use learning rate scheduler\n",
        "                                 \"gamma\":0.9},\n",
        "                 \"scheduler_fn\":torch.optim.lr_scheduler.StepLR,\n",
        "                 \"mask_type\":'entmax' # \"sparsemax\"\n",
        "                }\n",
        "\n",
        "clf = TabNetClassifier(**tabnet_params\n",
        "                      )"
      ],
      "metadata": {
        "colab": {
          "base_uri": "https://localhost:8080/"
        },
        "id": "Z4g5C-Rg2LtI",
        "outputId": "87467860-5290-44cf-f1c8-a00e0c21a889"
      },
      "execution_count": 351,
      "outputs": [
        {
          "output_type": "stream",
          "name": "stderr",
          "text": [
            "/usr/local/lib/python3.7/dist-packages/pytorch_tabnet/abstract_model.py:75: UserWarning: Device used : cpu\n",
            "  warnings.warn(f\"Device used : {self.device}\")\n"
          ]
        }
      ]
    },
    {
      "cell_type": "code",
      "source": [
        "X_train = train[features].values[train_indices]\n",
        "y_train = train[target].values[train_indices]\n",
        "\n",
        "X_valid = train[features].values[valid_indices]\n",
        "y_valid = train[target].values[valid_indices]"
      ],
      "metadata": {
        "id": "AV1Zy6zd2_Nk"
      },
      "execution_count": 352,
      "outputs": []
    },
    {
      "cell_type": "code",
      "source": [
        "test.rename(columns={'White Circle Patch': 'White Circular Patch', 'Biffercation': 'Biffurcation','MEAN': 'MU'}, inplace=True)"
      ],
      "metadata": {
        "id": "-44TT4sUMbGL"
      },
      "execution_count": 353,
      "outputs": []
    },
    {
      "cell_type": "code",
      "source": [
        "X_test = test[features].values[test_indices]\n",
        "y_test = test[target].values[test_indices]"
      ],
      "metadata": {
        "id": "ghfpRz3XDa4D"
      },
      "execution_count": 354,
      "outputs": []
    },
    {
      "cell_type": "code",
      "source": [
        "test.head()"
      ],
      "metadata": {
        "colab": {
          "base_uri": "https://localhost:8080/",
          "height": 334
        },
        "id": "E7C_d8owLLn6",
        "outputId": "3228b31b-bfbe-4cdd-dbdf-7a0262aeea1a"
      },
      "execution_count": 355,
      "outputs": [
        {
          "output_type": "execute_result",
          "data": {
            "text/plain": [
              "   Filename  White Circular Patch  Contrast  Black Patch  Biffurcation  \\\n",
              "0      1443                5292.0  0.166200     0.976471          1509   \n",
              "1      1444                4175.5  0.098199     0.989966          1339   \n",
              "2      1445                5829.0  0.054095     0.996549          1679   \n",
              "3      1446                3193.5  0.024822     0.998801          1902   \n",
              "4      1447                3132.0  0.129463     0.985666          1132   \n",
              "\n",
              "   Termination         CID     Class   OCL_STD   LCS_STD  ...       OFL  \\\n",
              "0          403  332.053514  classOne  0.082090  0.160900  ...  0.668878   \n",
              "1          453  265.142266  classOne  0.075764  0.141661  ...  0.656728   \n",
              "2          472  293.976355  classOne  0.096840  0.210623  ...  0.672784   \n",
              "3          340  289.341544  classOne  0.119394  0.230169  ...  0.709769   \n",
              "4          296  314.832926  classOne  0.129622  0.254241  ...  0.732113   \n",
              "\n",
              "        FDA     GABOR  OCL_STD2  LCS_STD2  OFL_STD2  FDA_STD2  RVU_STD2  \\\n",
              "0  0.450442  0.659029  0.053521  0.092457  0.058338  0.082080  0.097579   \n",
              "1  0.420273  0.581228  0.052430  0.076413  0.052317  0.084231  0.067239   \n",
              "2  0.417944  0.529954  0.046736  0.119511  0.051440  0.077678  0.067060   \n",
              "3  0.400578  0.283677  0.063880  0.145236  0.038813  0.079486  0.053488   \n",
              "4  0.436506  0.339123  0.079128  0.228858  0.031483  0.107797  0.045660   \n",
              "\n",
              "   GABOR_STD2  Set  \n",
              "0    0.018765    0  \n",
              "1    0.017077    0  \n",
              "2    0.015679    0  \n",
              "3    0.010148    0  \n",
              "4    0.011812    0  \n",
              "\n",
              "[5 rows x 30 columns]"
            ],
            "text/html": [
              "\n",
              "  <div id=\"df-7e5f1402-e762-4b31-a472-bd8b1232a326\">\n",
              "    <div class=\"colab-df-container\">\n",
              "      <div>\n",
              "<style scoped>\n",
              "    .dataframe tbody tr th:only-of-type {\n",
              "        vertical-align: middle;\n",
              "    }\n",
              "\n",
              "    .dataframe tbody tr th {\n",
              "        vertical-align: top;\n",
              "    }\n",
              "\n",
              "    .dataframe thead th {\n",
              "        text-align: right;\n",
              "    }\n",
              "</style>\n",
              "<table border=\"1\" class=\"dataframe\">\n",
              "  <thead>\n",
              "    <tr style=\"text-align: right;\">\n",
              "      <th></th>\n",
              "      <th>Filename</th>\n",
              "      <th>White Circular Patch</th>\n",
              "      <th>Contrast</th>\n",
              "      <th>Black Patch</th>\n",
              "      <th>Biffurcation</th>\n",
              "      <th>Termination</th>\n",
              "      <th>CID</th>\n",
              "      <th>Class</th>\n",
              "      <th>OCL_STD</th>\n",
              "      <th>LCS_STD</th>\n",
              "      <th>...</th>\n",
              "      <th>OFL</th>\n",
              "      <th>FDA</th>\n",
              "      <th>GABOR</th>\n",
              "      <th>OCL_STD2</th>\n",
              "      <th>LCS_STD2</th>\n",
              "      <th>OFL_STD2</th>\n",
              "      <th>FDA_STD2</th>\n",
              "      <th>RVU_STD2</th>\n",
              "      <th>GABOR_STD2</th>\n",
              "      <th>Set</th>\n",
              "    </tr>\n",
              "  </thead>\n",
              "  <tbody>\n",
              "    <tr>\n",
              "      <th>0</th>\n",
              "      <td>1443</td>\n",
              "      <td>5292.0</td>\n",
              "      <td>0.166200</td>\n",
              "      <td>0.976471</td>\n",
              "      <td>1509</td>\n",
              "      <td>403</td>\n",
              "      <td>332.053514</td>\n",
              "      <td>classOne</td>\n",
              "      <td>0.082090</td>\n",
              "      <td>0.160900</td>\n",
              "      <td>...</td>\n",
              "      <td>0.668878</td>\n",
              "      <td>0.450442</td>\n",
              "      <td>0.659029</td>\n",
              "      <td>0.053521</td>\n",
              "      <td>0.092457</td>\n",
              "      <td>0.058338</td>\n",
              "      <td>0.082080</td>\n",
              "      <td>0.097579</td>\n",
              "      <td>0.018765</td>\n",
              "      <td>0</td>\n",
              "    </tr>\n",
              "    <tr>\n",
              "      <th>1</th>\n",
              "      <td>1444</td>\n",
              "      <td>4175.5</td>\n",
              "      <td>0.098199</td>\n",
              "      <td>0.989966</td>\n",
              "      <td>1339</td>\n",
              "      <td>453</td>\n",
              "      <td>265.142266</td>\n",
              "      <td>classOne</td>\n",
              "      <td>0.075764</td>\n",
              "      <td>0.141661</td>\n",
              "      <td>...</td>\n",
              "      <td>0.656728</td>\n",
              "      <td>0.420273</td>\n",
              "      <td>0.581228</td>\n",
              "      <td>0.052430</td>\n",
              "      <td>0.076413</td>\n",
              "      <td>0.052317</td>\n",
              "      <td>0.084231</td>\n",
              "      <td>0.067239</td>\n",
              "      <td>0.017077</td>\n",
              "      <td>0</td>\n",
              "    </tr>\n",
              "    <tr>\n",
              "      <th>2</th>\n",
              "      <td>1445</td>\n",
              "      <td>5829.0</td>\n",
              "      <td>0.054095</td>\n",
              "      <td>0.996549</td>\n",
              "      <td>1679</td>\n",
              "      <td>472</td>\n",
              "      <td>293.976355</td>\n",
              "      <td>classOne</td>\n",
              "      <td>0.096840</td>\n",
              "      <td>0.210623</td>\n",
              "      <td>...</td>\n",
              "      <td>0.672784</td>\n",
              "      <td>0.417944</td>\n",
              "      <td>0.529954</td>\n",
              "      <td>0.046736</td>\n",
              "      <td>0.119511</td>\n",
              "      <td>0.051440</td>\n",
              "      <td>0.077678</td>\n",
              "      <td>0.067060</td>\n",
              "      <td>0.015679</td>\n",
              "      <td>0</td>\n",
              "    </tr>\n",
              "    <tr>\n",
              "      <th>3</th>\n",
              "      <td>1446</td>\n",
              "      <td>3193.5</td>\n",
              "      <td>0.024822</td>\n",
              "      <td>0.998801</td>\n",
              "      <td>1902</td>\n",
              "      <td>340</td>\n",
              "      <td>289.341544</td>\n",
              "      <td>classOne</td>\n",
              "      <td>0.119394</td>\n",
              "      <td>0.230169</td>\n",
              "      <td>...</td>\n",
              "      <td>0.709769</td>\n",
              "      <td>0.400578</td>\n",
              "      <td>0.283677</td>\n",
              "      <td>0.063880</td>\n",
              "      <td>0.145236</td>\n",
              "      <td>0.038813</td>\n",
              "      <td>0.079486</td>\n",
              "      <td>0.053488</td>\n",
              "      <td>0.010148</td>\n",
              "      <td>0</td>\n",
              "    </tr>\n",
              "    <tr>\n",
              "      <th>4</th>\n",
              "      <td>1447</td>\n",
              "      <td>3132.0</td>\n",
              "      <td>0.129463</td>\n",
              "      <td>0.985666</td>\n",
              "      <td>1132</td>\n",
              "      <td>296</td>\n",
              "      <td>314.832926</td>\n",
              "      <td>classOne</td>\n",
              "      <td>0.129622</td>\n",
              "      <td>0.254241</td>\n",
              "      <td>...</td>\n",
              "      <td>0.732113</td>\n",
              "      <td>0.436506</td>\n",
              "      <td>0.339123</td>\n",
              "      <td>0.079128</td>\n",
              "      <td>0.228858</td>\n",
              "      <td>0.031483</td>\n",
              "      <td>0.107797</td>\n",
              "      <td>0.045660</td>\n",
              "      <td>0.011812</td>\n",
              "      <td>0</td>\n",
              "    </tr>\n",
              "  </tbody>\n",
              "</table>\n",
              "<p>5 rows × 30 columns</p>\n",
              "</div>\n",
              "      <button class=\"colab-df-convert\" onclick=\"convertToInteractive('df-7e5f1402-e762-4b31-a472-bd8b1232a326')\"\n",
              "              title=\"Convert this dataframe to an interactive table.\"\n",
              "              style=\"display:none;\">\n",
              "        \n",
              "  <svg xmlns=\"http://www.w3.org/2000/svg\" height=\"24px\"viewBox=\"0 0 24 24\"\n",
              "       width=\"24px\">\n",
              "    <path d=\"M0 0h24v24H0V0z\" fill=\"none\"/>\n",
              "    <path d=\"M18.56 5.44l.94 2.06.94-2.06 2.06-.94-2.06-.94-.94-2.06-.94 2.06-2.06.94zm-11 1L8.5 8.5l.94-2.06 2.06-.94-2.06-.94L8.5 2.5l-.94 2.06-2.06.94zm10 10l.94 2.06.94-2.06 2.06-.94-2.06-.94-.94-2.06-.94 2.06-2.06.94z\"/><path d=\"M17.41 7.96l-1.37-1.37c-.4-.4-.92-.59-1.43-.59-.52 0-1.04.2-1.43.59L10.3 9.45l-7.72 7.72c-.78.78-.78 2.05 0 2.83L4 21.41c.39.39.9.59 1.41.59.51 0 1.02-.2 1.41-.59l7.78-7.78 2.81-2.81c.8-.78.8-2.07 0-2.86zM5.41 20L4 18.59l7.72-7.72 1.47 1.35L5.41 20z\"/>\n",
              "  </svg>\n",
              "      </button>\n",
              "      \n",
              "  <style>\n",
              "    .colab-df-container {\n",
              "      display:flex;\n",
              "      flex-wrap:wrap;\n",
              "      gap: 12px;\n",
              "    }\n",
              "\n",
              "    .colab-df-convert {\n",
              "      background-color: #E8F0FE;\n",
              "      border: none;\n",
              "      border-radius: 50%;\n",
              "      cursor: pointer;\n",
              "      display: none;\n",
              "      fill: #1967D2;\n",
              "      height: 32px;\n",
              "      padding: 0 0 0 0;\n",
              "      width: 32px;\n",
              "    }\n",
              "\n",
              "    .colab-df-convert:hover {\n",
              "      background-color: #E2EBFA;\n",
              "      box-shadow: 0px 1px 2px rgba(60, 64, 67, 0.3), 0px 1px 3px 1px rgba(60, 64, 67, 0.15);\n",
              "      fill: #174EA6;\n",
              "    }\n",
              "\n",
              "    [theme=dark] .colab-df-convert {\n",
              "      background-color: #3B4455;\n",
              "      fill: #D2E3FC;\n",
              "    }\n",
              "\n",
              "    [theme=dark] .colab-df-convert:hover {\n",
              "      background-color: #434B5C;\n",
              "      box-shadow: 0px 1px 3px 1px rgba(0, 0, 0, 0.15);\n",
              "      filter: drop-shadow(0px 1px 2px rgba(0, 0, 0, 0.3));\n",
              "      fill: #FFFFFF;\n",
              "    }\n",
              "  </style>\n",
              "\n",
              "      <script>\n",
              "        const buttonEl =\n",
              "          document.querySelector('#df-7e5f1402-e762-4b31-a472-bd8b1232a326 button.colab-df-convert');\n",
              "        buttonEl.style.display =\n",
              "          google.colab.kernel.accessAllowed ? 'block' : 'none';\n",
              "\n",
              "        async function convertToInteractive(key) {\n",
              "          const element = document.querySelector('#df-7e5f1402-e762-4b31-a472-bd8b1232a326');\n",
              "          const dataTable =\n",
              "            await google.colab.kernel.invokeFunction('convertToInteractive',\n",
              "                                                     [key], {});\n",
              "          if (!dataTable) return;\n",
              "\n",
              "          const docLinkHtml = 'Like what you see? Visit the ' +\n",
              "            '<a target=\"_blank\" href=https://colab.research.google.com/notebooks/data_table.ipynb>data table notebook</a>'\n",
              "            + ' to learn more about interactive tables.';\n",
              "          element.innerHTML = '';\n",
              "          dataTable['output_type'] = 'display_data';\n",
              "          await google.colab.output.renderOutput(dataTable, element);\n",
              "          const docLink = document.createElement('div');\n",
              "          docLink.innerHTML = docLinkHtml;\n",
              "          element.appendChild(docLink);\n",
              "        }\n",
              "      </script>\n",
              "    </div>\n",
              "  </div>\n",
              "  "
            ]
          },
          "metadata": {},
          "execution_count": 355
        }
      ]
    },
    {
      "cell_type": "code",
      "source": [
        "max_epochs = 100 if not os.getenv(\"CI\", False) else 2"
      ],
      "metadata": {
        "id": "KaM5yMDF3HFK"
      },
      "execution_count": 356,
      "outputs": []
    },
    {
      "cell_type": "code",
      "source": [
        "class ClassificationSMOTE():\n",
        "    \"\"\"\n",
        "    Apply SMOTE for classification tasks.\n",
        "    This will average a percentage p of the elements in the batch with other elements.\n",
        "    The target will stay unchanged and keep the value of the most important row in the mix.\n",
        "    \"\"\"\n",
        "    def __init__(self, device_name=\"auto\", p=0.8, alpha=0.5, beta=0.5, seed=0):\n",
        "        \"\"\n",
        "        self.seed = seed\n",
        "        self._set_seed()\n",
        "        self.device = define_device(device_name)\n",
        "        self.alpha = alpha\n",
        "        self.beta = beta\n",
        "        self.p = p\n",
        "        if (p < 0.) or (p > 1.0):\n",
        "            raise ValueError(\"Value of p should be between 0. and 1.\")\n",
        "\n",
        "    def _set_seed(self):\n",
        "        torch.manual_seed(self.seed)\n",
        "        np.random.seed(self.seed)\n",
        "        return\n",
        "\n",
        "    def __call__(self, X, y):\n",
        "        batch_size = X.shape[0]\n",
        "        random_values = torch.rand(batch_size, device=self.device)\n",
        "        idx_to_change = random_values < self.p\n",
        "\n",
        "        # ensure that first element to switch has probability > 0.5\n",
        "        np_betas = np.random.beta(self.alpha, self.beta, batch_size) / 2 + 0.5\n",
        "        random_betas = torch.from_numpy(np_betas).to(self.device).float()\n",
        "        index_permute = torch.randperm(batch_size, device=self.device)\n",
        "\n",
        "        X[idx_to_change] = random_betas[idx_to_change, None] * X[idx_to_change]\n",
        "        X[idx_to_change] += (1 - random_betas[idx_to_change, None]) * X[index_permute][idx_to_change].view(X[idx_to_change].size())  # noqa\n",
        "\n",
        "        return X, y"
      ],
      "metadata": {
        "id": "Q3RSrW5a8IYb"
      },
      "execution_count": 357,
      "outputs": []
    },
    {
      "cell_type": "code",
      "source": [
        "from pytorch_tabnet.augmentations import ClassificationSMOTE\n",
        "aug = ClassificationSMOTE(p=0.2)"
      ],
      "metadata": {
        "id": "OG4EELLx8LRH"
      },
      "execution_count": 358,
      "outputs": []
    },
    {
      "cell_type": "code",
      "source": [
        "save_history = []\n",
        "for _ in range(2):\n",
        "    clf.fit(\n",
        "        X_train=X_train, y_train=y_train,\n",
        "        eval_set=[(X_train, y_train), (X_valid, y_valid)],\n",
        "        eval_name=['train', 'valid'],\n",
        "        eval_metric=['auc'],\n",
        "        max_epochs=max_epochs , patience=20,\n",
        "        batch_size=1024, virtual_batch_size=128,\n",
        "        num_workers=0,\n",
        "        weights=1,\n",
        "        drop_last=False,\n",
        "        augmentations=aug,#aug, None\n",
        "    )\n",
        "    save_history.append(clf.history[\"valid_auc\"])"
      ],
      "metadata": {
        "colab": {
          "base_uri": "https://localhost:8080/"
        },
        "id": "bMdIJzCv3QvZ",
        "outputId": "ff2dbda5-feb9-4f15-a5ea-009569641b0c"
      },
      "execution_count": 359,
      "outputs": [
        {
          "output_type": "stream",
          "name": "stdout",
          "text": [
            "epoch 0  | loss: 0.81351 | train_auc: 0.47546 | valid_auc: 0.4825  |  0:00:00s\n",
            "epoch 1  | loss: 0.50138 | train_auc: 0.49826 | valid_auc: 0.49837 |  0:00:00s\n",
            "epoch 2  | loss: 0.43604 | train_auc: 0.48256 | valid_auc: 0.48574 |  0:00:00s\n",
            "epoch 3  | loss: 0.37668 | train_auc: 0.37149 | valid_auc: 0.33758 |  0:00:00s\n",
            "epoch 4  | loss: 0.3434  | train_auc: 0.47797 | valid_auc: 0.42973 |  0:00:01s\n",
            "epoch 5  | loss: 0.29366 | train_auc: 0.69568 | valid_auc: 0.65774 |  0:00:01s\n",
            "epoch 6  | loss: 0.2724  | train_auc: 0.83964 | valid_auc: 0.80571 |  0:00:01s\n",
            "epoch 7  | loss: 0.25973 | train_auc: 0.90395 | valid_auc: 0.88134 |  0:00:01s\n",
            "epoch 8  | loss: 0.22621 | train_auc: 0.87032 | valid_auc: 0.86648 |  0:00:01s\n",
            "epoch 9  | loss: 0.23798 | train_auc: 0.87843 | valid_auc: 0.86759 |  0:00:02s\n",
            "epoch 10 | loss: 0.20755 | train_auc: 0.85132 | valid_auc: 0.83972 |  0:00:02s\n",
            "epoch 11 | loss: 0.19437 | train_auc: 0.89436 | valid_auc: 0.88638 |  0:00:02s\n",
            "epoch 12 | loss: 0.19785 | train_auc: 0.90776 | valid_auc: 0.89745 |  0:00:02s\n",
            "epoch 13 | loss: 0.19586 | train_auc: 0.9047  | valid_auc: 0.89716 |  0:00:02s\n",
            "epoch 14 | loss: 0.17631 | train_auc: 0.8998  | valid_auc: 0.89223 |  0:00:03s\n",
            "epoch 15 | loss: 0.20201 | train_auc: 0.89698 | valid_auc: 0.88701 |  0:00:03s\n",
            "epoch 16 | loss: 0.19756 | train_auc: 0.89314 | valid_auc: 0.88203 |  0:00:03s\n",
            "epoch 17 | loss: 0.1766  | train_auc: 0.89359 | valid_auc: 0.88205 |  0:00:03s\n",
            "epoch 18 | loss: 0.17064 | train_auc: 0.89335 | valid_auc: 0.88054 |  0:00:03s\n",
            "epoch 19 | loss: 0.17158 | train_auc: 0.89048 | valid_auc: 0.87682 |  0:00:04s\n",
            "epoch 20 | loss: 0.16778 | train_auc: 0.88803 | valid_auc: 0.8742  |  0:00:04s\n",
            "epoch 21 | loss: 0.18032 | train_auc: 0.88875 | valid_auc: 0.87492 |  0:00:04s\n",
            "epoch 22 | loss: 0.17339 | train_auc: 0.88984 | valid_auc: 0.87576 |  0:00:04s\n",
            "epoch 23 | loss: 0.16869 | train_auc: 0.89524 | valid_auc: 0.88229 |  0:00:04s\n",
            "epoch 24 | loss: 0.15913 | train_auc: 0.90418 | valid_auc: 0.89296 |  0:00:05s\n",
            "epoch 25 | loss: 0.15028 | train_auc: 0.91015 | valid_auc: 0.90144 |  0:00:05s\n",
            "epoch 26 | loss: 0.16108 | train_auc: 0.91254 | valid_auc: 0.90603 |  0:00:05s\n",
            "epoch 27 | loss: 0.14504 | train_auc: 0.91167 | valid_auc: 0.90601 |  0:00:05s\n",
            "epoch 28 | loss: 0.15539 | train_auc: 0.91331 | valid_auc: 0.90882 |  0:00:06s\n",
            "epoch 29 | loss: 0.14596 | train_auc: 0.91951 | valid_auc: 0.91596 |  0:00:06s\n",
            "epoch 30 | loss: 0.14042 | train_auc: 0.92372 | valid_auc: 0.91981 |  0:00:06s\n",
            "epoch 31 | loss: 0.15108 | train_auc: 0.92912 | valid_auc: 0.92508 |  0:00:07s\n",
            "epoch 32 | loss: 0.13916 | train_auc: 0.9355  | valid_auc: 0.92723 |  0:00:07s\n",
            "epoch 33 | loss: 0.15205 | train_auc: 0.94014 | valid_auc: 0.92959 |  0:00:07s\n",
            "epoch 34 | loss: 0.13025 | train_auc: 0.9407  | valid_auc: 0.93203 |  0:00:08s\n",
            "epoch 35 | loss: 0.14065 | train_auc: 0.93845 | valid_auc: 0.93151 |  0:00:08s\n",
            "epoch 36 | loss: 0.12688 | train_auc: 0.93484 | valid_auc: 0.92895 |  0:00:08s\n",
            "epoch 37 | loss: 0.14576 | train_auc: 0.93765 | valid_auc: 0.93015 |  0:00:09s\n",
            "epoch 38 | loss: 0.14718 | train_auc: 0.9432  | valid_auc: 0.93282 |  0:00:09s\n",
            "epoch 39 | loss: 0.13735 | train_auc: 0.9485  | valid_auc: 0.9415  |  0:00:10s\n",
            "epoch 40 | loss: 0.14018 | train_auc: 0.95011 | valid_auc: 0.94595 |  0:00:10s\n",
            "epoch 41 | loss: 0.1215  | train_auc: 0.95274 | valid_auc: 0.94719 |  0:00:11s\n",
            "epoch 42 | loss: 0.13467 | train_auc: 0.95771 | valid_auc: 0.95066 |  0:00:11s\n",
            "epoch 43 | loss: 0.15491 | train_auc: 0.96101 | valid_auc: 0.95173 |  0:00:11s\n",
            "epoch 44 | loss: 0.12517 | train_auc: 0.96251 | valid_auc: 0.95272 |  0:00:12s\n",
            "epoch 45 | loss: 0.13214 | train_auc: 0.96073 | valid_auc: 0.95256 |  0:00:12s\n",
            "epoch 46 | loss: 0.12714 | train_auc: 0.95866 | valid_auc: 0.95091 |  0:00:13s\n",
            "epoch 47 | loss: 0.12395 | train_auc: 0.95865 | valid_auc: 0.9513  |  0:00:13s\n",
            "epoch 48 | loss: 0.12016 | train_auc: 0.96583 | valid_auc: 0.95724 |  0:00:13s\n",
            "epoch 49 | loss: 0.12327 | train_auc: 0.96987 | valid_auc: 0.95836 |  0:00:14s\n",
            "epoch 50 | loss: 0.11637 | train_auc: 0.97258 | valid_auc: 0.95932 |  0:00:14s\n",
            "epoch 51 | loss: 0.13951 | train_auc: 0.97368 | valid_auc: 0.96023 |  0:00:15s\n",
            "epoch 52 | loss: 0.12426 | train_auc: 0.97295 | valid_auc: 0.96034 |  0:00:15s\n",
            "epoch 53 | loss: 0.11254 | train_auc: 0.97235 | valid_auc: 0.96051 |  0:00:15s\n",
            "epoch 54 | loss: 0.1256  | train_auc: 0.97592 | valid_auc: 0.96306 |  0:00:16s\n",
            "epoch 55 | loss: 0.11696 | train_auc: 0.9793  | valid_auc: 0.96567 |  0:00:16s\n",
            "epoch 56 | loss: 0.10945 | train_auc: 0.98073 | valid_auc: 0.96729 |  0:00:16s\n",
            "epoch 57 | loss: 0.12142 | train_auc: 0.97943 | valid_auc: 0.96699 |  0:00:17s\n",
            "epoch 58 | loss: 0.12735 | train_auc: 0.97901 | valid_auc: 0.9672  |  0:00:18s\n",
            "epoch 59 | loss: 0.10354 | train_auc: 0.97826 | valid_auc: 0.96664 |  0:00:18s\n",
            "epoch 60 | loss: 0.12937 | train_auc: 0.97883 | valid_auc: 0.96639 |  0:00:18s\n",
            "epoch 61 | loss: 0.11647 | train_auc: 0.97888 | valid_auc: 0.96613 |  0:00:19s\n",
            "epoch 62 | loss: 0.115   | train_auc: 0.97903 | valid_auc: 0.96638 |  0:00:19s\n",
            "epoch 63 | loss: 0.10795 | train_auc: 0.97867 | valid_auc: 0.96689 |  0:00:20s\n",
            "epoch 64 | loss: 0.1106  | train_auc: 0.97715 | valid_auc: 0.96664 |  0:00:20s\n",
            "epoch 65 | loss: 0.11523 | train_auc: 0.97979 | valid_auc: 0.96984 |  0:00:21s\n",
            "epoch 66 | loss: 0.12032 | train_auc: 0.98373 | valid_auc: 0.97194 |  0:00:21s\n",
            "epoch 67 | loss: 0.1056  | train_auc: 0.98565 | valid_auc: 0.97248 |  0:00:22s\n",
            "epoch 68 | loss: 0.10765 | train_auc: 0.98502 | valid_auc: 0.97012 |  0:00:22s\n",
            "epoch 69 | loss: 0.09933 | train_auc: 0.98566 | valid_auc: 0.97006 |  0:00:23s\n",
            "epoch 70 | loss: 0.09207 | train_auc: 0.98484 | valid_auc: 0.97104 |  0:00:23s\n",
            "epoch 71 | loss: 0.11654 | train_auc: 0.98189 | valid_auc: 0.96803 |  0:00:24s\n",
            "epoch 72 | loss: 0.09191 | train_auc: 0.97856 | valid_auc: 0.96422 |  0:00:24s\n",
            "epoch 73 | loss: 0.09795 | train_auc: 0.97543 | valid_auc: 0.9617  |  0:00:25s\n",
            "epoch 74 | loss: 0.09788 | train_auc: 0.97362 | valid_auc: 0.96093 |  0:00:25s\n",
            "epoch 75 | loss: 0.11369 | train_auc: 0.9749  | valid_auc: 0.96341 |  0:00:26s\n",
            "epoch 76 | loss: 0.10507 | train_auc: 0.97496 | valid_auc: 0.96453 |  0:00:26s\n",
            "epoch 77 | loss: 0.09634 | train_auc: 0.97408 | valid_auc: 0.96486 |  0:00:26s\n",
            "epoch 78 | loss: 0.10846 | train_auc: 0.9768  | valid_auc: 0.97024 |  0:00:27s\n",
            "epoch 79 | loss: 0.09773 | train_auc: 0.97986 | valid_auc: 0.97406 |  0:00:27s\n",
            "epoch 80 | loss: 0.08235 | train_auc: 0.98088 | valid_auc: 0.97487 |  0:00:27s\n",
            "epoch 81 | loss: 0.10322 | train_auc: 0.98127 | valid_auc: 0.97417 |  0:00:27s\n",
            "epoch 82 | loss: 0.09922 | train_auc: 0.98262 | valid_auc: 0.97282 |  0:00:27s\n",
            "epoch 83 | loss: 0.08753 | train_auc: 0.98312 | valid_auc: 0.97272 |  0:00:28s\n",
            "epoch 84 | loss: 0.1056  | train_auc: 0.97938 | valid_auc: 0.96985 |  0:00:28s\n",
            "epoch 85 | loss: 0.10899 | train_auc: 0.97745 | valid_auc: 0.96744 |  0:00:28s\n",
            "epoch 86 | loss: 0.08441 | train_auc: 0.98144 | valid_auc: 0.97134 |  0:00:28s\n",
            "epoch 87 | loss: 0.10454 | train_auc: 0.98616 | valid_auc: 0.97609 |  0:00:28s\n",
            "epoch 88 | loss: 0.09088 | train_auc: 0.99046 | valid_auc: 0.98045 |  0:00:29s\n",
            "epoch 89 | loss: 0.1035  | train_auc: 0.9921  | valid_auc: 0.98338 |  0:00:29s\n",
            "epoch 90 | loss: 0.09552 | train_auc: 0.99273 | valid_auc: 0.98488 |  0:00:29s\n",
            "epoch 91 | loss: 0.0928  | train_auc: 0.99237 | valid_auc: 0.98417 |  0:00:29s\n",
            "epoch 92 | loss: 0.11552 | train_auc: 0.98876 | valid_auc: 0.98221 |  0:00:29s\n",
            "epoch 93 | loss: 0.09219 | train_auc: 0.98209 | valid_auc: 0.97535 |  0:00:30s\n",
            "epoch 94 | loss: 0.09948 | train_auc: 0.97942 | valid_auc: 0.96895 |  0:00:30s\n",
            "epoch 95 | loss: 0.08794 | train_auc: 0.97755 | valid_auc: 0.96599 |  0:00:30s\n",
            "epoch 96 | loss: 0.09773 | train_auc: 0.97674 | valid_auc: 0.96395 |  0:00:30s\n",
            "epoch 97 | loss: 0.09397 | train_auc: 0.98049 | valid_auc: 0.96831 |  0:00:30s\n",
            "epoch 98 | loss: 0.07955 | train_auc: 0.9855  | valid_auc: 0.97541 |  0:00:31s\n",
            "epoch 99 | loss: 0.10547 | train_auc: 0.98897 | valid_auc: 0.97901 |  0:00:31s\n",
            "Stop training because you reached max_epochs = 100 with best_epoch = 90 and best_valid_auc = 0.98488\n"
          ]
        },
        {
          "output_type": "stream",
          "name": "stderr",
          "text": [
            "/usr/local/lib/python3.7/dist-packages/pytorch_tabnet/callbacks.py:172: UserWarning: Best weights from best epoch are automatically used!\n",
            "  warnings.warn(wrn_msg)\n"
          ]
        },
        {
          "output_type": "stream",
          "name": "stdout",
          "text": [
            "epoch 0  | loss: 0.81351 | train_auc: 0.47546 | valid_auc: 0.4825  |  0:00:00s\n",
            "epoch 1  | loss: 0.50138 | train_auc: 0.49826 | valid_auc: 0.49837 |  0:00:00s\n",
            "epoch 2  | loss: 0.43604 | train_auc: 0.48256 | valid_auc: 0.48574 |  0:00:00s\n",
            "epoch 3  | loss: 0.37668 | train_auc: 0.37149 | valid_auc: 0.33758 |  0:00:00s\n",
            "epoch 4  | loss: 0.3434  | train_auc: 0.47797 | valid_auc: 0.42973 |  0:00:00s\n",
            "epoch 5  | loss: 0.29366 | train_auc: 0.69568 | valid_auc: 0.65774 |  0:00:01s\n",
            "epoch 6  | loss: 0.2724  | train_auc: 0.83964 | valid_auc: 0.80571 |  0:00:01s\n",
            "epoch 7  | loss: 0.25973 | train_auc: 0.90395 | valid_auc: 0.88134 |  0:00:01s\n",
            "epoch 8  | loss: 0.22621 | train_auc: 0.87032 | valid_auc: 0.86648 |  0:00:01s\n",
            "epoch 9  | loss: 0.23798 | train_auc: 0.87843 | valid_auc: 0.86759 |  0:00:01s\n",
            "epoch 10 | loss: 0.20755 | train_auc: 0.85132 | valid_auc: 0.83972 |  0:00:02s\n",
            "epoch 11 | loss: 0.19437 | train_auc: 0.89436 | valid_auc: 0.88638 |  0:00:02s\n",
            "epoch 12 | loss: 0.19785 | train_auc: 0.90776 | valid_auc: 0.89745 |  0:00:02s\n",
            "epoch 13 | loss: 0.19586 | train_auc: 0.9047  | valid_auc: 0.89716 |  0:00:02s\n",
            "epoch 14 | loss: 0.17631 | train_auc: 0.8998  | valid_auc: 0.89223 |  0:00:02s\n",
            "epoch 15 | loss: 0.20201 | train_auc: 0.89698 | valid_auc: 0.88701 |  0:00:03s\n",
            "epoch 16 | loss: 0.19756 | train_auc: 0.89314 | valid_auc: 0.88203 |  0:00:03s\n",
            "epoch 17 | loss: 0.1766  | train_auc: 0.89359 | valid_auc: 0.88205 |  0:00:03s\n",
            "epoch 18 | loss: 0.17064 | train_auc: 0.89335 | valid_auc: 0.88054 |  0:00:03s\n",
            "epoch 19 | loss: 0.17158 | train_auc: 0.89048 | valid_auc: 0.87682 |  0:00:03s\n",
            "epoch 20 | loss: 0.16778 | train_auc: 0.88803 | valid_auc: 0.8742  |  0:00:04s\n",
            "epoch 21 | loss: 0.18032 | train_auc: 0.88875 | valid_auc: 0.87492 |  0:00:04s\n",
            "epoch 22 | loss: 0.17339 | train_auc: 0.88984 | valid_auc: 0.87576 |  0:00:04s\n",
            "epoch 23 | loss: 0.16869 | train_auc: 0.89524 | valid_auc: 0.88229 |  0:00:04s\n",
            "epoch 24 | loss: 0.15913 | train_auc: 0.90418 | valid_auc: 0.89296 |  0:00:04s\n",
            "epoch 25 | loss: 0.15028 | train_auc: 0.91015 | valid_auc: 0.90144 |  0:00:05s\n",
            "epoch 26 | loss: 0.16108 | train_auc: 0.91254 | valid_auc: 0.90603 |  0:00:05s\n",
            "epoch 27 | loss: 0.14504 | train_auc: 0.91167 | valid_auc: 0.90601 |  0:00:05s\n",
            "epoch 28 | loss: 0.15539 | train_auc: 0.91331 | valid_auc: 0.90882 |  0:00:05s\n",
            "epoch 29 | loss: 0.14596 | train_auc: 0.91951 | valid_auc: 0.91596 |  0:00:05s\n",
            "epoch 30 | loss: 0.14042 | train_auc: 0.92372 | valid_auc: 0.91981 |  0:00:06s\n",
            "epoch 31 | loss: 0.15108 | train_auc: 0.92912 | valid_auc: 0.92508 |  0:00:06s\n",
            "epoch 32 | loss: 0.13916 | train_auc: 0.9355  | valid_auc: 0.92723 |  0:00:06s\n",
            "epoch 33 | loss: 0.15205 | train_auc: 0.94014 | valid_auc: 0.92959 |  0:00:06s\n",
            "epoch 34 | loss: 0.13025 | train_auc: 0.9407  | valid_auc: 0.93203 |  0:00:06s\n",
            "epoch 35 | loss: 0.14065 | train_auc: 0.93845 | valid_auc: 0.93151 |  0:00:07s\n",
            "epoch 36 | loss: 0.12688 | train_auc: 0.93484 | valid_auc: 0.92895 |  0:00:07s\n",
            "epoch 37 | loss: 0.14576 | train_auc: 0.93765 | valid_auc: 0.93015 |  0:00:07s\n",
            "epoch 38 | loss: 0.14718 | train_auc: 0.9432  | valid_auc: 0.93282 |  0:00:07s\n",
            "epoch 39 | loss: 0.13735 | train_auc: 0.9485  | valid_auc: 0.9415  |  0:00:07s\n",
            "epoch 40 | loss: 0.14018 | train_auc: 0.95011 | valid_auc: 0.94595 |  0:00:08s\n",
            "epoch 41 | loss: 0.1215  | train_auc: 0.95274 | valid_auc: 0.94719 |  0:00:08s\n",
            "epoch 42 | loss: 0.13467 | train_auc: 0.95771 | valid_auc: 0.95066 |  0:00:08s\n",
            "epoch 43 | loss: 0.15491 | train_auc: 0.96101 | valid_auc: 0.95173 |  0:00:08s\n",
            "epoch 44 | loss: 0.12517 | train_auc: 0.96251 | valid_auc: 0.95272 |  0:00:08s\n",
            "epoch 45 | loss: 0.13214 | train_auc: 0.96073 | valid_auc: 0.95256 |  0:00:08s\n",
            "epoch 46 | loss: 0.12714 | train_auc: 0.95866 | valid_auc: 0.95091 |  0:00:09s\n",
            "epoch 47 | loss: 0.12395 | train_auc: 0.95865 | valid_auc: 0.9513  |  0:00:09s\n",
            "epoch 48 | loss: 0.12016 | train_auc: 0.96583 | valid_auc: 0.95724 |  0:00:09s\n",
            "epoch 49 | loss: 0.12327 | train_auc: 0.96987 | valid_auc: 0.95836 |  0:00:09s\n",
            "epoch 50 | loss: 0.11637 | train_auc: 0.97258 | valid_auc: 0.95932 |  0:00:09s\n",
            "epoch 51 | loss: 0.13951 | train_auc: 0.97368 | valid_auc: 0.96023 |  0:00:10s\n",
            "epoch 52 | loss: 0.12426 | train_auc: 0.97295 | valid_auc: 0.96034 |  0:00:10s\n",
            "epoch 53 | loss: 0.11254 | train_auc: 0.97235 | valid_auc: 0.96051 |  0:00:10s\n",
            "epoch 54 | loss: 0.1256  | train_auc: 0.97592 | valid_auc: 0.96306 |  0:00:10s\n",
            "epoch 55 | loss: 0.11696 | train_auc: 0.9793  | valid_auc: 0.96567 |  0:00:10s\n",
            "epoch 56 | loss: 0.10945 | train_auc: 0.98073 | valid_auc: 0.96729 |  0:00:11s\n",
            "epoch 57 | loss: 0.12142 | train_auc: 0.97943 | valid_auc: 0.96699 |  0:00:11s\n",
            "epoch 58 | loss: 0.12735 | train_auc: 0.97901 | valid_auc: 0.9672  |  0:00:11s\n",
            "epoch 59 | loss: 0.10354 | train_auc: 0.97826 | valid_auc: 0.96664 |  0:00:11s\n",
            "epoch 60 | loss: 0.12937 | train_auc: 0.97883 | valid_auc: 0.96639 |  0:00:11s\n",
            "epoch 61 | loss: 0.11647 | train_auc: 0.97888 | valid_auc: 0.96613 |  0:00:12s\n",
            "epoch 62 | loss: 0.115   | train_auc: 0.97903 | valid_auc: 0.96638 |  0:00:12s\n",
            "epoch 63 | loss: 0.10795 | train_auc: 0.97867 | valid_auc: 0.96689 |  0:00:12s\n",
            "epoch 64 | loss: 0.1106  | train_auc: 0.97715 | valid_auc: 0.96664 |  0:00:12s\n",
            "epoch 65 | loss: 0.11523 | train_auc: 0.97979 | valid_auc: 0.96984 |  0:00:12s\n",
            "epoch 66 | loss: 0.12032 | train_auc: 0.98373 | valid_auc: 0.97194 |  0:00:13s\n",
            "epoch 67 | loss: 0.1056  | train_auc: 0.98565 | valid_auc: 0.97248 |  0:00:13s\n",
            "epoch 68 | loss: 0.10765 | train_auc: 0.98502 | valid_auc: 0.97012 |  0:00:13s\n",
            "epoch 69 | loss: 0.09933 | train_auc: 0.98566 | valid_auc: 0.97006 |  0:00:13s\n",
            "epoch 70 | loss: 0.09207 | train_auc: 0.98484 | valid_auc: 0.97104 |  0:00:13s\n",
            "epoch 71 | loss: 0.11654 | train_auc: 0.98189 | valid_auc: 0.96803 |  0:00:14s\n",
            "epoch 72 | loss: 0.09191 | train_auc: 0.97856 | valid_auc: 0.96422 |  0:00:14s\n",
            "epoch 73 | loss: 0.09795 | train_auc: 0.97543 | valid_auc: 0.9617  |  0:00:14s\n",
            "epoch 74 | loss: 0.09788 | train_auc: 0.97362 | valid_auc: 0.96093 |  0:00:14s\n",
            "epoch 75 | loss: 0.11369 | train_auc: 0.9749  | valid_auc: 0.96341 |  0:00:14s\n",
            "epoch 76 | loss: 0.10507 | train_auc: 0.97496 | valid_auc: 0.96453 |  0:00:14s\n",
            "epoch 77 | loss: 0.09634 | train_auc: 0.97408 | valid_auc: 0.96486 |  0:00:15s\n",
            "epoch 78 | loss: 0.10846 | train_auc: 0.9768  | valid_auc: 0.97024 |  0:00:15s\n",
            "epoch 79 | loss: 0.09773 | train_auc: 0.97986 | valid_auc: 0.97406 |  0:00:15s\n",
            "epoch 80 | loss: 0.08235 | train_auc: 0.98088 | valid_auc: 0.97487 |  0:00:15s\n",
            "epoch 81 | loss: 0.10322 | train_auc: 0.98127 | valid_auc: 0.97417 |  0:00:15s\n",
            "epoch 82 | loss: 0.09922 | train_auc: 0.98262 | valid_auc: 0.97282 |  0:00:16s\n",
            "epoch 83 | loss: 0.08753 | train_auc: 0.98312 | valid_auc: 0.97272 |  0:00:16s\n",
            "epoch 84 | loss: 0.1056  | train_auc: 0.97938 | valid_auc: 0.96985 |  0:00:16s\n",
            "epoch 85 | loss: 0.10899 | train_auc: 0.97745 | valid_auc: 0.96744 |  0:00:16s\n",
            "epoch 86 | loss: 0.08441 | train_auc: 0.98144 | valid_auc: 0.97134 |  0:00:16s\n",
            "epoch 87 | loss: 0.10454 | train_auc: 0.98616 | valid_auc: 0.97609 |  0:00:17s\n",
            "epoch 88 | loss: 0.09088 | train_auc: 0.99046 | valid_auc: 0.98045 |  0:00:17s\n",
            "epoch 89 | loss: 0.1035  | train_auc: 0.9921  | valid_auc: 0.98338 |  0:00:17s\n",
            "epoch 90 | loss: 0.09552 | train_auc: 0.99273 | valid_auc: 0.98488 |  0:00:17s\n",
            "epoch 91 | loss: 0.0928  | train_auc: 0.99237 | valid_auc: 0.98417 |  0:00:17s\n",
            "epoch 92 | loss: 0.11552 | train_auc: 0.98876 | valid_auc: 0.98221 |  0:00:18s\n",
            "epoch 93 | loss: 0.09219 | train_auc: 0.98209 | valid_auc: 0.97535 |  0:00:18s\n",
            "epoch 94 | loss: 0.09948 | train_auc: 0.97942 | valid_auc: 0.96895 |  0:00:18s\n",
            "epoch 95 | loss: 0.08794 | train_auc: 0.97755 | valid_auc: 0.96599 |  0:00:18s\n",
            "epoch 96 | loss: 0.09773 | train_auc: 0.97674 | valid_auc: 0.96395 |  0:00:18s\n",
            "epoch 97 | loss: 0.09397 | train_auc: 0.98049 | valid_auc: 0.96831 |  0:00:19s\n",
            "epoch 98 | loss: 0.07955 | train_auc: 0.9855  | valid_auc: 0.97541 |  0:00:19s\n",
            "epoch 99 | loss: 0.10547 | train_auc: 0.98897 | valid_auc: 0.97901 |  0:00:19s\n",
            "Stop training because you reached max_epochs = 100 with best_epoch = 90 and best_valid_auc = 0.98488\n"
          ]
        },
        {
          "output_type": "stream",
          "name": "stderr",
          "text": [
            "/usr/local/lib/python3.7/dist-packages/pytorch_tabnet/callbacks.py:172: UserWarning: Best weights from best epoch are automatically used!\n",
            "  warnings.warn(wrn_msg)\n"
          ]
        }
      ]
    },
    {
      "cell_type": "code",
      "source": [
        "plt.plot(clf.history['loss'])"
      ],
      "metadata": {
        "colab": {
          "base_uri": "https://localhost:8080/",
          "height": 282
        },
        "id": "-j1jSKYa3Rrr",
        "outputId": "30c3e730-2e2d-4922-e40e-dc4406ae4d09"
      },
      "execution_count": 360,
      "outputs": [
        {
          "output_type": "execute_result",
          "data": {
            "text/plain": [
              "[<matplotlib.lines.Line2D at 0x7f9d0365fdd0>]"
            ]
          },
          "metadata": {},
          "execution_count": 360
        },
        {
          "output_type": "display_data",
          "data": {
            "text/plain": [
              "<Figure size 432x288 with 1 Axes>"
            ],
            "image/png": "[encoded data removed]"
          },
          "metadata": {
            "needs_background": "light"
          }
        }
      ]
    },
    {
      "cell_type": "code",
      "source": [
        "plt.plot(clf.history['train_auc'])\n",
        "plt.plot(clf.history['valid_auc'])"
      ],
      "metadata": {
        "colab": {
          "base_uri": "https://localhost:8080/",
          "height": 282
        },
        "id": "hjAQ0bH338_t",
        "outputId": "417983cb-cfd7-46e1-ef6b-831ebc9f4ba6"
      },
      "execution_count": 361,
      "outputs": [
        {
          "output_type": "execute_result",
          "data": {
            "text/plain": [
              "[<matplotlib.lines.Line2D at 0x7f9d04cafcd0>]"
            ]
          },
          "metadata": {},
          "execution_count": 361
        },
        {
          "output_type": "display_data",
          "data": {
            "text/plain": [
              "<Figure size 432x288 with 1 Axes>"
            ],
            "image/png": "[encoded data removed]"
          },
          "metadata": {
            "needs_background": "light"
          }
        }
      ]
    },
    {
      "cell_type": "code",
      "source": [
        "plt.plot(clf.history['lr'])"
      ],
      "metadata": {
        "colab": {
          "base_uri": "https://localhost:8080/",
          "height": 282
        },
        "id": "T-oDi1HE4X_f",
        "outputId": "68118561-0cc1-4f76-b391-8c250ba7e876"
      },
      "execution_count": 362,
      "outputs": [
        {
          "output_type": "execute_result",
          "data": {
            "text/plain": [
              "[<matplotlib.lines.Line2D at 0x7f9d04e8de50>]"
            ]
          },
          "metadata": {},
          "execution_count": 362
        },
        {
          "output_type": "display_data",
          "data": {
            "text/plain": [
              "<Figure size 432x288 with 1 Axes>"
            ],
            "image/png": "[encoded data removed]"
          },
          "metadata": {
            "needs_background": "light"
          }
        }
      ]
    },
    {
      "cell_type": "code",
      "source": [
        "preds = clf.predict_proba(X_test)\n",
        "test_auc = roc_auc_score(y_score=preds[:,1], y_true=y_test)\n",
        "\n",
        "\n",
        "preds_valid = clf.predict_proba(X_valid)\n",
        "valid_auc = roc_auc_score(y_score=preds_valid[:,1], y_true=y_valid)\n",
        "\n",
        "print(f\"BEST VALID SCORE : {clf.best_cost}\")\n",
        "print(f\"FINAL TEST SCORE : {test_auc}\")"
      ],
      "metadata": {
        "colab": {
          "base_uri": "https://localhost:8080/"
        },
        "id": "K8urOmcs7E-4",
        "outputId": "787cc2c2-a0d2-4aa1-88a4-fc837c542c55"
      },
      "execution_count": 363,
      "outputs": [
        {
          "output_type": "stream",
          "name": "stdout",
          "text": [
            "BEST VALID SCORE : 0.9848834152358995\n",
            "FINAL TEST SCORE : 0.9749053253726151\n"
          ]
        }
      ]
    },
    {
      "cell_type": "code",
      "source": [
        "assert np.isclose(valid_auc, np.max(clf.history['valid_auc']), atol=1e-6)"
      ],
      "metadata": {
        "id": "PJnFRUU87UUS"
      },
      "execution_count": 364,
      "outputs": []
    },
    {
      "cell_type": "code",
      "source": [
        "clf.predict(X_test)"
      ],
      "metadata": {
        "colab": {
          "base_uri": "https://localhost:8080/"
        },
        "id": "feh79dwu7b43",
        "outputId": "d9fddc96-5dae-481d-ded7-099ab61560a2"
      },
      "execution_count": 365,
      "outputs": [
        {
          "output_type": "execute_result",
          "data": {
            "text/plain": [
              "array(['classZero', 'classZero', 'classOne', ..., 'classZero',\n",
              "       'classZero', 'classZero'], dtype='<U9')"
            ]
          },
          "metadata": {},
          "execution_count": 365
        }
      ]
    },
    {
      "cell_type": "code",
      "source": [
        "\n",
        "saving_path_name = \"./tabnet_model_test_1\"\n",
        "saved_filepath = clf.save_model(saving_path_name)"
      ],
      "metadata": {
        "colab": {
          "base_uri": "https://localhost:8080/"
        },
        "id": "KaWI68kP7eqL",
        "outputId": "792e4b5a-814b-4e3e-fa0e-b14a81c0f21c"
      },
      "execution_count": 366,
      "outputs": [
        {
          "output_type": "stream",
          "name": "stdout",
          "text": [
            "Successfully saved model at ./tabnet_model_test_1.zip\n"
          ]
        }
      ]
    },
    {
      "cell_type": "code",
      "source": [
        "loaded_clf = TabNetClassifier()\n",
        "loaded_clf.load_model(saved_filepath)"
      ],
      "metadata": {
        "colab": {
          "base_uri": "https://localhost:8080/"
        },
        "id": "Pt6UA5nW7ujf",
        "outputId": "142278d1-7665-4f8b-aca3-7a58611cc764"
      },
      "execution_count": 367,
      "outputs": [
        {
          "output_type": "stream",
          "name": "stderr",
          "text": [
            "/usr/local/lib/python3.7/dist-packages/pytorch_tabnet/abstract_model.py:75: UserWarning: Device used : cpu\n",
            "  warnings.warn(f\"Device used : {self.device}\")\n"
          ]
        }
      ]
    },
    {
      "cell_type": "code",
      "source": [
        "loaded_preds = loaded_clf.predict_proba(X_test)\n",
        "loaded_test_auc = roc_auc_score(y_score=loaded_preds[:,1], y_true=y_test)\n",
        "\n",
        "print(f\"FINAL TEST SCORE  : {loaded_test_auc}\")"
      ],
      "metadata": {
        "colab": {
          "base_uri": "https://localhost:8080/"
        },
        "id": "C6OfxSxy7wsG",
        "outputId": "05bb61ba-a84f-4d0b-c2ee-00979ad01ae5"
      },
      "execution_count": 368,
      "outputs": [
        {
          "output_type": "stream",
          "name": "stdout",
          "text": [
            "FINAL TEST SCORE  : 0.9749053253726151\n"
          ]
        }
      ]
    },
    {
      "cell_type": "code",
      "source": [
        "assert(test_auc == loaded_test_auc)"
      ],
      "metadata": {
        "id": "8zAKtR0y70PG"
      },
      "execution_count": 369,
      "outputs": []
    },
    {
      "cell_type": "code",
      "source": [
        "loaded_clf.predict(X_test)"
      ],
      "metadata": {
        "colab": {
          "base_uri": "https://localhost:8080/"
        },
        "id": "YCyXvKdb72Y5",
        "outputId": "2384f1dc-3e38-46dc-8972-7e48f711f44d"
      },
      "execution_count": 370,
      "outputs": [
        {
          "output_type": "execute_result",
          "data": {
            "text/plain": [
              "array(['classZero', 'classZero', 'classOne', ..., 'classZero',\n",
              "       'classZero', 'classZero'], dtype='<U9')"
            ]
          },
          "metadata": {},
          "execution_count": 370
        }
      ]
    },
    {
      "cell_type": "code",
      "source": [
        "clf.feature_importances_"
      ],
      "metadata": {
        "colab": {
          "base_uri": "https://localhost:8080/"
        },
        "id": "HzyI7uxK74dK",
        "outputId": "78b56536-35a4-4e80-f3ae-e87079ce7524"
      },
      "execution_count": 371,
      "outputs": [
        {
          "output_type": "execute_result",
          "data": {
            "text/plain": [
              "array([0.04649551, 0.00390387, 0.06139185, 0.00539903, 0.14981975,\n",
              "       0.01699773, 0.11064008, 0.03606804, 0.00130057, 0.01305726,\n",
              "       0.03225595, 0.05550121, 0.04061767, 0.01128237, 0.01739304,\n",
              "       0.15776014, 0.00906424, 0.03758221, 0.0284317 , 0.02136708,\n",
              "       0.00888869, 0.00596731, 0.00853639, 0.01950517, 0.00049642,\n",
              "       0.01939533, 0.02930385, 0.05157755])"
            ]
          },
          "metadata": {},
          "execution_count": 371
        }
      ]
    },
    {
      "cell_type": "code",
      "source": [
        "explain_matrix, masks = clf.explain(X_test)"
      ],
      "metadata": {
        "id": "dCXNPfsO7638"
      },
      "execution_count": 372,
      "outputs": []
    },
    {
      "cell_type": "code",
      "source": [
        "fig, axs = plt.subplots(1, 3, figsize=(20,20))\n",
        "\n",
        "for i in range(3):\n",
        "    axs[i].imshow(masks[i][:50])\n",
        "    axs[i].set_title(f\"mask {i}\")"
      ],
      "metadata": {
        "colab": {
          "base_uri": "https://localhost:8080/",
          "height": 650
        },
        "id": "pBNO1IGq79Sj",
        "outputId": "b34b3850-37af-4be5-b9cb-04371196b814"
      },
      "execution_count": 373,
      "outputs": [
        {
          "output_type": "display_data",
          "data": {
            "text/plain": [
              "<Figure size 1440x1440 with 3 Axes>"
            ],
            "image/png": "[encoded data removed]"
          },
          "metadata": {
            "needs_background": "light"
          }
        }
      ]
    },
    {
      "cell_type": "code",
      "source": [],
      "metadata": {
        "id": "vKlWwxTl7_s_"
      },
      "execution_count": 373,
      "outputs": []
    }
  ]
}