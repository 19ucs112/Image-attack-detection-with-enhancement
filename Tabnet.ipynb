{
  "nbformat": 4,
  "nbformat_minor": 0,
  "metadata": {
    "colab": {
      "name": "Tabnet.ipynb",
      "provenance": [],
      "collapsed_sections": []
    },
    "kernelspec": {
      "name": "python3",
      "display_name": "Python 3"
    },
    "language_info": {
      "name": "python"
    }
  },
  "cells": [
    {
      "cell_type": "code",
      "execution_count": 55,
      "metadata": {
        "id": "C2WN11SbEJ4o"
      },
      "outputs": [],
      "source": []
    },
    {
      "cell_type": "code",
      "source": [],
      "metadata": {
        "id": "BBjuG76-HFn2"
      },
      "execution_count": null,
      "outputs": []
    },
    {
      "cell_type": "code",
      "source": [
        "from pytorch_tabnet.tab_model import TabNetClassifier\n",
        "\n",
        "import torch\n",
        "from sklearn.preprocessing import LabelEncoder\n",
        "from sklearn.metrics import roc_auc_score\n",
        "\n",
        "import pandas as pd\n",
        "import numpy as np\n",
        "np.random.seed(0)\n",
        "\n",
        "\n",
        "import os\n",
        "import wget\n",
        "from pathlib import Path\n",
        "\n",
        "from matplotlib import pyplot as plt\n",
        "%matplotlib inline"
      ],
      "metadata": {
        "id": "YbCMrlfUGl_9"
      },
      "execution_count": 8,
      "outputs": []
    },
    {
      "cell_type": "code",
      "source": [
        "url = \"https://archive.ics.uci.edu/ml/machine-learning-databases/adult/adult.data\"\n",
        "dataset_name = 'census-income'\n",
        "out = Path(os.getcwd()+'/data/'+dataset_name+'.csv')"
      ],
      "metadata": {
        "id": "amPe10ROH2HP"
      },
      "execution_count": 9,
      "outputs": []
    },
    {
      "cell_type": "code",
      "source": [
        "out.parent.mkdir(parents=True, exist_ok=True)\n",
        "if out.exists():\n",
        "    print(\"File already exists.\")\n",
        "else:\n",
        "    print(\"Downloading file...\")\n",
        "    wget.download(url, out.as_posix())"
      ],
      "metadata": {
        "colab": {
          "base_uri": "https://localhost:8080/"
        },
        "id": "o5bZCxr_IGY0",
        "outputId": "80d9d61a-ed25-4feb-d991-50d7d4b566e6"
      },
      "execution_count": 10,
      "outputs": [
        {
          "output_type": "stream",
          "name": "stdout",
          "text": [
            "Downloading file...\n"
          ]
        }
      ]
    },
    {
      "cell_type": "code",
      "source": [
        "train = pd.read_csv(out)\n",
        "target = ' <=50K'\n",
        "if \"Set\" not in train.columns:\n",
        "    train[\"Set\"] = np.random.choice([\"train\", \"valid\", \"test\"], p =[.8, .1, .1], size=(train.shape[0],))\n",
        "\n",
        "train_indices = train[train.Set==\"train\"].index\n",
        "valid_indices = train[train.Set==\"valid\"].index\n",
        "test_indices = train[train.Set==\"test\"].index"
      ],
      "metadata": {
        "id": "F5-NWV60IIRZ"
      },
      "execution_count": 11,
      "outputs": []
    },
    {
      "cell_type": "code",
      "source": [
        "nunique = train.nunique()\n",
        "types = train.dtypes\n",
        "\n",
        "categorical_columns = []\n",
        "categorical_dims =  {}\n",
        "for col in train.columns:\n",
        "    if types[col] == 'object' or nunique[col] < 200:\n",
        "        print(col, train[col].nunique())\n",
        "        l_enc = LabelEncoder()\n",
        "        train[col] = train[col].fillna(\"VV_likely\")\n",
        "        train[col] = l_enc.fit_transform(train[col].values)\n",
        "        categorical_columns.append(col)\n",
        "        categorical_dims[col] = len(l_enc.classes_)\n",
        "    else:\n",
        "        train.fillna(train.loc[train_indices, col].mean(), inplace=True)"
      ],
      "metadata": {
        "colab": {
          "base_uri": "https://localhost:8080/"
        },
        "id": "Y19LUiUhJsLY",
        "outputId": "b6f308b7-bffe-4869-e0da-7d505534ad69"
      },
      "execution_count": 12,
      "outputs": [
        {
          "output_type": "stream",
          "name": "stdout",
          "text": [
            "39 73\n",
            " State-gov 9\n",
            " Bachelors 16\n",
            " 13 16\n",
            " Never-married 7\n",
            " Adm-clerical 15\n",
            " Not-in-family 6\n",
            " White 5\n",
            " Male 2\n",
            " 2174 119\n",
            " 0 92\n",
            " 40 94\n",
            " United-States 42\n",
            " <=50K 2\n",
            "Set 3\n"
          ]
        }
      ]
    },
    {
      "cell_type": "code",
      "source": [
        "# check that pipeline accepts strings\n",
        "train.loc[train[target]==0, target] = \"wealthy\"\n",
        "train.loc[train[target]==1, target] = \"not_wealthy\""
      ],
      "metadata": {
        "id": "RAxCOKFcJxvp"
      },
      "execution_count": 13,
      "outputs": []
    },
    {
      "cell_type": "code",
      "source": [
        "unused_feat = ['Set']\n",
        "\n",
        "features = [ col for col in train.columns if col not in unused_feat+[target]] \n",
        "\n",
        "cat_idxs = [ i for i, f in enumerate(features) if f in categorical_columns]\n",
        "\n",
        "cat_dims = [ categorical_dims[f] for i, f in enumerate(features) if f in categorical_columns]"
      ],
      "metadata": {
        "id": "UHdeVSvjJ19s"
      },
      "execution_count": 14,
      "outputs": []
    },
    {
      "cell_type": "code",
      "source": [
        "tabnet_params = {\"cat_idxs\":cat_idxs,\n",
        "                 \"cat_dims\":cat_dims,\n",
        "                 \"cat_emb_dim\":1,\n",
        "                 \"optimizer_fn\":torch.optim.Adam,\n",
        "                 \"optimizer_params\":dict(lr=2e-2),\n",
        "                 \"scheduler_params\":{\"step_size\":50, # how to use learning rate scheduler\n",
        "                                 \"gamma\":0.9},\n",
        "                 \"scheduler_fn\":torch.optim.lr_scheduler.StepLR,\n",
        "                 \"mask_type\":'entmax' # \"sparsemax\"\n",
        "                }\n",
        "\n",
        "clf = TabNetClassifier(**tabnet_params\n",
        "                      )\n"
      ],
      "metadata": {
        "colab": {
          "base_uri": "https://localhost:8080/"
        },
        "id": "udTAeINeJ5jF",
        "outputId": "cb2d90bb-000b-4e10-ea79-a05508ec6bb4"
      },
      "execution_count": 37,
      "outputs": [
        {
          "output_type": "stream",
          "name": "stdout",
          "text": [
            "Device used : cpu\n"
          ]
        }
      ]
    },
    {
      "cell_type": "code",
      "source": [
        "X_train = train[features].values[train_indices]\n",
        "y_train = train[target].values[train_indices]\n",
        "\n",
        "X_valid = train[features].values[valid_indices]\n",
        "y_valid = train[target].values[valid_indices]\n",
        "\n",
        "X_test = train[features].values[test_indices]\n",
        "y_test = train[target].values[test_indices]"
      ],
      "metadata": {
        "id": "_A-96FElJ_7-"
      },
      "execution_count": 38,
      "outputs": []
    },
    {
      "cell_type": "code",
      "source": [
        "max_epochs = 100 if not os.getenv(\"CI\", False) else 2"
      ],
      "metadata": {
        "id": "yTiBuu_PKD3h"
      },
      "execution_count": 39,
      "outputs": []
    },
    {
      "cell_type": "code",
      "source": [
        "from pytorch_tabnet.augmentations import ClassificationSMOTE\n",
        "aug = ClassificationSMOTE(p=0.2)\n"
      ],
      "metadata": {
        "id": "tehs72M3KG4M"
      },
      "execution_count": 40,
      "outputs": []
    },
    {
      "cell_type": "code",
      "source": [
        "# This illustrates the warm_start=False behaviour\n",
        "save_history = []\n",
        "for _ in range(2):\n",
        "    clf.fit(\n",
        "        X_train=X_train, y_train=y_train,\n",
        "        eval_set=[(X_train, y_train), (X_valid, y_valid)],\n",
        "        eval_name=['train', 'valid'],\n",
        "        eval_metric=['auc'],\n",
        "        max_epochs=max_epochs , patience=20,\n",
        "        batch_size=1024, virtual_batch_size=128,\n",
        "        num_workers=0,\n",
        "        weights=1,\n",
        "        drop_last=False,\n",
        "        #aug, None\n",
        "    )\n",
        "    save_history.append(clf.history[\"valid_auc\"])\n",
        "\n",
        "assert(np.all(np.array(save_history[0]==np.array(save_history[1]))))"
      ],
      "metadata": {
        "colab": {
          "base_uri": "https://localhost:8080/",
          "height": 1000
        },
        "id": "LiMw9W3tQJTK",
        "outputId": "0d8c822e-a57f-41bf-eced-ad02f14c04fd"
      },
      "execution_count": 41,
      "outputs": [
        {
          "output_type": "stream",
          "name": "stdout",
          "text": [
            "epoch 0  | loss: 0.66862 | train_auc: 0.76412 | valid_auc: 0.75829 |  0:00:01s\n",
            "epoch 1  | loss: 0.51328 | train_auc: 0.81793 | valid_auc: 0.81763 |  0:00:04s\n",
            "epoch 2  | loss: 0.468   | train_auc: 0.84949 | valid_auc: 0.85203 |  0:00:05s\n",
            "epoch 3  | loss: 0.45429 | train_auc: 0.86924 | valid_auc: 0.86876 |  0:00:07s\n",
            "epoch 4  | loss: 0.42633 | train_auc: 0.88043 | valid_auc: 0.87916 |  0:00:09s\n",
            "epoch 5  | loss: 0.41388 | train_auc: 0.89286 | valid_auc: 0.88861 |  0:00:11s\n",
            "epoch 6  | loss: 0.40108 | train_auc: 0.90147 | valid_auc: 0.89255 |  0:00:14s\n",
            "epoch 7  | loss: 0.39266 | train_auc: 0.9082  | valid_auc: 0.90194 |  0:00:16s\n",
            "epoch 8  | loss: 0.38367 | train_auc: 0.91092 | valid_auc: 0.90123 |  0:00:18s\n",
            "epoch 9  | loss: 0.36867 | train_auc: 0.91528 | valid_auc: 0.90559 |  0:00:20s\n",
            "epoch 10 | loss: 0.36872 | train_auc: 0.91347 | valid_auc: 0.90866 |  0:00:21s\n",
            "epoch 11 | loss: 0.35732 | train_auc: 0.91505 | valid_auc: 0.90878 |  0:00:23s\n",
            "epoch 12 | loss: 0.35746 | train_auc: 0.91844 | valid_auc: 0.91207 |  0:00:25s\n",
            "epoch 13 | loss: 0.35192 | train_auc: 0.9197  | valid_auc: 0.91618 |  0:00:26s\n",
            "epoch 14 | loss: 0.35158 | train_auc: 0.92051 | valid_auc: 0.91766 |  0:00:28s\n",
            "epoch 15 | loss: 0.34953 | train_auc: 0.92317 | valid_auc: 0.92117 |  0:00:30s\n",
            "epoch 16 | loss: 0.34269 | train_auc: 0.92734 | valid_auc: 0.92338 |  0:00:32s\n",
            "epoch 17 | loss: 0.33569 | train_auc: 0.92799 | valid_auc: 0.92323 |  0:00:33s\n",
            "epoch 18 | loss: 0.34166 | train_auc: 0.92874 | valid_auc: 0.9243  |  0:00:35s\n",
            "epoch 19 | loss: 0.34308 | train_auc: 0.92771 | valid_auc: 0.924   |  0:00:37s\n",
            "epoch 20 | loss: 0.335   | train_auc: 0.92973 | valid_auc: 0.92447 |  0:00:38s\n",
            "epoch 21 | loss: 0.32768 | train_auc: 0.93174 | valid_auc: 0.92776 |  0:00:40s\n",
            "epoch 22 | loss: 0.32784 | train_auc: 0.93199 | valid_auc: 0.92657 |  0:00:42s\n",
            "epoch 23 | loss: 0.32992 | train_auc: 0.93279 | valid_auc: 0.92863 |  0:00:44s\n",
            "epoch 24 | loss: 0.3327  | train_auc: 0.93383 | valid_auc: 0.92954 |  0:00:45s\n",
            "epoch 25 | loss: 0.32529 | train_auc: 0.93415 | valid_auc: 0.92983 |  0:00:47s\n",
            "epoch 26 | loss: 0.31727 | train_auc: 0.93487 | valid_auc: 0.93108 |  0:00:49s\n",
            "epoch 27 | loss: 0.32178 | train_auc: 0.93373 | valid_auc: 0.92988 |  0:00:50s\n",
            "epoch 28 | loss: 0.3259  | train_auc: 0.93423 | valid_auc: 0.93002 |  0:00:52s\n",
            "epoch 29 | loss: 0.32323 | train_auc: 0.93457 | valid_auc: 0.93118 |  0:00:54s\n",
            "epoch 30 | loss: 0.32186 | train_auc: 0.93533 | valid_auc: 0.93136 |  0:00:56s\n",
            "epoch 31 | loss: 0.32105 | train_auc: 0.93337 | valid_auc: 0.92914 |  0:00:57s\n",
            "epoch 32 | loss: 0.32223 | train_auc: 0.93418 | valid_auc: 0.92887 |  0:00:59s\n",
            "epoch 33 | loss: 0.32408 | train_auc: 0.93584 | valid_auc: 0.92905 |  0:01:01s\n",
            "epoch 34 | loss: 0.32135 | train_auc: 0.93529 | valid_auc: 0.92854 |  0:01:03s\n",
            "epoch 35 | loss: 0.31344 | train_auc: 0.93493 | valid_auc: 0.92715 |  0:01:04s\n",
            "epoch 36 | loss: 0.31942 | train_auc: 0.93658 | valid_auc: 0.93126 |  0:01:06s\n",
            "epoch 37 | loss: 0.31497 | train_auc: 0.93639 | valid_auc: 0.92833 |  0:01:08s\n",
            "epoch 38 | loss: 0.32291 | train_auc: 0.93776 | valid_auc: 0.93004 |  0:01:10s\n",
            "epoch 39 | loss: 0.31824 | train_auc: 0.9359  | valid_auc: 0.92823 |  0:01:12s\n",
            "epoch 40 | loss: 0.31764 | train_auc: 0.93721 | valid_auc: 0.93117 |  0:01:14s\n",
            "epoch 41 | loss: 0.3181  | train_auc: 0.93744 | valid_auc: 0.92851 |  0:01:15s\n",
            "epoch 42 | loss: 0.31426 | train_auc: 0.93822 | valid_auc: 0.93087 |  0:01:17s\n",
            "epoch 43 | loss: 0.31635 | train_auc: 0.93744 | valid_auc: 0.9276  |  0:01:19s\n",
            "epoch 44 | loss: 0.3131  | train_auc: 0.93773 | valid_auc: 0.92881 |  0:01:20s\n",
            "epoch 45 | loss: 0.31258 | train_auc: 0.93765 | valid_auc: 0.92887 |  0:01:22s\n",
            "epoch 46 | loss: 0.31944 | train_auc: 0.93851 | valid_auc: 0.92989 |  0:01:24s\n",
            "epoch 47 | loss: 0.31642 | train_auc: 0.93807 | valid_auc: 0.9297  |  0:01:26s\n",
            "epoch 48 | loss: 0.30995 | train_auc: 0.93945 | valid_auc: 0.92878 |  0:01:27s\n",
            "epoch 49 | loss: 0.31434 | train_auc: 0.93886 | valid_auc: 0.92883 |  0:01:29s\n",
            "epoch 50 | loss: 0.31181 | train_auc: 0.93895 | valid_auc: 0.92759 |  0:01:31s\n",
            "\n",
            "Early stopping occurred at epoch 50 with best_epoch = 30 and best_valid_auc = 0.93136\n",
            "Best weights from best epoch are automatically used!\n",
            "epoch 0  | loss: 0.3253  | train_auc: 0.93381 | valid_auc: 0.92987 |  0:00:01s\n",
            "epoch 1  | loss: 0.32293 | train_auc: 0.93521 | valid_auc: 0.92936 |  0:00:03s\n",
            "epoch 2  | loss: 0.32564 | train_auc: 0.93453 | valid_auc: 0.92829 |  0:00:05s\n",
            "epoch 3  | loss: 0.32258 | train_auc: 0.93583 | valid_auc: 0.93066 |  0:00:06s\n",
            "epoch 4  | loss: 0.32386 | train_auc: 0.93486 | valid_auc: 0.92961 |  0:00:08s\n",
            "epoch 5  | loss: 0.32083 | train_auc: 0.93607 | valid_auc: 0.93183 |  0:00:10s\n",
            "epoch 6  | loss: 0.31902 | train_auc: 0.93584 | valid_auc: 0.92908 |  0:00:11s\n",
            "epoch 7  | loss: 0.31458 | train_auc: 0.93732 | valid_auc: 0.93178 |  0:00:13s\n",
            "epoch 8  | loss: 0.32026 | train_auc: 0.93786 | valid_auc: 0.93007 |  0:00:15s\n",
            "epoch 9  | loss: 0.32062 | train_auc: 0.93826 | valid_auc: 0.93116 |  0:00:17s\n",
            "epoch 10 | loss: 0.32014 | train_auc: 0.93625 | valid_auc: 0.93071 |  0:00:18s\n",
            "epoch 11 | loss: 0.317   | train_auc: 0.93687 | valid_auc: 0.93033 |  0:00:20s\n",
            "epoch 12 | loss: 0.32133 | train_auc: 0.93735 | valid_auc: 0.93021 |  0:00:22s\n",
            "epoch 13 | loss: 0.31573 | train_auc: 0.93703 | valid_auc: 0.93109 |  0:00:23s\n",
            "epoch 14 | loss: 0.31894 | train_auc: 0.93211 | valid_auc: 0.92686 |  0:00:25s\n",
            "epoch 15 | loss: 0.31989 | train_auc: 0.93458 | valid_auc: 0.92739 |  0:00:27s\n",
            "epoch 16 | loss: 0.31709 | train_auc: 0.93836 | valid_auc: 0.92837 |  0:00:30s\n",
            "epoch 17 | loss: 0.31123 | train_auc: 0.93643 | valid_auc: 0.92693 |  0:00:32s\n",
            "epoch 18 | loss: 0.31569 | train_auc: 0.93975 | valid_auc: 0.93003 |  0:00:33s\n",
            "epoch 19 | loss: 0.31044 | train_auc: 0.93951 | valid_auc: 0.92909 |  0:00:35s\n",
            "epoch 20 | loss: 0.31054 | train_auc: 0.93914 | valid_auc: 0.9296  |  0:00:37s\n",
            "epoch 21 | loss: 0.30432 | train_auc: 0.93994 | valid_auc: 0.92991 |  0:00:38s\n",
            "epoch 22 | loss: 0.30661 | train_auc: 0.94052 | valid_auc: 0.92951 |  0:00:40s\n",
            "epoch 23 | loss: 0.31474 | train_auc: 0.93987 | valid_auc: 0.92794 |  0:00:42s\n",
            "epoch 24 | loss: 0.3139  | train_auc: 0.93971 | valid_auc: 0.92873 |  0:00:44s\n",
            "epoch 25 | loss: 0.31168 | train_auc: 0.94002 | valid_auc: 0.92956 |  0:00:45s\n",
            "\n",
            "Early stopping occurred at epoch 25 with best_epoch = 5 and best_valid_auc = 0.93183\n",
            "Best weights from best epoch are automatically used!\n"
          ]
        },
        {
          "output_type": "stream",
          "name": "stderr",
          "text": [
            "/usr/local/lib/python3.7/dist-packages/ipykernel_launcher.py:18: DeprecationWarning: elementwise comparison failed; this will raise an error in the future.\n"
          ]
        },
        {
          "output_type": "error",
          "ename": "AssertionError",
          "evalue": "ignored",
          "traceback": [
            "\u001b[0;31m---------------------------------------------------------------------------\u001b[0m",
            "\u001b[0;31mAssertionError\u001b[0m                            Traceback (most recent call last)",
            "\u001b[0;32m<ipython-input-41-0a88d135f071>\u001b[0m in \u001b[0;36m<module>\u001b[0;34m\u001b[0m\n\u001b[1;32m     16\u001b[0m     \u001b[0msave_history\u001b[0m\u001b[0;34m.\u001b[0m\u001b[0mappend\u001b[0m\u001b[0;34m(\u001b[0m\u001b[0mclf\u001b[0m\u001b[0;34m.\u001b[0m\u001b[0mhistory\u001b[0m\u001b[0;34m[\u001b[0m\u001b[0;34m\"valid_auc\"\u001b[0m\u001b[0;34m]\u001b[0m\u001b[0;34m)\u001b[0m\u001b[0;34m\u001b[0m\u001b[0;34m\u001b[0m\u001b[0m\n\u001b[1;32m     17\u001b[0m \u001b[0;34m\u001b[0m\u001b[0m\n\u001b[0;32m---> 18\u001b[0;31m \u001b[0;32massert\u001b[0m\u001b[0;34m(\u001b[0m\u001b[0mnp\u001b[0m\u001b[0;34m.\u001b[0m\u001b[0mall\u001b[0m\u001b[0;34m(\u001b[0m\u001b[0mnp\u001b[0m\u001b[0;34m.\u001b[0m\u001b[0marray\u001b[0m\u001b[0;34m(\u001b[0m\u001b[0msave_history\u001b[0m\u001b[0;34m[\u001b[0m\u001b[0;36m0\u001b[0m\u001b[0;34m]\u001b[0m\u001b[0;34m==\u001b[0m\u001b[0mnp\u001b[0m\u001b[0;34m.\u001b[0m\u001b[0marray\u001b[0m\u001b[0;34m(\u001b[0m\u001b[0msave_history\u001b[0m\u001b[0;34m[\u001b[0m\u001b[0;36m1\u001b[0m\u001b[0;34m]\u001b[0m\u001b[0;34m)\u001b[0m\u001b[0;34m)\u001b[0m\u001b[0;34m)\u001b[0m\u001b[0;34m)\u001b[0m\u001b[0;34m\u001b[0m\u001b[0;34m\u001b[0m\u001b[0m\n\u001b[0m",
            "\u001b[0;31mAssertionError\u001b[0m: "
          ]
        }
      ]
    },
    {
      "cell_type": "code",
      "source": [
        "plt.plot(clf.history['loss'])\n"
      ],
      "metadata": {
        "colab": {
          "base_uri": "https://localhost:8080/",
          "height": 282
        },
        "id": "3bphorSFQqih",
        "outputId": "f8fc7dd8-a931-42d3-d448-e1ba8dd75a13"
      },
      "execution_count": 42,
      "outputs": [
        {
          "output_type": "execute_result",
          "data": {
            "text/plain": [
              "[<matplotlib.lines.Line2D at 0x7fb4cb341a10>]"
            ]
          },
          "metadata": {},
          "execution_count": 42
        },
        {
          "output_type": "display_data",
          "data": {
            "text/plain": [
              "<Figure size 432x288 with 1 Axes>"
            ],
            "image/png": "[encoded data removed]"
          },
          "metadata": {
            "needs_background": "light"
          }
        }
      ]
    },
    {
      "cell_type": "code",
      "source": [
        "plt.plot(clf.history['train_auc'])\n",
        "plt.plot(clf.history['valid_auc'])\n"
      ],
      "metadata": {
        "colab": {
          "base_uri": "https://localhost:8080/",
          "height": 282
        },
        "id": "pZHLCHDEVnBE",
        "outputId": "be603bab-35ef-4f93-e006-f9fce6420fb1"
      },
      "execution_count": 43,
      "outputs": [
        {
          "output_type": "execute_result",
          "data": {
            "text/plain": [
              "[<matplotlib.lines.Line2D at 0x7fb4cb1bd610>]"
            ]
          },
          "metadata": {},
          "execution_count": 43
        },
        {
          "output_type": "display_data",
          "data": {
            "text/plain": [
              "<Figure size 432x288 with 1 Axes>"
            ],
            "image/png": "[encoded data removed]"
          },
          "metadata": {
            "needs_background": "light"
          }
        }
      ]
    },
    {
      "cell_type": "code",
      "source": [
        "plt.plot(clf.history['lr'])\n"
      ],
      "metadata": {
        "colab": {
          "base_uri": "https://localhost:8080/",
          "height": 282
        },
        "id": "8-FLDTTUVrRf",
        "outputId": "95c41915-3e83-4eda-88ef-4b4855978de6"
      },
      "execution_count": 44,
      "outputs": [
        {
          "output_type": "execute_result",
          "data": {
            "text/plain": [
              "[<matplotlib.lines.Line2D at 0x7fb4cac54f10>]"
            ]
          },
          "metadata": {},
          "execution_count": 44
        },
        {
          "output_type": "display_data",
          "data": {
            "text/plain": [
              "<Figure size 432x288 with 1 Axes>"
            ],
            "image/png": "[encoded data removed]"
          },
          "metadata": {
            "needs_background": "light"
          }
        }
      ]
    },
    {
      "cell_type": "code",
      "source": [
        "preds = clf.predict_proba(X_test)\n",
        "test_auc = roc_auc_score(y_score=preds[:,1], y_true=y_test)\n",
        "\n",
        "\n",
        "preds_valid = clf.predict_proba(X_valid)\n",
        "valid_auc = roc_auc_score(y_score=preds_valid[:,1], y_true=y_valid)\n",
        "\n",
        "print(f\"BEST VALID SCORE FOR {dataset_name} : {clf.best_cost}\")\n",
        "print(f\"FINAL TEST SCORE FOR {dataset_name} : {test_auc}\")\n"
      ],
      "metadata": {
        "colab": {
          "base_uri": "https://localhost:8080/"
        },
        "id": "fuYyXiS2Vy9m",
        "outputId": "267ca460-f829-4540-d6d1-85540d81f7db"
      },
      "execution_count": 45,
      "outputs": [
        {
          "output_type": "stream",
          "name": "stdout",
          "text": [
            "BEST VALID SCORE FOR census-income : 0.9318311608887525\n",
            "FINAL TEST SCORE FOR census-income : 0.924700152798148\n"
          ]
        }
      ]
    },
    {
      "cell_type": "code",
      "source": [
        "assert np.isclose(valid_auc, np.max(clf.history['valid_auc']), atol=1e-6)\n"
      ],
      "metadata": {
        "id": "-pQbZY_sWBtj"
      },
      "execution_count": 46,
      "outputs": []
    },
    {
      "cell_type": "code",
      "source": [
        "clf.predict(X_test)\n",
        "\n"
      ],
      "metadata": {
        "colab": {
          "base_uri": "https://localhost:8080/"
        },
        "id": "ewFB7tgKWGAK",
        "outputId": "8c3add16-ff85-4bb6-dba6-5376b493c95d"
      },
      "execution_count": 47,
      "outputs": [
        {
          "output_type": "execute_result",
          "data": {
            "text/plain": [
              "array(['not_wealthy', 'not_wealthy', 'wealthy', ..., 'not_wealthy',\n",
              "       'wealthy', 'wealthy'], dtype='<U11')"
            ]
          },
          "metadata": {},
          "execution_count": 47
        }
      ]
    },
    {
      "cell_type": "code",
      "source": [
        "saving_path_name = \"./tabnet_model_test_1\"\n",
        "saved_filepath = clf.save_model(saving_path_name)\n"
      ],
      "metadata": {
        "colab": {
          "base_uri": "https://localhost:8080/"
        },
        "id": "8ZNay4XeWI9T",
        "outputId": "c16170e0-e8f3-425c-8305-11e92b444d38"
      },
      "execution_count": 48,
      "outputs": [
        {
          "output_type": "stream",
          "name": "stdout",
          "text": [
            "Successfully saved model at ./tabnet_model_test_1.zip\n"
          ]
        }
      ]
    },
    {
      "cell_type": "code",
      "source": [
        "loaded_clf = TabNetClassifier()\n",
        "loaded_clf.load_model(saved_filepath)\n"
      ],
      "metadata": {
        "colab": {
          "base_uri": "https://localhost:8080/"
        },
        "id": "PFJaVaDRWMjF",
        "outputId": "977532a9-5f8e-4c9b-e407-9880441dffcd"
      },
      "execution_count": 49,
      "outputs": [
        {
          "output_type": "stream",
          "name": "stdout",
          "text": [
            "Device used : cpu\n",
            "Device used : cpu\n"
          ]
        }
      ]
    },
    {
      "cell_type": "code",
      "source": [
        "loaded_preds = loaded_clf.predict_proba(X_test)\n",
        "loaded_test_auc = roc_auc_score(y_score=loaded_preds[:,1], y_true=y_test)\n",
        "\n",
        "print(f\"FINAL TEST SCORE FOR {dataset_name} : {loaded_test_auc}\")\n"
      ],
      "metadata": {
        "colab": {
          "base_uri": "https://localhost:8080/"
        },
        "id": "Mqpcc-D5WPna",
        "outputId": "d0340a34-40e4-48e4-888f-83d80c13ddbd"
      },
      "execution_count": 50,
      "outputs": [
        {
          "output_type": "stream",
          "name": "stdout",
          "text": [
            "FINAL TEST SCORE FOR census-income : 0.924700152798148\n"
          ]
        }
      ]
    },
    {
      "cell_type": "code",
      "source": [
        "assert(test_auc == loaded_test_auc)\n"
      ],
      "metadata": {
        "id": "70464QtKWR9R"
      },
      "execution_count": 51,
      "outputs": []
    },
    {
      "cell_type": "code",
      "source": [
        "loaded_clf.predict(X_test)\n"
      ],
      "metadata": {
        "colab": {
          "base_uri": "https://localhost:8080/"
        },
        "id": "pD_WqQAIWVuA",
        "outputId": "c1720e7b-875f-4dff-f5aa-8cab77d2f44c"
      },
      "execution_count": 52,
      "outputs": [
        {
          "output_type": "execute_result",
          "data": {
            "text/plain": [
              "array(['not_wealthy', 'not_wealthy', 'wealthy', ..., 'not_wealthy',\n",
              "       'wealthy', 'wealthy'], dtype='<U11')"
            ]
          },
          "metadata": {},
          "execution_count": 52
        }
      ]
    },
    {
      "cell_type": "code",
      "source": [
        "clf.feature_importances_\n"
      ],
      "metadata": {
        "colab": {
          "base_uri": "https://localhost:8080/"
        },
        "id": "71HPj3J2WYR5",
        "outputId": "894e96d2-ebeb-4a55-c8b8-3225cf555d9d"
      },
      "execution_count": 53,
      "outputs": [
        {
          "output_type": "execute_result",
          "data": {
            "text/plain": [
              "array([7.58610574e-02, 2.41781841e-02, 1.27599872e-04, 4.61105860e-02,\n",
              "       1.28297519e-01, 1.27612046e-01, 3.80639717e-02, 1.16721783e-01,\n",
              "       5.56453401e-05, 5.52511066e-02, 1.71658202e-01, 1.18428982e-01,\n",
              "       9.51610289e-02, 2.47228786e-03])"
            ]
          },
          "metadata": {},
          "execution_count": 53
        }
      ]
    },
    {
      "cell_type": "code",
      "source": [
        "explain_matrix, masks = clf.explain(X_test)\n"
      ],
      "metadata": {
        "id": "8KXig9egWc8E"
      },
      "execution_count": 54,
      "outputs": []
    },
    {
      "cell_type": "code",
      "source": [
        "fig, axs = plt.subplots(1, 3, figsize=(20,20))\n",
        "\n",
        "for i in range(3):\n",
        "    axs[i].imshow(masks[i][:50])\n",
        "    axs[i].set_title(f\"mask {i}\")\n"
      ],
      "metadata": {
        "colab": {
          "base_uri": "https://localhost:8080/",
          "height": 1000
        },
        "id": "xmbfzPx0Wgq4",
        "outputId": "4149f971-6c27-4bc3-e249-12a941ac6cc1"
      },
      "execution_count": 55,
      "outputs": [
        {
          "output_type": "display_data",
          "data": {
            "text/plain": [
              "<Figure size 1440x1440 with 3 Axes>"
            ],
            "image/png": "[encoded data removed]"
          },
          "metadata": {
            "needs_background": "light"
          }
        }
      ]
    },
    {
      "cell_type": "code",
      "source": [],
      "metadata": {
        "id": "O_h4q9mYWi2Z"
      },
      "execution_count": null,
      "outputs": []
    }
  ]
}