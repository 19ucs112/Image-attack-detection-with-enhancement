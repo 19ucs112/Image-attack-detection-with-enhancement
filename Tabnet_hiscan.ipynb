{
  "nbformat": 4,
  "nbformat_minor": 0,
  "metadata": {
    "colab": {
      "provenance": []
    },
    "kernelspec": {
      "name": "python3",
      "display_name": "Python 3"
    },
    "language_info": {
      "name": "python"
    }
  },
  "cells": [
    {
      "cell_type": "code",
      "execution_count": 113,
      "metadata": {
        "id": "ZJwJacy7nIzo"
      },
      "outputs": [],
      "source": [
        "from pytorch_tabnet.tab_model import TabNetClassifier\n",
        "\n",
        "import torch\n",
        "from sklearn.preprocessing import LabelEncoder\n",
        "from sklearn.metrics import roc_auc_score\n",
        "\n",
        "import pandas as pd\n",
        "import numpy as np\n",
        "np.random.seed(0)\n",
        "\n",
        "\n",
        "import os\n",
        "\n",
        "from pathlib import Path\n",
        "\n",
        "from matplotlib import pyplot as plt\n",
        "%matplotlib inline"
      ]
    },
    {
      "cell_type": "code",
      "source": [
        "train = pd.read_csv('/content/drive/MyDrive/CSV/Training_Hi_Scan.csv')\n"
      ],
      "metadata": {
        "id": "b9JSqtGCoTwH"
      },
      "execution_count": 114,
      "outputs": []
    },
    {
      "cell_type": "code",
      "source": [
        "test = pd.read_csv('/content/drive/MyDrive/CSV/TestingHiScan.csv')"
      ],
      "metadata": {
        "id": "qevDo0NPARUr"
      },
      "execution_count": 115,
      "outputs": []
    },
    {
      "cell_type": "code",
      "source": [
        "train.head()"
      ],
      "metadata": {
        "colab": {
          "base_uri": "https://localhost:8080/",
          "height": 334
        },
        "id": "lchommZCoZ2F",
        "outputId": "26d61f81-8c33-4f33-c8ae-bf802a56737d"
      },
      "execution_count": 116,
      "outputs": [
        {
          "output_type": "execute_result",
          "data": {
            "text/plain": [
              "                                            Filename  White Circle Patch  \\\n",
              "0  C:\\Users\\ASHUTOSH\\Downloads\\FingerPrint\\LivDet...             13178.0   \n",
              "1  C:\\Users\\ASHUTOSH\\Downloads\\FingerPrint\\LivDet...              9747.0   \n",
              "2  C:\\Users\\ASHUTOSH\\Downloads\\FingerPrint\\LivDet...             13996.0   \n",
              "3  C:\\Users\\ASHUTOSH\\Downloads\\FingerPrint\\LivDet...             14398.0   \n",
              "4  C:\\Users\\ASHUTOSH\\Downloads\\FingerPrint\\LivDet...             29435.0   \n",
              "\n",
              "   Contrast  Black Patch  Biffercation  Termination         CID  Class  \\\n",
              "0  0.219727     0.946579           711          854   56.207333      1   \n",
              "1  0.274930     0.936989           824          625  131.101257      1   \n",
              "2  0.288037     0.931608           641          810   77.537815      1   \n",
              "3  0.177999     0.965868           951          951   35.501984      1   \n",
              "4  0.166856     0.973550          1312          802   64.374107      1   \n",
              "\n",
              "    OCL_STD   LCS_STD  ...       LCS       OFL       FDA     GABOR  OCL_STD2  \\\n",
              "0  0.118133  0.440499  ...  0.544710  0.789882  0.652122  0.295580  0.072267   \n",
              "1  0.138338  0.448819  ...  0.490053  0.800080  0.694828  0.281776  0.080720   \n",
              "2  0.129546  0.417269  ...  0.613749  0.727275  0.624069  0.281670  0.076565   \n",
              "3  0.137562  0.439181  ...  0.535034  0.787512  0.663406  0.275971  0.064886   \n",
              "4  0.140779  0.434023  ...  0.518533  0.764734  0.649534  0.270623  0.086478   \n",
              "\n",
              "   LCS_STD2  OFL_STD2  FDA_STD2  RVU_STD2  GABOR_STD2  \n",
              "0  0.382839  0.066852  0.232336  0.036582    0.014911  \n",
              "1  0.364816  0.059893  0.213834  0.040929    0.013465  \n",
              "2  0.353852  0.070547  0.194776  0.039335    0.014506  \n",
              "3  0.374370  0.065110  0.219560  0.047868    0.013591  \n",
              "4  0.418587  0.063477  0.224307  0.041850    0.013170  \n",
              "\n",
              "[5 rows x 29 columns]"
            ],
            "text/html": [
              "\n",
              "  <div id=\"df-cb6cbc4d-4a49-4e1e-a6c6-750b18b9f7f4\">\n",
              "    <div class=\"colab-df-container\">\n",
              "      <div>\n",
              "<style scoped>\n",
              "    .dataframe tbody tr th:only-of-type {\n",
              "        vertical-align: middle;\n",
              "    }\n",
              "\n",
              "    .dataframe tbody tr th {\n",
              "        vertical-align: top;\n",
              "    }\n",
              "\n",
              "    .dataframe thead th {\n",
              "        text-align: right;\n",
              "    }\n",
              "</style>\n",
              "<table border=\"1\" class=\"dataframe\">\n",
              "  <thead>\n",
              "    <tr style=\"text-align: right;\">\n",
              "      <th></th>\n",
              "      <th>Filename</th>\n",
              "      <th>White Circle Patch</th>\n",
              "      <th>Contrast</th>\n",
              "      <th>Black Patch</th>\n",
              "      <th>Biffercation</th>\n",
              "      <th>Termination</th>\n",
              "      <th>CID</th>\n",
              "      <th>Class</th>\n",
              "      <th>OCL_STD</th>\n",
              "      <th>LCS_STD</th>\n",
              "      <th>...</th>\n",
              "      <th>LCS</th>\n",
              "      <th>OFL</th>\n",
              "      <th>FDA</th>\n",
              "      <th>GABOR</th>\n",
              "      <th>OCL_STD2</th>\n",
              "      <th>LCS_STD2</th>\n",
              "      <th>OFL_STD2</th>\n",
              "      <th>FDA_STD2</th>\n",
              "      <th>RVU_STD2</th>\n",
              "      <th>GABOR_STD2</th>\n",
              "    </tr>\n",
              "  </thead>\n",
              "  <tbody>\n",
              "    <tr>\n",
              "      <th>0</th>\n",
              "      <td>C:\\Users\\ASHUTOSH\\Downloads\\FingerPrint\\LivDet...</td>\n",
              "      <td>13178.0</td>\n",
              "      <td>0.219727</td>\n",
              "      <td>0.946579</td>\n",
              "      <td>711</td>\n",
              "      <td>854</td>\n",
              "      <td>56.207333</td>\n",
              "      <td>1</td>\n",
              "      <td>0.118133</td>\n",
              "      <td>0.440499</td>\n",
              "      <td>...</td>\n",
              "      <td>0.544710</td>\n",
              "      <td>0.789882</td>\n",
              "      <td>0.652122</td>\n",
              "      <td>0.295580</td>\n",
              "      <td>0.072267</td>\n",
              "      <td>0.382839</td>\n",
              "      <td>0.066852</td>\n",
              "      <td>0.232336</td>\n",
              "      <td>0.036582</td>\n",
              "      <td>0.014911</td>\n",
              "    </tr>\n",
              "    <tr>\n",
              "      <th>1</th>\n",
              "      <td>C:\\Users\\ASHUTOSH\\Downloads\\FingerPrint\\LivDet...</td>\n",
              "      <td>9747.0</td>\n",
              "      <td>0.274930</td>\n",
              "      <td>0.936989</td>\n",
              "      <td>824</td>\n",
              "      <td>625</td>\n",
              "      <td>131.101257</td>\n",
              "      <td>1</td>\n",
              "      <td>0.138338</td>\n",
              "      <td>0.448819</td>\n",
              "      <td>...</td>\n",
              "      <td>0.490053</td>\n",
              "      <td>0.800080</td>\n",
              "      <td>0.694828</td>\n",
              "      <td>0.281776</td>\n",
              "      <td>0.080720</td>\n",
              "      <td>0.364816</td>\n",
              "      <td>0.059893</td>\n",
              "      <td>0.213834</td>\n",
              "      <td>0.040929</td>\n",
              "      <td>0.013465</td>\n",
              "    </tr>\n",
              "    <tr>\n",
              "      <th>2</th>\n",
              "      <td>C:\\Users\\ASHUTOSH\\Downloads\\FingerPrint\\LivDet...</td>\n",
              "      <td>13996.0</td>\n",
              "      <td>0.288037</td>\n",
              "      <td>0.931608</td>\n",
              "      <td>641</td>\n",
              "      <td>810</td>\n",
              "      <td>77.537815</td>\n",
              "      <td>1</td>\n",
              "      <td>0.129546</td>\n",
              "      <td>0.417269</td>\n",
              "      <td>...</td>\n",
              "      <td>0.613749</td>\n",
              "      <td>0.727275</td>\n",
              "      <td>0.624069</td>\n",
              "      <td>0.281670</td>\n",
              "      <td>0.076565</td>\n",
              "      <td>0.353852</td>\n",
              "      <td>0.070547</td>\n",
              "      <td>0.194776</td>\n",
              "      <td>0.039335</td>\n",
              "      <td>0.014506</td>\n",
              "    </tr>\n",
              "    <tr>\n",
              "      <th>3</th>\n",
              "      <td>C:\\Users\\ASHUTOSH\\Downloads\\FingerPrint\\LivDet...</td>\n",
              "      <td>14398.0</td>\n",
              "      <td>0.177999</td>\n",
              "      <td>0.965868</td>\n",
              "      <td>951</td>\n",
              "      <td>951</td>\n",
              "      <td>35.501984</td>\n",
              "      <td>1</td>\n",
              "      <td>0.137562</td>\n",
              "      <td>0.439181</td>\n",
              "      <td>...</td>\n",
              "      <td>0.535034</td>\n",
              "      <td>0.787512</td>\n",
              "      <td>0.663406</td>\n",
              "      <td>0.275971</td>\n",
              "      <td>0.064886</td>\n",
              "      <td>0.374370</td>\n",
              "      <td>0.065110</td>\n",
              "      <td>0.219560</td>\n",
              "      <td>0.047868</td>\n",
              "      <td>0.013591</td>\n",
              "    </tr>\n",
              "    <tr>\n",
              "      <th>4</th>\n",
              "      <td>C:\\Users\\ASHUTOSH\\Downloads\\FingerPrint\\LivDet...</td>\n",
              "      <td>29435.0</td>\n",
              "      <td>0.166856</td>\n",
              "      <td>0.973550</td>\n",
              "      <td>1312</td>\n",
              "      <td>802</td>\n",
              "      <td>64.374107</td>\n",
              "      <td>1</td>\n",
              "      <td>0.140779</td>\n",
              "      <td>0.434023</td>\n",
              "      <td>...</td>\n",
              "      <td>0.518533</td>\n",
              "      <td>0.764734</td>\n",
              "      <td>0.649534</td>\n",
              "      <td>0.270623</td>\n",
              "      <td>0.086478</td>\n",
              "      <td>0.418587</td>\n",
              "      <td>0.063477</td>\n",
              "      <td>0.224307</td>\n",
              "      <td>0.041850</td>\n",
              "      <td>0.013170</td>\n",
              "    </tr>\n",
              "  </tbody>\n",
              "</table>\n",
              "<p>5 rows × 29 columns</p>\n",
              "</div>\n",
              "      <button class=\"colab-df-convert\" onclick=\"convertToInteractive('df-cb6cbc4d-4a49-4e1e-a6c6-750b18b9f7f4')\"\n",
              "              title=\"Convert this dataframe to an interactive table.\"\n",
              "              style=\"display:none;\">\n",
              "        \n",
              "  <svg xmlns=\"http://www.w3.org/2000/svg\" height=\"24px\"viewBox=\"0 0 24 24\"\n",
              "       width=\"24px\">\n",
              "    <path d=\"M0 0h24v24H0V0z\" fill=\"none\"/>\n",
              "    <path d=\"M18.56 5.44l.94 2.06.94-2.06 2.06-.94-2.06-.94-.94-2.06-.94 2.06-2.06.94zm-11 1L8.5 8.5l.94-2.06 2.06-.94-2.06-.94L8.5 2.5l-.94 2.06-2.06.94zm10 10l.94 2.06.94-2.06 2.06-.94-2.06-.94-.94-2.06-.94 2.06-2.06.94z\"/><path d=\"M17.41 7.96l-1.37-1.37c-.4-.4-.92-.59-1.43-.59-.52 0-1.04.2-1.43.59L10.3 9.45l-7.72 7.72c-.78.78-.78 2.05 0 2.83L4 21.41c.39.39.9.59 1.41.59.51 0 1.02-.2 1.41-.59l7.78-7.78 2.81-2.81c.8-.78.8-2.07 0-2.86zM5.41 20L4 18.59l7.72-7.72 1.47 1.35L5.41 20z\"/>\n",
              "  </svg>\n",
              "      </button>\n",
              "      \n",
              "  <style>\n",
              "    .colab-df-container {\n",
              "      display:flex;\n",
              "      flex-wrap:wrap;\n",
              "      gap: 12px;\n",
              "    }\n",
              "\n",
              "    .colab-df-convert {\n",
              "      background-color: #E8F0FE;\n",
              "      border: none;\n",
              "      border-radius: 50%;\n",
              "      cursor: pointer;\n",
              "      display: none;\n",
              "      fill: #1967D2;\n",
              "      height: 32px;\n",
              "      padding: 0 0 0 0;\n",
              "      width: 32px;\n",
              "    }\n",
              "\n",
              "    .colab-df-convert:hover {\n",
              "      background-color: #E2EBFA;\n",
              "      box-shadow: 0px 1px 2px rgba(60, 64, 67, 0.3), 0px 1px 3px 1px rgba(60, 64, 67, 0.15);\n",
              "      fill: #174EA6;\n",
              "    }\n",
              "\n",
              "    [theme=dark] .colab-df-convert {\n",
              "      background-color: #3B4455;\n",
              "      fill: #D2E3FC;\n",
              "    }\n",
              "\n",
              "    [theme=dark] .colab-df-convert:hover {\n",
              "      background-color: #434B5C;\n",
              "      box-shadow: 0px 1px 3px 1px rgba(0, 0, 0, 0.15);\n",
              "      filter: drop-shadow(0px 1px 2px rgba(0, 0, 0, 0.3));\n",
              "      fill: #FFFFFF;\n",
              "    }\n",
              "  </style>\n",
              "\n",
              "      <script>\n",
              "        const buttonEl =\n",
              "          document.querySelector('#df-cb6cbc4d-4a49-4e1e-a6c6-750b18b9f7f4 button.colab-df-convert');\n",
              "        buttonEl.style.display =\n",
              "          google.colab.kernel.accessAllowed ? 'block' : 'none';\n",
              "\n",
              "        async function convertToInteractive(key) {\n",
              "          const element = document.querySelector('#df-cb6cbc4d-4a49-4e1e-a6c6-750b18b9f7f4');\n",
              "          const dataTable =\n",
              "            await google.colab.kernel.invokeFunction('convertToInteractive',\n",
              "                                                     [key], {});\n",
              "          if (!dataTable) return;\n",
              "\n",
              "          const docLinkHtml = 'Like what you see? Visit the ' +\n",
              "            '<a target=\"_blank\" href=https://colab.research.google.com/notebooks/data_table.ipynb>data table notebook</a>'\n",
              "            + ' to learn more about interactive tables.';\n",
              "          element.innerHTML = '';\n",
              "          dataTable['output_type'] = 'display_data';\n",
              "          await google.colab.output.renderOutput(dataTable, element);\n",
              "          const docLink = document.createElement('div');\n",
              "          docLink.innerHTML = docLinkHtml;\n",
              "          element.appendChild(docLink);\n",
              "        }\n",
              "      </script>\n",
              "    </div>\n",
              "  </div>\n",
              "  "
            ]
          },
          "metadata": {},
          "execution_count": 116
        }
      ]
    },
    {
      "cell_type": "code",
      "source": [
        "target = 'Class'\n",
        "if \"Set\"  in train.columns:\n",
        "    train.drop([\"Set\"], axis = 1)\n",
        "train[\"Set\"] = \"train\"    \n",
        "train_indices = train[train.Set==\"train\"].index"
      ],
      "metadata": {
        "id": "SOHtvsFdrjzU"
      },
      "execution_count": 117,
      "outputs": []
    },
    {
      "cell_type": "code",
      "source": [
        "if \"Set\" in test.columns:\n",
        "  test.drop(['Set'], axis = 1)\n",
        "test[\"Set\"] = \"test\"\n",
        "test_indices = test[test.Set==\"test\"].index"
      ],
      "metadata": {
        "id": "xpkpmLqe1K6H"
      },
      "execution_count": 118,
      "outputs": []
    },
    {
      "cell_type": "code",
      "source": [
        "nunique = train.nunique()\n",
        "types = train.dtypes\n",
        "\n",
        "categorical_columns = []\n",
        "categorical_dims =  {}\n",
        "for col in train.columns:\n",
        "    if types[col] == 'object' or nunique[col] < 200:\n",
        "        print(col, train[col].nunique())\n",
        "        l_enc = LabelEncoder()\n",
        "        train[col] = train[col].fillna(\"VV_likely\")\n",
        "        train[col] = l_enc.fit_transform(train[col].values)\n",
        "        categorical_columns.append(col)\n",
        "        categorical_dims[col] = len(l_enc.classes_)\n",
        "    else:\n",
        "        train.fillna(train.loc[train_indices, col].mean(), inplace=True)"
      ],
      "metadata": {
        "colab": {
          "base_uri": "https://localhost:8080/"
        },
        "id": "z0J-nfTvtL4v",
        "outputId": "c45b2011-6524-4d9c-e9d8-0d4a672c9244"
      },
      "execution_count": 119,
      "outputs": [
        {
          "output_type": "stream",
          "name": "stdout",
          "text": [
            "Filename 1999\n",
            "Class 2\n",
            "Set 1\n"
          ]
        }
      ]
    },
    {
      "cell_type": "code",
      "source": [
        "train.head()"
      ],
      "metadata": {
        "colab": {
          "base_uri": "https://localhost:8080/",
          "height": 334
        },
        "id": "qrqwtfTGtNwc",
        "outputId": "22774fa3-8137-49d8-b5c9-22579f27e597"
      },
      "execution_count": 120,
      "outputs": [
        {
          "output_type": "execute_result",
          "data": {
            "text/plain": [
              "   Filename  White Circle Patch  Contrast  Black Patch  Biffercation  \\\n",
              "0       999             13178.0  0.219727     0.946579           711   \n",
              "1      1000              9747.0  0.274930     0.936989           824   \n",
              "2      1001             13996.0  0.288037     0.931608           641   \n",
              "3      1002             14398.0  0.177999     0.965868           951   \n",
              "4      1003             29435.0  0.166856     0.973550          1312   \n",
              "\n",
              "   Termination         CID  Class   OCL_STD   LCS_STD  ...       OFL  \\\n",
              "0          854   56.207333      1  0.118133  0.440499  ...  0.789882   \n",
              "1          625  131.101257      1  0.138338  0.448819  ...  0.800080   \n",
              "2          810   77.537815      1  0.129546  0.417269  ...  0.727275   \n",
              "3          951   35.501984      1  0.137562  0.439181  ...  0.787512   \n",
              "4          802   64.374107      1  0.140779  0.434023  ...  0.764734   \n",
              "\n",
              "        FDA     GABOR  OCL_STD2  LCS_STD2  OFL_STD2  FDA_STD2  RVU_STD2  \\\n",
              "0  0.652122  0.295580  0.072267  0.382839  0.066852  0.232336  0.036582   \n",
              "1  0.694828  0.281776  0.080720  0.364816  0.059893  0.213834  0.040929   \n",
              "2  0.624069  0.281670  0.076565  0.353852  0.070547  0.194776  0.039335   \n",
              "3  0.663406  0.275971  0.064886  0.374370  0.065110  0.219560  0.047868   \n",
              "4  0.649534  0.270623  0.086478  0.418587  0.063477  0.224307  0.041850   \n",
              "\n",
              "   GABOR_STD2  Set  \n",
              "0    0.014911    0  \n",
              "1    0.013465    0  \n",
              "2    0.014506    0  \n",
              "3    0.013591    0  \n",
              "4    0.013170    0  \n",
              "\n",
              "[5 rows x 30 columns]"
            ],
            "text/html": [
              "\n",
              "  <div id=\"df-9028c0b2-5089-4673-92b0-f8f395a3e2dc\">\n",
              "    <div class=\"colab-df-container\">\n",
              "      <div>\n",
              "<style scoped>\n",
              "    .dataframe tbody tr th:only-of-type {\n",
              "        vertical-align: middle;\n",
              "    }\n",
              "\n",
              "    .dataframe tbody tr th {\n",
              "        vertical-align: top;\n",
              "    }\n",
              "\n",
              "    .dataframe thead th {\n",
              "        text-align: right;\n",
              "    }\n",
              "</style>\n",
              "<table border=\"1\" class=\"dataframe\">\n",
              "  <thead>\n",
              "    <tr style=\"text-align: right;\">\n",
              "      <th></th>\n",
              "      <th>Filename</th>\n",
              "      <th>White Circle Patch</th>\n",
              "      <th>Contrast</th>\n",
              "      <th>Black Patch</th>\n",
              "      <th>Biffercation</th>\n",
              "      <th>Termination</th>\n",
              "      <th>CID</th>\n",
              "      <th>Class</th>\n",
              "      <th>OCL_STD</th>\n",
              "      <th>LCS_STD</th>\n",
              "      <th>...</th>\n",
              "      <th>OFL</th>\n",
              "      <th>FDA</th>\n",
              "      <th>GABOR</th>\n",
              "      <th>OCL_STD2</th>\n",
              "      <th>LCS_STD2</th>\n",
              "      <th>OFL_STD2</th>\n",
              "      <th>FDA_STD2</th>\n",
              "      <th>RVU_STD2</th>\n",
              "      <th>GABOR_STD2</th>\n",
              "      <th>Set</th>\n",
              "    </tr>\n",
              "  </thead>\n",
              "  <tbody>\n",
              "    <tr>\n",
              "      <th>0</th>\n",
              "      <td>999</td>\n",
              "      <td>13178.0</td>\n",
              "      <td>0.219727</td>\n",
              "      <td>0.946579</td>\n",
              "      <td>711</td>\n",
              "      <td>854</td>\n",
              "      <td>56.207333</td>\n",
              "      <td>1</td>\n",
              "      <td>0.118133</td>\n",
              "      <td>0.440499</td>\n",
              "      <td>...</td>\n",
              "      <td>0.789882</td>\n",
              "      <td>0.652122</td>\n",
              "      <td>0.295580</td>\n",
              "      <td>0.072267</td>\n",
              "      <td>0.382839</td>\n",
              "      <td>0.066852</td>\n",
              "      <td>0.232336</td>\n",
              "      <td>0.036582</td>\n",
              "      <td>0.014911</td>\n",
              "      <td>0</td>\n",
              "    </tr>\n",
              "    <tr>\n",
              "      <th>1</th>\n",
              "      <td>1000</td>\n",
              "      <td>9747.0</td>\n",
              "      <td>0.274930</td>\n",
              "      <td>0.936989</td>\n",
              "      <td>824</td>\n",
              "      <td>625</td>\n",
              "      <td>131.101257</td>\n",
              "      <td>1</td>\n",
              "      <td>0.138338</td>\n",
              "      <td>0.448819</td>\n",
              "      <td>...</td>\n",
              "      <td>0.800080</td>\n",
              "      <td>0.694828</td>\n",
              "      <td>0.281776</td>\n",
              "      <td>0.080720</td>\n",
              "      <td>0.364816</td>\n",
              "      <td>0.059893</td>\n",
              "      <td>0.213834</td>\n",
              "      <td>0.040929</td>\n",
              "      <td>0.013465</td>\n",
              "      <td>0</td>\n",
              "    </tr>\n",
              "    <tr>\n",
              "      <th>2</th>\n",
              "      <td>1001</td>\n",
              "      <td>13996.0</td>\n",
              "      <td>0.288037</td>\n",
              "      <td>0.931608</td>\n",
              "      <td>641</td>\n",
              "      <td>810</td>\n",
              "      <td>77.537815</td>\n",
              "      <td>1</td>\n",
              "      <td>0.129546</td>\n",
              "      <td>0.417269</td>\n",
              "      <td>...</td>\n",
              "      <td>0.727275</td>\n",
              "      <td>0.624069</td>\n",
              "      <td>0.281670</td>\n",
              "      <td>0.076565</td>\n",
              "      <td>0.353852</td>\n",
              "      <td>0.070547</td>\n",
              "      <td>0.194776</td>\n",
              "      <td>0.039335</td>\n",
              "      <td>0.014506</td>\n",
              "      <td>0</td>\n",
              "    </tr>\n",
              "    <tr>\n",
              "      <th>3</th>\n",
              "      <td>1002</td>\n",
              "      <td>14398.0</td>\n",
              "      <td>0.177999</td>\n",
              "      <td>0.965868</td>\n",
              "      <td>951</td>\n",
              "      <td>951</td>\n",
              "      <td>35.501984</td>\n",
              "      <td>1</td>\n",
              "      <td>0.137562</td>\n",
              "      <td>0.439181</td>\n",
              "      <td>...</td>\n",
              "      <td>0.787512</td>\n",
              "      <td>0.663406</td>\n",
              "      <td>0.275971</td>\n",
              "      <td>0.064886</td>\n",
              "      <td>0.374370</td>\n",
              "      <td>0.065110</td>\n",
              "      <td>0.219560</td>\n",
              "      <td>0.047868</td>\n",
              "      <td>0.013591</td>\n",
              "      <td>0</td>\n",
              "    </tr>\n",
              "    <tr>\n",
              "      <th>4</th>\n",
              "      <td>1003</td>\n",
              "      <td>29435.0</td>\n",
              "      <td>0.166856</td>\n",
              "      <td>0.973550</td>\n",
              "      <td>1312</td>\n",
              "      <td>802</td>\n",
              "      <td>64.374107</td>\n",
              "      <td>1</td>\n",
              "      <td>0.140779</td>\n",
              "      <td>0.434023</td>\n",
              "      <td>...</td>\n",
              "      <td>0.764734</td>\n",
              "      <td>0.649534</td>\n",
              "      <td>0.270623</td>\n",
              "      <td>0.086478</td>\n",
              "      <td>0.418587</td>\n",
              "      <td>0.063477</td>\n",
              "      <td>0.224307</td>\n",
              "      <td>0.041850</td>\n",
              "      <td>0.013170</td>\n",
              "      <td>0</td>\n",
              "    </tr>\n",
              "  </tbody>\n",
              "</table>\n",
              "<p>5 rows × 30 columns</p>\n",
              "</div>\n",
              "      <button class=\"colab-df-convert\" onclick=\"convertToInteractive('df-9028c0b2-5089-4673-92b0-f8f395a3e2dc')\"\n",
              "              title=\"Convert this dataframe to an interactive table.\"\n",
              "              style=\"display:none;\">\n",
              "        \n",
              "  <svg xmlns=\"http://www.w3.org/2000/svg\" height=\"24px\"viewBox=\"0 0 24 24\"\n",
              "       width=\"24px\">\n",
              "    <path d=\"M0 0h24v24H0V0z\" fill=\"none\"/>\n",
              "    <path d=\"M18.56 5.44l.94 2.06.94-2.06 2.06-.94-2.06-.94-.94-2.06-.94 2.06-2.06.94zm-11 1L8.5 8.5l.94-2.06 2.06-.94-2.06-.94L8.5 2.5l-.94 2.06-2.06.94zm10 10l.94 2.06.94-2.06 2.06-.94-2.06-.94-.94-2.06-.94 2.06-2.06.94z\"/><path d=\"M17.41 7.96l-1.37-1.37c-.4-.4-.92-.59-1.43-.59-.52 0-1.04.2-1.43.59L10.3 9.45l-7.72 7.72c-.78.78-.78 2.05 0 2.83L4 21.41c.39.39.9.59 1.41.59.51 0 1.02-.2 1.41-.59l7.78-7.78 2.81-2.81c.8-.78.8-2.07 0-2.86zM5.41 20L4 18.59l7.72-7.72 1.47 1.35L5.41 20z\"/>\n",
              "  </svg>\n",
              "      </button>\n",
              "      \n",
              "  <style>\n",
              "    .colab-df-container {\n",
              "      display:flex;\n",
              "      flex-wrap:wrap;\n",
              "      gap: 12px;\n",
              "    }\n",
              "\n",
              "    .colab-df-convert {\n",
              "      background-color: #E8F0FE;\n",
              "      border: none;\n",
              "      border-radius: 50%;\n",
              "      cursor: pointer;\n",
              "      display: none;\n",
              "      fill: #1967D2;\n",
              "      height: 32px;\n",
              "      padding: 0 0 0 0;\n",
              "      width: 32px;\n",
              "    }\n",
              "\n",
              "    .colab-df-convert:hover {\n",
              "      background-color: #E2EBFA;\n",
              "      box-shadow: 0px 1px 2px rgba(60, 64, 67, 0.3), 0px 1px 3px 1px rgba(60, 64, 67, 0.15);\n",
              "      fill: #174EA6;\n",
              "    }\n",
              "\n",
              "    [theme=dark] .colab-df-convert {\n",
              "      background-color: #3B4455;\n",
              "      fill: #D2E3FC;\n",
              "    }\n",
              "\n",
              "    [theme=dark] .colab-df-convert:hover {\n",
              "      background-color: #434B5C;\n",
              "      box-shadow: 0px 1px 3px 1px rgba(0, 0, 0, 0.15);\n",
              "      filter: drop-shadow(0px 1px 2px rgba(0, 0, 0, 0.3));\n",
              "      fill: #FFFFFF;\n",
              "    }\n",
              "  </style>\n",
              "\n",
              "      <script>\n",
              "        const buttonEl =\n",
              "          document.querySelector('#df-9028c0b2-5089-4673-92b0-f8f395a3e2dc button.colab-df-convert');\n",
              "        buttonEl.style.display =\n",
              "          google.colab.kernel.accessAllowed ? 'block' : 'none';\n",
              "\n",
              "        async function convertToInteractive(key) {\n",
              "          const element = document.querySelector('#df-9028c0b2-5089-4673-92b0-f8f395a3e2dc');\n",
              "          const dataTable =\n",
              "            await google.colab.kernel.invokeFunction('convertToInteractive',\n",
              "                                                     [key], {});\n",
              "          if (!dataTable) return;\n",
              "\n",
              "          const docLinkHtml = 'Like what you see? Visit the ' +\n",
              "            '<a target=\"_blank\" href=https://colab.research.google.com/notebooks/data_table.ipynb>data table notebook</a>'\n",
              "            + ' to learn more about interactive tables.';\n",
              "          element.innerHTML = '';\n",
              "          dataTable['output_type'] = 'display_data';\n",
              "          await google.colab.output.renderOutput(dataTable, element);\n",
              "          const docLink = document.createElement('div');\n",
              "          docLink.innerHTML = docLinkHtml;\n",
              "          element.appendChild(docLink);\n",
              "        }\n",
              "      </script>\n",
              "    </div>\n",
              "  </div>\n",
              "  "
            ]
          },
          "metadata": {},
          "execution_count": 120
        }
      ]
    },
    {
      "cell_type": "code",
      "source": [
        "nunique = test.nunique()\n",
        "types = test.dtypes\n",
        "for col in test.columns:\n",
        "    if types[col] == 'object' or nunique[col] < 200:\n",
        "        print(col, test[col].nunique())\n",
        "        l_enc = LabelEncoder()\n",
        "        test[col] = test[col].fillna(\"VV_likely\")\n",
        "        test[col] = l_enc.fit_transform(test[col].values)\n",
        "        categorical_columns.append(col)\n",
        "        categorical_dims[col] = len(l_enc.classes_)\n",
        "    else:\n",
        "        test.fillna(test.loc[test_indices, col].mean(), inplace=True)"
      ],
      "metadata": {
        "colab": {
          "base_uri": "https://localhost:8080/"
        },
        "id": "merYqaRh1xVs",
        "outputId": "aea92553-45ac-429d-a16e-f7a324b0a016"
      },
      "execution_count": 121,
      "outputs": [
        {
          "output_type": "stream",
          "name": "stdout",
          "text": [
            "Filename 2500\n",
            "Class 2\n",
            "Set 1\n"
          ]
        }
      ]
    },
    {
      "cell_type": "code",
      "source": [
        "train.loc[train[target]==0, target] = \"classZero\"\n",
        "train.loc[train[target]==1, target] = \"classOne\"\n",
        "test.loc[test[target]==0, target] = \"classZero\"\n",
        "test.loc[test[target]==1, target] = \"classOne\""
      ],
      "metadata": {
        "id": "7we2KydSte9E"
      },
      "execution_count": 122,
      "outputs": []
    },
    {
      "cell_type": "code",
      "source": [
        "unused_feat = ['Set']\n",
        "\n",
        "features = [ col for col in train.columns if col not in unused_feat+[target]] \n",
        "\n",
        "cat_idxs = [ i for i, f in enumerate(features) if f in categorical_columns]\n",
        "\n",
        "cat_dims = [ categorical_dims[f] for i, f in enumerate(features) if f in categorical_columns]"
      ],
      "metadata": {
        "id": "nRYcwNaww3qt"
      },
      "execution_count": 123,
      "outputs": []
    },
    {
      "cell_type": "code",
      "source": [
        "tabnet_params = {\"cat_idxs\":cat_idxs,\n",
        "                 \"cat_dims\":cat_dims,\n",
        "                 \"cat_emb_dim\":1,\n",
        "                 \"optimizer_fn\":torch.optim.Adam,\n",
        "                 \"optimizer_params\":dict(lr=2e-2),\n",
        "                 \"scheduler_params\":{\"step_size\":50, # how to use learning rate scheduler\n",
        "                                 \"gamma\":0.9},\n",
        "                 \"scheduler_fn\":torch.optim.lr_scheduler.StepLR,\n",
        "                 \"mask_type\":'entmax' # \"sparsemax\"\n",
        "                }\n",
        "\n",
        "clf = TabNetClassifier(**tabnet_params\n",
        "                      )"
      ],
      "metadata": {
        "colab": {
          "base_uri": "https://localhost:8080/"
        },
        "id": "Z4g5C-Rg2LtI",
        "outputId": "0d6e722c-53c9-42c2-fd50-e3d9509fb173"
      },
      "execution_count": 124,
      "outputs": [
        {
          "output_type": "stream",
          "name": "stdout",
          "text": [
            "Device used : cpu\n"
          ]
        }
      ]
    },
    {
      "cell_type": "code",
      "source": [
        "X_train = train[features].values[train_indices]\n",
        "y_train = train[target].values[train_indices]\n",
        "\n",
        "X_test = test[features].values[test_indices]\n",
        "y_test = test[target].values[test_indices]\n"
      ],
      "metadata": {
        "id": "AV1Zy6zd2_Nk"
      },
      "execution_count": 125,
      "outputs": []
    },
    {
      "cell_type": "code",
      "source": [
        "X_train[0]"
      ],
      "metadata": {
        "colab": {
          "base_uri": "https://localhost:8080/"
        },
        "id": "E7C_d8owLLn6",
        "outputId": "f3d94645-377d-4b00-e2dd-6ff90189f0e0"
      },
      "execution_count": 126,
      "outputs": [
        {
          "output_type": "execute_result",
          "data": {
            "text/plain": [
              "array([9.99000000e+02, 1.31780000e+04, 2.19727291e-01, 9.46579134e-01,\n",
              "       7.11000000e+02, 8.54000000e+02, 5.62073330e+01, 1.18132624e-01,\n",
              "       4.40498972e-01, 2.78448906e-01, 1.36566574e+04, 2.75377057e-01,\n",
              "       7.76108286e-01, 3.33161397e-01, 9.29752066e-01, 7.94043908e+01,\n",
              "       2.11272088e+02, 8.02096599e-01, 5.44710371e-01, 7.89881723e-01,\n",
              "       6.52122256e-01, 2.95579635e-01, 7.22670940e-02, 3.82839485e-01,\n",
              "       6.68521940e-02, 2.32336088e-01, 3.65819200e-02, 1.49114170e-02])"
            ]
          },
          "metadata": {},
          "execution_count": 126
        }
      ]
    },
    {
      "cell_type": "code",
      "source": [
        "max_epochs = 50 if not os.getenv(\"CI\", False) else 2"
      ],
      "metadata": {
        "id": "KaM5yMDF3HFK"
      },
      "execution_count": 127,
      "outputs": []
    },
    {
      "cell_type": "code",
      "source": [
        "save_history = []\n",
        "for _ in range(2):\n",
        "    clf.fit(\n",
        "        X_train=X_train, y_train=y_train,\n",
        "        eval_set=[(X_train, y_train), (X_valid, y_valid)],\n",
        "        eval_name=['train', 'valid'],\n",
        "        eval_metric=['auc'],\n",
        "        max_epochs=max_epochs , patience=20,\n",
        "        batch_size=1024, virtual_batch_size=128,\n",
        "        num_workers=0,\n",
        "        weights=1,\n",
        "        drop_last=False,\n",
        "        #aug, None\n",
        "    )\n",
        "    save_history.append(clf.history[\"valid_auc\"])"
      ],
      "metadata": {
        "colab": {
          "base_uri": "https://localhost:8080/"
        },
        "id": "bMdIJzCv3QvZ",
        "outputId": "d50503f3-bb77-45fb-f266-7e3e49876dfe"
      },
      "execution_count": 128,
      "outputs": [
        {
          "output_type": "stream",
          "name": "stdout",
          "text": [
            "epoch 0  | loss: 0.76555 | train_auc: 0.59727 | valid_auc: 0.66774 |  0:00:00s\n",
            "epoch 1  | loss: 0.54447 | train_auc: 0.47256 | valid_auc: 0.62219 |  0:00:00s\n",
            "epoch 2  | loss: 0.46743 | train_auc: 0.35649 | valid_auc: 0.5709  |  0:00:00s\n",
            "epoch 3  | loss: 0.39873 | train_auc: 0.34318 | valid_auc: 0.47976 |  0:00:00s\n",
            "epoch 4  | loss: 0.35538 | train_auc: 0.42956 | valid_auc: 0.33942 |  0:00:00s\n",
            "epoch 5  | loss: 0.33166 | train_auc: 0.5326  | valid_auc: 0.66912 |  0:00:00s\n",
            "epoch 6  | loss: 0.27689 | train_auc: 0.49778 | valid_auc: 0.59917 |  0:00:01s\n",
            "epoch 7  | loss: 0.25762 | train_auc: 0.51931 | valid_auc: 0.51922 |  0:00:01s\n",
            "epoch 8  | loss: 0.22137 | train_auc: 0.55958 | valid_auc: 0.59511 |  0:00:01s\n",
            "epoch 9  | loss: 0.21698 | train_auc: 0.62191 | valid_auc: 0.58635 |  0:00:02s\n",
            "epoch 10 | loss: 0.19259 | train_auc: 0.68553 | valid_auc: 0.70502 |  0:00:02s\n",
            "epoch 11 | loss: 0.19474 | train_auc: 0.72336 | valid_auc: 0.83337 |  0:00:02s\n",
            "epoch 12 | loss: 0.19377 | train_auc: 0.74055 | valid_auc: 0.56759 |  0:00:02s\n",
            "epoch 13 | loss: 0.17332 | train_auc: 0.74996 | valid_auc: 0.38437 |  0:00:03s\n",
            "epoch 14 | loss: 0.17062 | train_auc: 0.7615  | valid_auc: 0.36572 |  0:00:03s\n",
            "epoch 15 | loss: 0.15981 | train_auc: 0.77983 | valid_auc: 0.37131 |  0:00:03s\n",
            "epoch 16 | loss: 0.14498 | train_auc: 0.78219 | valid_auc: 0.40183 |  0:00:04s\n",
            "epoch 17 | loss: 0.13916 | train_auc: 0.79609 | valid_auc: 0.41857 |  0:00:04s\n",
            "epoch 18 | loss: 0.13021 | train_auc: 0.79744 | valid_auc: 0.41912 |  0:00:04s\n",
            "epoch 19 | loss: 0.13351 | train_auc: 0.78905 | valid_auc: 0.42551 |  0:00:04s\n",
            "epoch 20 | loss: 0.14518 | train_auc: 0.80045 | valid_auc: 0.44081 |  0:00:04s\n",
            "epoch 21 | loss: 0.14521 | train_auc: 0.80765 | valid_auc: 0.45843 |  0:00:04s\n",
            "epoch 22 | loss: 0.12197 | train_auc: 0.81633 | valid_auc: 0.47662 |  0:00:04s\n",
            "epoch 23 | loss: 0.14097 | train_auc: 0.81886 | valid_auc: 0.483   |  0:00:05s\n",
            "epoch 24 | loss: 0.11904 | train_auc: 0.82176 | valid_auc: 0.46732 |  0:00:05s\n",
            "epoch 25 | loss: 0.10676 | train_auc: 0.82    | valid_auc: 0.45814 |  0:00:05s\n",
            "epoch 26 | loss: 0.09975 | train_auc: 0.79895 | valid_auc: 0.46923 |  0:00:05s\n",
            "epoch 27 | loss: 0.10076 | train_auc: 0.78188 | valid_auc: 0.48656 |  0:00:05s\n",
            "epoch 28 | loss: 0.09288 | train_auc: 0.77345 | valid_auc: 0.50966 |  0:00:06s\n",
            "epoch 29 | loss: 0.1001  | train_auc: 0.76771 | valid_auc: 0.53318 |  0:00:06s\n",
            "epoch 30 | loss: 0.1245  | train_auc: 0.7506  | valid_auc: 0.55108 |  0:00:06s\n",
            "epoch 31 | loss: 0.10243 | train_auc: 0.73904 | valid_auc: 0.55025 |  0:00:06s\n",
            "\n",
            "Early stopping occurred at epoch 31 with best_epoch = 11 and best_valid_auc = 0.83337\n",
            "Best weights from best epoch are automatically used!\n",
            "epoch 0  | loss: 0.22495 | train_auc: 0.73183 | valid_auc: 0.79418 |  0:00:00s\n",
            "epoch 1  | loss: 0.1975  | train_auc: 0.70847 | valid_auc: 0.79124 |  0:00:00s\n",
            "epoch 2  | loss: 0.2178  | train_auc: 0.67159 | valid_auc: 0.48084 |  0:00:00s\n",
            "epoch 3  | loss: 0.15835 | train_auc: 0.67609 | valid_auc: 0.41807 |  0:00:00s\n",
            "epoch 4  | loss: 0.17187 | train_auc: 0.67487 | valid_auc: 0.52811 |  0:00:00s\n",
            "epoch 5  | loss: 0.15108 | train_auc: 0.66777 | valid_auc: 0.55127 |  0:00:00s\n",
            "epoch 6  | loss: 0.13046 | train_auc: 0.66876 | valid_auc: 0.51063 |  0:00:01s\n",
            "epoch 7  | loss: 0.13031 | train_auc: 0.64653 | valid_auc: 0.48188 |  0:00:01s\n",
            "epoch 8  | loss: 0.13515 | train_auc: 0.65059 | valid_auc: 0.49558 |  0:00:01s\n",
            "epoch 9  | loss: 0.14519 | train_auc: 0.64436 | valid_auc: 0.56107 |  0:00:01s\n",
            "epoch 10 | loss: 0.12493 | train_auc: 0.60133 | valid_auc: 0.59599 |  0:00:01s\n",
            "epoch 11 | loss: 0.11173 | train_auc: 0.62568 | valid_auc: 0.59011 |  0:00:01s\n",
            "epoch 12 | loss: 0.13504 | train_auc: 0.68006 | valid_auc: 0.57703 |  0:00:02s\n",
            "epoch 13 | loss: 0.11387 | train_auc: 0.68113 | valid_auc: 0.56188 |  0:00:02s\n",
            "epoch 14 | loss: 0.10747 | train_auc: 0.6968  | valid_auc: 0.54179 |  0:00:02s\n",
            "epoch 15 | loss: 0.09607 | train_auc: 0.71649 | valid_auc: 0.53337 |  0:00:02s\n",
            "epoch 16 | loss: 0.0811  | train_auc: 0.71527 | valid_auc: 0.52559 |  0:00:02s\n",
            "epoch 17 | loss: 0.10089 | train_auc: 0.72243 | valid_auc: 0.51891 |  0:00:02s\n",
            "epoch 18 | loss: 0.08661 | train_auc: 0.71476 | valid_auc: 0.50483 |  0:00:03s\n",
            "epoch 19 | loss: 0.08095 | train_auc: 0.72824 | valid_auc: 0.50545 |  0:00:03s\n",
            "epoch 20 | loss: 0.08584 | train_auc: 0.74788 | valid_auc: 0.50098 |  0:00:03s\n",
            "\n",
            "Early stopping occurred at epoch 20 with best_epoch = 0 and best_valid_auc = 0.79418\n",
            "Best weights from best epoch are automatically used!\n"
          ]
        }
      ]
    },
    {
      "cell_type": "code",
      "source": [
        "plt.plot(clf.history['loss'])"
      ],
      "metadata": {
        "colab": {
          "base_uri": "https://localhost:8080/",
          "height": 282
        },
        "id": "-j1jSKYa3Rrr",
        "outputId": "a691bb7d-38e1-4d7a-88cd-495e60c10bf5"
      },
      "execution_count": 129,
      "outputs": [
        {
          "output_type": "execute_result",
          "data": {
            "text/plain": [
              "[<matplotlib.lines.Line2D at 0x7f32656e42d0>]"
            ]
          },
          "metadata": {},
          "execution_count": 129
        },
        {
          "output_type": "display_data",
          "data": {
            "text/plain": [
              "<Figure size 432x288 with 1 Axes>"
            ],
            "image/png": "[encoded data removed]"
          },
          "metadata": {
            "needs_background": "light"
          }
        }
      ]
    },
    {
      "cell_type": "code",
      "source": [
        "plt.plot(clf.history['train_auc'])\n",
        "plt.plot(clf.history['valid_auc'])"
      ],
      "metadata": {
        "colab": {
          "base_uri": "https://localhost:8080/",
          "height": 282
        },
        "id": "hjAQ0bH338_t",
        "outputId": "e59cad2e-01cc-4121-a358-87bd2aceff90"
      },
      "execution_count": 130,
      "outputs": [
        {
          "output_type": "execute_result",
          "data": {
            "text/plain": [
              "[<matplotlib.lines.Line2D at 0x7f32658ab8d0>]"
            ]
          },
          "metadata": {},
          "execution_count": 130
        },
        {
          "output_type": "display_data",
          "data": {
            "text/plain": [
              "<Figure size 432x288 with 1 Axes>"
            ],
            "image/png": "[encoded data removed]"
          },
          "metadata": {
            "needs_background": "light"
          }
        }
      ]
    },
    {
      "cell_type": "code",
      "source": [
        "plt.plot(clf.history['lr'])"
      ],
      "metadata": {
        "colab": {
          "base_uri": "https://localhost:8080/",
          "height": 282
        },
        "id": "T-oDi1HE4X_f",
        "outputId": "baa85ff2-dbaf-452b-8ca7-e7f081290ea1"
      },
      "execution_count": 131,
      "outputs": [
        {
          "output_type": "execute_result",
          "data": {
            "text/plain": [
              "[<matplotlib.lines.Line2D at 0x7f3265818990>]"
            ]
          },
          "metadata": {},
          "execution_count": 131
        },
        {
          "output_type": "display_data",
          "data": {
            "text/plain": [
              "<Figure size 432x288 with 1 Axes>"
            ],
            "image/png": "[encoded data removed]"
          },
          "metadata": {
            "needs_background": "light"
          }
        }
      ]
    },
    {
      "cell_type": "code",
      "source": [
        "target = 'Class'"
      ],
      "metadata": {
        "id": "DzYykAYH4a3w"
      },
      "execution_count": 98,
      "outputs": []
    },
    {
      "cell_type": "code",
      "source": [],
      "metadata": {
        "id": "25CsWk8u40Wy"
      },
      "execution_count": null,
      "outputs": []
    },
    {
      "cell_type": "code",
      "source": [
        "test_indices"
      ],
      "metadata": {
        "colab": {
          "base_uri": "https://localhost:8080/"
        },
        "id": "KcQZybaaG3jn",
        "outputId": "15ae32c0-6bfd-4f82-e8ee-3f2d05f47ad9"
      },
      "execution_count": 132,
      "outputs": [
        {
          "output_type": "execute_result",
          "data": {
            "text/plain": [
              "Int64Index([   0,    1,    2,    3,    4,    5,    6,    7,    8,    9,\n",
              "            ...\n",
              "            2490, 2491, 2492, 2493, 2494, 2495, 2496, 2497, 2498, 2499],\n",
              "           dtype='int64', length=2500)"
            ]
          },
          "metadata": {},
          "execution_count": 132
        }
      ]
    },
    {
      "cell_type": "code",
      "source": [
        "test.head()"
      ],
      "metadata": {
        "colab": {
          "base_uri": "https://localhost:8080/",
          "height": 334
        },
        "id": "uKZQCZUB5TKL",
        "outputId": "e2c89e5d-1836-4638-8bef-5824a35c99c0"
      },
      "execution_count": 133,
      "outputs": [
        {
          "output_type": "execute_result",
          "data": {
            "text/plain": [
              "   Filename  White Circle Patch  Contrast  Black Patch  Biffercation  \\\n",
              "0      1500              8266.5  0.383349     0.839418           288   \n",
              "1      1501             47155.5  0.372415     0.896262          1652   \n",
              "2      1502             21913.5  0.152613     0.963557          1586   \n",
              "3      1503             44836.5  0.240996     0.941365          1335   \n",
              "4      1504             22673.0  0.203558     0.937257          1404   \n",
              "\n",
              "   Termination         CID     Class   OCL_STD   LCS_STD  ...       OFL  \\\n",
              "0         1994   99.187955  classOne  0.153912  0.410613  ...  0.797049   \n",
              "1         1451  417.176479  classOne  0.187894  0.374278  ...  0.850782   \n",
              "2         2166  479.199968  classOne  0.146315  0.390184  ...  0.812172   \n",
              "3         1452  454.597828  classOne  0.160246  0.403237  ...  0.808584   \n",
              "4         2188  211.361639  classOne  0.145250  0.364457  ...  0.822868   \n",
              "\n",
              "        FDA     GABOR  OCL_STD2  LCS_STD2  OFL_STD2  FDA_STD2  RVU_STD2  \\\n",
              "0  0.669485  0.402786  0.113667  0.336519  0.065256  0.236921  0.237541   \n",
              "1  0.619929  0.338296  0.095768  0.323855  0.046135  0.228830  0.249255   \n",
              "2  0.601877  0.426878  0.092892  0.316652  0.067649  0.225560  0.299585   \n",
              "3  0.645700  0.320552  0.100989  0.339780  0.055888  0.226648  0.132427   \n",
              "4  0.589776  0.349245  0.111315  0.285965  0.055115  0.232615  0.286615   \n",
              "\n",
              "   GABOR_STD2  Set  \n",
              "0    0.019568    0  \n",
              "1    0.017525    0  \n",
              "2    0.020124    0  \n",
              "3    0.016810    0  \n",
              "4    0.017075    0  \n",
              "\n",
              "[5 rows x 30 columns]"
            ],
            "text/html": [
              "\n",
              "  <div id=\"df-fd1ee120-e330-4ef5-8133-fe9197871d91\">\n",
              "    <div class=\"colab-df-container\">\n",
              "      <div>\n",
              "<style scoped>\n",
              "    .dataframe tbody tr th:only-of-type {\n",
              "        vertical-align: middle;\n",
              "    }\n",
              "\n",
              "    .dataframe tbody tr th {\n",
              "        vertical-align: top;\n",
              "    }\n",
              "\n",
              "    .dataframe thead th {\n",
              "        text-align: right;\n",
              "    }\n",
              "</style>\n",
              "<table border=\"1\" class=\"dataframe\">\n",
              "  <thead>\n",
              "    <tr style=\"text-align: right;\">\n",
              "      <th></th>\n",
              "      <th>Filename</th>\n",
              "      <th>White Circle Patch</th>\n",
              "      <th>Contrast</th>\n",
              "      <th>Black Patch</th>\n",
              "      <th>Biffercation</th>\n",
              "      <th>Termination</th>\n",
              "      <th>CID</th>\n",
              "      <th>Class</th>\n",
              "      <th>OCL_STD</th>\n",
              "      <th>LCS_STD</th>\n",
              "      <th>...</th>\n",
              "      <th>OFL</th>\n",
              "      <th>FDA</th>\n",
              "      <th>GABOR</th>\n",
              "      <th>OCL_STD2</th>\n",
              "      <th>LCS_STD2</th>\n",
              "      <th>OFL_STD2</th>\n",
              "      <th>FDA_STD2</th>\n",
              "      <th>RVU_STD2</th>\n",
              "      <th>GABOR_STD2</th>\n",
              "      <th>Set</th>\n",
              "    </tr>\n",
              "  </thead>\n",
              "  <tbody>\n",
              "    <tr>\n",
              "      <th>0</th>\n",
              "      <td>1500</td>\n",
              "      <td>8266.5</td>\n",
              "      <td>0.383349</td>\n",
              "      <td>0.839418</td>\n",
              "      <td>288</td>\n",
              "      <td>1994</td>\n",
              "      <td>99.187955</td>\n",
              "      <td>classOne</td>\n",
              "      <td>0.153912</td>\n",
              "      <td>0.410613</td>\n",
              "      <td>...</td>\n",
              "      <td>0.797049</td>\n",
              "      <td>0.669485</td>\n",
              "      <td>0.402786</td>\n",
              "      <td>0.113667</td>\n",
              "      <td>0.336519</td>\n",
              "      <td>0.065256</td>\n",
              "      <td>0.236921</td>\n",
              "      <td>0.237541</td>\n",
              "      <td>0.019568</td>\n",
              "      <td>0</td>\n",
              "    </tr>\n",
              "    <tr>\n",
              "      <th>1</th>\n",
              "      <td>1501</td>\n",
              "      <td>47155.5</td>\n",
              "      <td>0.372415</td>\n",
              "      <td>0.896262</td>\n",
              "      <td>1652</td>\n",
              "      <td>1451</td>\n",
              "      <td>417.176479</td>\n",
              "      <td>classOne</td>\n",
              "      <td>0.187894</td>\n",
              "      <td>0.374278</td>\n",
              "      <td>...</td>\n",
              "      <td>0.850782</td>\n",
              "      <td>0.619929</td>\n",
              "      <td>0.338296</td>\n",
              "      <td>0.095768</td>\n",
              "      <td>0.323855</td>\n",
              "      <td>0.046135</td>\n",
              "      <td>0.228830</td>\n",
              "      <td>0.249255</td>\n",
              "      <td>0.017525</td>\n",
              "      <td>0</td>\n",
              "    </tr>\n",
              "    <tr>\n",
              "      <th>2</th>\n",
              "      <td>1502</td>\n",
              "      <td>21913.5</td>\n",
              "      <td>0.152613</td>\n",
              "      <td>0.963557</td>\n",
              "      <td>1586</td>\n",
              "      <td>2166</td>\n",
              "      <td>479.199968</td>\n",
              "      <td>classOne</td>\n",
              "      <td>0.146315</td>\n",
              "      <td>0.390184</td>\n",
              "      <td>...</td>\n",
              "      <td>0.812172</td>\n",
              "      <td>0.601877</td>\n",
              "      <td>0.426878</td>\n",
              "      <td>0.092892</td>\n",
              "      <td>0.316652</td>\n",
              "      <td>0.067649</td>\n",
              "      <td>0.225560</td>\n",
              "      <td>0.299585</td>\n",
              "      <td>0.020124</td>\n",
              "      <td>0</td>\n",
              "    </tr>\n",
              "    <tr>\n",
              "      <th>3</th>\n",
              "      <td>1503</td>\n",
              "      <td>44836.5</td>\n",
              "      <td>0.240996</td>\n",
              "      <td>0.941365</td>\n",
              "      <td>1335</td>\n",
              "      <td>1452</td>\n",
              "      <td>454.597828</td>\n",
              "      <td>classOne</td>\n",
              "      <td>0.160246</td>\n",
              "      <td>0.403237</td>\n",
              "      <td>...</td>\n",
              "      <td>0.808584</td>\n",
              "      <td>0.645700</td>\n",
              "      <td>0.320552</td>\n",
              "      <td>0.100989</td>\n",
              "      <td>0.339780</td>\n",
              "      <td>0.055888</td>\n",
              "      <td>0.226648</td>\n",
              "      <td>0.132427</td>\n",
              "      <td>0.016810</td>\n",
              "      <td>0</td>\n",
              "    </tr>\n",
              "    <tr>\n",
              "      <th>4</th>\n",
              "      <td>1504</td>\n",
              "      <td>22673.0</td>\n",
              "      <td>0.203558</td>\n",
              "      <td>0.937257</td>\n",
              "      <td>1404</td>\n",
              "      <td>2188</td>\n",
              "      <td>211.361639</td>\n",
              "      <td>classOne</td>\n",
              "      <td>0.145250</td>\n",
              "      <td>0.364457</td>\n",
              "      <td>...</td>\n",
              "      <td>0.822868</td>\n",
              "      <td>0.589776</td>\n",
              "      <td>0.349245</td>\n",
              "      <td>0.111315</td>\n",
              "      <td>0.285965</td>\n",
              "      <td>0.055115</td>\n",
              "      <td>0.232615</td>\n",
              "      <td>0.286615</td>\n",
              "      <td>0.017075</td>\n",
              "      <td>0</td>\n",
              "    </tr>\n",
              "  </tbody>\n",
              "</table>\n",
              "<p>5 rows × 30 columns</p>\n",
              "</div>\n",
              "      <button class=\"colab-df-convert\" onclick=\"convertToInteractive('df-fd1ee120-e330-4ef5-8133-fe9197871d91')\"\n",
              "              title=\"Convert this dataframe to an interactive table.\"\n",
              "              style=\"display:none;\">\n",
              "        \n",
              "  <svg xmlns=\"http://www.w3.org/2000/svg\" height=\"24px\"viewBox=\"0 0 24 24\"\n",
              "       width=\"24px\">\n",
              "    <path d=\"M0 0h24v24H0V0z\" fill=\"none\"/>\n",
              "    <path d=\"M18.56 5.44l.94 2.06.94-2.06 2.06-.94-2.06-.94-.94-2.06-.94 2.06-2.06.94zm-11 1L8.5 8.5l.94-2.06 2.06-.94-2.06-.94L8.5 2.5l-.94 2.06-2.06.94zm10 10l.94 2.06.94-2.06 2.06-.94-2.06-.94-.94-2.06-.94 2.06-2.06.94z\"/><path d=\"M17.41 7.96l-1.37-1.37c-.4-.4-.92-.59-1.43-.59-.52 0-1.04.2-1.43.59L10.3 9.45l-7.72 7.72c-.78.78-.78 2.05 0 2.83L4 21.41c.39.39.9.59 1.41.59.51 0 1.02-.2 1.41-.59l7.78-7.78 2.81-2.81c.8-.78.8-2.07 0-2.86zM5.41 20L4 18.59l7.72-7.72 1.47 1.35L5.41 20z\"/>\n",
              "  </svg>\n",
              "      </button>\n",
              "      \n",
              "  <style>\n",
              "    .colab-df-container {\n",
              "      display:flex;\n",
              "      flex-wrap:wrap;\n",
              "      gap: 12px;\n",
              "    }\n",
              "\n",
              "    .colab-df-convert {\n",
              "      background-color: #E8F0FE;\n",
              "      border: none;\n",
              "      border-radius: 50%;\n",
              "      cursor: pointer;\n",
              "      display: none;\n",
              "      fill: #1967D2;\n",
              "      height: 32px;\n",
              "      padding: 0 0 0 0;\n",
              "      width: 32px;\n",
              "    }\n",
              "\n",
              "    .colab-df-convert:hover {\n",
              "      background-color: #E2EBFA;\n",
              "      box-shadow: 0px 1px 2px rgba(60, 64, 67, 0.3), 0px 1px 3px 1px rgba(60, 64, 67, 0.15);\n",
              "      fill: #174EA6;\n",
              "    }\n",
              "\n",
              "    [theme=dark] .colab-df-convert {\n",
              "      background-color: #3B4455;\n",
              "      fill: #D2E3FC;\n",
              "    }\n",
              "\n",
              "    [theme=dark] .colab-df-convert:hover {\n",
              "      background-color: #434B5C;\n",
              "      box-shadow: 0px 1px 3px 1px rgba(0, 0, 0, 0.15);\n",
              "      filter: drop-shadow(0px 1px 2px rgba(0, 0, 0, 0.3));\n",
              "      fill: #FFFFFF;\n",
              "    }\n",
              "  </style>\n",
              "\n",
              "      <script>\n",
              "        const buttonEl =\n",
              "          document.querySelector('#df-fd1ee120-e330-4ef5-8133-fe9197871d91 button.colab-df-convert');\n",
              "        buttonEl.style.display =\n",
              "          google.colab.kernel.accessAllowed ? 'block' : 'none';\n",
              "\n",
              "        async function convertToInteractive(key) {\n",
              "          const element = document.querySelector('#df-fd1ee120-e330-4ef5-8133-fe9197871d91');\n",
              "          const dataTable =\n",
              "            await google.colab.kernel.invokeFunction('convertToInteractive',\n",
              "                                                     [key], {});\n",
              "          if (!dataTable) return;\n",
              "\n",
              "          const docLinkHtml = 'Like what you see? Visit the ' +\n",
              "            '<a target=\"_blank\" href=https://colab.research.google.com/notebooks/data_table.ipynb>data table notebook</a>'\n",
              "            + ' to learn more about interactive tables.';\n",
              "          element.innerHTML = '';\n",
              "          dataTable['output_type'] = 'display_data';\n",
              "          await google.colab.output.renderOutput(dataTable, element);\n",
              "          const docLink = document.createElement('div');\n",
              "          docLink.innerHTML = docLinkHtml;\n",
              "          element.appendChild(docLink);\n",
              "        }\n",
              "      </script>\n",
              "    </div>\n",
              "  </div>\n",
              "  "
            ]
          },
          "metadata": {},
          "execution_count": 133
        }
      ]
    },
    {
      "cell_type": "code",
      "source": [],
      "metadata": {
        "colab": {
          "base_uri": "https://localhost:8080/"
        },
        "id": "f3Z_UhIa5epi",
        "outputId": "07b3aa6f-5939-4ff1-edc4-b0ab0a46b64e"
      },
      "execution_count": null,
      "outputs": [
        {
          "output_type": "stream",
          "name": "stdout",
          "text": [
            "Filename 2391\n",
            "Class 2\n",
            "Set 1\n"
          ]
        }
      ]
    },
    {
      "cell_type": "code",
      "source": [
        "test.head()"
      ],
      "metadata": {
        "colab": {
          "base_uri": "https://localhost:8080/",
          "height": 334
        },
        "id": "3CfZuryyA8EC",
        "outputId": "5152c6a6-e10f-4b4e-8c1f-d0e7d5c1e9dd"
      },
      "execution_count": null,
      "outputs": [
        {
          "output_type": "execute_result",
          "data": {
            "text/plain": [
              "   Filename  White Circle Patch  Contrast  Black Patch  Biffercation  \\\n",
              "0      1430              1247.5  0.180888     0.970647           662   \n",
              "1      1431              9068.5  0.171969     0.972397           751   \n",
              "2      1432              2391.0  0.185029     0.969472           869   \n",
              "3      1433              2844.0  0.163861     0.975126          1252   \n",
              "4      1434              2188.5  0.176749     0.970335           842   \n",
              "\n",
              "   Termination        CID  Class   OCL_STD   LCS_STD  ...       OFL       FDA  \\\n",
              "0          561  78.533838      1  0.088992  0.159958  ...  0.773165  0.428583   \n",
              "1          579  81.857239      1  0.126087  0.183584  ...  0.589470  0.420638   \n",
              "2          548  80.215418      1  0.100562  0.209148  ...  0.581448  0.424211   \n",
              "3          619  26.679455      1  0.101059  0.309550  ...  0.696221  0.425945   \n",
              "4          510  78.065596      1  0.121961  0.209846  ...  0.594424  0.461999   \n",
              "\n",
              "      GABOR  OCL_STD2  LCS_STD2  OFL_STD2  FDA_STD2  RVU_STD2  GABOR_STD2  Set  \n",
              "0  1.196166  0.074062  0.078522  0.128689  0.069774  0.279889    0.044990    0  \n",
              "1  1.365218  0.098366  0.093950  0.189146  0.091914  0.137530    0.048323    0  \n",
              "2  1.336425  0.069207  0.206090  0.168276  0.133136  0.237812    0.049219    0  \n",
              "3  1.067160  0.080500  0.302677  0.165879  0.222617  0.340390    0.043068    0  \n",
              "4  1.323560  0.085743  0.139873  0.207683  0.142900  0.387912    0.045935    0  \n",
              "\n",
              "[5 rows x 30 columns]"
            ],
            "text/html": [
              "\n",
              "  <div id=\"df-1c74e844-617a-47cb-8975-67a51bbadc67\">\n",
              "    <div class=\"colab-df-container\">\n",
              "      <div>\n",
              "<style scoped>\n",
              "    .dataframe tbody tr th:only-of-type {\n",
              "        vertical-align: middle;\n",
              "    }\n",
              "\n",
              "    .dataframe tbody tr th {\n",
              "        vertical-align: top;\n",
              "    }\n",
              "\n",
              "    .dataframe thead th {\n",
              "        text-align: right;\n",
              "    }\n",
              "</style>\n",
              "<table border=\"1\" class=\"dataframe\">\n",
              "  <thead>\n",
              "    <tr style=\"text-align: right;\">\n",
              "      <th></th>\n",
              "      <th>Filename</th>\n",
              "      <th>White Circle Patch</th>\n",
              "      <th>Contrast</th>\n",
              "      <th>Black Patch</th>\n",
              "      <th>Biffercation</th>\n",
              "      <th>Termination</th>\n",
              "      <th>CID</th>\n",
              "      <th>Class</th>\n",
              "      <th>OCL_STD</th>\n",
              "      <th>LCS_STD</th>\n",
              "      <th>...</th>\n",
              "      <th>OFL</th>\n",
              "      <th>FDA</th>\n",
              "      <th>GABOR</th>\n",
              "      <th>OCL_STD2</th>\n",
              "      <th>LCS_STD2</th>\n",
              "      <th>OFL_STD2</th>\n",
              "      <th>FDA_STD2</th>\n",
              "      <th>RVU_STD2</th>\n",
              "      <th>GABOR_STD2</th>\n",
              "      <th>Set</th>\n",
              "    </tr>\n",
              "  </thead>\n",
              "  <tbody>\n",
              "    <tr>\n",
              "      <th>0</th>\n",
              "      <td>1430</td>\n",
              "      <td>1247.5</td>\n",
              "      <td>0.180888</td>\n",
              "      <td>0.970647</td>\n",
              "      <td>662</td>\n",
              "      <td>561</td>\n",
              "      <td>78.533838</td>\n",
              "      <td>1</td>\n",
              "      <td>0.088992</td>\n",
              "      <td>0.159958</td>\n",
              "      <td>...</td>\n",
              "      <td>0.773165</td>\n",
              "      <td>0.428583</td>\n",
              "      <td>1.196166</td>\n",
              "      <td>0.074062</td>\n",
              "      <td>0.078522</td>\n",
              "      <td>0.128689</td>\n",
              "      <td>0.069774</td>\n",
              "      <td>0.279889</td>\n",
              "      <td>0.044990</td>\n",
              "      <td>0</td>\n",
              "    </tr>\n",
              "    <tr>\n",
              "      <th>1</th>\n",
              "      <td>1431</td>\n",
              "      <td>9068.5</td>\n",
              "      <td>0.171969</td>\n",
              "      <td>0.972397</td>\n",
              "      <td>751</td>\n",
              "      <td>579</td>\n",
              "      <td>81.857239</td>\n",
              "      <td>1</td>\n",
              "      <td>0.126087</td>\n",
              "      <td>0.183584</td>\n",
              "      <td>...</td>\n",
              "      <td>0.589470</td>\n",
              "      <td>0.420638</td>\n",
              "      <td>1.365218</td>\n",
              "      <td>0.098366</td>\n",
              "      <td>0.093950</td>\n",
              "      <td>0.189146</td>\n",
              "      <td>0.091914</td>\n",
              "      <td>0.137530</td>\n",
              "      <td>0.048323</td>\n",
              "      <td>0</td>\n",
              "    </tr>\n",
              "    <tr>\n",
              "      <th>2</th>\n",
              "      <td>1432</td>\n",
              "      <td>2391.0</td>\n",
              "      <td>0.185029</td>\n",
              "      <td>0.969472</td>\n",
              "      <td>869</td>\n",
              "      <td>548</td>\n",
              "      <td>80.215418</td>\n",
              "      <td>1</td>\n",
              "      <td>0.100562</td>\n",
              "      <td>0.209148</td>\n",
              "      <td>...</td>\n",
              "      <td>0.581448</td>\n",
              "      <td>0.424211</td>\n",
              "      <td>1.336425</td>\n",
              "      <td>0.069207</td>\n",
              "      <td>0.206090</td>\n",
              "      <td>0.168276</td>\n",
              "      <td>0.133136</td>\n",
              "      <td>0.237812</td>\n",
              "      <td>0.049219</td>\n",
              "      <td>0</td>\n",
              "    </tr>\n",
              "    <tr>\n",
              "      <th>3</th>\n",
              "      <td>1433</td>\n",
              "      <td>2844.0</td>\n",
              "      <td>0.163861</td>\n",
              "      <td>0.975126</td>\n",
              "      <td>1252</td>\n",
              "      <td>619</td>\n",
              "      <td>26.679455</td>\n",
              "      <td>1</td>\n",
              "      <td>0.101059</td>\n",
              "      <td>0.309550</td>\n",
              "      <td>...</td>\n",
              "      <td>0.696221</td>\n",
              "      <td>0.425945</td>\n",
              "      <td>1.067160</td>\n",
              "      <td>0.080500</td>\n",
              "      <td>0.302677</td>\n",
              "      <td>0.165879</td>\n",
              "      <td>0.222617</td>\n",
              "      <td>0.340390</td>\n",
              "      <td>0.043068</td>\n",
              "      <td>0</td>\n",
              "    </tr>\n",
              "    <tr>\n",
              "      <th>4</th>\n",
              "      <td>1434</td>\n",
              "      <td>2188.5</td>\n",
              "      <td>0.176749</td>\n",
              "      <td>0.970335</td>\n",
              "      <td>842</td>\n",
              "      <td>510</td>\n",
              "      <td>78.065596</td>\n",
              "      <td>1</td>\n",
              "      <td>0.121961</td>\n",
              "      <td>0.209846</td>\n",
              "      <td>...</td>\n",
              "      <td>0.594424</td>\n",
              "      <td>0.461999</td>\n",
              "      <td>1.323560</td>\n",
              "      <td>0.085743</td>\n",
              "      <td>0.139873</td>\n",
              "      <td>0.207683</td>\n",
              "      <td>0.142900</td>\n",
              "      <td>0.387912</td>\n",
              "      <td>0.045935</td>\n",
              "      <td>0</td>\n",
              "    </tr>\n",
              "  </tbody>\n",
              "</table>\n",
              "<p>5 rows × 30 columns</p>\n",
              "</div>\n",
              "      <button class=\"colab-df-convert\" onclick=\"convertToInteractive('df-1c74e844-617a-47cb-8975-67a51bbadc67')\"\n",
              "              title=\"Convert this dataframe to an interactive table.\"\n",
              "              style=\"display:none;\">\n",
              "        \n",
              "  <svg xmlns=\"http://www.w3.org/2000/svg\" height=\"24px\"viewBox=\"0 0 24 24\"\n",
              "       width=\"24px\">\n",
              "    <path d=\"M0 0h24v24H0V0z\" fill=\"none\"/>\n",
              "    <path d=\"M18.56 5.44l.94 2.06.94-2.06 2.06-.94-2.06-.94-.94-2.06-.94 2.06-2.06.94zm-11 1L8.5 8.5l.94-2.06 2.06-.94-2.06-.94L8.5 2.5l-.94 2.06-2.06.94zm10 10l.94 2.06.94-2.06 2.06-.94-2.06-.94-.94-2.06-.94 2.06-2.06.94z\"/><path d=\"M17.41 7.96l-1.37-1.37c-.4-.4-.92-.59-1.43-.59-.52 0-1.04.2-1.43.59L10.3 9.45l-7.72 7.72c-.78.78-.78 2.05 0 2.83L4 21.41c.39.39.9.59 1.41.59.51 0 1.02-.2 1.41-.59l7.78-7.78 2.81-2.81c.8-.78.8-2.07 0-2.86zM5.41 20L4 18.59l7.72-7.72 1.47 1.35L5.41 20z\"/>\n",
              "  </svg>\n",
              "      </button>\n",
              "      \n",
              "  <style>\n",
              "    .colab-df-container {\n",
              "      display:flex;\n",
              "      flex-wrap:wrap;\n",
              "      gap: 12px;\n",
              "    }\n",
              "\n",
              "    .colab-df-convert {\n",
              "      background-color: #E8F0FE;\n",
              "      border: none;\n",
              "      border-radius: 50%;\n",
              "      cursor: pointer;\n",
              "      display: none;\n",
              "      fill: #1967D2;\n",
              "      height: 32px;\n",
              "      padding: 0 0 0 0;\n",
              "      width: 32px;\n",
              "    }\n",
              "\n",
              "    .colab-df-convert:hover {\n",
              "      background-color: #E2EBFA;\n",
              "      box-shadow: 0px 1px 2px rgba(60, 64, 67, 0.3), 0px 1px 3px 1px rgba(60, 64, 67, 0.15);\n",
              "      fill: #174EA6;\n",
              "    }\n",
              "\n",
              "    [theme=dark] .colab-df-convert {\n",
              "      background-color: #3B4455;\n",
              "      fill: #D2E3FC;\n",
              "    }\n",
              "\n",
              "    [theme=dark] .colab-df-convert:hover {\n",
              "      background-color: #434B5C;\n",
              "      box-shadow: 0px 1px 3px 1px rgba(0, 0, 0, 0.15);\n",
              "      filter: drop-shadow(0px 1px 2px rgba(0, 0, 0, 0.3));\n",
              "      fill: #FFFFFF;\n",
              "    }\n",
              "  </style>\n",
              "\n",
              "      <script>\n",
              "        const buttonEl =\n",
              "          document.querySelector('#df-1c74e844-617a-47cb-8975-67a51bbadc67 button.colab-df-convert');\n",
              "        buttonEl.style.display =\n",
              "          google.colab.kernel.accessAllowed ? 'block' : 'none';\n",
              "\n",
              "        async function convertToInteractive(key) {\n",
              "          const element = document.querySelector('#df-1c74e844-617a-47cb-8975-67a51bbadc67');\n",
              "          const dataTable =\n",
              "            await google.colab.kernel.invokeFunction('convertToInteractive',\n",
              "                                                     [key], {});\n",
              "          if (!dataTable) return;\n",
              "\n",
              "          const docLinkHtml = 'Like what you see? Visit the ' +\n",
              "            '<a target=\"_blank\" href=https://colab.research.google.com/notebooks/data_table.ipynb>data table notebook</a>'\n",
              "            + ' to learn more about interactive tables.';\n",
              "          element.innerHTML = '';\n",
              "          dataTable['output_type'] = 'display_data';\n",
              "          await google.colab.output.renderOutput(dataTable, element);\n",
              "          const docLink = document.createElement('div');\n",
              "          docLink.innerHTML = docLinkHtml;\n",
              "          element.appendChild(docLink);\n",
              "        }\n",
              "      </script>\n",
              "    </div>\n",
              "  </div>\n",
              "  "
            ]
          },
          "metadata": {},
          "execution_count": 66
        }
      ]
    },
    {
      "cell_type": "code",
      "source": [
        "\n"
      ],
      "metadata": {
        "id": "8Ni2uBjp5__J"
      },
      "execution_count": null,
      "outputs": []
    },
    {
      "cell_type": "code",
      "source": [
        "test.head()"
      ],
      "metadata": {
        "colab": {
          "base_uri": "https://localhost:8080/",
          "height": 334
        },
        "id": "k45AzASh6LFt",
        "outputId": "092533b6-dc99-4a73-d362-73ad8a8e9003"
      },
      "execution_count": null,
      "outputs": [
        {
          "output_type": "execute_result",
          "data": {
            "text/plain": [
              "   Filename  White Circle Patch  Contrast  Black Patch  Biffercation  \\\n",
              "0      1430              1247.5  0.180888     0.970647           662   \n",
              "1      1431              9068.5  0.171969     0.972397           751   \n",
              "2      1432              2391.0  0.185029     0.969472           869   \n",
              "3      1433              2844.0  0.163861     0.975126          1252   \n",
              "4      1434              2188.5  0.176749     0.970335           842   \n",
              "\n",
              "   Termination        CID     Class   OCL_STD   LCS_STD  ...       OFL  \\\n",
              "0          561  78.533838  classOne  0.088992  0.159958  ...  0.773165   \n",
              "1          579  81.857239  classOne  0.126087  0.183584  ...  0.589470   \n",
              "2          548  80.215418  classOne  0.100562  0.209148  ...  0.581448   \n",
              "3          619  26.679455  classOne  0.101059  0.309550  ...  0.696221   \n",
              "4          510  78.065596  classOne  0.121961  0.209846  ...  0.594424   \n",
              "\n",
              "        FDA     GABOR  OCL_STD2  LCS_STD2  OFL_STD2  FDA_STD2  RVU_STD2  \\\n",
              "0  0.428583  1.196166  0.074062  0.078522  0.128689  0.069774  0.279889   \n",
              "1  0.420638  1.365218  0.098366  0.093950  0.189146  0.091914  0.137530   \n",
              "2  0.424211  1.336425  0.069207  0.206090  0.168276  0.133136  0.237812   \n",
              "3  0.425945  1.067160  0.080500  0.302677  0.165879  0.222617  0.340390   \n",
              "4  0.461999  1.323560  0.085743  0.139873  0.207683  0.142900  0.387912   \n",
              "\n",
              "   GABOR_STD2  Set  \n",
              "0    0.044990    0  \n",
              "1    0.048323    0  \n",
              "2    0.049219    0  \n",
              "3    0.043068    0  \n",
              "4    0.045935    0  \n",
              "\n",
              "[5 rows x 30 columns]"
            ],
            "text/html": [
              "\n",
              "  <div id=\"df-a6981336-21c9-415d-9ea7-eddc3f8ddae4\">\n",
              "    <div class=\"colab-df-container\">\n",
              "      <div>\n",
              "<style scoped>\n",
              "    .dataframe tbody tr th:only-of-type {\n",
              "        vertical-align: middle;\n",
              "    }\n",
              "\n",
              "    .dataframe tbody tr th {\n",
              "        vertical-align: top;\n",
              "    }\n",
              "\n",
              "    .dataframe thead th {\n",
              "        text-align: right;\n",
              "    }\n",
              "</style>\n",
              "<table border=\"1\" class=\"dataframe\">\n",
              "  <thead>\n",
              "    <tr style=\"text-align: right;\">\n",
              "      <th></th>\n",
              "      <th>Filename</th>\n",
              "      <th>White Circle Patch</th>\n",
              "      <th>Contrast</th>\n",
              "      <th>Black Patch</th>\n",
              "      <th>Biffercation</th>\n",
              "      <th>Termination</th>\n",
              "      <th>CID</th>\n",
              "      <th>Class</th>\n",
              "      <th>OCL_STD</th>\n",
              "      <th>LCS_STD</th>\n",
              "      <th>...</th>\n",
              "      <th>OFL</th>\n",
              "      <th>FDA</th>\n",
              "      <th>GABOR</th>\n",
              "      <th>OCL_STD2</th>\n",
              "      <th>LCS_STD2</th>\n",
              "      <th>OFL_STD2</th>\n",
              "      <th>FDA_STD2</th>\n",
              "      <th>RVU_STD2</th>\n",
              "      <th>GABOR_STD2</th>\n",
              "      <th>Set</th>\n",
              "    </tr>\n",
              "  </thead>\n",
              "  <tbody>\n",
              "    <tr>\n",
              "      <th>0</th>\n",
              "      <td>1430</td>\n",
              "      <td>1247.5</td>\n",
              "      <td>0.180888</td>\n",
              "      <td>0.970647</td>\n",
              "      <td>662</td>\n",
              "      <td>561</td>\n",
              "      <td>78.533838</td>\n",
              "      <td>classOne</td>\n",
              "      <td>0.088992</td>\n",
              "      <td>0.159958</td>\n",
              "      <td>...</td>\n",
              "      <td>0.773165</td>\n",
              "      <td>0.428583</td>\n",
              "      <td>1.196166</td>\n",
              "      <td>0.074062</td>\n",
              "      <td>0.078522</td>\n",
              "      <td>0.128689</td>\n",
              "      <td>0.069774</td>\n",
              "      <td>0.279889</td>\n",
              "      <td>0.044990</td>\n",
              "      <td>0</td>\n",
              "    </tr>\n",
              "    <tr>\n",
              "      <th>1</th>\n",
              "      <td>1431</td>\n",
              "      <td>9068.5</td>\n",
              "      <td>0.171969</td>\n",
              "      <td>0.972397</td>\n",
              "      <td>751</td>\n",
              "      <td>579</td>\n",
              "      <td>81.857239</td>\n",
              "      <td>classOne</td>\n",
              "      <td>0.126087</td>\n",
              "      <td>0.183584</td>\n",
              "      <td>...</td>\n",
              "      <td>0.589470</td>\n",
              "      <td>0.420638</td>\n",
              "      <td>1.365218</td>\n",
              "      <td>0.098366</td>\n",
              "      <td>0.093950</td>\n",
              "      <td>0.189146</td>\n",
              "      <td>0.091914</td>\n",
              "      <td>0.137530</td>\n",
              "      <td>0.048323</td>\n",
              "      <td>0</td>\n",
              "    </tr>\n",
              "    <tr>\n",
              "      <th>2</th>\n",
              "      <td>1432</td>\n",
              "      <td>2391.0</td>\n",
              "      <td>0.185029</td>\n",
              "      <td>0.969472</td>\n",
              "      <td>869</td>\n",
              "      <td>548</td>\n",
              "      <td>80.215418</td>\n",
              "      <td>classOne</td>\n",
              "      <td>0.100562</td>\n",
              "      <td>0.209148</td>\n",
              "      <td>...</td>\n",
              "      <td>0.581448</td>\n",
              "      <td>0.424211</td>\n",
              "      <td>1.336425</td>\n",
              "      <td>0.069207</td>\n",
              "      <td>0.206090</td>\n",
              "      <td>0.168276</td>\n",
              "      <td>0.133136</td>\n",
              "      <td>0.237812</td>\n",
              "      <td>0.049219</td>\n",
              "      <td>0</td>\n",
              "    </tr>\n",
              "    <tr>\n",
              "      <th>3</th>\n",
              "      <td>1433</td>\n",
              "      <td>2844.0</td>\n",
              "      <td>0.163861</td>\n",
              "      <td>0.975126</td>\n",
              "      <td>1252</td>\n",
              "      <td>619</td>\n",
              "      <td>26.679455</td>\n",
              "      <td>classOne</td>\n",
              "      <td>0.101059</td>\n",
              "      <td>0.309550</td>\n",
              "      <td>...</td>\n",
              "      <td>0.696221</td>\n",
              "      <td>0.425945</td>\n",
              "      <td>1.067160</td>\n",
              "      <td>0.080500</td>\n",
              "      <td>0.302677</td>\n",
              "      <td>0.165879</td>\n",
              "      <td>0.222617</td>\n",
              "      <td>0.340390</td>\n",
              "      <td>0.043068</td>\n",
              "      <td>0</td>\n",
              "    </tr>\n",
              "    <tr>\n",
              "      <th>4</th>\n",
              "      <td>1434</td>\n",
              "      <td>2188.5</td>\n",
              "      <td>0.176749</td>\n",
              "      <td>0.970335</td>\n",
              "      <td>842</td>\n",
              "      <td>510</td>\n",
              "      <td>78.065596</td>\n",
              "      <td>classOne</td>\n",
              "      <td>0.121961</td>\n",
              "      <td>0.209846</td>\n",
              "      <td>...</td>\n",
              "      <td>0.594424</td>\n",
              "      <td>0.461999</td>\n",
              "      <td>1.323560</td>\n",
              "      <td>0.085743</td>\n",
              "      <td>0.139873</td>\n",
              "      <td>0.207683</td>\n",
              "      <td>0.142900</td>\n",
              "      <td>0.387912</td>\n",
              "      <td>0.045935</td>\n",
              "      <td>0</td>\n",
              "    </tr>\n",
              "  </tbody>\n",
              "</table>\n",
              "<p>5 rows × 30 columns</p>\n",
              "</div>\n",
              "      <button class=\"colab-df-convert\" onclick=\"convertToInteractive('df-a6981336-21c9-415d-9ea7-eddc3f8ddae4')\"\n",
              "              title=\"Convert this dataframe to an interactive table.\"\n",
              "              style=\"display:none;\">\n",
              "        \n",
              "  <svg xmlns=\"http://www.w3.org/2000/svg\" height=\"24px\"viewBox=\"0 0 24 24\"\n",
              "       width=\"24px\">\n",
              "    <path d=\"M0 0h24v24H0V0z\" fill=\"none\"/>\n",
              "    <path d=\"M18.56 5.44l.94 2.06.94-2.06 2.06-.94-2.06-.94-.94-2.06-.94 2.06-2.06.94zm-11 1L8.5 8.5l.94-2.06 2.06-.94-2.06-.94L8.5 2.5l-.94 2.06-2.06.94zm10 10l.94 2.06.94-2.06 2.06-.94-2.06-.94-.94-2.06-.94 2.06-2.06.94z\"/><path d=\"M17.41 7.96l-1.37-1.37c-.4-.4-.92-.59-1.43-.59-.52 0-1.04.2-1.43.59L10.3 9.45l-7.72 7.72c-.78.78-.78 2.05 0 2.83L4 21.41c.39.39.9.59 1.41.59.51 0 1.02-.2 1.41-.59l7.78-7.78 2.81-2.81c.8-.78.8-2.07 0-2.86zM5.41 20L4 18.59l7.72-7.72 1.47 1.35L5.41 20z\"/>\n",
              "  </svg>\n",
              "      </button>\n",
              "      \n",
              "  <style>\n",
              "    .colab-df-container {\n",
              "      display:flex;\n",
              "      flex-wrap:wrap;\n",
              "      gap: 12px;\n",
              "    }\n",
              "\n",
              "    .colab-df-convert {\n",
              "      background-color: #E8F0FE;\n",
              "      border: none;\n",
              "      border-radius: 50%;\n",
              "      cursor: pointer;\n",
              "      display: none;\n",
              "      fill: #1967D2;\n",
              "      height: 32px;\n",
              "      padding: 0 0 0 0;\n",
              "      width: 32px;\n",
              "    }\n",
              "\n",
              "    .colab-df-convert:hover {\n",
              "      background-color: #E2EBFA;\n",
              "      box-shadow: 0px 1px 2px rgba(60, 64, 67, 0.3), 0px 1px 3px 1px rgba(60, 64, 67, 0.15);\n",
              "      fill: #174EA6;\n",
              "    }\n",
              "\n",
              "    [theme=dark] .colab-df-convert {\n",
              "      background-color: #3B4455;\n",
              "      fill: #D2E3FC;\n",
              "    }\n",
              "\n",
              "    [theme=dark] .colab-df-convert:hover {\n",
              "      background-color: #434B5C;\n",
              "      box-shadow: 0px 1px 3px 1px rgba(0, 0, 0, 0.15);\n",
              "      filter: drop-shadow(0px 1px 2px rgba(0, 0, 0, 0.3));\n",
              "      fill: #FFFFFF;\n",
              "    }\n",
              "  </style>\n",
              "\n",
              "      <script>\n",
              "        const buttonEl =\n",
              "          document.querySelector('#df-a6981336-21c9-415d-9ea7-eddc3f8ddae4 button.colab-df-convert');\n",
              "        buttonEl.style.display =\n",
              "          google.colab.kernel.accessAllowed ? 'block' : 'none';\n",
              "\n",
              "        async function convertToInteractive(key) {\n",
              "          const element = document.querySelector('#df-a6981336-21c9-415d-9ea7-eddc3f8ddae4');\n",
              "          const dataTable =\n",
              "            await google.colab.kernel.invokeFunction('convertToInteractive',\n",
              "                                                     [key], {});\n",
              "          if (!dataTable) return;\n",
              "\n",
              "          const docLinkHtml = 'Like what you see? Visit the ' +\n",
              "            '<a target=\"_blank\" href=https://colab.research.google.com/notebooks/data_table.ipynb>data table notebook</a>'\n",
              "            + ' to learn more about interactive tables.';\n",
              "          element.innerHTML = '';\n",
              "          dataTable['output_type'] = 'display_data';\n",
              "          await google.colab.output.renderOutput(dataTable, element);\n",
              "          const docLink = document.createElement('div');\n",
              "          docLink.innerHTML = docLinkHtml;\n",
              "          element.appendChild(docLink);\n",
              "        }\n",
              "      </script>\n",
              "    </div>\n",
              "  </div>\n",
              "  "
            ]
          },
          "metadata": {},
          "execution_count": 68
        }
      ]
    },
    {
      "cell_type": "code",
      "source": [
        " "
      ],
      "metadata": {
        "id": "EvDkvERh6TXG"
      },
      "execution_count": 100,
      "outputs": []
    },
    {
      "cell_type": "code",
      "source": [
        "features"
      ],
      "metadata": {
        "colab": {
          "base_uri": "https://localhost:8080/"
        },
        "id": "DwP5o5fzHZLY",
        "outputId": "b1ceb7f0-bb44-4aa7-fe67-db06593542f7"
      },
      "execution_count": 134,
      "outputs": [
        {
          "output_type": "execute_result",
          "data": {
            "text/plain": [
              "['Filename',\n",
              " 'White Circle Patch',\n",
              " 'Contrast',\n",
              " 'Black Patch',\n",
              " 'Biffercation',\n",
              " 'Termination',\n",
              " 'CID',\n",
              " 'OCL_STD',\n",
              " 'LCS_STD',\n",
              " 'OFL_STD',\n",
              " 'RPS',\n",
              " 'FDA_STD',\n",
              " 'RVU',\n",
              " 'GABOR_STD',\n",
              " 'GABORSHEN',\n",
              " 'SIGMA',\n",
              " 'MEAN',\n",
              " 'OCL',\n",
              " 'LCS',\n",
              " 'OFL',\n",
              " 'FDA',\n",
              " 'GABOR',\n",
              " 'OCL_STD2',\n",
              " 'LCS_STD2',\n",
              " 'OFL_STD2',\n",
              " 'FDA_STD2',\n",
              " 'RVU_STD2',\n",
              " 'GABOR_STD2']"
            ]
          },
          "metadata": {},
          "execution_count": 134
        }
      ]
    },
    {
      "cell_type": "code",
      "source": [],
      "metadata": {
        "id": "4C9Uh5I267G_"
      },
      "execution_count": null,
      "outputs": []
    },
    {
      "cell_type": "code",
      "source": [],
      "metadata": {
        "id": "COsmiHxmHlgh"
      },
      "execution_count": 101,
      "outputs": []
    },
    {
      "cell_type": "code",
      "source": [
        "preds = clf.predict_proba(X_test)\n",
        "test_auc = roc_auc_score(y_score=preds[:,1], y_true=y_test)\n",
        "\n",
        "\n",
        "preds_valid = clf.predict_proba(X_test)\n",
        "valid_auc = roc_auc_score(y_score=preds_valid[:,1], y_true=y_test)\n",
        "\n",
        "print(f\"BEST VALID SCORE : {clf.best_cost}\")\n",
        "print(f\"FINAL TEST SCORE : {test_auc}\")"
      ],
      "metadata": {
        "colab": {
          "base_uri": "https://localhost:8080/"
        },
        "id": "K8urOmcs7E-4",
        "outputId": "0a4bd84e-f628-468d-e0fc-ca9f762ba2a9"
      },
      "execution_count": 135,
      "outputs": [
        {
          "output_type": "stream",
          "name": "stdout",
          "text": [
            "BEST VALID SCORE : 0.794175703957382\n",
            "FINAL TEST SCORE : 0.7994160000000001\n"
          ]
        }
      ]
    },
    {
      "cell_type": "code",
      "source": [],
      "metadata": {
        "id": "PJnFRUU87UUS"
      },
      "execution_count": 103,
      "outputs": []
    },
    {
      "cell_type": "code",
      "source": [
        "clf.predict(X_test)"
      ],
      "metadata": {
        "colab": {
          "base_uri": "https://localhost:8080/"
        },
        "id": "feh79dwu7b43",
        "outputId": "1e73acb0-50fd-467b-d455-c55e4e97edc7"
      },
      "execution_count": 136,
      "outputs": [
        {
          "output_type": "execute_result",
          "data": {
            "text/plain": [
              "array(['classOne', 'classOne', 'classOne', ..., 'classZero', 'classZero',\n",
              "       'classZero'], dtype='<U9')"
            ]
          },
          "metadata": {},
          "execution_count": 136
        }
      ]
    },
    {
      "cell_type": "code",
      "source": [
        "saving_path_name = \"./tabnet_model_test_1\"\n",
        "saved_filepath = clf.save_model(saving_path_name)"
      ],
      "metadata": {
        "colab": {
          "base_uri": "https://localhost:8080/"
        },
        "id": "KaWI68kP7eqL",
        "outputId": "11a60e48-2834-4882-9861-3488fcafa020"
      },
      "execution_count": 137,
      "outputs": [
        {
          "output_type": "stream",
          "name": "stdout",
          "text": [
            "Successfully saved model at ./tabnet_model_test_1.zip\n"
          ]
        }
      ]
    },
    {
      "cell_type": "code",
      "source": [
        "loaded_clf = TabNetClassifier()\n",
        "loaded_clf.load_model(saved_filepath)"
      ],
      "metadata": {
        "colab": {
          "base_uri": "https://localhost:8080/"
        },
        "id": "Pt6UA5nW7ujf",
        "outputId": "f0fde20c-1770-44f3-e8b3-14b0eddc0357"
      },
      "execution_count": 138,
      "outputs": [
        {
          "output_type": "stream",
          "name": "stdout",
          "text": [
            "Device used : cpu\n",
            "Device used : cpu\n"
          ]
        }
      ]
    },
    {
      "cell_type": "code",
      "source": [
        "loaded_preds = loaded_clf.predict_proba(X_test)\n",
        "loaded_test_auc = roc_auc_score(y_score=loaded_preds[:,1], y_true=y_test)\n",
        "\n",
        "print(f\"FINAL TEST SCORE  : {loaded_test_auc}\")"
      ],
      "metadata": {
        "colab": {
          "base_uri": "https://localhost:8080/"
        },
        "id": "C6OfxSxy7wsG",
        "outputId": "564d772b-bb87-45ef-d3b1-8a7992a4aca5"
      },
      "execution_count": 139,
      "outputs": [
        {
          "output_type": "stream",
          "name": "stdout",
          "text": [
            "FINAL TEST SCORE  : 0.7994160000000001\n"
          ]
        }
      ]
    },
    {
      "cell_type": "code",
      "source": [
        "assert(test_auc == loaded_test_auc)"
      ],
      "metadata": {
        "id": "8zAKtR0y70PG"
      },
      "execution_count": 140,
      "outputs": []
    },
    {
      "cell_type": "code",
      "source": [
        "loaded_clf.predict(X_test)"
      ],
      "metadata": {
        "colab": {
          "base_uri": "https://localhost:8080/"
        },
        "id": "YCyXvKdb72Y5",
        "outputId": "f99999e1-e552-474e-d68c-25e69fc299c3"
      },
      "execution_count": 141,
      "outputs": [
        {
          "output_type": "execute_result",
          "data": {
            "text/plain": [
              "array(['classOne', 'classOne', 'classOne', ..., 'classZero', 'classZero',\n",
              "       'classZero'], dtype='<U9')"
            ]
          },
          "metadata": {},
          "execution_count": 141
        }
      ]
    },
    {
      "cell_type": "code",
      "source": [
        "clf.feature_importances_"
      ],
      "metadata": {
        "colab": {
          "base_uri": "https://localhost:8080/"
        },
        "id": "HzyI7uxK74dK",
        "outputId": "afee3ce3-4bc8-4934-ef62-6e211ddb7cf7"
      },
      "execution_count": 142,
      "outputs": [
        {
          "output_type": "execute_result",
          "data": {
            "text/plain": [
              "array([7.09920249e-03, 1.47145960e-02, 1.43927038e-01, 2.46193650e-03,\n",
              "       5.53181425e-02, 1.60794391e-02, 2.08637861e-01, 4.74908869e-03,\n",
              "       4.19176532e-03, 2.03365997e-04, 3.46683897e-01, 3.67920590e-04,\n",
              "       7.16235961e-03, 1.11630969e-02, 1.04743489e-03, 2.78257129e-02,\n",
              "       5.65769182e-04, 4.16531021e-03, 2.33800127e-04, 9.08331662e-05,\n",
              "       3.75665005e-03, 7.26838616e-02, 4.64383522e-03, 8.26742297e-03,\n",
              "       1.19949466e-04, 4.63023150e-02, 6.31797394e-03, 1.21942101e-03])"
            ]
          },
          "metadata": {},
          "execution_count": 142
        }
      ]
    },
    {
      "cell_type": "code",
      "source": [
        "explain_matrix, masks = clf.explain(X_test)"
      ],
      "metadata": {
        "id": "dCXNPfsO7638"
      },
      "execution_count": 143,
      "outputs": []
    },
    {
      "cell_type": "code",
      "source": [
        "fig, axs = plt.subplots(1, 3, figsize=(20,20))\n",
        "\n",
        "for i in range(3):\n",
        "    axs[i].imshow(masks[i][:50])\n",
        "    axs[i].set_title(f\"mask {i}\")"
      ],
      "metadata": {
        "colab": {
          "base_uri": "https://localhost:8080/",
          "height": 489
        },
        "id": "pBNO1IGq79Sj",
        "outputId": "3fa677b3-db73-431c-9ce4-a5edf7124119"
      },
      "execution_count": 144,
      "outputs": [
        {
          "output_type": "display_data",
          "data": {
            "text/plain": [
              "<Figure size 1440x1440 with 3 Axes>"
            ],
            "image/png": "[encoded data removed]"
          },
          "metadata": {
            "needs_background": "light"
          }
        }
      ]
    },
    {
      "cell_type": "code",
      "source": [],
      "metadata": {
        "id": "vKlWwxTl7_s_"
      },
      "execution_count": null,
      "outputs": []
    }
  ]
}