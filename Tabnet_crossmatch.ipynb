{
  "nbformat": 4,
  "nbformat_minor": 0,
  "metadata": {
    "colab": {
      "provenance": []
    },
    "kernelspec": {
      "name": "python3",
      "display_name": "Python 3"
    },
    "language_info": {
      "name": "python"
    }
  },
  "cells": [
    {
      "cell_type": "code",
      "execution_count": 3,
      "metadata": {
        "id": "ZJwJacy7nIzo"
      },
      "outputs": [],
      "source": [
        "from pytorch_tabnet.tab_model import TabNetClassifier\n",
        "\n",
        "import torch\n",
        "from sklearn.preprocessing import LabelEncoder\n",
        "from sklearn.metrics import roc_auc_score\n",
        "\n",
        "import pandas as pd\n",
        "import numpy as np\n",
        "np.random.seed(0)\n",
        "\n",
        "\n",
        "import os\n",
        "\n",
        "from pathlib import Path\n",
        "\n",
        "from matplotlib import pyplot as plt\n",
        "%matplotlib inline"
      ]
    },
    {
      "cell_type": "code",
      "source": [
        "train = pd.read_csv('/content/drive/MyDrive/CSV/Training_Crossmatch.csv')\n"
      ],
      "metadata": {
        "id": "b9JSqtGCoTwH"
      },
      "execution_count": 4,
      "outputs": []
    },
    {
      "cell_type": "code",
      "source": [
        "test = pd.read_csv('/content/drive/MyDrive/CSV/TestingCrossmatch.csv')"
      ],
      "metadata": {
        "id": "qevDo0NPARUr"
      },
      "execution_count": 5,
      "outputs": []
    },
    {
      "cell_type": "code",
      "source": [
        "train.head()"
      ],
      "metadata": {
        "colab": {
          "base_uri": "https://localhost:8080/",
          "height": 334
        },
        "id": "lchommZCoZ2F",
        "outputId": "850d71c6-8479-4f31-9aa3-dce7717f64b9"
      },
      "execution_count": 6,
      "outputs": [
        {
          "output_type": "execute_result",
          "data": {
            "text/plain": [
              "                                            Filename  White Circular Patch  \\\n",
              "0  C:\\Users\\ASHUTOSH\\Downloads\\FingerPrint\\LivDet...               30776.0   \n",
              "1  C:\\Users\\ASHUTOSH\\Downloads\\FingerPrint\\LivDet...               40066.5   \n",
              "2  C:\\Users\\ASHUTOSH\\Downloads\\FingerPrint\\LivDet...               49524.0   \n",
              "3  C:\\Users\\ASHUTOSH\\Downloads\\FingerPrint\\LivDet...               10324.0   \n",
              "4  C:\\Users\\ASHUTOSH\\Downloads\\FingerPrint\\LivDet...               11792.0   \n",
              "\n",
              "   Contrast  Black Patch  Biffurcation  Termination         CID  Class  \\\n",
              "0  0.010333     0.999772          3804          333  107.771544      1   \n",
              "1  0.003752     0.999955          5288          616  156.874296      1   \n",
              "2  0.004532     0.999884          4861          361  218.001356      1   \n",
              "3  0.047750     0.998029          1661          337  212.954369      1   \n",
              "4  0.029279     0.999124          2026          347  181.324385      1   \n",
              "\n",
              "    OCL_STD   LCS_STD  ...       LCS       OFL       FDA     GABOR  OCL_STD2  \\\n",
              "0  0.183448  0.321274  ...  0.548794  0.613218  0.616894  0.125473  0.132002   \n",
              "1  0.149823  0.288940  ...  0.549479  0.577886  0.515961  0.151181  0.125693   \n",
              "2  0.157811  0.320884  ...  0.501499  0.532120  0.626022  0.130306  0.118022   \n",
              "3  0.143613  0.323289  ...  0.519335  0.341780  0.591813  0.066328  0.097421   \n",
              "4  0.163183  0.324478  ...  0.511962  0.477842  0.595702  0.074459  0.149858   \n",
              "\n",
              "   LCS_STD2  OFL_STD2  FDA_STD2  RVU_STD2  GABOR_STD2  \n",
              "0  0.325032  0.041322  0.355333  0.208121    0.006742  \n",
              "1  0.246866  0.056600  0.320952  0.221123    0.008132  \n",
              "2  0.269136  0.065313  0.317784  0.267345    0.007559  \n",
              "3  0.292708  0.045235  0.315834  0.116780    0.003814  \n",
              "4  0.316726  0.039893  0.328637  0.120669    0.004112  \n",
              "\n",
              "[5 rows x 29 columns]"
            ],
            "text/html": [
              "\n",
              "  <div id=\"df-14f6fad2-62cd-4d20-9795-1d94df13842d\">\n",
              "    <div class=\"colab-df-container\">\n",
              "      <div>\n",
              "<style scoped>\n",
              "    .dataframe tbody tr th:only-of-type {\n",
              "        vertical-align: middle;\n",
              "    }\n",
              "\n",
              "    .dataframe tbody tr th {\n",
              "        vertical-align: top;\n",
              "    }\n",
              "\n",
              "    .dataframe thead th {\n",
              "        text-align: right;\n",
              "    }\n",
              "</style>\n",
              "<table border=\"1\" class=\"dataframe\">\n",
              "  <thead>\n",
              "    <tr style=\"text-align: right;\">\n",
              "      <th></th>\n",
              "      <th>Filename</th>\n",
              "      <th>White Circular Patch</th>\n",
              "      <th>Contrast</th>\n",
              "      <th>Black Patch</th>\n",
              "      <th>Biffurcation</th>\n",
              "      <th>Termination</th>\n",
              "      <th>CID</th>\n",
              "      <th>Class</th>\n",
              "      <th>OCL_STD</th>\n",
              "      <th>LCS_STD</th>\n",
              "      <th>...</th>\n",
              "      <th>LCS</th>\n",
              "      <th>OFL</th>\n",
              "      <th>FDA</th>\n",
              "      <th>GABOR</th>\n",
              "      <th>OCL_STD2</th>\n",
              "      <th>LCS_STD2</th>\n",
              "      <th>OFL_STD2</th>\n",
              "      <th>FDA_STD2</th>\n",
              "      <th>RVU_STD2</th>\n",
              "      <th>GABOR_STD2</th>\n",
              "    </tr>\n",
              "  </thead>\n",
              "  <tbody>\n",
              "    <tr>\n",
              "      <th>0</th>\n",
              "      <td>C:\\Users\\ASHUTOSH\\Downloads\\FingerPrint\\LivDet...</td>\n",
              "      <td>30776.0</td>\n",
              "      <td>0.010333</td>\n",
              "      <td>0.999772</td>\n",
              "      <td>3804</td>\n",
              "      <td>333</td>\n",
              "      <td>107.771544</td>\n",
              "      <td>1</td>\n",
              "      <td>0.183448</td>\n",
              "      <td>0.321274</td>\n",
              "      <td>...</td>\n",
              "      <td>0.548794</td>\n",
              "      <td>0.613218</td>\n",
              "      <td>0.616894</td>\n",
              "      <td>0.125473</td>\n",
              "      <td>0.132002</td>\n",
              "      <td>0.325032</td>\n",
              "      <td>0.041322</td>\n",
              "      <td>0.355333</td>\n",
              "      <td>0.208121</td>\n",
              "      <td>0.006742</td>\n",
              "    </tr>\n",
              "    <tr>\n",
              "      <th>1</th>\n",
              "      <td>C:\\Users\\ASHUTOSH\\Downloads\\FingerPrint\\LivDet...</td>\n",
              "      <td>40066.5</td>\n",
              "      <td>0.003752</td>\n",
              "      <td>0.999955</td>\n",
              "      <td>5288</td>\n",
              "      <td>616</td>\n",
              "      <td>156.874296</td>\n",
              "      <td>1</td>\n",
              "      <td>0.149823</td>\n",
              "      <td>0.288940</td>\n",
              "      <td>...</td>\n",
              "      <td>0.549479</td>\n",
              "      <td>0.577886</td>\n",
              "      <td>0.515961</td>\n",
              "      <td>0.151181</td>\n",
              "      <td>0.125693</td>\n",
              "      <td>0.246866</td>\n",
              "      <td>0.056600</td>\n",
              "      <td>0.320952</td>\n",
              "      <td>0.221123</td>\n",
              "      <td>0.008132</td>\n",
              "    </tr>\n",
              "    <tr>\n",
              "      <th>2</th>\n",
              "      <td>C:\\Users\\ASHUTOSH\\Downloads\\FingerPrint\\LivDet...</td>\n",
              "      <td>49524.0</td>\n",
              "      <td>0.004532</td>\n",
              "      <td>0.999884</td>\n",
              "      <td>4861</td>\n",
              "      <td>361</td>\n",
              "      <td>218.001356</td>\n",
              "      <td>1</td>\n",
              "      <td>0.157811</td>\n",
              "      <td>0.320884</td>\n",
              "      <td>...</td>\n",
              "      <td>0.501499</td>\n",
              "      <td>0.532120</td>\n",
              "      <td>0.626022</td>\n",
              "      <td>0.130306</td>\n",
              "      <td>0.118022</td>\n",
              "      <td>0.269136</td>\n",
              "      <td>0.065313</td>\n",
              "      <td>0.317784</td>\n",
              "      <td>0.267345</td>\n",
              "      <td>0.007559</td>\n",
              "    </tr>\n",
              "    <tr>\n",
              "      <th>3</th>\n",
              "      <td>C:\\Users\\ASHUTOSH\\Downloads\\FingerPrint\\LivDet...</td>\n",
              "      <td>10324.0</td>\n",
              "      <td>0.047750</td>\n",
              "      <td>0.998029</td>\n",
              "      <td>1661</td>\n",
              "      <td>337</td>\n",
              "      <td>212.954369</td>\n",
              "      <td>1</td>\n",
              "      <td>0.143613</td>\n",
              "      <td>0.323289</td>\n",
              "      <td>...</td>\n",
              "      <td>0.519335</td>\n",
              "      <td>0.341780</td>\n",
              "      <td>0.591813</td>\n",
              "      <td>0.066328</td>\n",
              "      <td>0.097421</td>\n",
              "      <td>0.292708</td>\n",
              "      <td>0.045235</td>\n",
              "      <td>0.315834</td>\n",
              "      <td>0.116780</td>\n",
              "      <td>0.003814</td>\n",
              "    </tr>\n",
              "    <tr>\n",
              "      <th>4</th>\n",
              "      <td>C:\\Users\\ASHUTOSH\\Downloads\\FingerPrint\\LivDet...</td>\n",
              "      <td>11792.0</td>\n",
              "      <td>0.029279</td>\n",
              "      <td>0.999124</td>\n",
              "      <td>2026</td>\n",
              "      <td>347</td>\n",
              "      <td>181.324385</td>\n",
              "      <td>1</td>\n",
              "      <td>0.163183</td>\n",
              "      <td>0.324478</td>\n",
              "      <td>...</td>\n",
              "      <td>0.511962</td>\n",
              "      <td>0.477842</td>\n",
              "      <td>0.595702</td>\n",
              "      <td>0.074459</td>\n",
              "      <td>0.149858</td>\n",
              "      <td>0.316726</td>\n",
              "      <td>0.039893</td>\n",
              "      <td>0.328637</td>\n",
              "      <td>0.120669</td>\n",
              "      <td>0.004112</td>\n",
              "    </tr>\n",
              "  </tbody>\n",
              "</table>\n",
              "<p>5 rows × 29 columns</p>\n",
              "</div>\n",
              "      <button class=\"colab-df-convert\" onclick=\"convertToInteractive('df-14f6fad2-62cd-4d20-9795-1d94df13842d')\"\n",
              "              title=\"Convert this dataframe to an interactive table.\"\n",
              "              style=\"display:none;\">\n",
              "        \n",
              "  <svg xmlns=\"http://www.w3.org/2000/svg\" height=\"24px\"viewBox=\"0 0 24 24\"\n",
              "       width=\"24px\">\n",
              "    <path d=\"M0 0h24v24H0V0z\" fill=\"none\"/>\n",
              "    <path d=\"M18.56 5.44l.94 2.06.94-2.06 2.06-.94-2.06-.94-.94-2.06-.94 2.06-2.06.94zm-11 1L8.5 8.5l.94-2.06 2.06-.94-2.06-.94L8.5 2.5l-.94 2.06-2.06.94zm10 10l.94 2.06.94-2.06 2.06-.94-2.06-.94-.94-2.06-.94 2.06-2.06.94z\"/><path d=\"M17.41 7.96l-1.37-1.37c-.4-.4-.92-.59-1.43-.59-.52 0-1.04.2-1.43.59L10.3 9.45l-7.72 7.72c-.78.78-.78 2.05 0 2.83L4 21.41c.39.39.9.59 1.41.59.51 0 1.02-.2 1.41-.59l7.78-7.78 2.81-2.81c.8-.78.8-2.07 0-2.86zM5.41 20L4 18.59l7.72-7.72 1.47 1.35L5.41 20z\"/>\n",
              "  </svg>\n",
              "      </button>\n",
              "      \n",
              "  <style>\n",
              "    .colab-df-container {\n",
              "      display:flex;\n",
              "      flex-wrap:wrap;\n",
              "      gap: 12px;\n",
              "    }\n",
              "\n",
              "    .colab-df-convert {\n",
              "      background-color: #E8F0FE;\n",
              "      border: none;\n",
              "      border-radius: 50%;\n",
              "      cursor: pointer;\n",
              "      display: none;\n",
              "      fill: #1967D2;\n",
              "      height: 32px;\n",
              "      padding: 0 0 0 0;\n",
              "      width: 32px;\n",
              "    }\n",
              "\n",
              "    .colab-df-convert:hover {\n",
              "      background-color: #E2EBFA;\n",
              "      box-shadow: 0px 1px 2px rgba(60, 64, 67, 0.3), 0px 1px 3px 1px rgba(60, 64, 67, 0.15);\n",
              "      fill: #174EA6;\n",
              "    }\n",
              "\n",
              "    [theme=dark] .colab-df-convert {\n",
              "      background-color: #3B4455;\n",
              "      fill: #D2E3FC;\n",
              "    }\n",
              "\n",
              "    [theme=dark] .colab-df-convert:hover {\n",
              "      background-color: #434B5C;\n",
              "      box-shadow: 0px 1px 3px 1px rgba(0, 0, 0, 0.15);\n",
              "      filter: drop-shadow(0px 1px 2px rgba(0, 0, 0, 0.3));\n",
              "      fill: #FFFFFF;\n",
              "    }\n",
              "  </style>\n",
              "\n",
              "      <script>\n",
              "        const buttonEl =\n",
              "          document.querySelector('#df-14f6fad2-62cd-4d20-9795-1d94df13842d button.colab-df-convert');\n",
              "        buttonEl.style.display =\n",
              "          google.colab.kernel.accessAllowed ? 'block' : 'none';\n",
              "\n",
              "        async function convertToInteractive(key) {\n",
              "          const element = document.querySelector('#df-14f6fad2-62cd-4d20-9795-1d94df13842d');\n",
              "          const dataTable =\n",
              "            await google.colab.kernel.invokeFunction('convertToInteractive',\n",
              "                                                     [key], {});\n",
              "          if (!dataTable) return;\n",
              "\n",
              "          const docLinkHtml = 'Like what you see? Visit the ' +\n",
              "            '<a target=\"_blank\" href=https://colab.research.google.com/notebooks/data_table.ipynb>data table notebook</a>'\n",
              "            + ' to learn more about interactive tables.';\n",
              "          element.innerHTML = '';\n",
              "          dataTable['output_type'] = 'display_data';\n",
              "          await google.colab.output.renderOutput(dataTable, element);\n",
              "          const docLink = document.createElement('div');\n",
              "          docLink.innerHTML = docLinkHtml;\n",
              "          element.appendChild(docLink);\n",
              "        }\n",
              "      </script>\n",
              "    </div>\n",
              "  </div>\n",
              "  "
            ]
          },
          "metadata": {},
          "execution_count": 6
        }
      ]
    },
    {
      "cell_type": "code",
      "source": [
        "target = 'Class'\n",
        "if \"Set\"  in train.columns:\n",
        "    train.drop([\"Set\"], axis = 1)\n",
        "train[\"Set\"] = np.random.choice([\"train\", \"valid\"], p =[.8, .2], size=(train.shape[0],))    \n",
        "train_indices = train[train.Set==\"train\"].index\n",
        "valid_indices = train[train.Set==\"valid\"].index"
      ],
      "metadata": {
        "id": "SOHtvsFdrjzU"
      },
      "execution_count": 7,
      "outputs": []
    },
    {
      "cell_type": "code",
      "source": [
        "nunique = train.nunique()\n",
        "types = train.dtypes\n",
        "\n",
        "categorical_columns = []\n",
        "categorical_dims =  {}\n",
        "for col in train.columns:\n",
        "    if types[col] == 'object' or nunique[col] < 200:\n",
        "        print(col, train[col].nunique())\n",
        "        l_enc = LabelEncoder()\n",
        "        train[col] = train[col].fillna(\"VV_likely\")\n",
        "        train[col] = l_enc.fit_transform(train[col].values)\n",
        "        categorical_columns.append(col)\n",
        "        categorical_dims[col] = len(l_enc.classes_)\n",
        "    else:\n",
        "        train.fillna(train.loc[train_indices, col].mean(), inplace=True)"
      ],
      "metadata": {
        "colab": {
          "base_uri": "https://localhost:8080/"
        },
        "id": "z0J-nfTvtL4v",
        "outputId": "ed8d4f93-cdcf-40b5-9f8b-a70e1f0ffcca"
      },
      "execution_count": 8,
      "outputs": [
        {
          "output_type": "stream",
          "name": "stdout",
          "text": [
            "Filename 2977\n",
            "Class 2\n",
            "Set 2\n"
          ]
        }
      ]
    },
    {
      "cell_type": "code",
      "source": [
        "train.head()"
      ],
      "metadata": {
        "colab": {
          "base_uri": "https://localhost:8080/",
          "height": 334
        },
        "id": "qrqwtfTGtNwc",
        "outputId": "4cc574d8-e704-4fef-96f0-eff1c340c2fd"
      },
      "execution_count": 9,
      "outputs": [
        {
          "output_type": "execute_result",
          "data": {
            "text/plain": [
              "   Filename  White Circular Patch  Contrast  Black Patch  Biffurcation  \\\n",
              "0      1467               30776.0  0.010333     0.999772          3804   \n",
              "1      1468               40066.5  0.003752     0.999955          5288   \n",
              "2      1469               49524.0  0.004532     0.999884          4861   \n",
              "3      1470               10324.0  0.047750     0.998029          1661   \n",
              "4      1471               11792.0  0.029279     0.999124          2026   \n",
              "\n",
              "   Termination         CID  Class   OCL_STD   LCS_STD  ...       OFL  \\\n",
              "0          333  107.771544      1  0.183448  0.321274  ...  0.613218   \n",
              "1          616  156.874296      1  0.149823  0.288940  ...  0.577886   \n",
              "2          361  218.001356      1  0.157811  0.320884  ...  0.532120   \n",
              "3          337  212.954369      1  0.143613  0.323289  ...  0.341780   \n",
              "4          347  181.324385      1  0.163183  0.324478  ...  0.477842   \n",
              "\n",
              "        FDA     GABOR  OCL_STD2  LCS_STD2  OFL_STD2  FDA_STD2  RVU_STD2  \\\n",
              "0  0.616894  0.125473  0.132002  0.325032  0.041322  0.355333  0.208121   \n",
              "1  0.515961  0.151181  0.125693  0.246866  0.056600  0.320952  0.221123   \n",
              "2  0.626022  0.130306  0.118022  0.269136  0.065313  0.317784  0.267345   \n",
              "3  0.591813  0.066328  0.097421  0.292708  0.045235  0.315834  0.116780   \n",
              "4  0.595702  0.074459  0.149858  0.316726  0.039893  0.328637  0.120669   \n",
              "\n",
              "   GABOR_STD2  Set  \n",
              "0    0.006742    0  \n",
              "1    0.008132    0  \n",
              "2    0.007559    0  \n",
              "3    0.003814    0  \n",
              "4    0.004112    0  \n",
              "\n",
              "[5 rows x 30 columns]"
            ],
            "text/html": [
              "\n",
              "  <div id=\"df-08b30beb-7710-402c-9737-f76c63bc1ddd\">\n",
              "    <div class=\"colab-df-container\">\n",
              "      <div>\n",
              "<style scoped>\n",
              "    .dataframe tbody tr th:only-of-type {\n",
              "        vertical-align: middle;\n",
              "    }\n",
              "\n",
              "    .dataframe tbody tr th {\n",
              "        vertical-align: top;\n",
              "    }\n",
              "\n",
              "    .dataframe thead th {\n",
              "        text-align: right;\n",
              "    }\n",
              "</style>\n",
              "<table border=\"1\" class=\"dataframe\">\n",
              "  <thead>\n",
              "    <tr style=\"text-align: right;\">\n",
              "      <th></th>\n",
              "      <th>Filename</th>\n",
              "      <th>White Circular Patch</th>\n",
              "      <th>Contrast</th>\n",
              "      <th>Black Patch</th>\n",
              "      <th>Biffurcation</th>\n",
              "      <th>Termination</th>\n",
              "      <th>CID</th>\n",
              "      <th>Class</th>\n",
              "      <th>OCL_STD</th>\n",
              "      <th>LCS_STD</th>\n",
              "      <th>...</th>\n",
              "      <th>OFL</th>\n",
              "      <th>FDA</th>\n",
              "      <th>GABOR</th>\n",
              "      <th>OCL_STD2</th>\n",
              "      <th>LCS_STD2</th>\n",
              "      <th>OFL_STD2</th>\n",
              "      <th>FDA_STD2</th>\n",
              "      <th>RVU_STD2</th>\n",
              "      <th>GABOR_STD2</th>\n",
              "      <th>Set</th>\n",
              "    </tr>\n",
              "  </thead>\n",
              "  <tbody>\n",
              "    <tr>\n",
              "      <th>0</th>\n",
              "      <td>1467</td>\n",
              "      <td>30776.0</td>\n",
              "      <td>0.010333</td>\n",
              "      <td>0.999772</td>\n",
              "      <td>3804</td>\n",
              "      <td>333</td>\n",
              "      <td>107.771544</td>\n",
              "      <td>1</td>\n",
              "      <td>0.183448</td>\n",
              "      <td>0.321274</td>\n",
              "      <td>...</td>\n",
              "      <td>0.613218</td>\n",
              "      <td>0.616894</td>\n",
              "      <td>0.125473</td>\n",
              "      <td>0.132002</td>\n",
              "      <td>0.325032</td>\n",
              "      <td>0.041322</td>\n",
              "      <td>0.355333</td>\n",
              "      <td>0.208121</td>\n",
              "      <td>0.006742</td>\n",
              "      <td>0</td>\n",
              "    </tr>\n",
              "    <tr>\n",
              "      <th>1</th>\n",
              "      <td>1468</td>\n",
              "      <td>40066.5</td>\n",
              "      <td>0.003752</td>\n",
              "      <td>0.999955</td>\n",
              "      <td>5288</td>\n",
              "      <td>616</td>\n",
              "      <td>156.874296</td>\n",
              "      <td>1</td>\n",
              "      <td>0.149823</td>\n",
              "      <td>0.288940</td>\n",
              "      <td>...</td>\n",
              "      <td>0.577886</td>\n",
              "      <td>0.515961</td>\n",
              "      <td>0.151181</td>\n",
              "      <td>0.125693</td>\n",
              "      <td>0.246866</td>\n",
              "      <td>0.056600</td>\n",
              "      <td>0.320952</td>\n",
              "      <td>0.221123</td>\n",
              "      <td>0.008132</td>\n",
              "      <td>0</td>\n",
              "    </tr>\n",
              "    <tr>\n",
              "      <th>2</th>\n",
              "      <td>1469</td>\n",
              "      <td>49524.0</td>\n",
              "      <td>0.004532</td>\n",
              "      <td>0.999884</td>\n",
              "      <td>4861</td>\n",
              "      <td>361</td>\n",
              "      <td>218.001356</td>\n",
              "      <td>1</td>\n",
              "      <td>0.157811</td>\n",
              "      <td>0.320884</td>\n",
              "      <td>...</td>\n",
              "      <td>0.532120</td>\n",
              "      <td>0.626022</td>\n",
              "      <td>0.130306</td>\n",
              "      <td>0.118022</td>\n",
              "      <td>0.269136</td>\n",
              "      <td>0.065313</td>\n",
              "      <td>0.317784</td>\n",
              "      <td>0.267345</td>\n",
              "      <td>0.007559</td>\n",
              "      <td>0</td>\n",
              "    </tr>\n",
              "    <tr>\n",
              "      <th>3</th>\n",
              "      <td>1470</td>\n",
              "      <td>10324.0</td>\n",
              "      <td>0.047750</td>\n",
              "      <td>0.998029</td>\n",
              "      <td>1661</td>\n",
              "      <td>337</td>\n",
              "      <td>212.954369</td>\n",
              "      <td>1</td>\n",
              "      <td>0.143613</td>\n",
              "      <td>0.323289</td>\n",
              "      <td>...</td>\n",
              "      <td>0.341780</td>\n",
              "      <td>0.591813</td>\n",
              "      <td>0.066328</td>\n",
              "      <td>0.097421</td>\n",
              "      <td>0.292708</td>\n",
              "      <td>0.045235</td>\n",
              "      <td>0.315834</td>\n",
              "      <td>0.116780</td>\n",
              "      <td>0.003814</td>\n",
              "      <td>0</td>\n",
              "    </tr>\n",
              "    <tr>\n",
              "      <th>4</th>\n",
              "      <td>1471</td>\n",
              "      <td>11792.0</td>\n",
              "      <td>0.029279</td>\n",
              "      <td>0.999124</td>\n",
              "      <td>2026</td>\n",
              "      <td>347</td>\n",
              "      <td>181.324385</td>\n",
              "      <td>1</td>\n",
              "      <td>0.163183</td>\n",
              "      <td>0.324478</td>\n",
              "      <td>...</td>\n",
              "      <td>0.477842</td>\n",
              "      <td>0.595702</td>\n",
              "      <td>0.074459</td>\n",
              "      <td>0.149858</td>\n",
              "      <td>0.316726</td>\n",
              "      <td>0.039893</td>\n",
              "      <td>0.328637</td>\n",
              "      <td>0.120669</td>\n",
              "      <td>0.004112</td>\n",
              "      <td>0</td>\n",
              "    </tr>\n",
              "  </tbody>\n",
              "</table>\n",
              "<p>5 rows × 30 columns</p>\n",
              "</div>\n",
              "      <button class=\"colab-df-convert\" onclick=\"convertToInteractive('df-08b30beb-7710-402c-9737-f76c63bc1ddd')\"\n",
              "              title=\"Convert this dataframe to an interactive table.\"\n",
              "              style=\"display:none;\">\n",
              "        \n",
              "  <svg xmlns=\"http://www.w3.org/2000/svg\" height=\"24px\"viewBox=\"0 0 24 24\"\n",
              "       width=\"24px\">\n",
              "    <path d=\"M0 0h24v24H0V0z\" fill=\"none\"/>\n",
              "    <path d=\"M18.56 5.44l.94 2.06.94-2.06 2.06-.94-2.06-.94-.94-2.06-.94 2.06-2.06.94zm-11 1L8.5 8.5l.94-2.06 2.06-.94-2.06-.94L8.5 2.5l-.94 2.06-2.06.94zm10 10l.94 2.06.94-2.06 2.06-.94-2.06-.94-.94-2.06-.94 2.06-2.06.94z\"/><path d=\"M17.41 7.96l-1.37-1.37c-.4-.4-.92-.59-1.43-.59-.52 0-1.04.2-1.43.59L10.3 9.45l-7.72 7.72c-.78.78-.78 2.05 0 2.83L4 21.41c.39.39.9.59 1.41.59.51 0 1.02-.2 1.41-.59l7.78-7.78 2.81-2.81c.8-.78.8-2.07 0-2.86zM5.41 20L4 18.59l7.72-7.72 1.47 1.35L5.41 20z\"/>\n",
              "  </svg>\n",
              "      </button>\n",
              "      \n",
              "  <style>\n",
              "    .colab-df-container {\n",
              "      display:flex;\n",
              "      flex-wrap:wrap;\n",
              "      gap: 12px;\n",
              "    }\n",
              "\n",
              "    .colab-df-convert {\n",
              "      background-color: #E8F0FE;\n",
              "      border: none;\n",
              "      border-radius: 50%;\n",
              "      cursor: pointer;\n",
              "      display: none;\n",
              "      fill: #1967D2;\n",
              "      height: 32px;\n",
              "      padding: 0 0 0 0;\n",
              "      width: 32px;\n",
              "    }\n",
              "\n",
              "    .colab-df-convert:hover {\n",
              "      background-color: #E2EBFA;\n",
              "      box-shadow: 0px 1px 2px rgba(60, 64, 67, 0.3), 0px 1px 3px 1px rgba(60, 64, 67, 0.15);\n",
              "      fill: #174EA6;\n",
              "    }\n",
              "\n",
              "    [theme=dark] .colab-df-convert {\n",
              "      background-color: #3B4455;\n",
              "      fill: #D2E3FC;\n",
              "    }\n",
              "\n",
              "    [theme=dark] .colab-df-convert:hover {\n",
              "      background-color: #434B5C;\n",
              "      box-shadow: 0px 1px 3px 1px rgba(0, 0, 0, 0.15);\n",
              "      filter: drop-shadow(0px 1px 2px rgba(0, 0, 0, 0.3));\n",
              "      fill: #FFFFFF;\n",
              "    }\n",
              "  </style>\n",
              "\n",
              "      <script>\n",
              "        const buttonEl =\n",
              "          document.querySelector('#df-08b30beb-7710-402c-9737-f76c63bc1ddd button.colab-df-convert');\n",
              "        buttonEl.style.display =\n",
              "          google.colab.kernel.accessAllowed ? 'block' : 'none';\n",
              "\n",
              "        async function convertToInteractive(key) {\n",
              "          const element = document.querySelector('#df-08b30beb-7710-402c-9737-f76c63bc1ddd');\n",
              "          const dataTable =\n",
              "            await google.colab.kernel.invokeFunction('convertToInteractive',\n",
              "                                                     [key], {});\n",
              "          if (!dataTable) return;\n",
              "\n",
              "          const docLinkHtml = 'Like what you see? Visit the ' +\n",
              "            '<a target=\"_blank\" href=https://colab.research.google.com/notebooks/data_table.ipynb>data table notebook</a>'\n",
              "            + ' to learn more about interactive tables.';\n",
              "          element.innerHTML = '';\n",
              "          dataTable['output_type'] = 'display_data';\n",
              "          await google.colab.output.renderOutput(dataTable, element);\n",
              "          const docLink = document.createElement('div');\n",
              "          docLink.innerHTML = docLinkHtml;\n",
              "          element.appendChild(docLink);\n",
              "        }\n",
              "      </script>\n",
              "    </div>\n",
              "  </div>\n",
              "  "
            ]
          },
          "metadata": {},
          "execution_count": 9
        }
      ]
    },
    {
      "cell_type": "code",
      "source": [
        "train.loc[train[target]==0, target] = \"classZero\"\n",
        "train.loc[train[target]==1, target] = \"classOne\""
      ],
      "metadata": {
        "id": "7we2KydSte9E"
      },
      "execution_count": 10,
      "outputs": []
    },
    {
      "cell_type": "code",
      "source": [
        "unused_feat = ['Set']\n",
        "\n",
        "features = [ col for col in train.columns if col not in unused_feat+[target]] \n",
        "\n",
        "cat_idxs = [ i for i, f in enumerate(features) if f in categorical_columns]\n",
        "\n",
        "cat_dims = [ categorical_dims[f] for i, f in enumerate(features) if f in categorical_columns]"
      ],
      "metadata": {
        "id": "nRYcwNaww3qt"
      },
      "execution_count": 11,
      "outputs": []
    },
    {
      "cell_type": "code",
      "source": [
        "tabnet_params = {\"cat_idxs\":cat_idxs,\n",
        "                 \"cat_dims\":cat_dims,\n",
        "                 \"cat_emb_dim\":1,\n",
        "                 \"optimizer_fn\":torch.optim.Adam,\n",
        "                 \"optimizer_params\":dict(lr=2e-2),\n",
        "                 \"scheduler_params\":{\"step_size\":50, # how to use learning rate scheduler\n",
        "                                 \"gamma\":0.9},\n",
        "                 \"scheduler_fn\":torch.optim.lr_scheduler.StepLR,\n",
        "                 \"mask_type\":'entmax' # \"sparsemax\"\n",
        "                }\n",
        "\n",
        "clf = TabNetClassifier(**tabnet_params\n",
        "                      )"
      ],
      "metadata": {
        "colab": {
          "base_uri": "https://localhost:8080/"
        },
        "id": "Z4g5C-Rg2LtI",
        "outputId": "02b546d3-f773-4c14-c5b9-03a4d6fd22cc"
      },
      "execution_count": 12,
      "outputs": [
        {
          "output_type": "stream",
          "name": "stdout",
          "text": [
            "Device used : cpu\n"
          ]
        }
      ]
    },
    {
      "cell_type": "code",
      "source": [
        "X_train = train[features].values[train_indices]\n",
        "y_train = train[target].values[train_indices]\n",
        "\n",
        "X_valid = train[features].values[valid_indices]\n",
        "y_valid = train[target].values[valid_indices]"
      ],
      "metadata": {
        "id": "AV1Zy6zd2_Nk"
      },
      "execution_count": 13,
      "outputs": []
    },
    {
      "cell_type": "code",
      "source": [
        "X_train[0]"
      ],
      "metadata": {
        "colab": {
          "base_uri": "https://localhost:8080/"
        },
        "id": "E7C_d8owLLn6",
        "outputId": "f5063910-d7b2-49a1-b300-d7eaba68e41b"
      },
      "execution_count": 14,
      "outputs": [
        {
          "output_type": "execute_result",
          "data": {
            "text/plain": [
              "array([1.46700000e+03, 3.07760000e+04, 1.03334550e-02, 9.99772299e-01,\n",
              "       3.80400000e+03, 3.33000000e+02, 1.07771544e+02, 1.83447637e-01,\n",
              "       3.21274300e-01, 2.84277750e-01, 9.07647963e+03, 3.56390888e-01,\n",
              "       1.30293305e+00, 2.73277536e-01, 7.57936508e-01, 3.71390116e+01,\n",
              "       2.43524881e+02, 4.14784012e-01, 5.48794275e-01, 6.13217592e-01,\n",
              "       6.16894174e-01, 1.25472855e-01, 1.32001804e-01, 3.25032298e-01,\n",
              "       4.13218420e-02, 3.55333434e-01, 2.08120601e-01, 6.74196300e-03])"
            ]
          },
          "metadata": {},
          "execution_count": 14
        }
      ]
    },
    {
      "cell_type": "code",
      "source": [
        "max_epochs = 50 if not os.getenv(\"CI\", False) else 2"
      ],
      "metadata": {
        "id": "KaM5yMDF3HFK"
      },
      "execution_count": 15,
      "outputs": []
    },
    {
      "cell_type": "code",
      "source": [
        "save_history = []\n",
        "for _ in range(2):\n",
        "    clf.fit(\n",
        "        X_train=X_train, y_train=y_train,\n",
        "        eval_set=[(X_train, y_train), (X_valid, y_valid)],\n",
        "        eval_name=['train', 'valid'],\n",
        "        eval_metric=['auc'],\n",
        "        max_epochs=max_epochs , patience=20,\n",
        "        batch_size=1024, virtual_batch_size=128,\n",
        "        num_workers=0,\n",
        "        weights=1,\n",
        "        drop_last=False,\n",
        "        #aug, None\n",
        "    )\n",
        "    save_history.append(clf.history[\"valid_auc\"])"
      ],
      "metadata": {
        "colab": {
          "base_uri": "https://localhost:8080/"
        },
        "id": "bMdIJzCv3QvZ",
        "outputId": "3c622c9a-10bc-4a28-a59d-f869dbf47634"
      },
      "execution_count": 16,
      "outputs": [
        {
          "output_type": "stream",
          "name": "stdout",
          "text": [
            "epoch 0  | loss: 0.80558 | train_auc: 0.47029 | valid_auc: 0.46434 |  0:00:00s\n",
            "epoch 1  | loss: 0.53863 | train_auc: 0.54062 | valid_auc: 0.5511  |  0:00:00s\n",
            "epoch 2  | loss: 0.46401 | train_auc: 0.64113 | valid_auc: 0.63446 |  0:00:00s\n",
            "epoch 3  | loss: 0.39005 | train_auc: 0.81146 | valid_auc: 0.80779 |  0:00:01s\n",
            "epoch 4  | loss: 0.33076 | train_auc: 0.82103 | valid_auc: 0.81733 |  0:00:01s\n",
            "epoch 5  | loss: 0.31456 | train_auc: 0.82207 | valid_auc: 0.8025  |  0:00:01s\n",
            "epoch 6  | loss: 0.27528 | train_auc: 0.77289 | valid_auc: 0.75337 |  0:00:01s\n",
            "epoch 7  | loss: 0.27306 | train_auc: 0.78859 | valid_auc: 0.77623 |  0:00:01s\n",
            "epoch 8  | loss: 0.23858 | train_auc: 0.81638 | valid_auc: 0.7969  |  0:00:02s\n",
            "epoch 9  | loss: 0.22556 | train_auc: 0.83021 | valid_auc: 0.80641 |  0:00:02s\n",
            "epoch 10 | loss: 0.19191 | train_auc: 0.83767 | valid_auc: 0.8157  |  0:00:02s\n",
            "epoch 11 | loss: 0.18347 | train_auc: 0.83961 | valid_auc: 0.82068 |  0:00:02s\n",
            "epoch 12 | loss: 0.17634 | train_auc: 0.84819 | valid_auc: 0.83883 |  0:00:02s\n",
            "epoch 13 | loss: 0.16543 | train_auc: 0.88058 | valid_auc: 0.87239 |  0:00:03s\n",
            "epoch 14 | loss: 0.17394 | train_auc: 0.90785 | valid_auc: 0.9083  |  0:00:03s\n",
            "epoch 15 | loss: 0.1484  | train_auc: 0.92696 | valid_auc: 0.92733 |  0:00:03s\n",
            "epoch 16 | loss: 0.13484 | train_auc: 0.93748 | valid_auc: 0.93372 |  0:00:03s\n",
            "epoch 17 | loss: 0.15257 | train_auc: 0.94586 | valid_auc: 0.94265 |  0:00:04s\n",
            "epoch 18 | loss: 0.13927 | train_auc: 0.9478  | valid_auc: 0.94788 |  0:00:04s\n",
            "epoch 19 | loss: 0.12236 | train_auc: 0.95146 | valid_auc: 0.95024 |  0:00:04s\n",
            "epoch 20 | loss: 0.13417 | train_auc: 0.95737 | valid_auc: 0.95584 |  0:00:04s\n",
            "epoch 21 | loss: 0.14991 | train_auc: 0.96163 | valid_auc: 0.95891 |  0:00:04s\n",
            "epoch 22 | loss: 0.13466 | train_auc: 0.96403 | valid_auc: 0.96328 |  0:00:05s\n",
            "epoch 23 | loss: 0.11923 | train_auc: 0.96139 | valid_auc: 0.95778 |  0:00:05s\n",
            "epoch 24 | loss: 0.14205 | train_auc: 0.9497  | valid_auc: 0.9439  |  0:00:05s\n",
            "epoch 25 | loss: 0.13605 | train_auc: 0.93587 | valid_auc: 0.92346 |  0:00:05s\n",
            "epoch 26 | loss: 0.13788 | train_auc: 0.92813 | valid_auc: 0.91692 |  0:00:05s\n",
            "epoch 27 | loss: 0.12454 | train_auc: 0.93092 | valid_auc: 0.92334 |  0:00:06s\n",
            "epoch 28 | loss: 0.11295 | train_auc: 0.93317 | valid_auc: 0.9305  |  0:00:06s\n",
            "epoch 29 | loss: 0.12258 | train_auc: 0.9333  | valid_auc: 0.93143 |  0:00:06s\n",
            "epoch 30 | loss: 0.10518 | train_auc: 0.92733 | valid_auc: 0.92293 |  0:00:06s\n",
            "epoch 31 | loss: 0.10941 | train_auc: 0.91427 | valid_auc: 0.90896 |  0:00:06s\n",
            "epoch 32 | loss: 0.11102 | train_auc: 0.89784 | valid_auc: 0.89205 |  0:00:07s\n",
            "epoch 33 | loss: 0.1024  | train_auc: 0.8789  | valid_auc: 0.87155 |  0:00:07s\n",
            "epoch 34 | loss: 0.10069 | train_auc: 0.86952 | valid_auc: 0.86191 |  0:00:07s\n",
            "epoch 35 | loss: 0.10809 | train_auc: 0.8668  | valid_auc: 0.85724 |  0:00:07s\n",
            "epoch 36 | loss: 0.09756 | train_auc: 0.87143 | valid_auc: 0.86186 |  0:00:07s\n",
            "epoch 37 | loss: 0.09793 | train_auc: 0.87237 | valid_auc: 0.86305 |  0:00:08s\n",
            "epoch 38 | loss: 0.11631 | train_auc: 0.8834  | valid_auc: 0.87539 |  0:00:08s\n",
            "epoch 39 | loss: 0.09224 | train_auc: 0.90173 | valid_auc: 0.89323 |  0:00:08s\n",
            "epoch 40 | loss: 0.09857 | train_auc: 0.92451 | valid_auc: 0.92006 |  0:00:08s\n",
            "epoch 41 | loss: 0.08276 | train_auc: 0.94216 | valid_auc: 0.93779 |  0:00:08s\n",
            "epoch 42 | loss: 0.09898 | train_auc: 0.94779 | valid_auc: 0.94298 |  0:00:09s\n",
            "\n",
            "Early stopping occurred at epoch 42 with best_epoch = 22 and best_valid_auc = 0.96328\n",
            "Best weights from best epoch are automatically used!\n",
            "epoch 0  | loss: 0.14078 | train_auc: 0.95532 | valid_auc: 0.95056 |  0:00:00s\n",
            "epoch 1  | loss: 0.13446 | train_auc: 0.95927 | valid_auc: 0.9506  |  0:00:00s\n",
            "epoch 2  | loss: 0.15864 | train_auc: 0.95583 | valid_auc: 0.94641 |  0:00:00s\n",
            "epoch 3  | loss: 0.11988 | train_auc: 0.95547 | valid_auc: 0.9498  |  0:00:00s\n",
            "epoch 4  | loss: 0.11055 | train_auc: 0.94949 | valid_auc: 0.94788 |  0:00:00s\n",
            "epoch 5  | loss: 0.12521 | train_auc: 0.93446 | valid_auc: 0.93742 |  0:00:01s\n",
            "epoch 6  | loss: 0.11733 | train_auc: 0.92448 | valid_auc: 0.92201 |  0:00:01s\n",
            "epoch 7  | loss: 0.09936 | train_auc: 0.92812 | valid_auc: 0.91914 |  0:00:01s\n",
            "epoch 8  | loss: 0.11212 | train_auc: 0.92688 | valid_auc: 0.91016 |  0:00:01s\n",
            "epoch 9  | loss: 0.10888 | train_auc: 0.92478 | valid_auc: 0.91037 |  0:00:01s\n",
            "epoch 10 | loss: 0.11491 | train_auc: 0.93706 | valid_auc: 0.92972 |  0:00:02s\n",
            "epoch 11 | loss: 0.08791 | train_auc: 0.9439  | valid_auc: 0.942   |  0:00:02s\n",
            "epoch 12 | loss: 0.1112  | train_auc: 0.94874 | valid_auc: 0.94332 |  0:00:02s\n",
            "epoch 13 | loss: 0.09859 | train_auc: 0.95714 | valid_auc: 0.94723 |  0:00:02s\n",
            "epoch 14 | loss: 0.0832  | train_auc: 0.96624 | valid_auc: 0.95468 |  0:00:02s\n",
            "epoch 15 | loss: 0.09882 | train_auc: 0.97182 | valid_auc: 0.96092 |  0:00:03s\n",
            "epoch 16 | loss: 0.08066 | train_auc: 0.9737  | valid_auc: 0.96352 |  0:00:03s\n",
            "epoch 17 | loss: 0.0806  | train_auc: 0.973   | valid_auc: 0.96429 |  0:00:03s\n",
            "epoch 18 | loss: 0.0765  | train_auc: 0.97216 | valid_auc: 0.96453 |  0:00:03s\n",
            "epoch 19 | loss: 0.08489 | train_auc: 0.96654 | valid_auc: 0.95762 |  0:00:03s\n",
            "epoch 20 | loss: 0.07252 | train_auc: 0.95467 | valid_auc: 0.9424  |  0:00:04s\n",
            "epoch 21 | loss: 0.07813 | train_auc: 0.93853 | valid_auc: 0.9202  |  0:00:04s\n",
            "epoch 22 | loss: 0.07171 | train_auc: 0.9439  | valid_auc: 0.92742 |  0:00:04s\n",
            "epoch 23 | loss: 0.08376 | train_auc: 0.95839 | valid_auc: 0.9468  |  0:00:04s\n",
            "epoch 24 | loss: 0.06809 | train_auc: 0.96218 | valid_auc: 0.94991 |  0:00:04s\n",
            "epoch 25 | loss: 0.0518  | train_auc: 0.96111 | valid_auc: 0.94957 |  0:00:05s\n",
            "epoch 26 | loss: 0.06122 | train_auc: 0.96093 | valid_auc: 0.95105 |  0:00:05s\n",
            "epoch 27 | loss: 0.06901 | train_auc: 0.96228 | valid_auc: 0.95159 |  0:00:05s\n",
            "epoch 28 | loss: 0.05126 | train_auc: 0.96243 | valid_auc: 0.9519  |  0:00:05s\n",
            "epoch 29 | loss: 0.05834 | train_auc: 0.9636  | valid_auc: 0.95204 |  0:00:05s\n",
            "epoch 30 | loss: 0.05074 | train_auc: 0.96766 | valid_auc: 0.956   |  0:00:06s\n",
            "epoch 31 | loss: 0.05404 | train_auc: 0.97326 | valid_auc: 0.96137 |  0:00:06s\n",
            "epoch 32 | loss: 0.05461 | train_auc: 0.97384 | valid_auc: 0.96052 |  0:00:06s\n",
            "epoch 33 | loss: 0.0554  | train_auc: 0.97392 | valid_auc: 0.96004 |  0:00:06s\n",
            "epoch 34 | loss: 0.04267 | train_auc: 0.97646 | valid_auc: 0.96301 |  0:00:06s\n",
            "epoch 35 | loss: 0.04233 | train_auc: 0.9788  | valid_auc: 0.96527 |  0:00:07s\n",
            "epoch 36 | loss: 0.04658 | train_auc: 0.97993 | valid_auc: 0.96499 |  0:00:07s\n",
            "epoch 37 | loss: 0.04053 | train_auc: 0.98098 | valid_auc: 0.96449 |  0:00:07s\n",
            "epoch 38 | loss: 0.03961 | train_auc: 0.98212 | valid_auc: 0.96432 |  0:00:07s\n",
            "epoch 39 | loss: 0.04152 | train_auc: 0.98244 | valid_auc: 0.9657  |  0:00:07s\n",
            "epoch 40 | loss: 0.0393  | train_auc: 0.98104 | valid_auc: 0.96514 |  0:00:08s\n",
            "epoch 41 | loss: 0.03891 | train_auc: 0.97581 | valid_auc: 0.96216 |  0:00:08s\n",
            "epoch 42 | loss: 0.02978 | train_auc: 0.9634  | valid_auc: 0.95107 |  0:00:08s\n",
            "epoch 43 | loss: 0.03682 | train_auc: 0.96727 | valid_auc: 0.95105 |  0:00:08s\n",
            "epoch 44 | loss: 0.02773 | train_auc: 0.97333 | valid_auc: 0.9565  |  0:00:08s\n",
            "epoch 45 | loss: 0.04609 | train_auc: 0.97493 | valid_auc: 0.96055 |  0:00:09s\n",
            "epoch 46 | loss: 0.02978 | train_auc: 0.95019 | valid_auc: 0.94162 |  0:00:09s\n",
            "epoch 47 | loss: 0.04575 | train_auc: 0.94039 | valid_auc: 0.933   |  0:00:09s\n",
            "epoch 48 | loss: 0.03404 | train_auc: 0.96378 | valid_auc: 0.95233 |  0:00:09s\n",
            "epoch 49 | loss: 0.02894 | train_auc: 0.97952 | valid_auc: 0.96702 |  0:00:09s\n",
            "Stop training because you reached max_epochs = 50 with best_epoch = 49 and best_valid_auc = 0.96702\n",
            "Best weights from best epoch are automatically used!\n"
          ]
        }
      ]
    },
    {
      "cell_type": "code",
      "source": [
        "plt.plot(clf.history['loss'])"
      ],
      "metadata": {
        "colab": {
          "base_uri": "https://localhost:8080/",
          "height": 282
        },
        "id": "-j1jSKYa3Rrr",
        "outputId": "3356e7b7-823a-421a-959f-abe26661bcd5"
      },
      "execution_count": 17,
      "outputs": [
        {
          "output_type": "execute_result",
          "data": {
            "text/plain": [
              "[<matplotlib.lines.Line2D at 0x7f3265f4b450>]"
            ]
          },
          "metadata": {},
          "execution_count": 17
        },
        {
          "output_type": "display_data",
          "data": {
            "text/plain": [
              "<Figure size 432x288 with 1 Axes>"
            ],
            "image/png": "[encoded data removed]"
          },
          "metadata": {
            "needs_background": "light"
          }
        }
      ]
    },
    {
      "cell_type": "code",
      "source": [
        "plt.plot(clf.history['train_auc'])\n",
        "plt.plot(clf.history['valid_auc'])"
      ],
      "metadata": {
        "colab": {
          "base_uri": "https://localhost:8080/",
          "height": 282
        },
        "id": "hjAQ0bH338_t",
        "outputId": "33e527df-458b-4f23-c1ef-f204df367e59"
      },
      "execution_count": 18,
      "outputs": [
        {
          "output_type": "execute_result",
          "data": {
            "text/plain": [
              "[<matplotlib.lines.Line2D at 0x7f3265a1fc10>]"
            ]
          },
          "metadata": {},
          "execution_count": 18
        },
        {
          "output_type": "display_data",
          "data": {
            "text/plain": [
              "<Figure size 432x288 with 1 Axes>"
            ],
            "image/png": "[encoded data removed]"
          },
          "metadata": {
            "needs_background": "light"
          }
        }
      ]
    },
    {
      "cell_type": "code",
      "source": [
        "plt.plot(clf.history['lr'])"
      ],
      "metadata": {
        "colab": {
          "base_uri": "https://localhost:8080/",
          "height": 282
        },
        "id": "T-oDi1HE4X_f",
        "outputId": "d0788f75-d23f-4813-bbf4-dac5b5bd5c84"
      },
      "execution_count": 19,
      "outputs": [
        {
          "output_type": "execute_result",
          "data": {
            "text/plain": [
              "[<matplotlib.lines.Line2D at 0x7f3265eb6ad0>]"
            ]
          },
          "metadata": {},
          "execution_count": 19
        },
        {
          "output_type": "display_data",
          "data": {
            "text/plain": [
              "<Figure size 432x288 with 1 Axes>"
            ],
            "image/png": "[encoded data removed]"
          },
          "metadata": {
            "needs_background": "light"
          }
        }
      ]
    },
    {
      "cell_type": "code",
      "source": [
        "target = 'Class'"
      ],
      "metadata": {
        "id": "DzYykAYH4a3w"
      },
      "execution_count": 21,
      "outputs": []
    },
    {
      "cell_type": "code",
      "source": [
        "if \"Set\" in test.columns:\n",
        "  test.drop(['Set'], axis = 1)\n",
        "test[\"Set\"] = \"test\"\n",
        "test_indices = test[test.Set==\"test\"].index"
      ],
      "metadata": {
        "id": "25CsWk8u40Wy"
      },
      "execution_count": 22,
      "outputs": []
    },
    {
      "cell_type": "code",
      "source": [
        "test_indices"
      ],
      "metadata": {
        "colab": {
          "base_uri": "https://localhost:8080/"
        },
        "id": "KcQZybaaG3jn",
        "outputId": "a556a0dc-5e6e-4ae6-e272-cc1b0e7c03e2"
      },
      "execution_count": 23,
      "outputs": [
        {
          "output_type": "execute_result",
          "data": {
            "text/plain": [
              "Int64Index([   0,    1,    2,    3,    4,    5,    6,    7,    8,    9,\n",
              "            ...\n",
              "            2931, 2932, 2933, 2934, 2935, 2936, 2937, 2938, 2939, 2940],\n",
              "           dtype='int64', length=2941)"
            ]
          },
          "metadata": {},
          "execution_count": 23
        }
      ]
    },
    {
      "cell_type": "code",
      "source": [
        "test.head()"
      ],
      "metadata": {
        "colab": {
          "base_uri": "https://localhost:8080/",
          "height": 334
        },
        "id": "uKZQCZUB5TKL",
        "outputId": "8e0b7780-8133-4a76-ef44-ecccbc322fca"
      },
      "execution_count": 24,
      "outputs": [
        {
          "output_type": "execute_result",
          "data": {
            "text/plain": [
              "                                            Filename  White Circle Patch  \\\n",
              "0  I:\\LivDet\\LivDet2015\\Testing\\CrossMatch\\Live\\0...              5292.0   \n",
              "1  I:\\LivDet\\LivDet2015\\Testing\\CrossMatch\\Live\\0...              4175.5   \n",
              "2  I:\\LivDet\\LivDet2015\\Testing\\CrossMatch\\Live\\0...              5829.0   \n",
              "3  I:\\LivDet\\LivDet2015\\Testing\\CrossMatch\\Live\\0...              3193.5   \n",
              "4  I:\\LivDet\\LivDet2015\\Testing\\CrossMatch\\Live\\0...              3132.0   \n",
              "\n",
              "   Contrast  Black Patch  Biffercation  Termination         CID  Class  \\\n",
              "0  0.166200     0.976471          1509          403  332.053514      1   \n",
              "1  0.098199     0.989966          1339          453  265.142266      1   \n",
              "2  0.054095     0.996549          1679          472  293.976355      1   \n",
              "3  0.024822     0.998801          1902          340  289.341544      1   \n",
              "4  0.129463     0.985666          1132          296  314.832926      1   \n",
              "\n",
              "    OCL_STD   LCS_STD  ...       OFL       FDA     GABOR  OCL_STD2  LCS_STD2  \\\n",
              "0  0.082090  0.160900  ...  0.668878  0.450442  0.659029  0.053521  0.092457   \n",
              "1  0.075764  0.141661  ...  0.656728  0.420273  0.581228  0.052430  0.076413   \n",
              "2  0.096840  0.210623  ...  0.672784  0.417944  0.529954  0.046736  0.119511   \n",
              "3  0.119394  0.230169  ...  0.709769  0.400578  0.283677  0.063880  0.145236   \n",
              "4  0.129622  0.254241  ...  0.732113  0.436506  0.339123  0.079128  0.228858   \n",
              "\n",
              "   OFL_STD2  FDA_STD2  RVU_STD2  GABOR_STD2   Set  \n",
              "0  0.058338  0.082080  0.097579    0.018765  test  \n",
              "1  0.052317  0.084231  0.067239    0.017077  test  \n",
              "2  0.051440  0.077678  0.067060    0.015679  test  \n",
              "3  0.038813  0.079486  0.053488    0.010148  test  \n",
              "4  0.031483  0.107797  0.045660    0.011812  test  \n",
              "\n",
              "[5 rows x 30 columns]"
            ],
            "text/html": [
              "\n",
              "  <div id=\"df-065ca261-7c15-4d97-9478-07adf79b1984\">\n",
              "    <div class=\"colab-df-container\">\n",
              "      <div>\n",
              "<style scoped>\n",
              "    .dataframe tbody tr th:only-of-type {\n",
              "        vertical-align: middle;\n",
              "    }\n",
              "\n",
              "    .dataframe tbody tr th {\n",
              "        vertical-align: top;\n",
              "    }\n",
              "\n",
              "    .dataframe thead th {\n",
              "        text-align: right;\n",
              "    }\n",
              "</style>\n",
              "<table border=\"1\" class=\"dataframe\">\n",
              "  <thead>\n",
              "    <tr style=\"text-align: right;\">\n",
              "      <th></th>\n",
              "      <th>Filename</th>\n",
              "      <th>White Circle Patch</th>\n",
              "      <th>Contrast</th>\n",
              "      <th>Black Patch</th>\n",
              "      <th>Biffercation</th>\n",
              "      <th>Termination</th>\n",
              "      <th>CID</th>\n",
              "      <th>Class</th>\n",
              "      <th>OCL_STD</th>\n",
              "      <th>LCS_STD</th>\n",
              "      <th>...</th>\n",
              "      <th>OFL</th>\n",
              "      <th>FDA</th>\n",
              "      <th>GABOR</th>\n",
              "      <th>OCL_STD2</th>\n",
              "      <th>LCS_STD2</th>\n",
              "      <th>OFL_STD2</th>\n",
              "      <th>FDA_STD2</th>\n",
              "      <th>RVU_STD2</th>\n",
              "      <th>GABOR_STD2</th>\n",
              "      <th>Set</th>\n",
              "    </tr>\n",
              "  </thead>\n",
              "  <tbody>\n",
              "    <tr>\n",
              "      <th>0</th>\n",
              "      <td>I:\\LivDet\\LivDet2015\\Testing\\CrossMatch\\Live\\0...</td>\n",
              "      <td>5292.0</td>\n",
              "      <td>0.166200</td>\n",
              "      <td>0.976471</td>\n",
              "      <td>1509</td>\n",
              "      <td>403</td>\n",
              "      <td>332.053514</td>\n",
              "      <td>1</td>\n",
              "      <td>0.082090</td>\n",
              "      <td>0.160900</td>\n",
              "      <td>...</td>\n",
              "      <td>0.668878</td>\n",
              "      <td>0.450442</td>\n",
              "      <td>0.659029</td>\n",
              "      <td>0.053521</td>\n",
              "      <td>0.092457</td>\n",
              "      <td>0.058338</td>\n",
              "      <td>0.082080</td>\n",
              "      <td>0.097579</td>\n",
              "      <td>0.018765</td>\n",
              "      <td>test</td>\n",
              "    </tr>\n",
              "    <tr>\n",
              "      <th>1</th>\n",
              "      <td>I:\\LivDet\\LivDet2015\\Testing\\CrossMatch\\Live\\0...</td>\n",
              "      <td>4175.5</td>\n",
              "      <td>0.098199</td>\n",
              "      <td>0.989966</td>\n",
              "      <td>1339</td>\n",
              "      <td>453</td>\n",
              "      <td>265.142266</td>\n",
              "      <td>1</td>\n",
              "      <td>0.075764</td>\n",
              "      <td>0.141661</td>\n",
              "      <td>...</td>\n",
              "      <td>0.656728</td>\n",
              "      <td>0.420273</td>\n",
              "      <td>0.581228</td>\n",
              "      <td>0.052430</td>\n",
              "      <td>0.076413</td>\n",
              "      <td>0.052317</td>\n",
              "      <td>0.084231</td>\n",
              "      <td>0.067239</td>\n",
              "      <td>0.017077</td>\n",
              "      <td>test</td>\n",
              "    </tr>\n",
              "    <tr>\n",
              "      <th>2</th>\n",
              "      <td>I:\\LivDet\\LivDet2015\\Testing\\CrossMatch\\Live\\0...</td>\n",
              "      <td>5829.0</td>\n",
              "      <td>0.054095</td>\n",
              "      <td>0.996549</td>\n",
              "      <td>1679</td>\n",
              "      <td>472</td>\n",
              "      <td>293.976355</td>\n",
              "      <td>1</td>\n",
              "      <td>0.096840</td>\n",
              "      <td>0.210623</td>\n",
              "      <td>...</td>\n",
              "      <td>0.672784</td>\n",
              "      <td>0.417944</td>\n",
              "      <td>0.529954</td>\n",
              "      <td>0.046736</td>\n",
              "      <td>0.119511</td>\n",
              "      <td>0.051440</td>\n",
              "      <td>0.077678</td>\n",
              "      <td>0.067060</td>\n",
              "      <td>0.015679</td>\n",
              "      <td>test</td>\n",
              "    </tr>\n",
              "    <tr>\n",
              "      <th>3</th>\n",
              "      <td>I:\\LivDet\\LivDet2015\\Testing\\CrossMatch\\Live\\0...</td>\n",
              "      <td>3193.5</td>\n",
              "      <td>0.024822</td>\n",
              "      <td>0.998801</td>\n",
              "      <td>1902</td>\n",
              "      <td>340</td>\n",
              "      <td>289.341544</td>\n",
              "      <td>1</td>\n",
              "      <td>0.119394</td>\n",
              "      <td>0.230169</td>\n",
              "      <td>...</td>\n",
              "      <td>0.709769</td>\n",
              "      <td>0.400578</td>\n",
              "      <td>0.283677</td>\n",
              "      <td>0.063880</td>\n",
              "      <td>0.145236</td>\n",
              "      <td>0.038813</td>\n",
              "      <td>0.079486</td>\n",
              "      <td>0.053488</td>\n",
              "      <td>0.010148</td>\n",
              "      <td>test</td>\n",
              "    </tr>\n",
              "    <tr>\n",
              "      <th>4</th>\n",
              "      <td>I:\\LivDet\\LivDet2015\\Testing\\CrossMatch\\Live\\0...</td>\n",
              "      <td>3132.0</td>\n",
              "      <td>0.129463</td>\n",
              "      <td>0.985666</td>\n",
              "      <td>1132</td>\n",
              "      <td>296</td>\n",
              "      <td>314.832926</td>\n",
              "      <td>1</td>\n",
              "      <td>0.129622</td>\n",
              "      <td>0.254241</td>\n",
              "      <td>...</td>\n",
              "      <td>0.732113</td>\n",
              "      <td>0.436506</td>\n",
              "      <td>0.339123</td>\n",
              "      <td>0.079128</td>\n",
              "      <td>0.228858</td>\n",
              "      <td>0.031483</td>\n",
              "      <td>0.107797</td>\n",
              "      <td>0.045660</td>\n",
              "      <td>0.011812</td>\n",
              "      <td>test</td>\n",
              "    </tr>\n",
              "  </tbody>\n",
              "</table>\n",
              "<p>5 rows × 30 columns</p>\n",
              "</div>\n",
              "      <button class=\"colab-df-convert\" onclick=\"convertToInteractive('df-065ca261-7c15-4d97-9478-07adf79b1984')\"\n",
              "              title=\"Convert this dataframe to an interactive table.\"\n",
              "              style=\"display:none;\">\n",
              "        \n",
              "  <svg xmlns=\"http://www.w3.org/2000/svg\" height=\"24px\"viewBox=\"0 0 24 24\"\n",
              "       width=\"24px\">\n",
              "    <path d=\"M0 0h24v24H0V0z\" fill=\"none\"/>\n",
              "    <path d=\"M18.56 5.44l.94 2.06.94-2.06 2.06-.94-2.06-.94-.94-2.06-.94 2.06-2.06.94zm-11 1L8.5 8.5l.94-2.06 2.06-.94-2.06-.94L8.5 2.5l-.94 2.06-2.06.94zm10 10l.94 2.06.94-2.06 2.06-.94-2.06-.94-.94-2.06-.94 2.06-2.06.94z\"/><path d=\"M17.41 7.96l-1.37-1.37c-.4-.4-.92-.59-1.43-.59-.52 0-1.04.2-1.43.59L10.3 9.45l-7.72 7.72c-.78.78-.78 2.05 0 2.83L4 21.41c.39.39.9.59 1.41.59.51 0 1.02-.2 1.41-.59l7.78-7.78 2.81-2.81c.8-.78.8-2.07 0-2.86zM5.41 20L4 18.59l7.72-7.72 1.47 1.35L5.41 20z\"/>\n",
              "  </svg>\n",
              "      </button>\n",
              "      \n",
              "  <style>\n",
              "    .colab-df-container {\n",
              "      display:flex;\n",
              "      flex-wrap:wrap;\n",
              "      gap: 12px;\n",
              "    }\n",
              "\n",
              "    .colab-df-convert {\n",
              "      background-color: #E8F0FE;\n",
              "      border: none;\n",
              "      border-radius: 50%;\n",
              "      cursor: pointer;\n",
              "      display: none;\n",
              "      fill: #1967D2;\n",
              "      height: 32px;\n",
              "      padding: 0 0 0 0;\n",
              "      width: 32px;\n",
              "    }\n",
              "\n",
              "    .colab-df-convert:hover {\n",
              "      background-color: #E2EBFA;\n",
              "      box-shadow: 0px 1px 2px rgba(60, 64, 67, 0.3), 0px 1px 3px 1px rgba(60, 64, 67, 0.15);\n",
              "      fill: #174EA6;\n",
              "    }\n",
              "\n",
              "    [theme=dark] .colab-df-convert {\n",
              "      background-color: #3B4455;\n",
              "      fill: #D2E3FC;\n",
              "    }\n",
              "\n",
              "    [theme=dark] .colab-df-convert:hover {\n",
              "      background-color: #434B5C;\n",
              "      box-shadow: 0px 1px 3px 1px rgba(0, 0, 0, 0.15);\n",
              "      filter: drop-shadow(0px 1px 2px rgba(0, 0, 0, 0.3));\n",
              "      fill: #FFFFFF;\n",
              "    }\n",
              "  </style>\n",
              "\n",
              "      <script>\n",
              "        const buttonEl =\n",
              "          document.querySelector('#df-065ca261-7c15-4d97-9478-07adf79b1984 button.colab-df-convert');\n",
              "        buttonEl.style.display =\n",
              "          google.colab.kernel.accessAllowed ? 'block' : 'none';\n",
              "\n",
              "        async function convertToInteractive(key) {\n",
              "          const element = document.querySelector('#df-065ca261-7c15-4d97-9478-07adf79b1984');\n",
              "          const dataTable =\n",
              "            await google.colab.kernel.invokeFunction('convertToInteractive',\n",
              "                                                     [key], {});\n",
              "          if (!dataTable) return;\n",
              "\n",
              "          const docLinkHtml = 'Like what you see? Visit the ' +\n",
              "            '<a target=\"_blank\" href=https://colab.research.google.com/notebooks/data_table.ipynb>data table notebook</a>'\n",
              "            + ' to learn more about interactive tables.';\n",
              "          element.innerHTML = '';\n",
              "          dataTable['output_type'] = 'display_data';\n",
              "          await google.colab.output.renderOutput(dataTable, element);\n",
              "          const docLink = document.createElement('div');\n",
              "          docLink.innerHTML = docLinkHtml;\n",
              "          element.appendChild(docLink);\n",
              "        }\n",
              "      </script>\n",
              "    </div>\n",
              "  </div>\n",
              "  "
            ]
          },
          "metadata": {},
          "execution_count": 24
        }
      ]
    },
    {
      "cell_type": "code",
      "source": [
        "nunique = test.nunique()\n",
        "types = test.dtypes\n",
        "\n",
        "categorical_columns = []\n",
        "categorical_dims =  {}\n",
        "for col in test.columns:\n",
        "    if types[col] == 'object' or nunique[col] < 200:\n",
        "        print(col, test[col].nunique())\n",
        "        l_enc = LabelEncoder()\n",
        "        test[col] = test[col].fillna(\"VV_likely\")\n",
        "        test[col] = l_enc.fit_transform(test[col].values)\n",
        "        categorical_columns.append(col)\n",
        "        categorical_dims[col] = len(l_enc.classes_)\n",
        "    else:\n",
        "        test.fillna(test.loc[test_indices, col].mean(), inplace=True)"
      ],
      "metadata": {
        "colab": {
          "base_uri": "https://localhost:8080/"
        },
        "id": "f3Z_UhIa5epi",
        "outputId": "4ba9a661-dfbc-4021-c2d3-e22a4d6bf8f9"
      },
      "execution_count": 25,
      "outputs": [
        {
          "output_type": "stream",
          "name": "stdout",
          "text": [
            "Filename 2941\n",
            "Class 2\n",
            "Set 1\n"
          ]
        }
      ]
    },
    {
      "cell_type": "code",
      "source": [
        "test.head()"
      ],
      "metadata": {
        "colab": {
          "base_uri": "https://localhost:8080/",
          "height": 334
        },
        "id": "3CfZuryyA8EC",
        "outputId": "502415d8-a63b-4438-d68a-8d0dc98d05ac"
      },
      "execution_count": 26,
      "outputs": [
        {
          "output_type": "execute_result",
          "data": {
            "text/plain": [
              "   Filename  White Circle Patch  Contrast  Black Patch  Biffercation  \\\n",
              "0      1443              5292.0  0.166200     0.976471          1509   \n",
              "1      1444              4175.5  0.098199     0.989966          1339   \n",
              "2      1445              5829.0  0.054095     0.996549          1679   \n",
              "3      1446              3193.5  0.024822     0.998801          1902   \n",
              "4      1447              3132.0  0.129463     0.985666          1132   \n",
              "\n",
              "   Termination         CID  Class   OCL_STD   LCS_STD  ...       OFL  \\\n",
              "0          403  332.053514      1  0.082090  0.160900  ...  0.668878   \n",
              "1          453  265.142266      1  0.075764  0.141661  ...  0.656728   \n",
              "2          472  293.976355      1  0.096840  0.210623  ...  0.672784   \n",
              "3          340  289.341544      1  0.119394  0.230169  ...  0.709769   \n",
              "4          296  314.832926      1  0.129622  0.254241  ...  0.732113   \n",
              "\n",
              "        FDA     GABOR  OCL_STD2  LCS_STD2  OFL_STD2  FDA_STD2  RVU_STD2  \\\n",
              "0  0.450442  0.659029  0.053521  0.092457  0.058338  0.082080  0.097579   \n",
              "1  0.420273  0.581228  0.052430  0.076413  0.052317  0.084231  0.067239   \n",
              "2  0.417944  0.529954  0.046736  0.119511  0.051440  0.077678  0.067060   \n",
              "3  0.400578  0.283677  0.063880  0.145236  0.038813  0.079486  0.053488   \n",
              "4  0.436506  0.339123  0.079128  0.228858  0.031483  0.107797  0.045660   \n",
              "\n",
              "   GABOR_STD2  Set  \n",
              "0    0.018765    0  \n",
              "1    0.017077    0  \n",
              "2    0.015679    0  \n",
              "3    0.010148    0  \n",
              "4    0.011812    0  \n",
              "\n",
              "[5 rows x 30 columns]"
            ],
            "text/html": [
              "\n",
              "  <div id=\"df-abf1678e-eede-4e65-b1e9-8afa038c1cea\">\n",
              "    <div class=\"colab-df-container\">\n",
              "      <div>\n",
              "<style scoped>\n",
              "    .dataframe tbody tr th:only-of-type {\n",
              "        vertical-align: middle;\n",
              "    }\n",
              "\n",
              "    .dataframe tbody tr th {\n",
              "        vertical-align: top;\n",
              "    }\n",
              "\n",
              "    .dataframe thead th {\n",
              "        text-align: right;\n",
              "    }\n",
              "</style>\n",
              "<table border=\"1\" class=\"dataframe\">\n",
              "  <thead>\n",
              "    <tr style=\"text-align: right;\">\n",
              "      <th></th>\n",
              "      <th>Filename</th>\n",
              "      <th>White Circle Patch</th>\n",
              "      <th>Contrast</th>\n",
              "      <th>Black Patch</th>\n",
              "      <th>Biffercation</th>\n",
              "      <th>Termination</th>\n",
              "      <th>CID</th>\n",
              "      <th>Class</th>\n",
              "      <th>OCL_STD</th>\n",
              "      <th>LCS_STD</th>\n",
              "      <th>...</th>\n",
              "      <th>OFL</th>\n",
              "      <th>FDA</th>\n",
              "      <th>GABOR</th>\n",
              "      <th>OCL_STD2</th>\n",
              "      <th>LCS_STD2</th>\n",
              "      <th>OFL_STD2</th>\n",
              "      <th>FDA_STD2</th>\n",
              "      <th>RVU_STD2</th>\n",
              "      <th>GABOR_STD2</th>\n",
              "      <th>Set</th>\n",
              "    </tr>\n",
              "  </thead>\n",
              "  <tbody>\n",
              "    <tr>\n",
              "      <th>0</th>\n",
              "      <td>1443</td>\n",
              "      <td>5292.0</td>\n",
              "      <td>0.166200</td>\n",
              "      <td>0.976471</td>\n",
              "      <td>1509</td>\n",
              "      <td>403</td>\n",
              "      <td>332.053514</td>\n",
              "      <td>1</td>\n",
              "      <td>0.082090</td>\n",
              "      <td>0.160900</td>\n",
              "      <td>...</td>\n",
              "      <td>0.668878</td>\n",
              "      <td>0.450442</td>\n",
              "      <td>0.659029</td>\n",
              "      <td>0.053521</td>\n",
              "      <td>0.092457</td>\n",
              "      <td>0.058338</td>\n",
              "      <td>0.082080</td>\n",
              "      <td>0.097579</td>\n",
              "      <td>0.018765</td>\n",
              "      <td>0</td>\n",
              "    </tr>\n",
              "    <tr>\n",
              "      <th>1</th>\n",
              "      <td>1444</td>\n",
              "      <td>4175.5</td>\n",
              "      <td>0.098199</td>\n",
              "      <td>0.989966</td>\n",
              "      <td>1339</td>\n",
              "      <td>453</td>\n",
              "      <td>265.142266</td>\n",
              "      <td>1</td>\n",
              "      <td>0.075764</td>\n",
              "      <td>0.141661</td>\n",
              "      <td>...</td>\n",
              "      <td>0.656728</td>\n",
              "      <td>0.420273</td>\n",
              "      <td>0.581228</td>\n",
              "      <td>0.052430</td>\n",
              "      <td>0.076413</td>\n",
              "      <td>0.052317</td>\n",
              "      <td>0.084231</td>\n",
              "      <td>0.067239</td>\n",
              "      <td>0.017077</td>\n",
              "      <td>0</td>\n",
              "    </tr>\n",
              "    <tr>\n",
              "      <th>2</th>\n",
              "      <td>1445</td>\n",
              "      <td>5829.0</td>\n",
              "      <td>0.054095</td>\n",
              "      <td>0.996549</td>\n",
              "      <td>1679</td>\n",
              "      <td>472</td>\n",
              "      <td>293.976355</td>\n",
              "      <td>1</td>\n",
              "      <td>0.096840</td>\n",
              "      <td>0.210623</td>\n",
              "      <td>...</td>\n",
              "      <td>0.672784</td>\n",
              "      <td>0.417944</td>\n",
              "      <td>0.529954</td>\n",
              "      <td>0.046736</td>\n",
              "      <td>0.119511</td>\n",
              "      <td>0.051440</td>\n",
              "      <td>0.077678</td>\n",
              "      <td>0.067060</td>\n",
              "      <td>0.015679</td>\n",
              "      <td>0</td>\n",
              "    </tr>\n",
              "    <tr>\n",
              "      <th>3</th>\n",
              "      <td>1446</td>\n",
              "      <td>3193.5</td>\n",
              "      <td>0.024822</td>\n",
              "      <td>0.998801</td>\n",
              "      <td>1902</td>\n",
              "      <td>340</td>\n",
              "      <td>289.341544</td>\n",
              "      <td>1</td>\n",
              "      <td>0.119394</td>\n",
              "      <td>0.230169</td>\n",
              "      <td>...</td>\n",
              "      <td>0.709769</td>\n",
              "      <td>0.400578</td>\n",
              "      <td>0.283677</td>\n",
              "      <td>0.063880</td>\n",
              "      <td>0.145236</td>\n",
              "      <td>0.038813</td>\n",
              "      <td>0.079486</td>\n",
              "      <td>0.053488</td>\n",
              "      <td>0.010148</td>\n",
              "      <td>0</td>\n",
              "    </tr>\n",
              "    <tr>\n",
              "      <th>4</th>\n",
              "      <td>1447</td>\n",
              "      <td>3132.0</td>\n",
              "      <td>0.129463</td>\n",
              "      <td>0.985666</td>\n",
              "      <td>1132</td>\n",
              "      <td>296</td>\n",
              "      <td>314.832926</td>\n",
              "      <td>1</td>\n",
              "      <td>0.129622</td>\n",
              "      <td>0.254241</td>\n",
              "      <td>...</td>\n",
              "      <td>0.732113</td>\n",
              "      <td>0.436506</td>\n",
              "      <td>0.339123</td>\n",
              "      <td>0.079128</td>\n",
              "      <td>0.228858</td>\n",
              "      <td>0.031483</td>\n",
              "      <td>0.107797</td>\n",
              "      <td>0.045660</td>\n",
              "      <td>0.011812</td>\n",
              "      <td>0</td>\n",
              "    </tr>\n",
              "  </tbody>\n",
              "</table>\n",
              "<p>5 rows × 30 columns</p>\n",
              "</div>\n",
              "      <button class=\"colab-df-convert\" onclick=\"convertToInteractive('df-abf1678e-eede-4e65-b1e9-8afa038c1cea')\"\n",
              "              title=\"Convert this dataframe to an interactive table.\"\n",
              "              style=\"display:none;\">\n",
              "        \n",
              "  <svg xmlns=\"http://www.w3.org/2000/svg\" height=\"24px\"viewBox=\"0 0 24 24\"\n",
              "       width=\"24px\">\n",
              "    <path d=\"M0 0h24v24H0V0z\" fill=\"none\"/>\n",
              "    <path d=\"M18.56 5.44l.94 2.06.94-2.06 2.06-.94-2.06-.94-.94-2.06-.94 2.06-2.06.94zm-11 1L8.5 8.5l.94-2.06 2.06-.94-2.06-.94L8.5 2.5l-.94 2.06-2.06.94zm10 10l.94 2.06.94-2.06 2.06-.94-2.06-.94-.94-2.06-.94 2.06-2.06.94z\"/><path d=\"M17.41 7.96l-1.37-1.37c-.4-.4-.92-.59-1.43-.59-.52 0-1.04.2-1.43.59L10.3 9.45l-7.72 7.72c-.78.78-.78 2.05 0 2.83L4 21.41c.39.39.9.59 1.41.59.51 0 1.02-.2 1.41-.59l7.78-7.78 2.81-2.81c.8-.78.8-2.07 0-2.86zM5.41 20L4 18.59l7.72-7.72 1.47 1.35L5.41 20z\"/>\n",
              "  </svg>\n",
              "      </button>\n",
              "      \n",
              "  <style>\n",
              "    .colab-df-container {\n",
              "      display:flex;\n",
              "      flex-wrap:wrap;\n",
              "      gap: 12px;\n",
              "    }\n",
              "\n",
              "    .colab-df-convert {\n",
              "      background-color: #E8F0FE;\n",
              "      border: none;\n",
              "      border-radius: 50%;\n",
              "      cursor: pointer;\n",
              "      display: none;\n",
              "      fill: #1967D2;\n",
              "      height: 32px;\n",
              "      padding: 0 0 0 0;\n",
              "      width: 32px;\n",
              "    }\n",
              "\n",
              "    .colab-df-convert:hover {\n",
              "      background-color: #E2EBFA;\n",
              "      box-shadow: 0px 1px 2px rgba(60, 64, 67, 0.3), 0px 1px 3px 1px rgba(60, 64, 67, 0.15);\n",
              "      fill: #174EA6;\n",
              "    }\n",
              "\n",
              "    [theme=dark] .colab-df-convert {\n",
              "      background-color: #3B4455;\n",
              "      fill: #D2E3FC;\n",
              "    }\n",
              "\n",
              "    [theme=dark] .colab-df-convert:hover {\n",
              "      background-color: #434B5C;\n",
              "      box-shadow: 0px 1px 3px 1px rgba(0, 0, 0, 0.15);\n",
              "      filter: drop-shadow(0px 1px 2px rgba(0, 0, 0, 0.3));\n",
              "      fill: #FFFFFF;\n",
              "    }\n",
              "  </style>\n",
              "\n",
              "      <script>\n",
              "        const buttonEl =\n",
              "          document.querySelector('#df-abf1678e-eede-4e65-b1e9-8afa038c1cea button.colab-df-convert');\n",
              "        buttonEl.style.display =\n",
              "          google.colab.kernel.accessAllowed ? 'block' : 'none';\n",
              "\n",
              "        async function convertToInteractive(key) {\n",
              "          const element = document.querySelector('#df-abf1678e-eede-4e65-b1e9-8afa038c1cea');\n",
              "          const dataTable =\n",
              "            await google.colab.kernel.invokeFunction('convertToInteractive',\n",
              "                                                     [key], {});\n",
              "          if (!dataTable) return;\n",
              "\n",
              "          const docLinkHtml = 'Like what you see? Visit the ' +\n",
              "            '<a target=\"_blank\" href=https://colab.research.google.com/notebooks/data_table.ipynb>data table notebook</a>'\n",
              "            + ' to learn more about interactive tables.';\n",
              "          element.innerHTML = '';\n",
              "          dataTable['output_type'] = 'display_data';\n",
              "          await google.colab.output.renderOutput(dataTable, element);\n",
              "          const docLink = document.createElement('div');\n",
              "          docLink.innerHTML = docLinkHtml;\n",
              "          element.appendChild(docLink);\n",
              "        }\n",
              "      </script>\n",
              "    </div>\n",
              "  </div>\n",
              "  "
            ]
          },
          "metadata": {},
          "execution_count": 26
        }
      ]
    },
    {
      "cell_type": "code",
      "source": [
        "\n",
        "test.loc[test[target]==0, target] = \"classZero\"\n",
        "test.loc[test[target]==1, target] = \"classOne\""
      ],
      "metadata": {
        "id": "8Ni2uBjp5__J"
      },
      "execution_count": 27,
      "outputs": []
    },
    {
      "cell_type": "code",
      "source": [
        "test.head()"
      ],
      "metadata": {
        "colab": {
          "base_uri": "https://localhost:8080/",
          "height": 334
        },
        "id": "k45AzASh6LFt",
        "outputId": "721a5378-bfe7-437d-f0db-d167b67ddf0b"
      },
      "execution_count": 28,
      "outputs": [
        {
          "output_type": "execute_result",
          "data": {
            "text/plain": [
              "   Filename  White Circle Patch  Contrast  Black Patch  Biffercation  \\\n",
              "0      1443              5292.0  0.166200     0.976471          1509   \n",
              "1      1444              4175.5  0.098199     0.989966          1339   \n",
              "2      1445              5829.0  0.054095     0.996549          1679   \n",
              "3      1446              3193.5  0.024822     0.998801          1902   \n",
              "4      1447              3132.0  0.129463     0.985666          1132   \n",
              "\n",
              "   Termination         CID     Class   OCL_STD   LCS_STD  ...       OFL  \\\n",
              "0          403  332.053514  classOne  0.082090  0.160900  ...  0.668878   \n",
              "1          453  265.142266  classOne  0.075764  0.141661  ...  0.656728   \n",
              "2          472  293.976355  classOne  0.096840  0.210623  ...  0.672784   \n",
              "3          340  289.341544  classOne  0.119394  0.230169  ...  0.709769   \n",
              "4          296  314.832926  classOne  0.129622  0.254241  ...  0.732113   \n",
              "\n",
              "        FDA     GABOR  OCL_STD2  LCS_STD2  OFL_STD2  FDA_STD2  RVU_STD2  \\\n",
              "0  0.450442  0.659029  0.053521  0.092457  0.058338  0.082080  0.097579   \n",
              "1  0.420273  0.581228  0.052430  0.076413  0.052317  0.084231  0.067239   \n",
              "2  0.417944  0.529954  0.046736  0.119511  0.051440  0.077678  0.067060   \n",
              "3  0.400578  0.283677  0.063880  0.145236  0.038813  0.079486  0.053488   \n",
              "4  0.436506  0.339123  0.079128  0.228858  0.031483  0.107797  0.045660   \n",
              "\n",
              "   GABOR_STD2  Set  \n",
              "0    0.018765    0  \n",
              "1    0.017077    0  \n",
              "2    0.015679    0  \n",
              "3    0.010148    0  \n",
              "4    0.011812    0  \n",
              "\n",
              "[5 rows x 30 columns]"
            ],
            "text/html": [
              "\n",
              "  <div id=\"df-59a76b01-2130-4f02-b281-fc0fd37cc786\">\n",
              "    <div class=\"colab-df-container\">\n",
              "      <div>\n",
              "<style scoped>\n",
              "    .dataframe tbody tr th:only-of-type {\n",
              "        vertical-align: middle;\n",
              "    }\n",
              "\n",
              "    .dataframe tbody tr th {\n",
              "        vertical-align: top;\n",
              "    }\n",
              "\n",
              "    .dataframe thead th {\n",
              "        text-align: right;\n",
              "    }\n",
              "</style>\n",
              "<table border=\"1\" class=\"dataframe\">\n",
              "  <thead>\n",
              "    <tr style=\"text-align: right;\">\n",
              "      <th></th>\n",
              "      <th>Filename</th>\n",
              "      <th>White Circle Patch</th>\n",
              "      <th>Contrast</th>\n",
              "      <th>Black Patch</th>\n",
              "      <th>Biffercation</th>\n",
              "      <th>Termination</th>\n",
              "      <th>CID</th>\n",
              "      <th>Class</th>\n",
              "      <th>OCL_STD</th>\n",
              "      <th>LCS_STD</th>\n",
              "      <th>...</th>\n",
              "      <th>OFL</th>\n",
              "      <th>FDA</th>\n",
              "      <th>GABOR</th>\n",
              "      <th>OCL_STD2</th>\n",
              "      <th>LCS_STD2</th>\n",
              "      <th>OFL_STD2</th>\n",
              "      <th>FDA_STD2</th>\n",
              "      <th>RVU_STD2</th>\n",
              "      <th>GABOR_STD2</th>\n",
              "      <th>Set</th>\n",
              "    </tr>\n",
              "  </thead>\n",
              "  <tbody>\n",
              "    <tr>\n",
              "      <th>0</th>\n",
              "      <td>1443</td>\n",
              "      <td>5292.0</td>\n",
              "      <td>0.166200</td>\n",
              "      <td>0.976471</td>\n",
              "      <td>1509</td>\n",
              "      <td>403</td>\n",
              "      <td>332.053514</td>\n",
              "      <td>classOne</td>\n",
              "      <td>0.082090</td>\n",
              "      <td>0.160900</td>\n",
              "      <td>...</td>\n",
              "      <td>0.668878</td>\n",
              "      <td>0.450442</td>\n",
              "      <td>0.659029</td>\n",
              "      <td>0.053521</td>\n",
              "      <td>0.092457</td>\n",
              "      <td>0.058338</td>\n",
              "      <td>0.082080</td>\n",
              "      <td>0.097579</td>\n",
              "      <td>0.018765</td>\n",
              "      <td>0</td>\n",
              "    </tr>\n",
              "    <tr>\n",
              "      <th>1</th>\n",
              "      <td>1444</td>\n",
              "      <td>4175.5</td>\n",
              "      <td>0.098199</td>\n",
              "      <td>0.989966</td>\n",
              "      <td>1339</td>\n",
              "      <td>453</td>\n",
              "      <td>265.142266</td>\n",
              "      <td>classOne</td>\n",
              "      <td>0.075764</td>\n",
              "      <td>0.141661</td>\n",
              "      <td>...</td>\n",
              "      <td>0.656728</td>\n",
              "      <td>0.420273</td>\n",
              "      <td>0.581228</td>\n",
              "      <td>0.052430</td>\n",
              "      <td>0.076413</td>\n",
              "      <td>0.052317</td>\n",
              "      <td>0.084231</td>\n",
              "      <td>0.067239</td>\n",
              "      <td>0.017077</td>\n",
              "      <td>0</td>\n",
              "    </tr>\n",
              "    <tr>\n",
              "      <th>2</th>\n",
              "      <td>1445</td>\n",
              "      <td>5829.0</td>\n",
              "      <td>0.054095</td>\n",
              "      <td>0.996549</td>\n",
              "      <td>1679</td>\n",
              "      <td>472</td>\n",
              "      <td>293.976355</td>\n",
              "      <td>classOne</td>\n",
              "      <td>0.096840</td>\n",
              "      <td>0.210623</td>\n",
              "      <td>...</td>\n",
              "      <td>0.672784</td>\n",
              "      <td>0.417944</td>\n",
              "      <td>0.529954</td>\n",
              "      <td>0.046736</td>\n",
              "      <td>0.119511</td>\n",
              "      <td>0.051440</td>\n",
              "      <td>0.077678</td>\n",
              "      <td>0.067060</td>\n",
              "      <td>0.015679</td>\n",
              "      <td>0</td>\n",
              "    </tr>\n",
              "    <tr>\n",
              "      <th>3</th>\n",
              "      <td>1446</td>\n",
              "      <td>3193.5</td>\n",
              "      <td>0.024822</td>\n",
              "      <td>0.998801</td>\n",
              "      <td>1902</td>\n",
              "      <td>340</td>\n",
              "      <td>289.341544</td>\n",
              "      <td>classOne</td>\n",
              "      <td>0.119394</td>\n",
              "      <td>0.230169</td>\n",
              "      <td>...</td>\n",
              "      <td>0.709769</td>\n",
              "      <td>0.400578</td>\n",
              "      <td>0.283677</td>\n",
              "      <td>0.063880</td>\n",
              "      <td>0.145236</td>\n",
              "      <td>0.038813</td>\n",
              "      <td>0.079486</td>\n",
              "      <td>0.053488</td>\n",
              "      <td>0.010148</td>\n",
              "      <td>0</td>\n",
              "    </tr>\n",
              "    <tr>\n",
              "      <th>4</th>\n",
              "      <td>1447</td>\n",
              "      <td>3132.0</td>\n",
              "      <td>0.129463</td>\n",
              "      <td>0.985666</td>\n",
              "      <td>1132</td>\n",
              "      <td>296</td>\n",
              "      <td>314.832926</td>\n",
              "      <td>classOne</td>\n",
              "      <td>0.129622</td>\n",
              "      <td>0.254241</td>\n",
              "      <td>...</td>\n",
              "      <td>0.732113</td>\n",
              "      <td>0.436506</td>\n",
              "      <td>0.339123</td>\n",
              "      <td>0.079128</td>\n",
              "      <td>0.228858</td>\n",
              "      <td>0.031483</td>\n",
              "      <td>0.107797</td>\n",
              "      <td>0.045660</td>\n",
              "      <td>0.011812</td>\n",
              "      <td>0</td>\n",
              "    </tr>\n",
              "  </tbody>\n",
              "</table>\n",
              "<p>5 rows × 30 columns</p>\n",
              "</div>\n",
              "      <button class=\"colab-df-convert\" onclick=\"convertToInteractive('df-59a76b01-2130-4f02-b281-fc0fd37cc786')\"\n",
              "              title=\"Convert this dataframe to an interactive table.\"\n",
              "              style=\"display:none;\">\n",
              "        \n",
              "  <svg xmlns=\"http://www.w3.org/2000/svg\" height=\"24px\"viewBox=\"0 0 24 24\"\n",
              "       width=\"24px\">\n",
              "    <path d=\"M0 0h24v24H0V0z\" fill=\"none\"/>\n",
              "    <path d=\"M18.56 5.44l.94 2.06.94-2.06 2.06-.94-2.06-.94-.94-2.06-.94 2.06-2.06.94zm-11 1L8.5 8.5l.94-2.06 2.06-.94-2.06-.94L8.5 2.5l-.94 2.06-2.06.94zm10 10l.94 2.06.94-2.06 2.06-.94-2.06-.94-.94-2.06-.94 2.06-2.06.94z\"/><path d=\"M17.41 7.96l-1.37-1.37c-.4-.4-.92-.59-1.43-.59-.52 0-1.04.2-1.43.59L10.3 9.45l-7.72 7.72c-.78.78-.78 2.05 0 2.83L4 21.41c.39.39.9.59 1.41.59.51 0 1.02-.2 1.41-.59l7.78-7.78 2.81-2.81c.8-.78.8-2.07 0-2.86zM5.41 20L4 18.59l7.72-7.72 1.47 1.35L5.41 20z\"/>\n",
              "  </svg>\n",
              "      </button>\n",
              "      \n",
              "  <style>\n",
              "    .colab-df-container {\n",
              "      display:flex;\n",
              "      flex-wrap:wrap;\n",
              "      gap: 12px;\n",
              "    }\n",
              "\n",
              "    .colab-df-convert {\n",
              "      background-color: #E8F0FE;\n",
              "      border: none;\n",
              "      border-radius: 50%;\n",
              "      cursor: pointer;\n",
              "      display: none;\n",
              "      fill: #1967D2;\n",
              "      height: 32px;\n",
              "      padding: 0 0 0 0;\n",
              "      width: 32px;\n",
              "    }\n",
              "\n",
              "    .colab-df-convert:hover {\n",
              "      background-color: #E2EBFA;\n",
              "      box-shadow: 0px 1px 2px rgba(60, 64, 67, 0.3), 0px 1px 3px 1px rgba(60, 64, 67, 0.15);\n",
              "      fill: #174EA6;\n",
              "    }\n",
              "\n",
              "    [theme=dark] .colab-df-convert {\n",
              "      background-color: #3B4455;\n",
              "      fill: #D2E3FC;\n",
              "    }\n",
              "\n",
              "    [theme=dark] .colab-df-convert:hover {\n",
              "      background-color: #434B5C;\n",
              "      box-shadow: 0px 1px 3px 1px rgba(0, 0, 0, 0.15);\n",
              "      filter: drop-shadow(0px 1px 2px rgba(0, 0, 0, 0.3));\n",
              "      fill: #FFFFFF;\n",
              "    }\n",
              "  </style>\n",
              "\n",
              "      <script>\n",
              "        const buttonEl =\n",
              "          document.querySelector('#df-59a76b01-2130-4f02-b281-fc0fd37cc786 button.colab-df-convert');\n",
              "        buttonEl.style.display =\n",
              "          google.colab.kernel.accessAllowed ? 'block' : 'none';\n",
              "\n",
              "        async function convertToInteractive(key) {\n",
              "          const element = document.querySelector('#df-59a76b01-2130-4f02-b281-fc0fd37cc786');\n",
              "          const dataTable =\n",
              "            await google.colab.kernel.invokeFunction('convertToInteractive',\n",
              "                                                     [key], {});\n",
              "          if (!dataTable) return;\n",
              "\n",
              "          const docLinkHtml = 'Like what you see? Visit the ' +\n",
              "            '<a target=\"_blank\" href=https://colab.research.google.com/notebooks/data_table.ipynb>data table notebook</a>'\n",
              "            + ' to learn more about interactive tables.';\n",
              "          element.innerHTML = '';\n",
              "          dataTable['output_type'] = 'display_data';\n",
              "          await google.colab.output.renderOutput(dataTable, element);\n",
              "          const docLink = document.createElement('div');\n",
              "          docLink.innerHTML = docLinkHtml;\n",
              "          element.appendChild(docLink);\n",
              "        }\n",
              "      </script>\n",
              "    </div>\n",
              "  </div>\n",
              "  "
            ]
          },
          "metadata": {},
          "execution_count": 28
        }
      ]
    },
    {
      "cell_type": "code",
      "source": [
        "unused_feat = ['Set']\n",
        "\n",
        "features = [ col for col in test.columns if col not in unused_feat+[target]] "
      ],
      "metadata": {
        "id": "EvDkvERh6TXG"
      },
      "execution_count": 29,
      "outputs": []
    },
    {
      "cell_type": "code",
      "source": [
        "features"
      ],
      "metadata": {
        "colab": {
          "base_uri": "https://localhost:8080/"
        },
        "id": "DwP5o5fzHZLY",
        "outputId": "62f60894-5066-4afc-83e9-2d338a28382b"
      },
      "execution_count": 30,
      "outputs": [
        {
          "output_type": "execute_result",
          "data": {
            "text/plain": [
              "['Filename',\n",
              " 'White Circle Patch',\n",
              " 'Contrast',\n",
              " 'Black Patch',\n",
              " 'Biffercation',\n",
              " 'Termination',\n",
              " 'CID',\n",
              " 'OCL_STD',\n",
              " 'LCS_STD',\n",
              " 'OFL_STD',\n",
              " 'RPS',\n",
              " 'FDA_STD',\n",
              " 'RVU',\n",
              " 'GABOR_STD',\n",
              " 'GABORSHEN',\n",
              " 'SIGMA',\n",
              " 'MEAN',\n",
              " 'OCL',\n",
              " 'LCS',\n",
              " 'OFL',\n",
              " 'FDA',\n",
              " 'GABOR',\n",
              " 'OCL_STD2',\n",
              " 'LCS_STD2',\n",
              " 'OFL_STD2',\n",
              " 'FDA_STD2',\n",
              " 'RVU_STD2',\n",
              " 'GABOR_STD2']"
            ]
          },
          "metadata": {},
          "execution_count": 30
        }
      ]
    },
    {
      "cell_type": "code",
      "source": [
        "X_test = test[features].values[test_indices]\n",
        "y_test = test[target].values[test_indices]"
      ],
      "metadata": {
        "id": "4C9Uh5I267G_"
      },
      "execution_count": 31,
      "outputs": []
    },
    {
      "cell_type": "code",
      "source": [
        "X_test[1]"
      ],
      "metadata": {
        "colab": {
          "base_uri": "https://localhost:8080/"
        },
        "id": "COsmiHxmHlgh",
        "outputId": "7a8b0fe0-608b-4d71-c8b6-6f70cb0f615a"
      },
      "execution_count": 32,
      "outputs": [
        {
          "output_type": "execute_result",
          "data": {
            "text/plain": [
              "array([1.44400000e+03, 4.17550000e+03, 9.81991470e-02, 9.89966475e-01,\n",
              "       1.33900000e+03, 4.53000000e+02, 2.65142266e+02, 7.57639030e-02,\n",
              "       1.41661272e-01, 3.15186567e-01, 9.89956768e+03, 1.47372170e-01,\n",
              "       4.57115922e-01, 9.90511553e-01, 9.57654723e-01, 6.30754902e+01,\n",
              "       2.28090862e+02, 8.41039824e-01, 8.18791155e-01, 6.56727967e-01,\n",
              "       4.20272848e-01, 5.81227629e-01, 5.24298650e-02, 7.64134380e-02,\n",
              "       5.23168300e-02, 8.42310460e-02, 6.72386550e-02, 1.70767050e-02])"
            ]
          },
          "metadata": {},
          "execution_count": 32
        }
      ]
    },
    {
      "cell_type": "code",
      "source": [
        "preds = clf.predict_proba(X_test)\n",
        "test_auc = roc_auc_score(y_score=preds[:,1], y_true=y_test)\n",
        "\n",
        "\n",
        "preds_valid = clf.predict_proba(X_valid)\n",
        "valid_auc = roc_auc_score(y_score=preds_valid[:,1], y_true=y_valid)\n",
        "\n",
        "print(f\"BEST VALID SCORE : {clf.best_cost}\")\n",
        "print(f\"FINAL TEST SCORE : {test_auc}\")"
      ],
      "metadata": {
        "colab": {
          "base_uri": "https://localhost:8080/"
        },
        "id": "K8urOmcs7E-4",
        "outputId": "44e33a49-b8d3-4541-c244-d35f9cf9dc95"
      },
      "execution_count": 33,
      "outputs": [
        {
          "output_type": "stream",
          "name": "stdout",
          "text": [
            "BEST VALID SCORE : 0.9670165220732472\n",
            "FINAL TEST SCORE : 0.9695537686191893\n"
          ]
        }
      ]
    },
    {
      "cell_type": "code",
      "source": [
        "assert np.isclose(valid_auc, np.max(clf.history['valid_auc']), atol=1e-6)"
      ],
      "metadata": {
        "id": "PJnFRUU87UUS"
      },
      "execution_count": 34,
      "outputs": []
    },
    {
      "cell_type": "code",
      "source": [
        "clf.predict(X_test)"
      ],
      "metadata": {
        "colab": {
          "base_uri": "https://localhost:8080/"
        },
        "id": "feh79dwu7b43",
        "outputId": "51fd0d32-9c26-4d3c-aeb9-c3d58c6eee36"
      },
      "execution_count": 35,
      "outputs": [
        {
          "output_type": "execute_result",
          "data": {
            "text/plain": [
              "array(['classOne', 'classOne', 'classOne', ..., 'classZero', 'classZero',\n",
              "       'classZero'], dtype='<U9')"
            ]
          },
          "metadata": {},
          "execution_count": 35
        }
      ]
    },
    {
      "cell_type": "code",
      "source": [
        "saving_path_name = \"./tabnet_model_test_1\"\n",
        "saved_filepath = clf.save_model(saving_path_name)"
      ],
      "metadata": {
        "colab": {
          "base_uri": "https://localhost:8080/"
        },
        "id": "KaWI68kP7eqL",
        "outputId": "0c9072f2-873b-4f70-cfc2-7b9a0eaafb57"
      },
      "execution_count": 36,
      "outputs": [
        {
          "output_type": "stream",
          "name": "stdout",
          "text": [
            "Successfully saved model at ./tabnet_model_test_1.zip\n"
          ]
        }
      ]
    },
    {
      "cell_type": "code",
      "source": [
        "loaded_clf = TabNetClassifier()\n",
        "loaded_clf.load_model(saved_filepath)"
      ],
      "metadata": {
        "colab": {
          "base_uri": "https://localhost:8080/"
        },
        "id": "Pt6UA5nW7ujf",
        "outputId": "7edd2c4f-f29d-4389-d504-8a9c83744b60"
      },
      "execution_count": 37,
      "outputs": [
        {
          "output_type": "stream",
          "name": "stdout",
          "text": [
            "Device used : cpu\n",
            "Device used : cpu\n"
          ]
        }
      ]
    },
    {
      "cell_type": "code",
      "source": [
        "loaded_preds = loaded_clf.predict_proba(X_test)\n",
        "loaded_test_auc = roc_auc_score(y_score=loaded_preds[:,1], y_true=y_test)\n",
        "\n",
        "print(f\"FINAL TEST SCORE  : {loaded_test_auc}\")"
      ],
      "metadata": {
        "colab": {
          "base_uri": "https://localhost:8080/"
        },
        "id": "C6OfxSxy7wsG",
        "outputId": "61b6206a-2db0-4b03-9e49-eeb00905f3e0"
      },
      "execution_count": 38,
      "outputs": [
        {
          "output_type": "stream",
          "name": "stdout",
          "text": [
            "FINAL TEST SCORE  : 0.9695537686191893\n"
          ]
        }
      ]
    },
    {
      "cell_type": "code",
      "source": [
        "assert(test_auc == loaded_test_auc)"
      ],
      "metadata": {
        "id": "8zAKtR0y70PG"
      },
      "execution_count": 39,
      "outputs": []
    },
    {
      "cell_type": "code",
      "source": [
        "loaded_clf.predict(X_test)"
      ],
      "metadata": {
        "colab": {
          "base_uri": "https://localhost:8080/"
        },
        "id": "YCyXvKdb72Y5",
        "outputId": "4281be7a-447e-4bf8-ab55-2f8c79d934b5"
      },
      "execution_count": 40,
      "outputs": [
        {
          "output_type": "execute_result",
          "data": {
            "text/plain": [
              "array(['classOne', 'classOne', 'classOne', ..., 'classZero', 'classZero',\n",
              "       'classZero'], dtype='<U9')"
            ]
          },
          "metadata": {},
          "execution_count": 40
        }
      ]
    },
    {
      "cell_type": "code",
      "source": [
        "clf.feature_importances_"
      ],
      "metadata": {
        "colab": {
          "base_uri": "https://localhost:8080/"
        },
        "id": "HzyI7uxK74dK",
        "outputId": "f75267d5-937c-45d5-c17f-4ee6139c9dfe"
      },
      "execution_count": 41,
      "outputs": [
        {
          "output_type": "execute_result",
          "data": {
            "text/plain": [
              "array([4.88202705e-02, 1.14204736e-03, 9.25384546e-04, 4.22364742e-04,\n",
              "       2.67081428e-01, 1.18703544e-01, 8.61300043e-02, 2.77298179e-02,\n",
              "       1.85627325e-03, 3.22146228e-02, 3.03449594e-07, 2.15655141e-02,\n",
              "       1.58443691e-03, 3.64650134e-02, 9.53028505e-04, 1.11902595e-01,\n",
              "       8.16665917e-04, 4.91334675e-02, 5.28103367e-09, 3.38720511e-05,\n",
              "       1.12739059e-01, 2.72093046e-02, 2.54273873e-02, 1.37759569e-02,\n",
              "       1.08764165e-02, 1.55388165e-04, 2.19803934e-03, 1.37788746e-04])"
            ]
          },
          "metadata": {},
          "execution_count": 41
        }
      ]
    },
    {
      "cell_type": "code",
      "source": [
        "explain_matrix, masks = clf.explain(X_test)"
      ],
      "metadata": {
        "id": "dCXNPfsO7638"
      },
      "execution_count": 42,
      "outputs": []
    },
    {
      "cell_type": "code",
      "source": [
        "fig, axs = plt.subplots(1, 3, figsize=(20,20))\n",
        "\n",
        "for i in range(3):\n",
        "    axs[i].imshow(masks[i][:50])\n",
        "    axs[i].set_title(f\"mask {i}\")"
      ],
      "metadata": {
        "colab": {
          "base_uri": "https://localhost:8080/",
          "height": 489
        },
        "id": "pBNO1IGq79Sj",
        "outputId": "5b532eee-7bda-4496-ff38-5f50d3f4c276"
      },
      "execution_count": 43,
      "outputs": [
        {
          "output_type": "display_data",
          "data": {
            "text/plain": [
              "<Figure size 1440x1440 with 3 Axes>"
            ],
            "image/png": "[encoded data removed]"
          },
          "metadata": {
            "needs_background": "light"
          }
        }
      ]
    },
    {
      "cell_type": "code",
      "source": [],
      "metadata": {
        "id": "vKlWwxTl7_s_"
      },
      "execution_count": null,
      "outputs": []
    }
  ]
}