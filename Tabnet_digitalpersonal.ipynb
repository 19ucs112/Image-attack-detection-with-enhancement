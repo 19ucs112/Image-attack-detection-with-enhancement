{
  "nbformat": 4,
  "nbformat_minor": 0,
  "metadata": {
    "colab": {
      "provenance": []
    },
    "kernelspec": {
      "name": "python3",
      "display_name": "Python 3"
    },
    "language_info": {
      "name": "python"
    }
  },
  "cells": [
    {
      "cell_type": "code",
      "execution_count": 75,
      "metadata": {
        "id": "ZJwJacy7nIzo"
      },
      "outputs": [],
      "source": [
        "from pytorch_tabnet.tab_model import TabNetClassifier\n",
        "\n",
        "import torch\n",
        "from sklearn.preprocessing import LabelEncoder\n",
        "from sklearn.metrics import roc_auc_score\n",
        "\n",
        "import pandas as pd\n",
        "import numpy as np\n",
        "np.random.seed(0)\n",
        "\n",
        "\n",
        "import os\n",
        "\n",
        "from pathlib import Path\n",
        "\n",
        "from matplotlib import pyplot as plt\n",
        "%matplotlib inline"
      ]
    },
    {
      "cell_type": "code",
      "source": [
        "train = pd.read_csv('/content/drive/MyDrive/CSV/Training_Digital-Persona.csv')\n"
      ],
      "metadata": {
        "id": "b9JSqtGCoTwH"
      },
      "execution_count": 76,
      "outputs": []
    },
    {
      "cell_type": "code",
      "source": [
        "test = pd.read_csv('/content/drive/MyDrive/CSV/TestingDigitalPersona.csv')"
      ],
      "metadata": {
        "id": "qevDo0NPARUr"
      },
      "execution_count": 77,
      "outputs": []
    },
    {
      "cell_type": "code",
      "source": [
        "train.head()"
      ],
      "metadata": {
        "colab": {
          "base_uri": "https://localhost:8080/",
          "height": 334
        },
        "id": "lchommZCoZ2F",
        "outputId": "4f8569fe-5210-4c0e-c184-0b9f142e401b"
      },
      "execution_count": 78,
      "outputs": [
        {
          "output_type": "execute_result",
          "data": {
            "text/plain": [
              "                                            Filename  White Circle Patch  \\\n",
              "0  C:\\Users\\ASHUTOSH\\Downloads\\FingerPrint\\LivDet...              1033.0   \n",
              "1  C:\\Users\\ASHUTOSH\\Downloads\\FingerPrint\\LivDet...               864.5   \n",
              "2  C:\\Users\\ASHUTOSH\\Downloads\\FingerPrint\\LivDet...              1488.0   \n",
              "3  C:\\Users\\ASHUTOSH\\Downloads\\FingerPrint\\LivDet...              1287.0   \n",
              "4  C:\\Users\\ASHUTOSH\\Downloads\\FingerPrint\\LivDet...              1241.5   \n",
              "\n",
              "   Contrast  Black Patch  Biffercation  Termination         CID  Class  \\\n",
              "0  0.192565     0.965358           419          223  107.718476      1   \n",
              "1  0.184950     0.967039           302          144  113.864787      1   \n",
              "2  0.187642     0.966452           458          228  105.423684      1   \n",
              "3  0.177059     0.969040           396          197  122.923574      1   \n",
              "4  0.185612     0.966522           372          249   85.873036      1   \n",
              "\n",
              "    OCL_STD   LCS_STD  ...       LCS       OFL       FDA     GABOR  OCL_STD2  \\\n",
              "0  0.106709  0.166449  ...  0.805730  0.827971  0.487488  1.404403  0.071551   \n",
              "1  0.094668  0.202578  ...  0.789452  0.696368  0.502754  1.522737  0.069966   \n",
              "2  0.111087  0.058595  ...  0.820833  0.684265  0.484818  1.583170  0.076095   \n",
              "3  0.096435  0.129141  ...  0.812243  0.491710  0.448238  1.387128  0.054967   \n",
              "4  0.098914  0.124638  ...  0.832742  0.536342  0.462497  1.747025  0.079089   \n",
              "\n",
              "   LCS_STD2  OFL_STD2  FDA_STD2  RVU_STD2  GABOR_STD2  \n",
              "0  0.047816  0.088733  0.095556  0.143455    0.040381  \n",
              "1  0.054683  0.132886  0.092978  0.107935    0.040792  \n",
              "2  0.035939  0.131698  0.120344  0.268805    0.044596  \n",
              "3  0.037768  0.210576  0.156784  0.182722    0.043440  \n",
              "4  0.046778  0.216615  0.112946  0.144860    0.046648  \n",
              "\n",
              "[5 rows x 29 columns]"
            ],
            "text/html": [
              "\n",
              "  <div id=\"df-cb7bab80-36fc-4eb6-ab28-50906d2b891d\">\n",
              "    <div class=\"colab-df-container\">\n",
              "      <div>\n",
              "<style scoped>\n",
              "    .dataframe tbody tr th:only-of-type {\n",
              "        vertical-align: middle;\n",
              "    }\n",
              "\n",
              "    .dataframe tbody tr th {\n",
              "        vertical-align: top;\n",
              "    }\n",
              "\n",
              "    .dataframe thead th {\n",
              "        text-align: right;\n",
              "    }\n",
              "</style>\n",
              "<table border=\"1\" class=\"dataframe\">\n",
              "  <thead>\n",
              "    <tr style=\"text-align: right;\">\n",
              "      <th></th>\n",
              "      <th>Filename</th>\n",
              "      <th>White Circle Patch</th>\n",
              "      <th>Contrast</th>\n",
              "      <th>Black Patch</th>\n",
              "      <th>Biffercation</th>\n",
              "      <th>Termination</th>\n",
              "      <th>CID</th>\n",
              "      <th>Class</th>\n",
              "      <th>OCL_STD</th>\n",
              "      <th>LCS_STD</th>\n",
              "      <th>...</th>\n",
              "      <th>LCS</th>\n",
              "      <th>OFL</th>\n",
              "      <th>FDA</th>\n",
              "      <th>GABOR</th>\n",
              "      <th>OCL_STD2</th>\n",
              "      <th>LCS_STD2</th>\n",
              "      <th>OFL_STD2</th>\n",
              "      <th>FDA_STD2</th>\n",
              "      <th>RVU_STD2</th>\n",
              "      <th>GABOR_STD2</th>\n",
              "    </tr>\n",
              "  </thead>\n",
              "  <tbody>\n",
              "    <tr>\n",
              "      <th>0</th>\n",
              "      <td>C:\\Users\\ASHUTOSH\\Downloads\\FingerPrint\\LivDet...</td>\n",
              "      <td>1033.0</td>\n",
              "      <td>0.192565</td>\n",
              "      <td>0.965358</td>\n",
              "      <td>419</td>\n",
              "      <td>223</td>\n",
              "      <td>107.718476</td>\n",
              "      <td>1</td>\n",
              "      <td>0.106709</td>\n",
              "      <td>0.166449</td>\n",
              "      <td>...</td>\n",
              "      <td>0.805730</td>\n",
              "      <td>0.827971</td>\n",
              "      <td>0.487488</td>\n",
              "      <td>1.404403</td>\n",
              "      <td>0.071551</td>\n",
              "      <td>0.047816</td>\n",
              "      <td>0.088733</td>\n",
              "      <td>0.095556</td>\n",
              "      <td>0.143455</td>\n",
              "      <td>0.040381</td>\n",
              "    </tr>\n",
              "    <tr>\n",
              "      <th>1</th>\n",
              "      <td>C:\\Users\\ASHUTOSH\\Downloads\\FingerPrint\\LivDet...</td>\n",
              "      <td>864.5</td>\n",
              "      <td>0.184950</td>\n",
              "      <td>0.967039</td>\n",
              "      <td>302</td>\n",
              "      <td>144</td>\n",
              "      <td>113.864787</td>\n",
              "      <td>1</td>\n",
              "      <td>0.094668</td>\n",
              "      <td>0.202578</td>\n",
              "      <td>...</td>\n",
              "      <td>0.789452</td>\n",
              "      <td>0.696368</td>\n",
              "      <td>0.502754</td>\n",
              "      <td>1.522737</td>\n",
              "      <td>0.069966</td>\n",
              "      <td>0.054683</td>\n",
              "      <td>0.132886</td>\n",
              "      <td>0.092978</td>\n",
              "      <td>0.107935</td>\n",
              "      <td>0.040792</td>\n",
              "    </tr>\n",
              "    <tr>\n",
              "      <th>2</th>\n",
              "      <td>C:\\Users\\ASHUTOSH\\Downloads\\FingerPrint\\LivDet...</td>\n",
              "      <td>1488.0</td>\n",
              "      <td>0.187642</td>\n",
              "      <td>0.966452</td>\n",
              "      <td>458</td>\n",
              "      <td>228</td>\n",
              "      <td>105.423684</td>\n",
              "      <td>1</td>\n",
              "      <td>0.111087</td>\n",
              "      <td>0.058595</td>\n",
              "      <td>...</td>\n",
              "      <td>0.820833</td>\n",
              "      <td>0.684265</td>\n",
              "      <td>0.484818</td>\n",
              "      <td>1.583170</td>\n",
              "      <td>0.076095</td>\n",
              "      <td>0.035939</td>\n",
              "      <td>0.131698</td>\n",
              "      <td>0.120344</td>\n",
              "      <td>0.268805</td>\n",
              "      <td>0.044596</td>\n",
              "    </tr>\n",
              "    <tr>\n",
              "      <th>3</th>\n",
              "      <td>C:\\Users\\ASHUTOSH\\Downloads\\FingerPrint\\LivDet...</td>\n",
              "      <td>1287.0</td>\n",
              "      <td>0.177059</td>\n",
              "      <td>0.969040</td>\n",
              "      <td>396</td>\n",
              "      <td>197</td>\n",
              "      <td>122.923574</td>\n",
              "      <td>1</td>\n",
              "      <td>0.096435</td>\n",
              "      <td>0.129141</td>\n",
              "      <td>...</td>\n",
              "      <td>0.812243</td>\n",
              "      <td>0.491710</td>\n",
              "      <td>0.448238</td>\n",
              "      <td>1.387128</td>\n",
              "      <td>0.054967</td>\n",
              "      <td>0.037768</td>\n",
              "      <td>0.210576</td>\n",
              "      <td>0.156784</td>\n",
              "      <td>0.182722</td>\n",
              "      <td>0.043440</td>\n",
              "    </tr>\n",
              "    <tr>\n",
              "      <th>4</th>\n",
              "      <td>C:\\Users\\ASHUTOSH\\Downloads\\FingerPrint\\LivDet...</td>\n",
              "      <td>1241.5</td>\n",
              "      <td>0.185612</td>\n",
              "      <td>0.966522</td>\n",
              "      <td>372</td>\n",
              "      <td>249</td>\n",
              "      <td>85.873036</td>\n",
              "      <td>1</td>\n",
              "      <td>0.098914</td>\n",
              "      <td>0.124638</td>\n",
              "      <td>...</td>\n",
              "      <td>0.832742</td>\n",
              "      <td>0.536342</td>\n",
              "      <td>0.462497</td>\n",
              "      <td>1.747025</td>\n",
              "      <td>0.079089</td>\n",
              "      <td>0.046778</td>\n",
              "      <td>0.216615</td>\n",
              "      <td>0.112946</td>\n",
              "      <td>0.144860</td>\n",
              "      <td>0.046648</td>\n",
              "    </tr>\n",
              "  </tbody>\n",
              "</table>\n",
              "<p>5 rows × 29 columns</p>\n",
              "</div>\n",
              "      <button class=\"colab-df-convert\" onclick=\"convertToInteractive('df-cb7bab80-36fc-4eb6-ab28-50906d2b891d')\"\n",
              "              title=\"Convert this dataframe to an interactive table.\"\n",
              "              style=\"display:none;\">\n",
              "        \n",
              "  <svg xmlns=\"http://www.w3.org/2000/svg\" height=\"24px\"viewBox=\"0 0 24 24\"\n",
              "       width=\"24px\">\n",
              "    <path d=\"M0 0h24v24H0V0z\" fill=\"none\"/>\n",
              "    <path d=\"M18.56 5.44l.94 2.06.94-2.06 2.06-.94-2.06-.94-.94-2.06-.94 2.06-2.06.94zm-11 1L8.5 8.5l.94-2.06 2.06-.94-2.06-.94L8.5 2.5l-.94 2.06-2.06.94zm10 10l.94 2.06.94-2.06 2.06-.94-2.06-.94-.94-2.06-.94 2.06-2.06.94z\"/><path d=\"M17.41 7.96l-1.37-1.37c-.4-.4-.92-.59-1.43-.59-.52 0-1.04.2-1.43.59L10.3 9.45l-7.72 7.72c-.78.78-.78 2.05 0 2.83L4 21.41c.39.39.9.59 1.41.59.51 0 1.02-.2 1.41-.59l7.78-7.78 2.81-2.81c.8-.78.8-2.07 0-2.86zM5.41 20L4 18.59l7.72-7.72 1.47 1.35L5.41 20z\"/>\n",
              "  </svg>\n",
              "      </button>\n",
              "      \n",
              "  <style>\n",
              "    .colab-df-container {\n",
              "      display:flex;\n",
              "      flex-wrap:wrap;\n",
              "      gap: 12px;\n",
              "    }\n",
              "\n",
              "    .colab-df-convert {\n",
              "      background-color: #E8F0FE;\n",
              "      border: none;\n",
              "      border-radius: 50%;\n",
              "      cursor: pointer;\n",
              "      display: none;\n",
              "      fill: #1967D2;\n",
              "      height: 32px;\n",
              "      padding: 0 0 0 0;\n",
              "      width: 32px;\n",
              "    }\n",
              "\n",
              "    .colab-df-convert:hover {\n",
              "      background-color: #E2EBFA;\n",
              "      box-shadow: 0px 1px 2px rgba(60, 64, 67, 0.3), 0px 1px 3px 1px rgba(60, 64, 67, 0.15);\n",
              "      fill: #174EA6;\n",
              "    }\n",
              "\n",
              "    [theme=dark] .colab-df-convert {\n",
              "      background-color: #3B4455;\n",
              "      fill: #D2E3FC;\n",
              "    }\n",
              "\n",
              "    [theme=dark] .colab-df-convert:hover {\n",
              "      background-color: #434B5C;\n",
              "      box-shadow: 0px 1px 3px 1px rgba(0, 0, 0, 0.15);\n",
              "      filter: drop-shadow(0px 1px 2px rgba(0, 0, 0, 0.3));\n",
              "      fill: #FFFFFF;\n",
              "    }\n",
              "  </style>\n",
              "\n",
              "      <script>\n",
              "        const buttonEl =\n",
              "          document.querySelector('#df-cb7bab80-36fc-4eb6-ab28-50906d2b891d button.colab-df-convert');\n",
              "        buttonEl.style.display =\n",
              "          google.colab.kernel.accessAllowed ? 'block' : 'none';\n",
              "\n",
              "        async function convertToInteractive(key) {\n",
              "          const element = document.querySelector('#df-cb7bab80-36fc-4eb6-ab28-50906d2b891d');\n",
              "          const dataTable =\n",
              "            await google.colab.kernel.invokeFunction('convertToInteractive',\n",
              "                                                     [key], {});\n",
              "          if (!dataTable) return;\n",
              "\n",
              "          const docLinkHtml = 'Like what you see? Visit the ' +\n",
              "            '<a target=\"_blank\" href=https://colab.research.google.com/notebooks/data_table.ipynb>data table notebook</a>'\n",
              "            + ' to learn more about interactive tables.';\n",
              "          element.innerHTML = '';\n",
              "          dataTable['output_type'] = 'display_data';\n",
              "          await google.colab.output.renderOutput(dataTable, element);\n",
              "          const docLink = document.createElement('div');\n",
              "          docLink.innerHTML = docLinkHtml;\n",
              "          element.appendChild(docLink);\n",
              "        }\n",
              "      </script>\n",
              "    </div>\n",
              "  </div>\n",
              "  "
            ]
          },
          "metadata": {},
          "execution_count": 78
        }
      ]
    },
    {
      "cell_type": "code",
      "source": [
        "target = 'Class'\n",
        "if \"Set\"  in train.columns:\n",
        "    train.drop([\"Set\"], axis = 1)\n",
        "train[\"Set\"] = \"train\"    \n",
        "train_indices = train[train.Set==\"train\"].index"
      ],
      "metadata": {
        "id": "SOHtvsFdrjzU"
      },
      "execution_count": 79,
      "outputs": []
    },
    {
      "cell_type": "code",
      "source": [
        "if \"Set\" in test.columns:\n",
        "  test.drop(['Set'], axis = 1)\n",
        "test[\"Set\"] = \"test\"\n",
        "test_indices = test[test.Set==\"test\"].index"
      ],
      "metadata": {
        "id": "xpkpmLqe1K6H"
      },
      "execution_count": 81,
      "outputs": []
    },
    {
      "cell_type": "code",
      "source": [
        "nunique = train.nunique()\n",
        "types = train.dtypes\n",
        "\n",
        "categorical_columns = []\n",
        "categorical_dims =  {}\n",
        "for col in train.columns:\n",
        "    if types[col] == 'object' or nunique[col] < 200:\n",
        "        print(col, train[col].nunique())\n",
        "        l_enc = LabelEncoder()\n",
        "        train[col] = train[col].fillna(\"VV_likely\")\n",
        "        train[col] = l_enc.fit_transform(train[col].values)\n",
        "        categorical_columns.append(col)\n",
        "        categorical_dims[col] = len(l_enc.classes_)\n",
        "    else:\n",
        "        train.fillna(train.loc[train_indices, col].mean(), inplace=True)"
      ],
      "metadata": {
        "colab": {
          "base_uri": "https://localhost:8080/"
        },
        "id": "z0J-nfTvtL4v",
        "outputId": "3b44f02e-f7b7-4898-8de5-50ed36b12b77"
      },
      "execution_count": 82,
      "outputs": [
        {
          "output_type": "stream",
          "name": "stdout",
          "text": [
            "Filename 1906\n",
            "Class 2\n",
            "Set 1\n"
          ]
        }
      ]
    },
    {
      "cell_type": "code",
      "source": [
        "train.head()"
      ],
      "metadata": {
        "colab": {
          "base_uri": "https://localhost:8080/",
          "height": 334
        },
        "id": "qrqwtfTGtNwc",
        "outputId": "729f2107-09c3-4432-a221-2884658cde05"
      },
      "execution_count": 83,
      "outputs": [
        {
          "output_type": "execute_result",
          "data": {
            "text/plain": [
              "   Filename  White Circle Patch  Contrast  Black Patch  Biffercation  \\\n",
              "0       953              1033.0  0.192565     0.965358           419   \n",
              "1       954               864.5  0.184950     0.967039           302   \n",
              "2       955              1488.0  0.187642     0.966452           458   \n",
              "3       956              1287.0  0.177059     0.969040           396   \n",
              "4       957              1241.5  0.185612     0.966522           372   \n",
              "\n",
              "   Termination         CID  Class   OCL_STD   LCS_STD  ...       OFL  \\\n",
              "0          223  107.718476      1  0.106709  0.166449  ...  0.827971   \n",
              "1          144  113.864787      1  0.094668  0.202578  ...  0.696368   \n",
              "2          228  105.423684      1  0.111087  0.058595  ...  0.684265   \n",
              "3          197  122.923574      1  0.096435  0.129141  ...  0.491710   \n",
              "4          249   85.873036      1  0.098914  0.124638  ...  0.536342   \n",
              "\n",
              "        FDA     GABOR  OCL_STD2  LCS_STD2  OFL_STD2  FDA_STD2  RVU_STD2  \\\n",
              "0  0.487488  1.404403  0.071551  0.047816  0.088733  0.095556  0.143455   \n",
              "1  0.502754  1.522737  0.069966  0.054683  0.132886  0.092978  0.107935   \n",
              "2  0.484818  1.583170  0.076095  0.035939  0.131698  0.120344  0.268805   \n",
              "3  0.448238  1.387128  0.054967  0.037768  0.210576  0.156784  0.182722   \n",
              "4  0.462497  1.747025  0.079089  0.046778  0.216615  0.112946  0.144860   \n",
              "\n",
              "   GABOR_STD2  Set  \n",
              "0    0.040381    0  \n",
              "1    0.040792    0  \n",
              "2    0.044596    0  \n",
              "3    0.043440    0  \n",
              "4    0.046648    0  \n",
              "\n",
              "[5 rows x 30 columns]"
            ],
            "text/html": [
              "\n",
              "  <div id=\"df-2fa42e91-9f6b-4a67-87af-a85065bac551\">\n",
              "    <div class=\"colab-df-container\">\n",
              "      <div>\n",
              "<style scoped>\n",
              "    .dataframe tbody tr th:only-of-type {\n",
              "        vertical-align: middle;\n",
              "    }\n",
              "\n",
              "    .dataframe tbody tr th {\n",
              "        vertical-align: top;\n",
              "    }\n",
              "\n",
              "    .dataframe thead th {\n",
              "        text-align: right;\n",
              "    }\n",
              "</style>\n",
              "<table border=\"1\" class=\"dataframe\">\n",
              "  <thead>\n",
              "    <tr style=\"text-align: right;\">\n",
              "      <th></th>\n",
              "      <th>Filename</th>\n",
              "      <th>White Circle Patch</th>\n",
              "      <th>Contrast</th>\n",
              "      <th>Black Patch</th>\n",
              "      <th>Biffercation</th>\n",
              "      <th>Termination</th>\n",
              "      <th>CID</th>\n",
              "      <th>Class</th>\n",
              "      <th>OCL_STD</th>\n",
              "      <th>LCS_STD</th>\n",
              "      <th>...</th>\n",
              "      <th>OFL</th>\n",
              "      <th>FDA</th>\n",
              "      <th>GABOR</th>\n",
              "      <th>OCL_STD2</th>\n",
              "      <th>LCS_STD2</th>\n",
              "      <th>OFL_STD2</th>\n",
              "      <th>FDA_STD2</th>\n",
              "      <th>RVU_STD2</th>\n",
              "      <th>GABOR_STD2</th>\n",
              "      <th>Set</th>\n",
              "    </tr>\n",
              "  </thead>\n",
              "  <tbody>\n",
              "    <tr>\n",
              "      <th>0</th>\n",
              "      <td>953</td>\n",
              "      <td>1033.0</td>\n",
              "      <td>0.192565</td>\n",
              "      <td>0.965358</td>\n",
              "      <td>419</td>\n",
              "      <td>223</td>\n",
              "      <td>107.718476</td>\n",
              "      <td>1</td>\n",
              "      <td>0.106709</td>\n",
              "      <td>0.166449</td>\n",
              "      <td>...</td>\n",
              "      <td>0.827971</td>\n",
              "      <td>0.487488</td>\n",
              "      <td>1.404403</td>\n",
              "      <td>0.071551</td>\n",
              "      <td>0.047816</td>\n",
              "      <td>0.088733</td>\n",
              "      <td>0.095556</td>\n",
              "      <td>0.143455</td>\n",
              "      <td>0.040381</td>\n",
              "      <td>0</td>\n",
              "    </tr>\n",
              "    <tr>\n",
              "      <th>1</th>\n",
              "      <td>954</td>\n",
              "      <td>864.5</td>\n",
              "      <td>0.184950</td>\n",
              "      <td>0.967039</td>\n",
              "      <td>302</td>\n",
              "      <td>144</td>\n",
              "      <td>113.864787</td>\n",
              "      <td>1</td>\n",
              "      <td>0.094668</td>\n",
              "      <td>0.202578</td>\n",
              "      <td>...</td>\n",
              "      <td>0.696368</td>\n",
              "      <td>0.502754</td>\n",
              "      <td>1.522737</td>\n",
              "      <td>0.069966</td>\n",
              "      <td>0.054683</td>\n",
              "      <td>0.132886</td>\n",
              "      <td>0.092978</td>\n",
              "      <td>0.107935</td>\n",
              "      <td>0.040792</td>\n",
              "      <td>0</td>\n",
              "    </tr>\n",
              "    <tr>\n",
              "      <th>2</th>\n",
              "      <td>955</td>\n",
              "      <td>1488.0</td>\n",
              "      <td>0.187642</td>\n",
              "      <td>0.966452</td>\n",
              "      <td>458</td>\n",
              "      <td>228</td>\n",
              "      <td>105.423684</td>\n",
              "      <td>1</td>\n",
              "      <td>0.111087</td>\n",
              "      <td>0.058595</td>\n",
              "      <td>...</td>\n",
              "      <td>0.684265</td>\n",
              "      <td>0.484818</td>\n",
              "      <td>1.583170</td>\n",
              "      <td>0.076095</td>\n",
              "      <td>0.035939</td>\n",
              "      <td>0.131698</td>\n",
              "      <td>0.120344</td>\n",
              "      <td>0.268805</td>\n",
              "      <td>0.044596</td>\n",
              "      <td>0</td>\n",
              "    </tr>\n",
              "    <tr>\n",
              "      <th>3</th>\n",
              "      <td>956</td>\n",
              "      <td>1287.0</td>\n",
              "      <td>0.177059</td>\n",
              "      <td>0.969040</td>\n",
              "      <td>396</td>\n",
              "      <td>197</td>\n",
              "      <td>122.923574</td>\n",
              "      <td>1</td>\n",
              "      <td>0.096435</td>\n",
              "      <td>0.129141</td>\n",
              "      <td>...</td>\n",
              "      <td>0.491710</td>\n",
              "      <td>0.448238</td>\n",
              "      <td>1.387128</td>\n",
              "      <td>0.054967</td>\n",
              "      <td>0.037768</td>\n",
              "      <td>0.210576</td>\n",
              "      <td>0.156784</td>\n",
              "      <td>0.182722</td>\n",
              "      <td>0.043440</td>\n",
              "      <td>0</td>\n",
              "    </tr>\n",
              "    <tr>\n",
              "      <th>4</th>\n",
              "      <td>957</td>\n",
              "      <td>1241.5</td>\n",
              "      <td>0.185612</td>\n",
              "      <td>0.966522</td>\n",
              "      <td>372</td>\n",
              "      <td>249</td>\n",
              "      <td>85.873036</td>\n",
              "      <td>1</td>\n",
              "      <td>0.098914</td>\n",
              "      <td>0.124638</td>\n",
              "      <td>...</td>\n",
              "      <td>0.536342</td>\n",
              "      <td>0.462497</td>\n",
              "      <td>1.747025</td>\n",
              "      <td>0.079089</td>\n",
              "      <td>0.046778</td>\n",
              "      <td>0.216615</td>\n",
              "      <td>0.112946</td>\n",
              "      <td>0.144860</td>\n",
              "      <td>0.046648</td>\n",
              "      <td>0</td>\n",
              "    </tr>\n",
              "  </tbody>\n",
              "</table>\n",
              "<p>5 rows × 30 columns</p>\n",
              "</div>\n",
              "      <button class=\"colab-df-convert\" onclick=\"convertToInteractive('df-2fa42e91-9f6b-4a67-87af-a85065bac551')\"\n",
              "              title=\"Convert this dataframe to an interactive table.\"\n",
              "              style=\"display:none;\">\n",
              "        \n",
              "  <svg xmlns=\"http://www.w3.org/2000/svg\" height=\"24px\"viewBox=\"0 0 24 24\"\n",
              "       width=\"24px\">\n",
              "    <path d=\"M0 0h24v24H0V0z\" fill=\"none\"/>\n",
              "    <path d=\"M18.56 5.44l.94 2.06.94-2.06 2.06-.94-2.06-.94-.94-2.06-.94 2.06-2.06.94zm-11 1L8.5 8.5l.94-2.06 2.06-.94-2.06-.94L8.5 2.5l-.94 2.06-2.06.94zm10 10l.94 2.06.94-2.06 2.06-.94-2.06-.94-.94-2.06-.94 2.06-2.06.94z\"/><path d=\"M17.41 7.96l-1.37-1.37c-.4-.4-.92-.59-1.43-.59-.52 0-1.04.2-1.43.59L10.3 9.45l-7.72 7.72c-.78.78-.78 2.05 0 2.83L4 21.41c.39.39.9.59 1.41.59.51 0 1.02-.2 1.41-.59l7.78-7.78 2.81-2.81c.8-.78.8-2.07 0-2.86zM5.41 20L4 18.59l7.72-7.72 1.47 1.35L5.41 20z\"/>\n",
              "  </svg>\n",
              "      </button>\n",
              "      \n",
              "  <style>\n",
              "    .colab-df-container {\n",
              "      display:flex;\n",
              "      flex-wrap:wrap;\n",
              "      gap: 12px;\n",
              "    }\n",
              "\n",
              "    .colab-df-convert {\n",
              "      background-color: #E8F0FE;\n",
              "      border: none;\n",
              "      border-radius: 50%;\n",
              "      cursor: pointer;\n",
              "      display: none;\n",
              "      fill: #1967D2;\n",
              "      height: 32px;\n",
              "      padding: 0 0 0 0;\n",
              "      width: 32px;\n",
              "    }\n",
              "\n",
              "    .colab-df-convert:hover {\n",
              "      background-color: #E2EBFA;\n",
              "      box-shadow: 0px 1px 2px rgba(60, 64, 67, 0.3), 0px 1px 3px 1px rgba(60, 64, 67, 0.15);\n",
              "      fill: #174EA6;\n",
              "    }\n",
              "\n",
              "    [theme=dark] .colab-df-convert {\n",
              "      background-color: #3B4455;\n",
              "      fill: #D2E3FC;\n",
              "    }\n",
              "\n",
              "    [theme=dark] .colab-df-convert:hover {\n",
              "      background-color: #434B5C;\n",
              "      box-shadow: 0px 1px 3px 1px rgba(0, 0, 0, 0.15);\n",
              "      filter: drop-shadow(0px 1px 2px rgba(0, 0, 0, 0.3));\n",
              "      fill: #FFFFFF;\n",
              "    }\n",
              "  </style>\n",
              "\n",
              "      <script>\n",
              "        const buttonEl =\n",
              "          document.querySelector('#df-2fa42e91-9f6b-4a67-87af-a85065bac551 button.colab-df-convert');\n",
              "        buttonEl.style.display =\n",
              "          google.colab.kernel.accessAllowed ? 'block' : 'none';\n",
              "\n",
              "        async function convertToInteractive(key) {\n",
              "          const element = document.querySelector('#df-2fa42e91-9f6b-4a67-87af-a85065bac551');\n",
              "          const dataTable =\n",
              "            await google.colab.kernel.invokeFunction('convertToInteractive',\n",
              "                                                     [key], {});\n",
              "          if (!dataTable) return;\n",
              "\n",
              "          const docLinkHtml = 'Like what you see? Visit the ' +\n",
              "            '<a target=\"_blank\" href=https://colab.research.google.com/notebooks/data_table.ipynb>data table notebook</a>'\n",
              "            + ' to learn more about interactive tables.';\n",
              "          element.innerHTML = '';\n",
              "          dataTable['output_type'] = 'display_data';\n",
              "          await google.colab.output.renderOutput(dataTable, element);\n",
              "          const docLink = document.createElement('div');\n",
              "          docLink.innerHTML = docLinkHtml;\n",
              "          element.appendChild(docLink);\n",
              "        }\n",
              "      </script>\n",
              "    </div>\n",
              "  </div>\n",
              "  "
            ]
          },
          "metadata": {},
          "execution_count": 83
        }
      ]
    },
    {
      "cell_type": "code",
      "source": [
        "nunique = test.nunique()\n",
        "types = test.dtypes\n",
        "for col in test.columns:\n",
        "    if types[col] == 'object' or nunique[col] < 200:\n",
        "        print(col, test[col].nunique())\n",
        "        l_enc = LabelEncoder()\n",
        "        test[col] = test[col].fillna(\"VV_likely\")\n",
        "        test[col] = l_enc.fit_transform(test[col].values)\n",
        "        categorical_columns.append(col)\n",
        "        categorical_dims[col] = len(l_enc.classes_)\n",
        "    else:\n",
        "        test.fillna(test.loc[test_indices, col].mean(), inplace=True)"
      ],
      "metadata": {
        "colab": {
          "base_uri": "https://localhost:8080/"
        },
        "id": "merYqaRh1xVs",
        "outputId": "09671147-c0d2-485c-90a7-5b6b38e8bfad"
      },
      "execution_count": 84,
      "outputs": [
        {
          "output_type": "stream",
          "name": "stdout",
          "text": [
            "Filename 2391\n",
            "Class 2\n",
            "Set 1\n"
          ]
        }
      ]
    },
    {
      "cell_type": "code",
      "source": [
        "train.loc[train[target]==0, target] = \"classZero\"\n",
        "train.loc[train[target]==1, target] = \"classOne\"\n",
        "test.loc[test[target]==0, target] = \"classZero\"\n",
        "test.loc[test[target]==1, target] = \"classOne\""
      ],
      "metadata": {
        "id": "7we2KydSte9E"
      },
      "execution_count": 85,
      "outputs": []
    },
    {
      "cell_type": "code",
      "source": [
        "unused_feat = ['Set']\n",
        "\n",
        "features = [ col for col in train.columns if col not in unused_feat+[target]] \n",
        "\n",
        "cat_idxs = [ i for i, f in enumerate(features) if f in categorical_columns]\n",
        "\n",
        "cat_dims = [ categorical_dims[f] for i, f in enumerate(features) if f in categorical_columns]"
      ],
      "metadata": {
        "id": "nRYcwNaww3qt"
      },
      "execution_count": 89,
      "outputs": []
    },
    {
      "cell_type": "code",
      "source": [
        "tabnet_params = {\"cat_idxs\":cat_idxs,\n",
        "                 \"cat_dims\":cat_dims,\n",
        "                 \"cat_emb_dim\":1,\n",
        "                 \"optimizer_fn\":torch.optim.Adam,\n",
        "                 \"optimizer_params\":dict(lr=2e-2),\n",
        "                 \"scheduler_params\":{\"step_size\":50, # how to use learning rate scheduler\n",
        "                                 \"gamma\":0.9},\n",
        "                 \"scheduler_fn\":torch.optim.lr_scheduler.StepLR,\n",
        "                 \"mask_type\":'entmax' # \"sparsemax\"\n",
        "                }\n",
        "\n",
        "clf = TabNetClassifier(**tabnet_params\n",
        "                      )"
      ],
      "metadata": {
        "colab": {
          "base_uri": "https://localhost:8080/"
        },
        "id": "Z4g5C-Rg2LtI",
        "outputId": "677b7dad-24ee-4abd-a607-a44067096371"
      },
      "execution_count": 90,
      "outputs": [
        {
          "output_type": "stream",
          "name": "stdout",
          "text": [
            "Device used : cpu\n"
          ]
        }
      ]
    },
    {
      "cell_type": "code",
      "source": [
        "X_train = train[features].values[train_indices]\n",
        "y_train = train[target].values[train_indices]\n",
        "\n",
        "X_test = test[features].values[test_indices]\n",
        "y_test = test[target].values[test_indices]\n"
      ],
      "metadata": {
        "id": "AV1Zy6zd2_Nk"
      },
      "execution_count": 91,
      "outputs": []
    },
    {
      "cell_type": "code",
      "source": [
        "X_train[0]"
      ],
      "metadata": {
        "colab": {
          "base_uri": "https://localhost:8080/"
        },
        "id": "E7C_d8owLLn6",
        "outputId": "12f73d3f-7ee2-44f8-bafa-bd311bcf2e0e"
      },
      "execution_count": 92,
      "outputs": [
        {
          "output_type": "execute_result",
          "data": {
            "text/plain": [
              "array([9.53000000e+02, 1.03300000e+03, 1.92564745e-01, 9.65358153e-01,\n",
              "       4.19000000e+02, 2.23000000e+02, 1.07718476e+02, 1.06709268e-01,\n",
              "       1.66449291e-01, 2.36124351e-01, 3.84674254e+03, 1.76037291e-01,\n",
              "       3.53598044e-01, 9.82517729e-01, 9.69387755e-01, 8.84407064e+01,\n",
              "       1.77051122e+02, 7.10952231e-01, 8.05729733e-01, 8.27971101e-01,\n",
              "       4.87488476e-01, 1.40440324e+00, 7.15508270e-02, 4.78157540e-02,\n",
              "       8.87332410e-02, 9.55558720e-02, 1.43454731e-01, 4.03807280e-02])"
            ]
          },
          "metadata": {},
          "execution_count": 92
        }
      ]
    },
    {
      "cell_type": "code",
      "source": [
        "max_epochs = 50 if not os.getenv(\"CI\", False) else 2"
      ],
      "metadata": {
        "id": "KaM5yMDF3HFK"
      },
      "execution_count": 93,
      "outputs": []
    },
    {
      "cell_type": "code",
      "source": [
        "save_history = []\n",
        "for _ in range(2):\n",
        "    clf.fit(\n",
        "        X_train=X_train, y_train=y_train,\n",
        "        eval_set=[(X_train, y_train), (X_valid, y_valid)],\n",
        "        eval_name=['train', 'valid'],\n",
        "        eval_metric=['auc'],\n",
        "        max_epochs=max_epochs , patience=20,\n",
        "        batch_size=1024, virtual_batch_size=128,\n",
        "        num_workers=0,\n",
        "        weights=1,\n",
        "        drop_last=False,\n",
        "        #aug, None\n",
        "    )\n",
        "    save_history.append(clf.history[\"valid_auc\"])"
      ],
      "metadata": {
        "colab": {
          "base_uri": "https://localhost:8080/"
        },
        "id": "bMdIJzCv3QvZ",
        "outputId": "01b05133-4819-47f2-e082-4eb84e945fae"
      },
      "execution_count": 94,
      "outputs": [
        {
          "output_type": "stream",
          "name": "stdout",
          "text": [
            "epoch 0  | loss: 1.31212 | train_auc: 0.5142  | valid_auc: 0.53915 |  0:00:00s\n",
            "epoch 1  | loss: 0.84924 | train_auc: 0.47908 | valid_auc: 0.45503 |  0:00:00s\n",
            "epoch 2  | loss: 0.70762 | train_auc: 0.46864 | valid_auc: 0.48081 |  0:00:00s\n",
            "epoch 3  | loss: 0.64676 | train_auc: 0.47393 | valid_auc: 0.5092  |  0:00:00s\n",
            "epoch 4  | loss: 0.62041 | train_auc: 0.50886 | valid_auc: 0.49032 |  0:00:00s\n",
            "epoch 5  | loss: 0.60726 | train_auc: 0.48362 | valid_auc: 0.518   |  0:00:00s\n",
            "epoch 6  | loss: 0.5615  | train_auc: 0.49056 | valid_auc: 0.50297 |  0:00:01s\n",
            "epoch 7  | loss: 0.52901 | train_auc: 0.51956 | valid_auc: 0.50106 |  0:00:01s\n",
            "epoch 8  | loss: 0.50438 | train_auc: 0.57071 | valid_auc: 0.58188 |  0:00:01s\n",
            "epoch 9  | loss: 0.46602 | train_auc: 0.65547 | valid_auc: 0.67756 |  0:00:01s\n",
            "epoch 10 | loss: 0.42877 | train_auc: 0.68687 | valid_auc: 0.70775 |  0:00:01s\n",
            "epoch 11 | loss: 0.40394 | train_auc: 0.65451 | valid_auc: 0.64514 |  0:00:01s\n",
            "epoch 12 | loss: 0.37459 | train_auc: 0.59005 | valid_auc: 0.59349 |  0:00:02s\n",
            "epoch 13 | loss: 0.35653 | train_auc: 0.53996 | valid_auc: 0.50501 |  0:00:02s\n",
            "epoch 14 | loss: 0.32051 | train_auc: 0.51603 | valid_auc: 0.49087 |  0:00:02s\n",
            "epoch 15 | loss: 0.32728 | train_auc: 0.4877  | valid_auc: 0.46359 |  0:00:02s\n",
            "epoch 16 | loss: 0.30218 | train_auc: 0.4684  | valid_auc: 0.43701 |  0:00:02s\n",
            "epoch 17 | loss: 0.27621 | train_auc: 0.48631 | valid_auc: 0.48723 |  0:00:02s\n",
            "epoch 18 | loss: 0.27022 | train_auc: 0.52489 | valid_auc: 0.53435 |  0:00:03s\n",
            "epoch 19 | loss: 0.24044 | train_auc: 0.53988 | valid_auc: 0.54858 |  0:00:03s\n",
            "epoch 20 | loss: 0.24009 | train_auc: 0.55819 | valid_auc: 0.57204 |  0:00:03s\n",
            "epoch 21 | loss: 0.24219 | train_auc: 0.58409 | valid_auc: 0.59721 |  0:00:03s\n",
            "epoch 22 | loss: 0.22137 | train_auc: 0.59286 | valid_auc: 0.59979 |  0:00:03s\n",
            "epoch 23 | loss: 0.24396 | train_auc: 0.59319 | valid_auc: 0.59432 |  0:00:03s\n",
            "epoch 24 | loss: 0.22187 | train_auc: 0.58645 | valid_auc: 0.58602 |  0:00:03s\n",
            "epoch 25 | loss: 0.20593 | train_auc: 0.59894 | valid_auc: 0.6013  |  0:00:04s\n",
            "epoch 26 | loss: 0.1931  | train_auc: 0.62646 | valid_auc: 0.62331 |  0:00:04s\n",
            "epoch 27 | loss: 0.19707 | train_auc: 0.58736 | valid_auc: 0.59951 |  0:00:04s\n",
            "epoch 28 | loss: 0.20025 | train_auc: 0.57218 | valid_auc: 0.56892 |  0:00:04s\n",
            "epoch 29 | loss: 0.22183 | train_auc: 0.59735 | valid_auc: 0.59288 |  0:00:04s\n",
            "epoch 30 | loss: 0.16244 | train_auc: 0.5898  | valid_auc: 0.58105 |  0:00:04s\n",
            "\n",
            "Early stopping occurred at epoch 30 with best_epoch = 10 and best_valid_auc = 0.70775\n",
            "Best weights from best epoch are automatically used!\n",
            "epoch 0  | loss: 0.39859 | train_auc: 0.62007 | valid_auc: 0.62701 |  0:00:00s\n",
            "epoch 1  | loss: 0.3636  | train_auc: 0.51917 | valid_auc: 0.50214 |  0:00:00s\n",
            "epoch 2  | loss: 0.36344 | train_auc: 0.52833 | valid_auc: 0.50646 |  0:00:00s\n",
            "epoch 3  | loss: 0.30141 | train_auc: 0.53313 | valid_auc: 0.50392 |  0:00:00s\n",
            "epoch 4  | loss: 0.29012 | train_auc: 0.54276 | valid_auc: 0.51731 |  0:00:00s\n",
            "epoch 5  | loss: 0.25859 | train_auc: 0.52109 | valid_auc: 0.50445 |  0:00:00s\n",
            "epoch 6  | loss: 0.26021 | train_auc: 0.53585 | valid_auc: 0.51045 |  0:00:01s\n",
            "epoch 7  | loss: 0.24776 | train_auc: 0.55433 | valid_auc: 0.56357 |  0:00:01s\n",
            "epoch 8  | loss: 0.26059 | train_auc: 0.5682  | valid_auc: 0.57021 |  0:00:01s\n",
            "epoch 9  | loss: 0.23693 | train_auc: 0.56135 | valid_auc: 0.57444 |  0:00:01s\n",
            "epoch 10 | loss: 0.21131 | train_auc: 0.49225 | valid_auc: 0.51203 |  0:00:01s\n",
            "epoch 11 | loss: 0.22255 | train_auc: 0.37694 | valid_auc: 0.35375 |  0:00:01s\n",
            "epoch 12 | loss: 0.18048 | train_auc: 0.3428  | valid_auc: 0.32834 |  0:00:02s\n",
            "epoch 13 | loss: 0.17881 | train_auc: 0.28115 | valid_auc: 0.26177 |  0:00:02s\n",
            "epoch 14 | loss: 0.17632 | train_auc: 0.27702 | valid_auc: 0.25134 |  0:00:02s\n",
            "epoch 15 | loss: 0.18141 | train_auc: 0.2861  | valid_auc: 0.25864 |  0:00:02s\n",
            "epoch 16 | loss: 0.19184 | train_auc: 0.33087 | valid_auc: 0.2933  |  0:00:02s\n",
            "epoch 17 | loss: 0.17589 | train_auc: 0.32239 | valid_auc: 0.28332 |  0:00:02s\n",
            "epoch 18 | loss: 0.1531  | train_auc: 0.31866 | valid_auc: 0.30394 |  0:00:02s\n",
            "epoch 19 | loss: 0.15203 | train_auc: 0.33492 | valid_auc: 0.31438 |  0:00:03s\n",
            "epoch 20 | loss: 0.16251 | train_auc: 0.3739  | valid_auc: 0.37935 |  0:00:03s\n",
            "\n",
            "Early stopping occurred at epoch 20 with best_epoch = 0 and best_valid_auc = 0.62701\n",
            "Best weights from best epoch are automatically used!\n"
          ]
        }
      ]
    },
    {
      "cell_type": "code",
      "source": [
        "plt.plot(clf.history['loss'])"
      ],
      "metadata": {
        "colab": {
          "base_uri": "https://localhost:8080/",
          "height": 282
        },
        "id": "-j1jSKYa3Rrr",
        "outputId": "ed4f331f-66df-4d9e-c15d-ca026263f0af"
      },
      "execution_count": 95,
      "outputs": [
        {
          "output_type": "execute_result",
          "data": {
            "text/plain": [
              "[<matplotlib.lines.Line2D at 0x7f326561e3d0>]"
            ]
          },
          "metadata": {},
          "execution_count": 95
        },
        {
          "output_type": "display_data",
          "data": {
            "text/plain": [
              "<Figure size 432x288 with 1 Axes>"
            ],
            "image/png": "[encoded data removed]"
          },
          "metadata": {
            "needs_background": "light"
          }
        }
      ]
    },
    {
      "cell_type": "code",
      "source": [
        "plt.plot(clf.history['train_auc'])\n",
        "plt.plot(clf.history['valid_auc'])"
      ],
      "metadata": {
        "colab": {
          "base_uri": "https://localhost:8080/",
          "height": 282
        },
        "id": "hjAQ0bH338_t",
        "outputId": "97a150b8-14a8-4b24-85fe-af9574928412"
      },
      "execution_count": 96,
      "outputs": [
        {
          "output_type": "execute_result",
          "data": {
            "text/plain": [
              "[<matplotlib.lines.Line2D at 0x7f32657f6dd0>]"
            ]
          },
          "metadata": {},
          "execution_count": 96
        },
        {
          "output_type": "display_data",
          "data": {
            "text/plain": [
              "<Figure size 432x288 with 1 Axes>"
            ],
            "image/png": "[encoded data removed]"
          },
          "metadata": {
            "needs_background": "light"
          }
        }
      ]
    },
    {
      "cell_type": "code",
      "source": [
        "plt.plot(clf.history['lr'])"
      ],
      "metadata": {
        "colab": {
          "base_uri": "https://localhost:8080/",
          "height": 282
        },
        "id": "T-oDi1HE4X_f",
        "outputId": "b3da818a-d8c8-41ba-a925-67eb6c15263b"
      },
      "execution_count": 97,
      "outputs": [
        {
          "output_type": "execute_result",
          "data": {
            "text/plain": [
              "[<matplotlib.lines.Line2D at 0x7f32650c0650>]"
            ]
          },
          "metadata": {},
          "execution_count": 97
        },
        {
          "output_type": "display_data",
          "data": {
            "text/plain": [
              "<Figure size 432x288 with 1 Axes>"
            ],
            "image/png": "[encoded data removed]"
          },
          "metadata": {
            "needs_background": "light"
          }
        }
      ]
    },
    {
      "cell_type": "code",
      "source": [
        "target = 'Class'"
      ],
      "metadata": {
        "id": "DzYykAYH4a3w"
      },
      "execution_count": 98,
      "outputs": []
    },
    {
      "cell_type": "code",
      "source": [],
      "metadata": {
        "id": "25CsWk8u40Wy"
      },
      "execution_count": null,
      "outputs": []
    },
    {
      "cell_type": "code",
      "source": [
        "test_indices"
      ],
      "metadata": {
        "colab": {
          "base_uri": "https://localhost:8080/"
        },
        "id": "KcQZybaaG3jn",
        "outputId": "690e776d-5547-4bf5-e65b-ea46c2493d60"
      },
      "execution_count": 99,
      "outputs": [
        {
          "output_type": "execute_result",
          "data": {
            "text/plain": [
              "Int64Index([   0,    1,    2,    3,    4,    5,    6,    7,    8,    9,\n",
              "            ...\n",
              "            2381, 2382, 2383, 2384, 2385, 2386, 2387, 2388, 2389, 2390],\n",
              "           dtype='int64', length=2391)"
            ]
          },
          "metadata": {},
          "execution_count": 99
        }
      ]
    },
    {
      "cell_type": "code",
      "source": [
        "test.head()"
      ],
      "metadata": {
        "colab": {
          "base_uri": "https://localhost:8080/",
          "height": 334
        },
        "id": "uKZQCZUB5TKL",
        "outputId": "9d466469-c40c-4840-e317-dd8f44f57765"
      },
      "execution_count": 100,
      "outputs": [
        {
          "output_type": "execute_result",
          "data": {
            "text/plain": [
              "   Filename  White Circle Patch  Contrast  Black Patch  Biffercation  \\\n",
              "0      1430              1247.5  0.180888     0.970647           662   \n",
              "1      1431              9068.5  0.171969     0.972397           751   \n",
              "2      1432              2391.0  0.185029     0.969472           869   \n",
              "3      1433              2844.0  0.163861     0.975126          1252   \n",
              "4      1434              2188.5  0.176749     0.970335           842   \n",
              "\n",
              "   Termination        CID     Class   OCL_STD   LCS_STD  ...       OFL  \\\n",
              "0          561  78.533838  classOne  0.088992  0.159958  ...  0.773165   \n",
              "1          579  81.857239  classOne  0.126087  0.183584  ...  0.589470   \n",
              "2          548  80.215418  classOne  0.100562  0.209148  ...  0.581448   \n",
              "3          619  26.679455  classOne  0.101059  0.309550  ...  0.696221   \n",
              "4          510  78.065596  classOne  0.121961  0.209846  ...  0.594424   \n",
              "\n",
              "        FDA     GABOR  OCL_STD2  LCS_STD2  OFL_STD2  FDA_STD2  RVU_STD2  \\\n",
              "0  0.428583  1.196166  0.074062  0.078522  0.128689  0.069774  0.279889   \n",
              "1  0.420638  1.365218  0.098366  0.093950  0.189146  0.091914  0.137530   \n",
              "2  0.424211  1.336425  0.069207  0.206090  0.168276  0.133136  0.237812   \n",
              "3  0.425945  1.067160  0.080500  0.302677  0.165879  0.222617  0.340390   \n",
              "4  0.461999  1.323560  0.085743  0.139873  0.207683  0.142900  0.387912   \n",
              "\n",
              "   GABOR_STD2  Set  \n",
              "0    0.044990    0  \n",
              "1    0.048323    0  \n",
              "2    0.049219    0  \n",
              "3    0.043068    0  \n",
              "4    0.045935    0  \n",
              "\n",
              "[5 rows x 30 columns]"
            ],
            "text/html": [
              "\n",
              "  <div id=\"df-f199213e-d1d0-4c9d-b840-cab23718651b\">\n",
              "    <div class=\"colab-df-container\">\n",
              "      <div>\n",
              "<style scoped>\n",
              "    .dataframe tbody tr th:only-of-type {\n",
              "        vertical-align: middle;\n",
              "    }\n",
              "\n",
              "    .dataframe tbody tr th {\n",
              "        vertical-align: top;\n",
              "    }\n",
              "\n",
              "    .dataframe thead th {\n",
              "        text-align: right;\n",
              "    }\n",
              "</style>\n",
              "<table border=\"1\" class=\"dataframe\">\n",
              "  <thead>\n",
              "    <tr style=\"text-align: right;\">\n",
              "      <th></th>\n",
              "      <th>Filename</th>\n",
              "      <th>White Circle Patch</th>\n",
              "      <th>Contrast</th>\n",
              "      <th>Black Patch</th>\n",
              "      <th>Biffercation</th>\n",
              "      <th>Termination</th>\n",
              "      <th>CID</th>\n",
              "      <th>Class</th>\n",
              "      <th>OCL_STD</th>\n",
              "      <th>LCS_STD</th>\n",
              "      <th>...</th>\n",
              "      <th>OFL</th>\n",
              "      <th>FDA</th>\n",
              "      <th>GABOR</th>\n",
              "      <th>OCL_STD2</th>\n",
              "      <th>LCS_STD2</th>\n",
              "      <th>OFL_STD2</th>\n",
              "      <th>FDA_STD2</th>\n",
              "      <th>RVU_STD2</th>\n",
              "      <th>GABOR_STD2</th>\n",
              "      <th>Set</th>\n",
              "    </tr>\n",
              "  </thead>\n",
              "  <tbody>\n",
              "    <tr>\n",
              "      <th>0</th>\n",
              "      <td>1430</td>\n",
              "      <td>1247.5</td>\n",
              "      <td>0.180888</td>\n",
              "      <td>0.970647</td>\n",
              "      <td>662</td>\n",
              "      <td>561</td>\n",
              "      <td>78.533838</td>\n",
              "      <td>classOne</td>\n",
              "      <td>0.088992</td>\n",
              "      <td>0.159958</td>\n",
              "      <td>...</td>\n",
              "      <td>0.773165</td>\n",
              "      <td>0.428583</td>\n",
              "      <td>1.196166</td>\n",
              "      <td>0.074062</td>\n",
              "      <td>0.078522</td>\n",
              "      <td>0.128689</td>\n",
              "      <td>0.069774</td>\n",
              "      <td>0.279889</td>\n",
              "      <td>0.044990</td>\n",
              "      <td>0</td>\n",
              "    </tr>\n",
              "    <tr>\n",
              "      <th>1</th>\n",
              "      <td>1431</td>\n",
              "      <td>9068.5</td>\n",
              "      <td>0.171969</td>\n",
              "      <td>0.972397</td>\n",
              "      <td>751</td>\n",
              "      <td>579</td>\n",
              "      <td>81.857239</td>\n",
              "      <td>classOne</td>\n",
              "      <td>0.126087</td>\n",
              "      <td>0.183584</td>\n",
              "      <td>...</td>\n",
              "      <td>0.589470</td>\n",
              "      <td>0.420638</td>\n",
              "      <td>1.365218</td>\n",
              "      <td>0.098366</td>\n",
              "      <td>0.093950</td>\n",
              "      <td>0.189146</td>\n",
              "      <td>0.091914</td>\n",
              "      <td>0.137530</td>\n",
              "      <td>0.048323</td>\n",
              "      <td>0</td>\n",
              "    </tr>\n",
              "    <tr>\n",
              "      <th>2</th>\n",
              "      <td>1432</td>\n",
              "      <td>2391.0</td>\n",
              "      <td>0.185029</td>\n",
              "      <td>0.969472</td>\n",
              "      <td>869</td>\n",
              "      <td>548</td>\n",
              "      <td>80.215418</td>\n",
              "      <td>classOne</td>\n",
              "      <td>0.100562</td>\n",
              "      <td>0.209148</td>\n",
              "      <td>...</td>\n",
              "      <td>0.581448</td>\n",
              "      <td>0.424211</td>\n",
              "      <td>1.336425</td>\n",
              "      <td>0.069207</td>\n",
              "      <td>0.206090</td>\n",
              "      <td>0.168276</td>\n",
              "      <td>0.133136</td>\n",
              "      <td>0.237812</td>\n",
              "      <td>0.049219</td>\n",
              "      <td>0</td>\n",
              "    </tr>\n",
              "    <tr>\n",
              "      <th>3</th>\n",
              "      <td>1433</td>\n",
              "      <td>2844.0</td>\n",
              "      <td>0.163861</td>\n",
              "      <td>0.975126</td>\n",
              "      <td>1252</td>\n",
              "      <td>619</td>\n",
              "      <td>26.679455</td>\n",
              "      <td>classOne</td>\n",
              "      <td>0.101059</td>\n",
              "      <td>0.309550</td>\n",
              "      <td>...</td>\n",
              "      <td>0.696221</td>\n",
              "      <td>0.425945</td>\n",
              "      <td>1.067160</td>\n",
              "      <td>0.080500</td>\n",
              "      <td>0.302677</td>\n",
              "      <td>0.165879</td>\n",
              "      <td>0.222617</td>\n",
              "      <td>0.340390</td>\n",
              "      <td>0.043068</td>\n",
              "      <td>0</td>\n",
              "    </tr>\n",
              "    <tr>\n",
              "      <th>4</th>\n",
              "      <td>1434</td>\n",
              "      <td>2188.5</td>\n",
              "      <td>0.176749</td>\n",
              "      <td>0.970335</td>\n",
              "      <td>842</td>\n",
              "      <td>510</td>\n",
              "      <td>78.065596</td>\n",
              "      <td>classOne</td>\n",
              "      <td>0.121961</td>\n",
              "      <td>0.209846</td>\n",
              "      <td>...</td>\n",
              "      <td>0.594424</td>\n",
              "      <td>0.461999</td>\n",
              "      <td>1.323560</td>\n",
              "      <td>0.085743</td>\n",
              "      <td>0.139873</td>\n",
              "      <td>0.207683</td>\n",
              "      <td>0.142900</td>\n",
              "      <td>0.387912</td>\n",
              "      <td>0.045935</td>\n",
              "      <td>0</td>\n",
              "    </tr>\n",
              "  </tbody>\n",
              "</table>\n",
              "<p>5 rows × 30 columns</p>\n",
              "</div>\n",
              "      <button class=\"colab-df-convert\" onclick=\"convertToInteractive('df-f199213e-d1d0-4c9d-b840-cab23718651b')\"\n",
              "              title=\"Convert this dataframe to an interactive table.\"\n",
              "              style=\"display:none;\">\n",
              "        \n",
              "  <svg xmlns=\"http://www.w3.org/2000/svg\" height=\"24px\"viewBox=\"0 0 24 24\"\n",
              "       width=\"24px\">\n",
              "    <path d=\"M0 0h24v24H0V0z\" fill=\"none\"/>\n",
              "    <path d=\"M18.56 5.44l.94 2.06.94-2.06 2.06-.94-2.06-.94-.94-2.06-.94 2.06-2.06.94zm-11 1L8.5 8.5l.94-2.06 2.06-.94-2.06-.94L8.5 2.5l-.94 2.06-2.06.94zm10 10l.94 2.06.94-2.06 2.06-.94-2.06-.94-.94-2.06-.94 2.06-2.06.94z\"/><path d=\"M17.41 7.96l-1.37-1.37c-.4-.4-.92-.59-1.43-.59-.52 0-1.04.2-1.43.59L10.3 9.45l-7.72 7.72c-.78.78-.78 2.05 0 2.83L4 21.41c.39.39.9.59 1.41.59.51 0 1.02-.2 1.41-.59l7.78-7.78 2.81-2.81c.8-.78.8-2.07 0-2.86zM5.41 20L4 18.59l7.72-7.72 1.47 1.35L5.41 20z\"/>\n",
              "  </svg>\n",
              "      </button>\n",
              "      \n",
              "  <style>\n",
              "    .colab-df-container {\n",
              "      display:flex;\n",
              "      flex-wrap:wrap;\n",
              "      gap: 12px;\n",
              "    }\n",
              "\n",
              "    .colab-df-convert {\n",
              "      background-color: #E8F0FE;\n",
              "      border: none;\n",
              "      border-radius: 50%;\n",
              "      cursor: pointer;\n",
              "      display: none;\n",
              "      fill: #1967D2;\n",
              "      height: 32px;\n",
              "      padding: 0 0 0 0;\n",
              "      width: 32px;\n",
              "    }\n",
              "\n",
              "    .colab-df-convert:hover {\n",
              "      background-color: #E2EBFA;\n",
              "      box-shadow: 0px 1px 2px rgba(60, 64, 67, 0.3), 0px 1px 3px 1px rgba(60, 64, 67, 0.15);\n",
              "      fill: #174EA6;\n",
              "    }\n",
              "\n",
              "    [theme=dark] .colab-df-convert {\n",
              "      background-color: #3B4455;\n",
              "      fill: #D2E3FC;\n",
              "    }\n",
              "\n",
              "    [theme=dark] .colab-df-convert:hover {\n",
              "      background-color: #434B5C;\n",
              "      box-shadow: 0px 1px 3px 1px rgba(0, 0, 0, 0.15);\n",
              "      filter: drop-shadow(0px 1px 2px rgba(0, 0, 0, 0.3));\n",
              "      fill: #FFFFFF;\n",
              "    }\n",
              "  </style>\n",
              "\n",
              "      <script>\n",
              "        const buttonEl =\n",
              "          document.querySelector('#df-f199213e-d1d0-4c9d-b840-cab23718651b button.colab-df-convert');\n",
              "        buttonEl.style.display =\n",
              "          google.colab.kernel.accessAllowed ? 'block' : 'none';\n",
              "\n",
              "        async function convertToInteractive(key) {\n",
              "          const element = document.querySelector('#df-f199213e-d1d0-4c9d-b840-cab23718651b');\n",
              "          const dataTable =\n",
              "            await google.colab.kernel.invokeFunction('convertToInteractive',\n",
              "                                                     [key], {});\n",
              "          if (!dataTable) return;\n",
              "\n",
              "          const docLinkHtml = 'Like what you see? Visit the ' +\n",
              "            '<a target=\"_blank\" href=https://colab.research.google.com/notebooks/data_table.ipynb>data table notebook</a>'\n",
              "            + ' to learn more about interactive tables.';\n",
              "          element.innerHTML = '';\n",
              "          dataTable['output_type'] = 'display_data';\n",
              "          await google.colab.output.renderOutput(dataTable, element);\n",
              "          const docLink = document.createElement('div');\n",
              "          docLink.innerHTML = docLinkHtml;\n",
              "          element.appendChild(docLink);\n",
              "        }\n",
              "      </script>\n",
              "    </div>\n",
              "  </div>\n",
              "  "
            ]
          },
          "metadata": {},
          "execution_count": 100
        }
      ]
    },
    {
      "cell_type": "code",
      "source": [],
      "metadata": {
        "colab": {
          "base_uri": "https://localhost:8080/"
        },
        "id": "f3Z_UhIa5epi",
        "outputId": "07b3aa6f-5939-4ff1-edc4-b0ab0a46b64e"
      },
      "execution_count": null,
      "outputs": [
        {
          "output_type": "stream",
          "name": "stdout",
          "text": [
            "Filename 2391\n",
            "Class 2\n",
            "Set 1\n"
          ]
        }
      ]
    },
    {
      "cell_type": "code",
      "source": [
        "test.head()"
      ],
      "metadata": {
        "colab": {
          "base_uri": "https://localhost:8080/",
          "height": 334
        },
        "id": "3CfZuryyA8EC",
        "outputId": "5152c6a6-e10f-4b4e-8c1f-d0e7d5c1e9dd"
      },
      "execution_count": null,
      "outputs": [
        {
          "output_type": "execute_result",
          "data": {
            "text/plain": [
              "   Filename  White Circle Patch  Contrast  Black Patch  Biffercation  \\\n",
              "0      1430              1247.5  0.180888     0.970647           662   \n",
              "1      1431              9068.5  0.171969     0.972397           751   \n",
              "2      1432              2391.0  0.185029     0.969472           869   \n",
              "3      1433              2844.0  0.163861     0.975126          1252   \n",
              "4      1434              2188.5  0.176749     0.970335           842   \n",
              "\n",
              "   Termination        CID  Class   OCL_STD   LCS_STD  ...       OFL       FDA  \\\n",
              "0          561  78.533838      1  0.088992  0.159958  ...  0.773165  0.428583   \n",
              "1          579  81.857239      1  0.126087  0.183584  ...  0.589470  0.420638   \n",
              "2          548  80.215418      1  0.100562  0.209148  ...  0.581448  0.424211   \n",
              "3          619  26.679455      1  0.101059  0.309550  ...  0.696221  0.425945   \n",
              "4          510  78.065596      1  0.121961  0.209846  ...  0.594424  0.461999   \n",
              "\n",
              "      GABOR  OCL_STD2  LCS_STD2  OFL_STD2  FDA_STD2  RVU_STD2  GABOR_STD2  Set  \n",
              "0  1.196166  0.074062  0.078522  0.128689  0.069774  0.279889    0.044990    0  \n",
              "1  1.365218  0.098366  0.093950  0.189146  0.091914  0.137530    0.048323    0  \n",
              "2  1.336425  0.069207  0.206090  0.168276  0.133136  0.237812    0.049219    0  \n",
              "3  1.067160  0.080500  0.302677  0.165879  0.222617  0.340390    0.043068    0  \n",
              "4  1.323560  0.085743  0.139873  0.207683  0.142900  0.387912    0.045935    0  \n",
              "\n",
              "[5 rows x 30 columns]"
            ],
            "text/html": [
              "\n",
              "  <div id=\"df-1c74e844-617a-47cb-8975-67a51bbadc67\">\n",
              "    <div class=\"colab-df-container\">\n",
              "      <div>\n",
              "<style scoped>\n",
              "    .dataframe tbody tr th:only-of-type {\n",
              "        vertical-align: middle;\n",
              "    }\n",
              "\n",
              "    .dataframe tbody tr th {\n",
              "        vertical-align: top;\n",
              "    }\n",
              "\n",
              "    .dataframe thead th {\n",
              "        text-align: right;\n",
              "    }\n",
              "</style>\n",
              "<table border=\"1\" class=\"dataframe\">\n",
              "  <thead>\n",
              "    <tr style=\"text-align: right;\">\n",
              "      <th></th>\n",
              "      <th>Filename</th>\n",
              "      <th>White Circle Patch</th>\n",
              "      <th>Contrast</th>\n",
              "      <th>Black Patch</th>\n",
              "      <th>Biffercation</th>\n",
              "      <th>Termination</th>\n",
              "      <th>CID</th>\n",
              "      <th>Class</th>\n",
              "      <th>OCL_STD</th>\n",
              "      <th>LCS_STD</th>\n",
              "      <th>...</th>\n",
              "      <th>OFL</th>\n",
              "      <th>FDA</th>\n",
              "      <th>GABOR</th>\n",
              "      <th>OCL_STD2</th>\n",
              "      <th>LCS_STD2</th>\n",
              "      <th>OFL_STD2</th>\n",
              "      <th>FDA_STD2</th>\n",
              "      <th>RVU_STD2</th>\n",
              "      <th>GABOR_STD2</th>\n",
              "      <th>Set</th>\n",
              "    </tr>\n",
              "  </thead>\n",
              "  <tbody>\n",
              "    <tr>\n",
              "      <th>0</th>\n",
              "      <td>1430</td>\n",
              "      <td>1247.5</td>\n",
              "      <td>0.180888</td>\n",
              "      <td>0.970647</td>\n",
              "      <td>662</td>\n",
              "      <td>561</td>\n",
              "      <td>78.533838</td>\n",
              "      <td>1</td>\n",
              "      <td>0.088992</td>\n",
              "      <td>0.159958</td>\n",
              "      <td>...</td>\n",
              "      <td>0.773165</td>\n",
              "      <td>0.428583</td>\n",
              "      <td>1.196166</td>\n",
              "      <td>0.074062</td>\n",
              "      <td>0.078522</td>\n",
              "      <td>0.128689</td>\n",
              "      <td>0.069774</td>\n",
              "      <td>0.279889</td>\n",
              "      <td>0.044990</td>\n",
              "      <td>0</td>\n",
              "    </tr>\n",
              "    <tr>\n",
              "      <th>1</th>\n",
              "      <td>1431</td>\n",
              "      <td>9068.5</td>\n",
              "      <td>0.171969</td>\n",
              "      <td>0.972397</td>\n",
              "      <td>751</td>\n",
              "      <td>579</td>\n",
              "      <td>81.857239</td>\n",
              "      <td>1</td>\n",
              "      <td>0.126087</td>\n",
              "      <td>0.183584</td>\n",
              "      <td>...</td>\n",
              "      <td>0.589470</td>\n",
              "      <td>0.420638</td>\n",
              "      <td>1.365218</td>\n",
              "      <td>0.098366</td>\n",
              "      <td>0.093950</td>\n",
              "      <td>0.189146</td>\n",
              "      <td>0.091914</td>\n",
              "      <td>0.137530</td>\n",
              "      <td>0.048323</td>\n",
              "      <td>0</td>\n",
              "    </tr>\n",
              "    <tr>\n",
              "      <th>2</th>\n",
              "      <td>1432</td>\n",
              "      <td>2391.0</td>\n",
              "      <td>0.185029</td>\n",
              "      <td>0.969472</td>\n",
              "      <td>869</td>\n",
              "      <td>548</td>\n",
              "      <td>80.215418</td>\n",
              "      <td>1</td>\n",
              "      <td>0.100562</td>\n",
              "      <td>0.209148</td>\n",
              "      <td>...</td>\n",
              "      <td>0.581448</td>\n",
              "      <td>0.424211</td>\n",
              "      <td>1.336425</td>\n",
              "      <td>0.069207</td>\n",
              "      <td>0.206090</td>\n",
              "      <td>0.168276</td>\n",
              "      <td>0.133136</td>\n",
              "      <td>0.237812</td>\n",
              "      <td>0.049219</td>\n",
              "      <td>0</td>\n",
              "    </tr>\n",
              "    <tr>\n",
              "      <th>3</th>\n",
              "      <td>1433</td>\n",
              "      <td>2844.0</td>\n",
              "      <td>0.163861</td>\n",
              "      <td>0.975126</td>\n",
              "      <td>1252</td>\n",
              "      <td>619</td>\n",
              "      <td>26.679455</td>\n",
              "      <td>1</td>\n",
              "      <td>0.101059</td>\n",
              "      <td>0.309550</td>\n",
              "      <td>...</td>\n",
              "      <td>0.696221</td>\n",
              "      <td>0.425945</td>\n",
              "      <td>1.067160</td>\n",
              "      <td>0.080500</td>\n",
              "      <td>0.302677</td>\n",
              "      <td>0.165879</td>\n",
              "      <td>0.222617</td>\n",
              "      <td>0.340390</td>\n",
              "      <td>0.043068</td>\n",
              "      <td>0</td>\n",
              "    </tr>\n",
              "    <tr>\n",
              "      <th>4</th>\n",
              "      <td>1434</td>\n",
              "      <td>2188.5</td>\n",
              "      <td>0.176749</td>\n",
              "      <td>0.970335</td>\n",
              "      <td>842</td>\n",
              "      <td>510</td>\n",
              "      <td>78.065596</td>\n",
              "      <td>1</td>\n",
              "      <td>0.121961</td>\n",
              "      <td>0.209846</td>\n",
              "      <td>...</td>\n",
              "      <td>0.594424</td>\n",
              "      <td>0.461999</td>\n",
              "      <td>1.323560</td>\n",
              "      <td>0.085743</td>\n",
              "      <td>0.139873</td>\n",
              "      <td>0.207683</td>\n",
              "      <td>0.142900</td>\n",
              "      <td>0.387912</td>\n",
              "      <td>0.045935</td>\n",
              "      <td>0</td>\n",
              "    </tr>\n",
              "  </tbody>\n",
              "</table>\n",
              "<p>5 rows × 30 columns</p>\n",
              "</div>\n",
              "      <button class=\"colab-df-convert\" onclick=\"convertToInteractive('df-1c74e844-617a-47cb-8975-67a51bbadc67')\"\n",
              "              title=\"Convert this dataframe to an interactive table.\"\n",
              "              style=\"display:none;\">\n",
              "        \n",
              "  <svg xmlns=\"http://www.w3.org/2000/svg\" height=\"24px\"viewBox=\"0 0 24 24\"\n",
              "       width=\"24px\">\n",
              "    <path d=\"M0 0h24v24H0V0z\" fill=\"none\"/>\n",
              "    <path d=\"M18.56 5.44l.94 2.06.94-2.06 2.06-.94-2.06-.94-.94-2.06-.94 2.06-2.06.94zm-11 1L8.5 8.5l.94-2.06 2.06-.94-2.06-.94L8.5 2.5l-.94 2.06-2.06.94zm10 10l.94 2.06.94-2.06 2.06-.94-2.06-.94-.94-2.06-.94 2.06-2.06.94z\"/><path d=\"M17.41 7.96l-1.37-1.37c-.4-.4-.92-.59-1.43-.59-.52 0-1.04.2-1.43.59L10.3 9.45l-7.72 7.72c-.78.78-.78 2.05 0 2.83L4 21.41c.39.39.9.59 1.41.59.51 0 1.02-.2 1.41-.59l7.78-7.78 2.81-2.81c.8-.78.8-2.07 0-2.86zM5.41 20L4 18.59l7.72-7.72 1.47 1.35L5.41 20z\"/>\n",
              "  </svg>\n",
              "      </button>\n",
              "      \n",
              "  <style>\n",
              "    .colab-df-container {\n",
              "      display:flex;\n",
              "      flex-wrap:wrap;\n",
              "      gap: 12px;\n",
              "    }\n",
              "\n",
              "    .colab-df-convert {\n",
              "      background-color: #E8F0FE;\n",
              "      border: none;\n",
              "      border-radius: 50%;\n",
              "      cursor: pointer;\n",
              "      display: none;\n",
              "      fill: #1967D2;\n",
              "      height: 32px;\n",
              "      padding: 0 0 0 0;\n",
              "      width: 32px;\n",
              "    }\n",
              "\n",
              "    .colab-df-convert:hover {\n",
              "      background-color: #E2EBFA;\n",
              "      box-shadow: 0px 1px 2px rgba(60, 64, 67, 0.3), 0px 1px 3px 1px rgba(60, 64, 67, 0.15);\n",
              "      fill: #174EA6;\n",
              "    }\n",
              "\n",
              "    [theme=dark] .colab-df-convert {\n",
              "      background-color: #3B4455;\n",
              "      fill: #D2E3FC;\n",
              "    }\n",
              "\n",
              "    [theme=dark] .colab-df-convert:hover {\n",
              "      background-color: #434B5C;\n",
              "      box-shadow: 0px 1px 3px 1px rgba(0, 0, 0, 0.15);\n",
              "      filter: drop-shadow(0px 1px 2px rgba(0, 0, 0, 0.3));\n",
              "      fill: #FFFFFF;\n",
              "    }\n",
              "  </style>\n",
              "\n",
              "      <script>\n",
              "        const buttonEl =\n",
              "          document.querySelector('#df-1c74e844-617a-47cb-8975-67a51bbadc67 button.colab-df-convert');\n",
              "        buttonEl.style.display =\n",
              "          google.colab.kernel.accessAllowed ? 'block' : 'none';\n",
              "\n",
              "        async function convertToInteractive(key) {\n",
              "          const element = document.querySelector('#df-1c74e844-617a-47cb-8975-67a51bbadc67');\n",
              "          const dataTable =\n",
              "            await google.colab.kernel.invokeFunction('convertToInteractive',\n",
              "                                                     [key], {});\n",
              "          if (!dataTable) return;\n",
              "\n",
              "          const docLinkHtml = 'Like what you see? Visit the ' +\n",
              "            '<a target=\"_blank\" href=https://colab.research.google.com/notebooks/data_table.ipynb>data table notebook</a>'\n",
              "            + ' to learn more about interactive tables.';\n",
              "          element.innerHTML = '';\n",
              "          dataTable['output_type'] = 'display_data';\n",
              "          await google.colab.output.renderOutput(dataTable, element);\n",
              "          const docLink = document.createElement('div');\n",
              "          docLink.innerHTML = docLinkHtml;\n",
              "          element.appendChild(docLink);\n",
              "        }\n",
              "      </script>\n",
              "    </div>\n",
              "  </div>\n",
              "  "
            ]
          },
          "metadata": {},
          "execution_count": 66
        }
      ]
    },
    {
      "cell_type": "code",
      "source": [
        "\n"
      ],
      "metadata": {
        "id": "8Ni2uBjp5__J"
      },
      "execution_count": null,
      "outputs": []
    },
    {
      "cell_type": "code",
      "source": [
        "test.head()"
      ],
      "metadata": {
        "colab": {
          "base_uri": "https://localhost:8080/",
          "height": 334
        },
        "id": "k45AzASh6LFt",
        "outputId": "092533b6-dc99-4a73-d362-73ad8a8e9003"
      },
      "execution_count": null,
      "outputs": [
        {
          "output_type": "execute_result",
          "data": {
            "text/plain": [
              "   Filename  White Circle Patch  Contrast  Black Patch  Biffercation  \\\n",
              "0      1430              1247.5  0.180888     0.970647           662   \n",
              "1      1431              9068.5  0.171969     0.972397           751   \n",
              "2      1432              2391.0  0.185029     0.969472           869   \n",
              "3      1433              2844.0  0.163861     0.975126          1252   \n",
              "4      1434              2188.5  0.176749     0.970335           842   \n",
              "\n",
              "   Termination        CID     Class   OCL_STD   LCS_STD  ...       OFL  \\\n",
              "0          561  78.533838  classOne  0.088992  0.159958  ...  0.773165   \n",
              "1          579  81.857239  classOne  0.126087  0.183584  ...  0.589470   \n",
              "2          548  80.215418  classOne  0.100562  0.209148  ...  0.581448   \n",
              "3          619  26.679455  classOne  0.101059  0.309550  ...  0.696221   \n",
              "4          510  78.065596  classOne  0.121961  0.209846  ...  0.594424   \n",
              "\n",
              "        FDA     GABOR  OCL_STD2  LCS_STD2  OFL_STD2  FDA_STD2  RVU_STD2  \\\n",
              "0  0.428583  1.196166  0.074062  0.078522  0.128689  0.069774  0.279889   \n",
              "1  0.420638  1.365218  0.098366  0.093950  0.189146  0.091914  0.137530   \n",
              "2  0.424211  1.336425  0.069207  0.206090  0.168276  0.133136  0.237812   \n",
              "3  0.425945  1.067160  0.080500  0.302677  0.165879  0.222617  0.340390   \n",
              "4  0.461999  1.323560  0.085743  0.139873  0.207683  0.142900  0.387912   \n",
              "\n",
              "   GABOR_STD2  Set  \n",
              "0    0.044990    0  \n",
              "1    0.048323    0  \n",
              "2    0.049219    0  \n",
              "3    0.043068    0  \n",
              "4    0.045935    0  \n",
              "\n",
              "[5 rows x 30 columns]"
            ],
            "text/html": [
              "\n",
              "  <div id=\"df-a6981336-21c9-415d-9ea7-eddc3f8ddae4\">\n",
              "    <div class=\"colab-df-container\">\n",
              "      <div>\n",
              "<style scoped>\n",
              "    .dataframe tbody tr th:only-of-type {\n",
              "        vertical-align: middle;\n",
              "    }\n",
              "\n",
              "    .dataframe tbody tr th {\n",
              "        vertical-align: top;\n",
              "    }\n",
              "\n",
              "    .dataframe thead th {\n",
              "        text-align: right;\n",
              "    }\n",
              "</style>\n",
              "<table border=\"1\" class=\"dataframe\">\n",
              "  <thead>\n",
              "    <tr style=\"text-align: right;\">\n",
              "      <th></th>\n",
              "      <th>Filename</th>\n",
              "      <th>White Circle Patch</th>\n",
              "      <th>Contrast</th>\n",
              "      <th>Black Patch</th>\n",
              "      <th>Biffercation</th>\n",
              "      <th>Termination</th>\n",
              "      <th>CID</th>\n",
              "      <th>Class</th>\n",
              "      <th>OCL_STD</th>\n",
              "      <th>LCS_STD</th>\n",
              "      <th>...</th>\n",
              "      <th>OFL</th>\n",
              "      <th>FDA</th>\n",
              "      <th>GABOR</th>\n",
              "      <th>OCL_STD2</th>\n",
              "      <th>LCS_STD2</th>\n",
              "      <th>OFL_STD2</th>\n",
              "      <th>FDA_STD2</th>\n",
              "      <th>RVU_STD2</th>\n",
              "      <th>GABOR_STD2</th>\n",
              "      <th>Set</th>\n",
              "    </tr>\n",
              "  </thead>\n",
              "  <tbody>\n",
              "    <tr>\n",
              "      <th>0</th>\n",
              "      <td>1430</td>\n",
              "      <td>1247.5</td>\n",
              "      <td>0.180888</td>\n",
              "      <td>0.970647</td>\n",
              "      <td>662</td>\n",
              "      <td>561</td>\n",
              "      <td>78.533838</td>\n",
              "      <td>classOne</td>\n",
              "      <td>0.088992</td>\n",
              "      <td>0.159958</td>\n",
              "      <td>...</td>\n",
              "      <td>0.773165</td>\n",
              "      <td>0.428583</td>\n",
              "      <td>1.196166</td>\n",
              "      <td>0.074062</td>\n",
              "      <td>0.078522</td>\n",
              "      <td>0.128689</td>\n",
              "      <td>0.069774</td>\n",
              "      <td>0.279889</td>\n",
              "      <td>0.044990</td>\n",
              "      <td>0</td>\n",
              "    </tr>\n",
              "    <tr>\n",
              "      <th>1</th>\n",
              "      <td>1431</td>\n",
              "      <td>9068.5</td>\n",
              "      <td>0.171969</td>\n",
              "      <td>0.972397</td>\n",
              "      <td>751</td>\n",
              "      <td>579</td>\n",
              "      <td>81.857239</td>\n",
              "      <td>classOne</td>\n",
              "      <td>0.126087</td>\n",
              "      <td>0.183584</td>\n",
              "      <td>...</td>\n",
              "      <td>0.589470</td>\n",
              "      <td>0.420638</td>\n",
              "      <td>1.365218</td>\n",
              "      <td>0.098366</td>\n",
              "      <td>0.093950</td>\n",
              "      <td>0.189146</td>\n",
              "      <td>0.091914</td>\n",
              "      <td>0.137530</td>\n",
              "      <td>0.048323</td>\n",
              "      <td>0</td>\n",
              "    </tr>\n",
              "    <tr>\n",
              "      <th>2</th>\n",
              "      <td>1432</td>\n",
              "      <td>2391.0</td>\n",
              "      <td>0.185029</td>\n",
              "      <td>0.969472</td>\n",
              "      <td>869</td>\n",
              "      <td>548</td>\n",
              "      <td>80.215418</td>\n",
              "      <td>classOne</td>\n",
              "      <td>0.100562</td>\n",
              "      <td>0.209148</td>\n",
              "      <td>...</td>\n",
              "      <td>0.581448</td>\n",
              "      <td>0.424211</td>\n",
              "      <td>1.336425</td>\n",
              "      <td>0.069207</td>\n",
              "      <td>0.206090</td>\n",
              "      <td>0.168276</td>\n",
              "      <td>0.133136</td>\n",
              "      <td>0.237812</td>\n",
              "      <td>0.049219</td>\n",
              "      <td>0</td>\n",
              "    </tr>\n",
              "    <tr>\n",
              "      <th>3</th>\n",
              "      <td>1433</td>\n",
              "      <td>2844.0</td>\n",
              "      <td>0.163861</td>\n",
              "      <td>0.975126</td>\n",
              "      <td>1252</td>\n",
              "      <td>619</td>\n",
              "      <td>26.679455</td>\n",
              "      <td>classOne</td>\n",
              "      <td>0.101059</td>\n",
              "      <td>0.309550</td>\n",
              "      <td>...</td>\n",
              "      <td>0.696221</td>\n",
              "      <td>0.425945</td>\n",
              "      <td>1.067160</td>\n",
              "      <td>0.080500</td>\n",
              "      <td>0.302677</td>\n",
              "      <td>0.165879</td>\n",
              "      <td>0.222617</td>\n",
              "      <td>0.340390</td>\n",
              "      <td>0.043068</td>\n",
              "      <td>0</td>\n",
              "    </tr>\n",
              "    <tr>\n",
              "      <th>4</th>\n",
              "      <td>1434</td>\n",
              "      <td>2188.5</td>\n",
              "      <td>0.176749</td>\n",
              "      <td>0.970335</td>\n",
              "      <td>842</td>\n",
              "      <td>510</td>\n",
              "      <td>78.065596</td>\n",
              "      <td>classOne</td>\n",
              "      <td>0.121961</td>\n",
              "      <td>0.209846</td>\n",
              "      <td>...</td>\n",
              "      <td>0.594424</td>\n",
              "      <td>0.461999</td>\n",
              "      <td>1.323560</td>\n",
              "      <td>0.085743</td>\n",
              "      <td>0.139873</td>\n",
              "      <td>0.207683</td>\n",
              "      <td>0.142900</td>\n",
              "      <td>0.387912</td>\n",
              "      <td>0.045935</td>\n",
              "      <td>0</td>\n",
              "    </tr>\n",
              "  </tbody>\n",
              "</table>\n",
              "<p>5 rows × 30 columns</p>\n",
              "</div>\n",
              "      <button class=\"colab-df-convert\" onclick=\"convertToInteractive('df-a6981336-21c9-415d-9ea7-eddc3f8ddae4')\"\n",
              "              title=\"Convert this dataframe to an interactive table.\"\n",
              "              style=\"display:none;\">\n",
              "        \n",
              "  <svg xmlns=\"http://www.w3.org/2000/svg\" height=\"24px\"viewBox=\"0 0 24 24\"\n",
              "       width=\"24px\">\n",
              "    <path d=\"M0 0h24v24H0V0z\" fill=\"none\"/>\n",
              "    <path d=\"M18.56 5.44l.94 2.06.94-2.06 2.06-.94-2.06-.94-.94-2.06-.94 2.06-2.06.94zm-11 1L8.5 8.5l.94-2.06 2.06-.94-2.06-.94L8.5 2.5l-.94 2.06-2.06.94zm10 10l.94 2.06.94-2.06 2.06-.94-2.06-.94-.94-2.06-.94 2.06-2.06.94z\"/><path d=\"M17.41 7.96l-1.37-1.37c-.4-.4-.92-.59-1.43-.59-.52 0-1.04.2-1.43.59L10.3 9.45l-7.72 7.72c-.78.78-.78 2.05 0 2.83L4 21.41c.39.39.9.59 1.41.59.51 0 1.02-.2 1.41-.59l7.78-7.78 2.81-2.81c.8-.78.8-2.07 0-2.86zM5.41 20L4 18.59l7.72-7.72 1.47 1.35L5.41 20z\"/>\n",
              "  </svg>\n",
              "      </button>\n",
              "      \n",
              "  <style>\n",
              "    .colab-df-container {\n",
              "      display:flex;\n",
              "      flex-wrap:wrap;\n",
              "      gap: 12px;\n",
              "    }\n",
              "\n",
              "    .colab-df-convert {\n",
              "      background-color: #E8F0FE;\n",
              "      border: none;\n",
              "      border-radius: 50%;\n",
              "      cursor: pointer;\n",
              "      display: none;\n",
              "      fill: #1967D2;\n",
              "      height: 32px;\n",
              "      padding: 0 0 0 0;\n",
              "      width: 32px;\n",
              "    }\n",
              "\n",
              "    .colab-df-convert:hover {\n",
              "      background-color: #E2EBFA;\n",
              "      box-shadow: 0px 1px 2px rgba(60, 64, 67, 0.3), 0px 1px 3px 1px rgba(60, 64, 67, 0.15);\n",
              "      fill: #174EA6;\n",
              "    }\n",
              "\n",
              "    [theme=dark] .colab-df-convert {\n",
              "      background-color: #3B4455;\n",
              "      fill: #D2E3FC;\n",
              "    }\n",
              "\n",
              "    [theme=dark] .colab-df-convert:hover {\n",
              "      background-color: #434B5C;\n",
              "      box-shadow: 0px 1px 3px 1px rgba(0, 0, 0, 0.15);\n",
              "      filter: drop-shadow(0px 1px 2px rgba(0, 0, 0, 0.3));\n",
              "      fill: #FFFFFF;\n",
              "    }\n",
              "  </style>\n",
              "\n",
              "      <script>\n",
              "        const buttonEl =\n",
              "          document.querySelector('#df-a6981336-21c9-415d-9ea7-eddc3f8ddae4 button.colab-df-convert');\n",
              "        buttonEl.style.display =\n",
              "          google.colab.kernel.accessAllowed ? 'block' : 'none';\n",
              "\n",
              "        async function convertToInteractive(key) {\n",
              "          const element = document.querySelector('#df-a6981336-21c9-415d-9ea7-eddc3f8ddae4');\n",
              "          const dataTable =\n",
              "            await google.colab.kernel.invokeFunction('convertToInteractive',\n",
              "                                                     [key], {});\n",
              "          if (!dataTable) return;\n",
              "\n",
              "          const docLinkHtml = 'Like what you see? Visit the ' +\n",
              "            '<a target=\"_blank\" href=https://colab.research.google.com/notebooks/data_table.ipynb>data table notebook</a>'\n",
              "            + ' to learn more about interactive tables.';\n",
              "          element.innerHTML = '';\n",
              "          dataTable['output_type'] = 'display_data';\n",
              "          await google.colab.output.renderOutput(dataTable, element);\n",
              "          const docLink = document.createElement('div');\n",
              "          docLink.innerHTML = docLinkHtml;\n",
              "          element.appendChild(docLink);\n",
              "        }\n",
              "      </script>\n",
              "    </div>\n",
              "  </div>\n",
              "  "
            ]
          },
          "metadata": {},
          "execution_count": 68
        }
      ]
    },
    {
      "cell_type": "code",
      "source": [
        " "
      ],
      "metadata": {
        "id": "EvDkvERh6TXG"
      },
      "execution_count": 100,
      "outputs": []
    },
    {
      "cell_type": "code",
      "source": [
        "features"
      ],
      "metadata": {
        "colab": {
          "base_uri": "https://localhost:8080/"
        },
        "id": "DwP5o5fzHZLY",
        "outputId": "cd802045-8162-4a3c-85e4-2d616586fd70"
      },
      "execution_count": 101,
      "outputs": [
        {
          "output_type": "execute_result",
          "data": {
            "text/plain": [
              "['Filename',\n",
              " 'White Circle Patch',\n",
              " 'Contrast',\n",
              " 'Black Patch',\n",
              " 'Biffercation',\n",
              " 'Termination',\n",
              " 'CID',\n",
              " 'OCL_STD',\n",
              " 'LCS_STD',\n",
              " 'OFL_STD',\n",
              " 'RPS',\n",
              " 'FDA_STD',\n",
              " 'RVU',\n",
              " 'GABOR_STD',\n",
              " 'GABORSHEN',\n",
              " 'SIGMA',\n",
              " 'MEAN',\n",
              " 'OCL',\n",
              " 'LCS',\n",
              " 'OFL',\n",
              " 'FDA',\n",
              " 'GABOR',\n",
              " 'OCL_STD2',\n",
              " 'LCS_STD2',\n",
              " 'OFL_STD2',\n",
              " 'FDA_STD2',\n",
              " 'RVU_STD2',\n",
              " 'GABOR_STD2']"
            ]
          },
          "metadata": {},
          "execution_count": 101
        }
      ]
    },
    {
      "cell_type": "code",
      "source": [],
      "metadata": {
        "id": "4C9Uh5I267G_"
      },
      "execution_count": null,
      "outputs": []
    },
    {
      "cell_type": "code",
      "source": [],
      "metadata": {
        "id": "COsmiHxmHlgh"
      },
      "execution_count": 101,
      "outputs": []
    },
    {
      "cell_type": "code",
      "source": [
        "preds = clf.predict_proba(X_test)\n",
        "test_auc = roc_auc_score(y_score=preds[:,1], y_true=y_test)\n",
        "\n",
        "\n",
        "preds_valid = clf.predict_proba(X_test)\n",
        "valid_auc = roc_auc_score(y_score=preds_valid[:,1], y_true=y_test)\n",
        "\n",
        "print(f\"BEST VALID SCORE : {clf.best_cost}\")\n",
        "print(f\"FINAL TEST SCORE : {test_auc}\")"
      ],
      "metadata": {
        "colab": {
          "base_uri": "https://localhost:8080/"
        },
        "id": "K8urOmcs7E-4",
        "outputId": "a3cbb853-3fca-457e-9336-111be265ee63"
      },
      "execution_count": 102,
      "outputs": [
        {
          "output_type": "stream",
          "name": "stdout",
          "text": [
            "BEST VALID SCORE : 0.627009608066971\n",
            "FINAL TEST SCORE : 0.6479381180733939\n"
          ]
        }
      ]
    },
    {
      "cell_type": "code",
      "source": [],
      "metadata": {
        "id": "PJnFRUU87UUS"
      },
      "execution_count": 103,
      "outputs": []
    },
    {
      "cell_type": "code",
      "source": [
        "clf.predict(X_test)"
      ],
      "metadata": {
        "colab": {
          "base_uri": "https://localhost:8080/"
        },
        "id": "feh79dwu7b43",
        "outputId": "90738af4-73d6-40b8-e6fb-14dcab961a9b"
      },
      "execution_count": 104,
      "outputs": [
        {
          "output_type": "execute_result",
          "data": {
            "text/plain": [
              "array(['classZero', 'classZero', 'classZero', ..., 'classZero',\n",
              "       'classZero', 'classZero'], dtype='<U9')"
            ]
          },
          "metadata": {},
          "execution_count": 104
        }
      ]
    },
    {
      "cell_type": "code",
      "source": [
        "saving_path_name = \"./tabnet_model_test_1\"\n",
        "saved_filepath = clf.save_model(saving_path_name)"
      ],
      "metadata": {
        "colab": {
          "base_uri": "https://localhost:8080/"
        },
        "id": "KaWI68kP7eqL",
        "outputId": "e6e81df9-db27-4883-a120-c57d5b681a8f"
      },
      "execution_count": 105,
      "outputs": [
        {
          "output_type": "stream",
          "name": "stdout",
          "text": [
            "Successfully saved model at ./tabnet_model_test_1.zip\n"
          ]
        }
      ]
    },
    {
      "cell_type": "code",
      "source": [
        "loaded_clf = TabNetClassifier()\n",
        "loaded_clf.load_model(saved_filepath)"
      ],
      "metadata": {
        "colab": {
          "base_uri": "https://localhost:8080/"
        },
        "id": "Pt6UA5nW7ujf",
        "outputId": "4be89660-2ca7-4acc-96a0-f5db6a8beb77"
      },
      "execution_count": 106,
      "outputs": [
        {
          "output_type": "stream",
          "name": "stdout",
          "text": [
            "Device used : cpu\n",
            "Device used : cpu\n"
          ]
        }
      ]
    },
    {
      "cell_type": "code",
      "source": [
        "loaded_preds = loaded_clf.predict_proba(X_test)\n",
        "loaded_test_auc = roc_auc_score(y_score=loaded_preds[:,1], y_true=y_test)\n",
        "\n",
        "print(f\"FINAL TEST SCORE  : {loaded_test_auc}\")"
      ],
      "metadata": {
        "colab": {
          "base_uri": "https://localhost:8080/"
        },
        "id": "C6OfxSxy7wsG",
        "outputId": "9fae0c96-b6f3-4964-8c14-67ee5296659d"
      },
      "execution_count": 107,
      "outputs": [
        {
          "output_type": "stream",
          "name": "stdout",
          "text": [
            "FINAL TEST SCORE  : 0.6479381180733939\n"
          ]
        }
      ]
    },
    {
      "cell_type": "code",
      "source": [
        "assert(test_auc == loaded_test_auc)"
      ],
      "metadata": {
        "id": "8zAKtR0y70PG"
      },
      "execution_count": 108,
      "outputs": []
    },
    {
      "cell_type": "code",
      "source": [
        "loaded_clf.predict(X_test)"
      ],
      "metadata": {
        "colab": {
          "base_uri": "https://localhost:8080/"
        },
        "id": "YCyXvKdb72Y5",
        "outputId": "6915b753-d7c9-4a5d-c1f0-42be3b007001"
      },
      "execution_count": 109,
      "outputs": [
        {
          "output_type": "execute_result",
          "data": {
            "text/plain": [
              "array(['classZero', 'classZero', 'classZero', ..., 'classZero',\n",
              "       'classZero', 'classZero'], dtype='<U9')"
            ]
          },
          "metadata": {},
          "execution_count": 109
        }
      ]
    },
    {
      "cell_type": "code",
      "source": [
        "clf.feature_importances_"
      ],
      "metadata": {
        "colab": {
          "base_uri": "https://localhost:8080/"
        },
        "id": "HzyI7uxK74dK",
        "outputId": "bea49147-794a-4216-ea0e-990657b04009"
      },
      "execution_count": 110,
      "outputs": [
        {
          "output_type": "execute_result",
          "data": {
            "text/plain": [
              "array([1.85672570e-03, 1.07648690e-02, 6.44229466e-03, 5.19850037e-02,\n",
              "       4.11248615e-01, 9.09133936e-02, 5.39533992e-02, 8.16566807e-02,\n",
              "       3.71231953e-03, 6.21484898e-04, 1.80238641e-02, 5.26589892e-02,\n",
              "       6.43428222e-02, 2.26895137e-03, 1.19089030e-02, 3.21436699e-02,\n",
              "       5.98433564e-04, 3.88893114e-04, 2.00693188e-03, 5.03475671e-02,\n",
              "       2.96041243e-05, 9.16338373e-04, 7.45427717e-03, 4.44154431e-03,\n",
              "       7.71125552e-05, 6.31437657e-04, 8.69551078e-04, 3.77363228e-02])"
            ]
          },
          "metadata": {},
          "execution_count": 110
        }
      ]
    },
    {
      "cell_type": "code",
      "source": [
        "explain_matrix, masks = clf.explain(X_test)"
      ],
      "metadata": {
        "id": "dCXNPfsO7638"
      },
      "execution_count": 111,
      "outputs": []
    },
    {
      "cell_type": "code",
      "source": [
        "fig, axs = plt.subplots(1, 3, figsize=(20,20))\n",
        "\n",
        "for i in range(3):\n",
        "    axs[i].imshow(masks[i][:50])\n",
        "    axs[i].set_title(f\"mask {i}\")"
      ],
      "metadata": {
        "colab": {
          "base_uri": "https://localhost:8080/",
          "height": 650
        },
        "id": "pBNO1IGq79Sj",
        "outputId": "f5a03e16-f9cb-4037-8858-4a9ce40a1a8f"
      },
      "execution_count": 112,
      "outputs": [
        {
          "output_type": "display_data",
          "data": {
            "text/plain": [
              "<Figure size 1440x1440 with 3 Axes>"
            ],
            "image/png": "[encoded data removed]"
          },
          "metadata": {
            "needs_background": "light"
          }
        }
      ]
    },
    {
      "cell_type": "code",
      "source": [],
      "metadata": {
        "id": "vKlWwxTl7_s_"
      },
      "execution_count": null,
      "outputs": []
    }
  ]
}